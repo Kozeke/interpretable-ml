{
 "cells": [
  {
   "cell_type": "code",
   "execution_count": 74,
   "metadata": {
    "colab": {
     "base_uri": "https://localhost:8080/"
    },
    "id": "Xjnnd97KKg3B",
    "outputId": "130ef3f1-26a6-4cb9-a9e6-dc3d55eaa4fa"
   },
   "outputs": [],
   "source": [
    "import pandas as pd\n",
    "import numpy as np\n",
    "import seaborn as sns\n",
    "import math\n",
    "from sklearn.model_selection import cross_val_score\n",
    "from sklearn.model_selection import train_test_split\n",
    "from sklearn.preprocessing import StandardScaler,OrdinalEncoder\n",
    "from sklearn.feature_selection import mutual_info_regression\n",
    "from scipy.stats import zscore, t\n",
    "\n",
    "from sklearn.model_selection import KFold\n",
    "from sklearn.model_selection import GridSearchCV\n",
    "from sklearn.linear_model import LinearRegression\n",
    "import statsmodels as sm   # contains good statistical tools for modeling\n",
    "\n",
    "from statsmodels.stats.outliers_influence import variance_inflation_factor  # we will need vif for checking multicollinearity\n",
    "from sklearn.neighbors import LocalOutlierFactor\n",
    "from sklearn.model_selection import learning_curve\n",
    "\n",
    "from sklearn.feature_selection import SelectKBest\n",
    "from sklearn.feature_selection import f_regression\n",
    "from sklearn.metrics import r2_score, mean_absolute_error\n",
    "\n",
    "import os, pickle, csv\n",
    "from math import sqrt\n",
    "from sklearn.model_selection import GridSearchCV\n",
    "from sklearn.metrics import mean_squared_error\n",
    "from sklearn.metrics import make_scorer\n",
    "from sklearn.metrics import r2_score\n",
    "import matplotlib.pyplot as plt\n",
    "import warnings\n",
    "import pandas.util.testing as tm\n",
    "\n",
    "warnings.filterwarnings('ignore')\n",
    "plt.style.use('ggplot')\n"
   ]
  },
  {
   "cell_type": "code",
   "execution_count": 13,
   "metadata": {
    "colab": {
     "base_uri": "https://localhost:8080/"
    },
    "id": "DTUrSuqKlQQe",
    "outputId": "a83eca33-9a72-4c61-a5b4-3546a6cc9cd8"
   },
   "outputs": [
    {
     "data": {
      "text/plain": [
       "motor     object\n",
       "screw     object\n",
       "pgain      int64\n",
       "vgain      int64\n",
       "class    float64\n",
       "dtype: object"
      ]
     },
     "execution_count": 13,
     "metadata": {},
     "output_type": "execute_result"
    }
   ],
   "source": [
    "uploaded = 'http://archive.ics.uci.edu/ml/machine-learning-databases/servo/servo.data'\n",
    "column_names = ['motor','screw','pgain','vgain','class']\n",
    "\n",
    "df = pd.read_csv(uploaded,names=column_names)\n",
    "df.dtypes"
   ]
  },
  {
   "cell_type": "code",
   "execution_count": 14,
   "metadata": {
    "id": "kLwV_b7av_4R"
   },
   "outputs": [],
   "source": [
    "columns = ['motor','screw','pgain','vgain']\n",
    "#scale independent variables,\n",
    "df[['motor','screw']] = OrdinalEncoder().fit_transform(df[['motor','screw']])\n",
    "\n",
    "df[columns]=StandardScaler().fit_transform(df[columns])\n",
    "\n",
    "#apply z-score outlier treatment\n",
    "z = np.abs(zscore(df))\n",
    "df = df[(z < 3).all(axis=1)]"
   ]
  },
  {
   "cell_type": "code",
   "execution_count": 15,
   "metadata": {
    "colab": {
     "base_uri": "https://localhost:8080/",
     "height": 212
    },
    "id": "lN7PHT5xnBEI",
    "outputId": "0a890a4f-ad27-4513-fc50-04b6fd826ce6"
   },
   "outputs": [
    {
     "name": "stdout",
     "output_type": "stream",
     "text": [
      "(165, 4)\n"
     ]
    },
    {
     "data": {
      "text/html": [
       "<div>\n",
       "<style scoped>\n",
       "    .dataframe tbody tr th:only-of-type {\n",
       "        vertical-align: middle;\n",
       "    }\n",
       "\n",
       "    .dataframe tbody tr th {\n",
       "        vertical-align: top;\n",
       "    }\n",
       "\n",
       "    .dataframe thead th {\n",
       "        text-align: right;\n",
       "    }\n",
       "</style>\n",
       "<table border=\"1\" class=\"dataframe\">\n",
       "  <thead>\n",
       "    <tr style=\"text-align: right;\">\n",
       "      <th></th>\n",
       "      <th>motor</th>\n",
       "      <th>screw</th>\n",
       "      <th>pgain</th>\n",
       "      <th>vgain</th>\n",
       "    </tr>\n",
       "  </thead>\n",
       "  <tbody>\n",
       "    <tr>\n",
       "      <th>0</th>\n",
       "      <td>1.504301</td>\n",
       "      <td>1.524517</td>\n",
       "      <td>0.832065</td>\n",
       "      <td>1.069805</td>\n",
       "    </tr>\n",
       "    <tr>\n",
       "      <th>1</th>\n",
       "      <td>-0.624667</td>\n",
       "      <td>0.826998</td>\n",
       "      <td>1.817560</td>\n",
       "      <td>1.802008</td>\n",
       "    </tr>\n",
       "    <tr>\n",
       "      <th>2</th>\n",
       "      <td>0.794645</td>\n",
       "      <td>0.826998</td>\n",
       "      <td>-0.153430</td>\n",
       "      <td>0.337602</td>\n",
       "    </tr>\n",
       "    <tr>\n",
       "      <th>3</th>\n",
       "      <td>-0.624667</td>\n",
       "      <td>-1.265558</td>\n",
       "      <td>-1.138926</td>\n",
       "      <td>-0.394600</td>\n",
       "    </tr>\n",
       "    <tr>\n",
       "      <th>4</th>\n",
       "      <td>0.794645</td>\n",
       "      <td>-0.568039</td>\n",
       "      <td>1.817560</td>\n",
       "      <td>1.802008</td>\n",
       "    </tr>\n",
       "  </tbody>\n",
       "</table>\n",
       "</div>"
      ],
      "text/plain": [
       "      motor     screw     pgain     vgain\n",
       "0  1.504301  1.524517  0.832065  1.069805\n",
       "1 -0.624667  0.826998  1.817560  1.802008\n",
       "2  0.794645  0.826998 -0.153430  0.337602\n",
       "3 -0.624667 -1.265558 -1.138926 -0.394600\n",
       "4  0.794645 -0.568039  1.817560  1.802008"
      ]
     },
     "execution_count": 15,
     "metadata": {},
     "output_type": "execute_result"
    }
   ],
   "source": [
    "X=df[column_names[:-1]]\n",
    "y=df[column_names[-1]]\n",
    "print(X.shape)\n",
    "pd.DataFrame(data=[df.skew(),df.kurtosis()],index=['skewness','kurtosis'])\n",
    "X.head(5)"
   ]
  },
  {
   "cell_type": "markdown",
   "metadata": {
    "id": "hXT7ds3NUPXl"
   },
   "source": [
    "Removing features with low variance, checking scores"
   ]
  },
  {
   "cell_type": "code",
   "execution_count": null,
   "metadata": {
    "colab": {
     "base_uri": "https://localhost:8080/",
     "height": 286
    },
    "id": "aiIxRWk9-0TR",
    "outputId": "f4ce828f-8eec-4cdf-f2c0-abffc9d2aebe"
   },
   "outputs": [
    {
     "data": {
      "text/plain": [
       "<matplotlib.axes._subplots.AxesSubplot at 0x7faf9d110d90>"
      ]
     },
     "execution_count": 5,
     "metadata": {
      "tags": []
     },
     "output_type": "execute_result"
    },
    {
     "data": {
      "image/png": "[encoded data removed]",
      "text/plain": [
       "<Figure size 432x288 with 2 Axes>"
      ]
     },
     "metadata": {
      "needs_background": "light",
      "tags": []
     },
     "output_type": "display_data"
    }
   ],
   "source": [
    "sns.heatmap(df.corr(),annot=True)"
   ]
  },
  {
   "cell_type": "code",
   "execution_count": null,
   "metadata": {
    "colab": {
     "base_uri": "https://localhost:8080/"
    },
    "id": "WvMRYbVl_DTR",
    "outputId": "b31402f0-46d4-48ce-f788-5e65f34f7344"
   },
   "outputs": [
    {
     "data": {
      "text/plain": [
       "const    2.844480\n",
       "motor    1.187364\n",
       "screw    1.138525\n",
       "pgain    5.197153\n",
       "vgain    3.455773\n",
       "class    2.140103\n",
       "dtype: float64"
      ]
     },
     "execution_count": 6,
     "metadata": {
      "tags": []
     },
     "output_type": "execute_result"
    }
   ],
   "source": [
    "X1 = sm.tools.add_constant(df) \n",
    "\n",
    "series1 = pd.Series([variance_inflation_factor(X1.values,i) for i in range(X1.shape[1])],\n",
    "                  index=X1.columns)\n",
    "\n",
    "series1"
   ]
  },
  {
   "cell_type": "markdown",
   "metadata": {
    "id": "9yildXJsHq_g"
   },
   "source": [
    "Correlation between pgain and class can be noticed, but variance inflation factor of pgain is almost 5. We have concluded to leave all features."
   ]
  },
  {
   "cell_type": "code",
   "execution_count": null,
   "metadata": {
    "colab": {
     "base_uri": "https://localhost:8080/"
    },
    "id": "PNRv7OrK_ZJs",
    "outputId": "77f86f7e-07d6-4300-bfeb-8af5b99abf12"
   },
   "outputs": [
    {
     "name": "stdout",
     "output_type": "stream",
     "text": [
      "Index(['motor', 'screw', 'pgain', 'vgain'], dtype='object')\n"
     ]
    }
   ],
   "source": [
    "numerical_features = df.select_dtypes(exclude=['object']).drop(['class'], axis=1).copy()\n",
    "print(numerical_features.columns)"
   ]
  },
  {
   "cell_type": "code",
   "execution_count": null,
   "metadata": {
    "colab": {
     "base_uri": "https://localhost:8080/",
     "height": 167
    },
    "id": "PKPVxAwIEjy6",
    "outputId": "6edf86e5-f083-47f3-a694-5be52f8a60c3"
   },
   "outputs": [
    {
     "data": {
      "image/png": "[encoded data removed]",
      "text/plain": [
       "<Figure size 864x1296 with 4 Axes>"
      ]
     },
     "metadata": {
      "needs_background": "light",
      "tags": []
     },
     "output_type": "display_data"
    }
   ],
   "source": [
    "fig = plt.figure(figsize=(12,18))\n",
    "for i in range(4):\n",
    "    fig.add_subplot(9, 4, i+1)\n",
    "    sns.scatterplot(numerical_features.iloc[:, i],df['class'])\n",
    "plt.tight_layout()\n",
    "plt.show()"
   ]
  },
  {
   "cell_type": "markdown",
   "metadata": {
    "id": "k0bniiUIUBy6"
   },
   "source": [
    "Outlier Detection and Removal\n"
   ]
  },
  {
   "cell_type": "code",
   "execution_count": 16,
   "metadata": {
    "colab": {
     "base_uri": "https://localhost:8080/"
    },
    "id": "5eV-PNeKAKQV",
    "outputId": "75f3112e-b608-4217-83ed-bc32dc277a5e"
   },
   "outputs": [
    {
     "name": "stdout",
     "output_type": "stream",
     "text": [
      "(152, 4)\n"
     ]
    }
   ],
   "source": [
    "outliers = LocalOutlierFactor(n_neighbors=20).fit_predict(X)\n",
    "target_out = LocalOutlierFactor(n_neighbors=20).fit_predict(y.values.reshape(-1, 1))\n",
    "outliers = outliers == 1\n",
    "target_out = target_out == 1\n",
    "for i,t in enumerate(target_out):\n",
    "  outliers[i]=outliers[i] and t\n",
    "\n",
    "X,y=X[outliers],y[outliers]\n",
    "X_2,y_2=X,y\n",
    "\n",
    "print(X.shape)\n"
   ]
  },
  {
   "cell_type": "markdown",
   "metadata": {
    "id": "crD2bEJpKg3O"
   },
   "source": [
    "## Linear model tree"
   ]
  },
  {
   "cell_type": "code",
   "execution_count": 17,
   "metadata": {
    "id": "mIEGzJd2KuUO"
   },
   "outputs": [],
   "source": [
    "import requests\n",
    "\n",
    "\n",
    "url_linreg = 'https://raw.githubusercontent.com/ankonzoid/LearningX/master/advanced_ML/model_tree/models/linear_regr.py'\n",
    "url_modeltree='https://raw.githubusercontent.com/ankonzoid/LearningX/master/advanced_ML/model_tree/src/ModelTree.py'\n",
    "\n",
    "r = requests.get(url_linreg, allow_redirects=True)\n",
    "with open('linear_regr.py', 'wb') as file:\n",
    "  file.write(r.content)\n",
    "\n",
    "r = requests.get(url_modeltree, allow_redirects=True)\n",
    "with open('ModelTree.py', 'wb') as file:\n",
    "  file.write(r.content)\n",
    "\n",
    "\n",
    "# from google.colab import files\n",
    "# uploaded = files.upload()"
   ]
  },
  {
   "cell_type": "code",
   "execution_count": 18,
   "metadata": {
    "id": "izYj5E3pL6zb"
   },
   "outputs": [],
   "source": [
    "from ModelTree import ModelTree\n",
    "from linear_regr import linear_regr"
   ]
  },
  {
   "cell_type": "code",
   "execution_count": 19,
   "metadata": {
    "id": "T8--NJzgzvVB"
   },
   "outputs": [],
   "source": [
    "cv_sets = KFold(n_splits=10, shuffle= True,random_state=100)\n",
    "param_grid = {\n",
    "              \"max_depth\": [1,2,3,4,5,6,7],\n",
    "              \"min_samples_leaf\": [1,2,3,4,5,6,7,8,9,10],\n",
    "              # \"search_type\": [\"greedy\", \"grid\", \"adaptive\"],\n",
    "              # \"n_search_grid\": [50,100,200]\n",
    "              }"
   ]
  },
  {
   "cell_type": "code",
   "execution_count": 20,
   "metadata": {
    "id": "yFa012GKzvVB"
   },
   "outputs": [],
   "source": [
    "model = linear_regr()\n",
    "model_tree = ModelTree(model, max_depth=5, min_samples_leaf=5,\n",
    "                        search_type=\"greedy\", n_search_grid=100)"
   ]
  },
  {
   "cell_type": "code",
   "execution_count": 21,
   "metadata": {
    "id": "_EkXfq4SzvVB"
   },
   "outputs": [],
   "source": [
    "error_metric='neg_mean_absolute_error'\n",
    "# error_metric='neg_mean_squared_error'\n",
    "\n",
    "grid = GridSearchCV(model_tree, param_grid,cv=cv_sets,n_jobs=4,scoring=error_metric)"
   ]
  },
  {
   "cell_type": "code",
   "execution_count": null,
   "metadata": {
    "colab": {
     "base_uri": "https://localhost:8080/"
    },
    "id": "2pSovbJZzvVC",
    "outputId": "4fbad834-507d-41ce-d63c-c55b13f81214"
   },
   "outputs": [
    {
     "name": "stdout",
     "output_type": "stream",
     "text": [
      "Best Hyperparameters::\n",
      "ModelTree(model=<linear_regr.linear_regr object at 0x7faf934167d0>, max_depth=5, min_samples_leaf=5, search_type=greedy, n_search_grid=100)\n"
     ]
    }
   ],
   "source": [
    "try:\n",
    "  X=X.to_numpy()\n",
    "except:\n",
    "  print('already converted to numpy')\n",
    "try:\n",
    "  y=y.to_numpy()\n",
    "except:\n",
    "  print('already converted to numpy')\n",
    "grid = grid.fit(X, y)\n",
    "\n",
    "print(\"Best Hyperparameters::\\n{}\".format(grid.best_estimator_))"
   ]
  },
  {
   "cell_type": "code",
   "execution_count": null,
   "metadata": {
    "id": "kLWxInVrzvVB"
   },
   "outputs": [],
   "source": [
    "lmt_t = grid.best_estimator_"
   ]
  },
  {
   "cell_type": "code",
   "execution_count": null,
   "metadata": {
    "id": "WGXS0mzePtpt"
   },
   "outputs": [],
   "source": [
    "df = pd.DataFrame(data=grid.cv_results_)"
   ]
  },
  {
   "cell_type": "code",
   "execution_count": null,
   "metadata": {
    "colab": {
     "base_uri": "https://localhost:8080/",
     "height": 316
    },
    "id": "Pbk1E3eqPxVs",
    "outputId": "dd991a2f-c564-4dfe-bf2b-e081ef9995f2"
   },
   "outputs": [
    {
     "data": {
      "text/plain": [
       "[Text(0.5, 1.0, 'Effect of Depth and Leaf Nodes on Model Performance')]"
      ]
     },
     "execution_count": 18,
     "metadata": {
      "tags": []
     },
     "output_type": "execute_result"
    },
    {
     "data": {
      "image/png": "[encoded data removed]",
      "text/plain": [
       "<Figure size 432x288 with 1 Axes>"
      ]
     },
     "metadata": {
      "needs_background": "light",
      "tags": []
     },
     "output_type": "display_data"
    }
   ],
   "source": [
    "fig,ax = plt.subplots()\n",
    "sns.pointplot(data=df[['mean_test_score',\n",
    "                           'param_min_samples_leaf',\n",
    "                           'param_max_depth']],\n",
    "             y='mean_test_score',x='param_max_depth',\n",
    "             hue='param_min_samples_leaf',ax=ax)\n",
    "ax.set(title=\"Effect of Depth and Leaf Nodes on Model Performance\")"
   ]
  },
  {
   "cell_type": "code",
   "execution_count": 29,
   "metadata": {
    "id": "lQ49XBjezvVC"
   },
   "outputs": [],
   "source": [
    "def get_soc(D,f):\n",
    "    return (2*D+1)+(2*f)"
   ]
  },
  {
   "cell_type": "code",
   "execution_count": null,
   "metadata": {
    "colab": {
     "base_uri": "https://localhost:8080/"
    },
    "id": "drS4-NNhzvVC",
    "outputId": "a9112299-6139-4ddf-8ad6-038e910edd1c"
   },
   "outputs": [
    {
     "name": "stdout",
     "output_type": "stream",
     "text": [
      "(152, 4)\n",
      "Mean Squared Error: 0.07847121949414483\n",
      "Root Mean Squared Error: 0.28012714879879963\n",
      "mean absolute error: 0.13290358699858204\n",
      "Overall model accuracy: 0.9043590574244957\n",
      "SOC: 19\n"
     ]
    }
   ],
   "source": [
    "folds = cv_sets\n",
    "print(X.shape)\n",
    "# X=X.to_numpy()\n",
    "mse = cross_val_score(lmt_t,X,y,cv=folds,scoring='neg_mean_squared_error')\n",
    "mse=np.abs(np.mean(mse))\n",
    "print(\"Mean Squared Error: {}\".format(mse))\n",
    "rmse=math.sqrt(mse)\n",
    "print(\"Root Mean Squared Error: {}\".format(rmse))\n",
    "mae = cross_val_score(lmt_t,X,y,cv=folds,scoring='neg_mean_absolute_error')\n",
    "mae = np.abs(np.mean(mae))\n",
    "print(\"mean absolute error: {}\".format(mae))\n",
    "r2 = cross_val_score(lmt_t,X,y,cv=folds,scoring='r2')\n",
    "r2 = np.abs(np.mean(r2))\n",
    "print(\"Overall model accuracy: {}\".format(r2))\n",
    "soc=get_soc(lmt_t.max_depth,X.shape[1])\n",
    "print(\"SOC: {}\".format(soc))"
   ]
  },
  {
   "cell_type": "code",
   "execution_count": null,
   "metadata": {
    "id": "wcTlAmYfUiwU"
   },
   "outputs": [],
   "source": [
    "X = StandardScaler().fit_transform(X)"
   ]
  },
  {
   "cell_type": "code",
   "execution_count": null,
   "metadata": {
    "id": "LrJCi-YNC9_p"
   },
   "outputs": [],
   "source": [
    "train_sizes=np.array([0.1,0.2,0.3,0.4,0.5,1.0])\n",
    "_,train_scores,validation_scores=learning_curve(lmt_t,X,y,cv=folds,train_sizes=train_sizes,scoring=error_metric)"
   ]
  },
  {
   "cell_type": "code",
   "execution_count": null,
   "metadata": {
    "colab": {
     "base_uri": "https://localhost:8080/"
    },
    "id": "Ixo50X0JC_jY",
    "outputId": "0e9ce065-36bd-47b0-c9ab-5fb2b7461f7c"
   },
   "outputs": [
    {
     "name": "stdout",
     "output_type": "stream",
     "text": [
      "Mean training scores\n",
      "\n",
      " 0.1    0.044286\n",
      "0.2    0.109741\n",
      "0.3    0.130009\n",
      "0.4    0.088436\n",
      "0.5    0.073197\n",
      "1.0    0.062452\n",
      "dtype: float64\n",
      "\n",
      " --------------------\n",
      "\n",
      "Mean validation scores\n",
      "\n",
      " 0.1    1.487344e+00\n",
      "0.2    4.306923e-01\n",
      "0.3    3.782675e-01\n",
      "0.4    7.507750e+10\n",
      "0.5    2.541801e-01\n",
      "1.0    1.325909e-01\n",
      "dtype: float64\n"
     ]
    }
   ],
   "source": [
    "train_scores_mean = -train_scores.mean(axis = 1)\n",
    "validation_scores_mean = -validation_scores.mean(axis = 1)\n"
   ]
  },
  {
   "cell_type": "code",
   "execution_count": null,
   "metadata": {
    "colab": {
     "base_uri": "https://localhost:8080/",
     "height": 327
    },
    "id": "71fH3DeDaj5c",
    "outputId": "4439d876-889f-497f-8953-5dd141ec7dcf"
   },
   "outputs": [
    {
     "data": {
      "text/plain": [
       "<matplotlib.legend.Legend at 0x7faf9295cc10>"
      ]
     },
     "execution_count": 32,
     "metadata": {
      "tags": []
     },
     "output_type": "execute_result"
    },
    {
     "data": {
      "image/png": "[encoded data removed]",
      "text/plain": [
       "<Figure size 432x288 with 1 Axes>"
      ]
     },
     "metadata": {
      "needs_background": "light",
      "tags": []
     },
     "output_type": "display_data"
    }
   ],
   "source": [
    "plt.title(\"Learning curve\")\n",
    "\n",
    "plt.plot(train_sizes, train_scores_mean, label = 'Training error')\n",
    "plt.plot(train_sizes, validation_scores_mean, label = 'Validation error')\n",
    "plt.legend()\n",
    "plt.ylabel('MSE', fontsize = 14)\n",
    "plt.xlabel('Training set size', fontsize = 14)\n",
    "plt.title('Learning curves for a linear regression model', fontsize = 18, y = 1.03)\n",
    "plt.legend()"
   ]
  },
  {
   "cell_type": "code",
   "execution_count": null,
   "metadata": {
    "colab": {
     "base_uri": "https://localhost:8080/"
    },
    "id": "YnS1lXssszdh",
    "outputId": "ceacc35c-6696-41fd-828c-baefbf6061f8"
   },
   "outputs": [
    {
     "name": "stdout",
     "output_type": "stream",
     "text": [
      "(152, 4)\n",
      "Best Hyperparameters::\n",
      "ModelTree(model=<linear_regr.linear_regr object at 0x7f0bff5b3ad0>, max_depth=1, min_samples_leaf=1, search_type=greedy, n_search_grid=100)\n",
      "Best Hyperparameters::\n",
      "ModelTree(model=<linear_regr.linear_regr object at 0x7f0bff56aa90>, max_depth=2, min_samples_leaf=1, search_type=greedy, n_search_grid=100)\n",
      "Best Hyperparameters::\n",
      "ModelTree(model=<linear_regr.linear_regr object at 0x7f0bff562a10>, max_depth=3, min_samples_leaf=5, search_type=greedy, n_search_grid=100)\n",
      "Best Hyperparameters::\n",
      "ModelTree(model=<linear_regr.linear_regr object at 0x7f0bff51ad90>, max_depth=4, min_samples_leaf=5, search_type=greedy, n_search_grid=100)\n",
      "Best Hyperparameters::\n",
      "ModelTree(model=<linear_regr.linear_regr object at 0x7f0bff56c910>, max_depth=5, min_samples_leaf=5, search_type=greedy, n_search_grid=100)\n",
      "Best Hyperparameters::\n",
      "ModelTree(model=<linear_regr.linear_regr object at 0x7f0bff51a350>, max_depth=6, min_samples_leaf=5, search_type=greedy, n_search_grid=100)\n",
      "Best Hyperparameters::\n",
      "ModelTree(model=<linear_regr.linear_regr object at 0x7f0bff51d210>, max_depth=7, min_samples_leaf=5, search_type=greedy, n_search_grid=100)\n",
      "[11, 13, 15, 17, 19, 21, 23]\n"
     ]
    },
    {
     "data": {
      "text/plain": [
       "[0.17482696110819593,\n",
       " 0.09224561912583662,\n",
       " 0.09635292897499668,\n",
       " 0.07613541771674934,\n",
       " 0.07847121949414483,\n",
       " 0.07849879789191516,\n",
       " 0.07851612989747077]"
      ]
     },
     "execution_count": 16,
     "metadata": {
      "tags": []
     },
     "output_type": "execute_result"
    }
   ],
   "source": [
    "mses = []\n",
    "SOCs = []\n",
    "arr_maes = []\n",
    "max_depth = []\n",
    "leaves = []\n",
    "print(X.shape)\n",
    "# X=X.to_numpy()\n",
    "# y=y.to_numpy()\n",
    "for x in range(1,8):\n",
    "  cv_sets = KFold(n_splits=10, shuffle= True,random_state=100)\n",
    "  param_grid = {\n",
    "                \"max_depth\": [x],\n",
    "                \"min_samples_leaf\": [1,2,3,4,5,6,7,8,9,10]\n",
    "  }  \n",
    "  grid = GridSearchCV(model_tree, param_grid,cv=cv_sets,n_jobs=4,scoring=error_metric)\n",
    "  grid = grid.fit(X, y)\n",
    "  print(\"Best Hyperparameters::\\n{}\".format(grid.best_estimator_))\n",
    "  lmt = grid.best_estimator_\n",
    "  mse = cross_val_score(lmt,X,y,cv=cv_sets,scoring='neg_mean_squared_error')\n",
    "  mae = cross_val_score(lmt,X,y,cv=cv_sets,scoring='neg_mean_absolute_error')\n",
    "\n",
    "  mse=np.abs(np.mean(mse))\n",
    "  mses.append(mse)\n",
    "  mae=np.abs(np.mean(mae))\n",
    "  arr_maes.append(mae)\n",
    "  soc=get_soc(x,X.shape[1])\n",
    "  SOCs.append(soc)\n",
    "  max_depth.append(x)\n",
    "print(SOCs);\n",
    "mses"
   ]
  },
  {
   "cell_type": "code",
   "execution_count": null,
   "metadata": {
    "colab": {
     "base_uri": "https://localhost:8080/"
    },
    "id": "xKyn-gX22SXP",
    "outputId": "ab2839b7-7c69-4981-9825-33aaad618b83"
   },
   "outputs": [
    {
     "data": {
      "text/plain": [
       "[0.2781010673847818,\n",
       " 0.1843904222013542,\n",
       " 0.18047363327529956,\n",
       " 0.13406996047394942,\n",
       " 0.13290358699858204,\n",
       " 0.13300609685743436,\n",
       " 0.13340303916603086]"
      ]
     },
     "execution_count": 17,
     "metadata": {
      "tags": []
     },
     "output_type": "execute_result"
    }
   ],
   "source": [
    "min_samples_leaf=[1,1,5,5,5,5,5]\n",
    "arr_maes"
   ]
  },
  {
   "cell_type": "code",
   "execution_count": null,
   "metadata": {
    "id": "7qjXjtFdp1Xb"
   },
   "outputs": [],
   "source": [
    "for x in range(1,8,2):\n",
    "  LMT = ModelTree(model, max_depth=4, min_samples_leaf=x,\n",
    "                          search_type=\"greedy\", n_search_grid=100)\n",
    "  mse = cross_val_score(LMT,X,y,cv=cv_sets,scoring='neg_mean_squared_error')\n",
    "  mae = cross_val_score(LMT,X,y,cv=cv_sets,scoring='neg_mean_absolute_error')\n",
    "\n",
    "  mse=np.abs(np.mean(mse))\n",
    "  mses.append(mse)\n",
    "  mae=np.abs(np.mean(mae))\n",
    "  arr_maes.append(mae)\n",
    "  soc=get_soc(4,X.shape[1])\n",
    "  SOCs.append(soc)\n",
    "  max_depth.append(4)\n",
    "  min_samples_leaf.append(x)"
   ]
  },
  {
   "cell_type": "code",
   "execution_count": 90,
   "metadata": {},
   "outputs": [],
   "source": [
    "SOCs=[11, 13, 15, 17, 19, 21, 23, 17, 17, 17]\n",
    "max_depth=[1,2,3,4,5,6,7,4,4,4]\n",
    "min_samples_leaf=[1,1,5,5,5,5,5,1,3,7]\n",
    "mses=[0.17482696110819593, 0.09224561912583662, 0.09635292897499668, 0.07613541771674934, 0.07847121949414483, 0.07849879789191516, 0.07851612989747077, 0.129190626449502, 0.11647373818394693, 0.10632915679050141]\n",
    "arr_maes=[0.2781010673847818, 0.1843904222013542, 0.18047363327529956, 0.13406996047394942, 0.13290358699858204, 0.13300609685743436, 0.13340303916603086, 0.15124885272559688, 0.14610188249768108, 0.1637424287066448]"
   ]
  },
  {
   "cell_type": "code",
   "execution_count": 91,
   "metadata": {
    "colab": {
     "base_uri": "https://localhost:8080/"
    },
    "id": "skyOVK9Yupyv",
    "outputId": "0a233585-a73e-40a9-cc86-6683c77ec1fb"
   },
   "outputs": [
    {
     "name": "stdout",
     "output_type": "stream",
     "text": [
      "Lowest Mean Squared Error: 0.078\n",
      "Lowest Mean Absolute Error: 0.13290358699858204\n",
      "[11, 13, 15, 17, 19, 21, 23, 17, 17, 17]\n",
      "[0.17482696110819593, 0.09224561912583662, 0.09635292897499668, 0.07613541771674934, 0.07847121949414483, 0.07849879789191516, 0.07851612989747077, 0.129190626449502, 0.11647373818394693, 0.10632915679050141]\n",
      "[0.2781010673847818, 0.1843904222013542, 0.18047363327529956, 0.13406996047394942, 0.13290358699858204, 0.13300609685743436, 0.13340303916603086, 0.15124885272559688, 0.14610188249768108, 0.1637424287066448]\n"
     ]
    }
   ],
   "source": [
    "arr_mse_min = 0.078\n",
    "arr_mae_min = min(arr_maes)\n",
    "arr_soc_min = [19]\n",
    "print(\"Lowest Mean Squared Error: {}\".format(arr_mse_min))\n",
    "print(\"Lowest Mean Absolute Error: {}\".format(arr_mae_min))\n",
    "print(SOCs)\n",
    "print(mses)\n",
    "print(arr_maes)\n",
    "arr_mse_min_soc = [0.076135]\t\t\t\t\t\n",
    "arr_mae_min_soc = [0.134070]\n",
    "arr_soc_min_soc = [17]\n"
   ]
  },
  {
   "cell_type": "code",
   "execution_count": 92,
   "metadata": {
    "colab": {
     "base_uri": "https://localhost:8080/"
    },
    "id": "XMRy7AWhvJ6C",
    "outputId": "f33ce075-5e73-4c01-a5b8-bf5937e3fa7a"
   },
   "outputs": [
    {
     "data": {
      "text/plain": [
       "([0.17482696110819593,\n",
       "  0.09224561912583662,\n",
       "  0.09635292897499668,\n",
       "  0.129190626449502,\n",
       "  0.11647373818394693,\n",
       "  0.10632915679050141],\n",
       " [0.2781010673847818,\n",
       "  0.1843904222013542,\n",
       "  0.18047363327529956,\n",
       "  0.15124885272559688,\n",
       "  0.1637424287066448])"
      ]
     },
     "execution_count": 92,
     "metadata": {},
     "output_type": "execute_result"
    }
   ],
   "source": [
    "arr_mse_not_allowed = [ x for x in mses if x >= arr_mse_min*1.1 ]\n",
    "arr_mae_not_allowed = [ x for x in arr_maes if x >= arr_mae_min*1.1 ]\n",
    "arr_mse_not_allowed, arr_mae_not_allowed"
   ]
  },
  {
   "cell_type": "code",
   "execution_count": 93,
   "metadata": {
    "id": "igMkgN83w50e"
   },
   "outputs": [
    {
     "name": "stdout",
     "output_type": "stream",
     "text": [
      "[0.2781010673847818, 0.1843904222013542, 0.18047363327529956, 0.15124885272559688, 0.1637424287066448]\n",
      "[11, 13, 15, 17, 17]\n"
     ]
    }
   ],
   "source": [
    "arr_mse_not_allowed_soc = [11, 13,15,17,17,17]\n",
    "arr_mae_not_allowed_soc = [11, 13, 15,17,17]\n",
    "print(arr_mae_not_allowed)\n",
    "print(arr_mae_not_allowed_soc)"
   ]
  },
  {
   "cell_type": "code",
   "execution_count": 94,
   "metadata": {
    "colab": {
     "base_uri": "https://localhost:8080/",
     "height": 299
    },
    "id": "VatCqvNQzPX7",
    "outputId": "fef8a670-5da0-4f40-d5a3-ff9a15ae9cb7"
   },
   "outputs": [
    {
     "data": {
      "image/png": "[encoded data removed]",
      "text/plain": [
       "<Figure size 432x288 with 1 Axes>"
      ]
     },
     "metadata": {},
     "output_type": "display_data"
    }
   ],
   "source": [
    "maes=arr_maes\n",
    "plt.title(\"MAE vs. SOC\")\n",
    "\n",
    "plt.scatter(maes, SOCs, c='green')\n",
    "plt.scatter(arr_mae_not_allowed, arr_mae_not_allowed_soc, c='red')\n",
    "plt.scatter(arr_mae_min, arr_soc_min, c='blue')\n",
    "plt.scatter(arr_mae_min_soc, arr_soc_min_soc, c='grey')\n",
    "plt.axvline(x=arr_mae_min*1.1)\n",
    "for i, txt in enumerate(maes):\n",
    "    plt.annotate(i, (maes[i], SOCs[i]))\n",
    "plt.xlabel('MAE')\n",
    "plt.ylabel('SOC')\n",
    "plt.show()"
   ]
  },
  {
   "cell_type": "code",
   "execution_count": 95,
   "metadata": {
    "colab": {
     "base_uri": "https://localhost:8080/",
     "height": 373
    },
    "id": "S7zBkZimzVH-",
    "outputId": "37c35bbd-06f6-4207-da22-7a2be587b3c6"
   },
   "outputs": [
    {
     "data": {
      "text/html": [
       "<div>\n",
       "<style scoped>\n",
       "    .dataframe tbody tr th:only-of-type {\n",
       "        vertical-align: middle;\n",
       "    }\n",
       "\n",
       "    .dataframe tbody tr th {\n",
       "        vertical-align: top;\n",
       "    }\n",
       "\n",
       "    .dataframe thead th {\n",
       "        text-align: right;\n",
       "    }\n",
       "</style>\n",
       "<table border=\"1\" class=\"dataframe\">\n",
       "  <thead>\n",
       "    <tr style=\"text-align: right;\">\n",
       "      <th></th>\n",
       "      <th>MSE</th>\n",
       "      <th>MAE</th>\n",
       "      <th>SOC</th>\n",
       "      <th>max_depth</th>\n",
       "      <th>min_samples_leaf</th>\n",
       "    </tr>\n",
       "  </thead>\n",
       "  <tbody>\n",
       "    <tr>\n",
       "      <th>0</th>\n",
       "      <td>0.174827</td>\n",
       "      <td>0.278101</td>\n",
       "      <td>11</td>\n",
       "      <td>1</td>\n",
       "      <td>1</td>\n",
       "    </tr>\n",
       "    <tr>\n",
       "      <th>1</th>\n",
       "      <td>0.092246</td>\n",
       "      <td>0.184390</td>\n",
       "      <td>13</td>\n",
       "      <td>2</td>\n",
       "      <td>1</td>\n",
       "    </tr>\n",
       "    <tr>\n",
       "      <th>2</th>\n",
       "      <td>0.096353</td>\n",
       "      <td>0.180474</td>\n",
       "      <td>15</td>\n",
       "      <td>3</td>\n",
       "      <td>5</td>\n",
       "    </tr>\n",
       "    <tr>\n",
       "      <th>3</th>\n",
       "      <td>0.076135</td>\n",
       "      <td>0.134070</td>\n",
       "      <td>17</td>\n",
       "      <td>4</td>\n",
       "      <td>5</td>\n",
       "    </tr>\n",
       "    <tr>\n",
       "      <th>4</th>\n",
       "      <td>0.078471</td>\n",
       "      <td>0.132904</td>\n",
       "      <td>19</td>\n",
       "      <td>5</td>\n",
       "      <td>5</td>\n",
       "    </tr>\n",
       "    <tr>\n",
       "      <th>5</th>\n",
       "      <td>0.078499</td>\n",
       "      <td>0.133006</td>\n",
       "      <td>21</td>\n",
       "      <td>6</td>\n",
       "      <td>5</td>\n",
       "    </tr>\n",
       "    <tr>\n",
       "      <th>6</th>\n",
       "      <td>0.078516</td>\n",
       "      <td>0.133403</td>\n",
       "      <td>23</td>\n",
       "      <td>7</td>\n",
       "      <td>5</td>\n",
       "    </tr>\n",
       "    <tr>\n",
       "      <th>7</th>\n",
       "      <td>0.129191</td>\n",
       "      <td>0.151249</td>\n",
       "      <td>17</td>\n",
       "      <td>4</td>\n",
       "      <td>1</td>\n",
       "    </tr>\n",
       "    <tr>\n",
       "      <th>8</th>\n",
       "      <td>0.116474</td>\n",
       "      <td>0.146102</td>\n",
       "      <td>17</td>\n",
       "      <td>4</td>\n",
       "      <td>3</td>\n",
       "    </tr>\n",
       "    <tr>\n",
       "      <th>9</th>\n",
       "      <td>0.106329</td>\n",
       "      <td>0.163742</td>\n",
       "      <td>17</td>\n",
       "      <td>4</td>\n",
       "      <td>7</td>\n",
       "    </tr>\n",
       "  </tbody>\n",
       "</table>\n",
       "</div>"
      ],
      "text/plain": [
       "        MSE       MAE  SOC  max_depth   min_samples_leaf \n",
       "0  0.174827  0.278101   11           1                  1\n",
       "1  0.092246  0.184390   13           2                  1\n",
       "2  0.096353  0.180474   15           3                  5\n",
       "3  0.076135  0.134070   17           4                  5\n",
       "4  0.078471  0.132904   19           5                  5\n",
       "5  0.078499  0.133006   21           6                  5\n",
       "6  0.078516  0.133403   23           7                  5\n",
       "7  0.129191  0.151249   17           4                  1\n",
       "8  0.116474  0.146102   17           4                  3\n",
       "9  0.106329  0.163742   17           4                  7"
      ]
     },
     "execution_count": 95,
     "metadata": {},
     "output_type": "execute_result"
    }
   ],
   "source": [
    "data = { 'MSE': mses, 'MAE': maes, 'SOC': SOCs, 'max_depth ': max_depth,  'min_samples_leaf ': min_samples_leaf }\n",
    "df2 = pd.DataFrame(data)\n",
    "df2"
   ]
  },
  {
   "cell_type": "code",
   "execution_count": 10,
   "metadata": {
    "colab": {
     "base_uri": "https://localhost:8080/"
    },
    "id": "UFPVX4NtU0en",
    "outputId": "0a5b4a89-824d-47e1-c3c8-859335f62287"
   },
   "outputs": [
    {
     "data": {
      "text/plain": [
       "['motor', 'screw', 'pgain', 'vgain', 'class']"
      ]
     },
     "execution_count": 10,
     "metadata": {},
     "output_type": "execute_result"
    }
   ],
   "source": [
    "df_header = df.columns.values  # header\n",
    "header = list(df_header)\n",
    "header"
   ]
  },
  {
   "cell_type": "code",
   "execution_count": null,
   "metadata": {
    "colab": {
     "base_uri": "https://localhost:8080/"
    },
    "id": "0g2htgpdUeUV",
    "outputId": "56885e14-f843-4f1e-f50d-c7f43ffadc45"
   },
   "outputs": [
    {
     "name": "stdout",
     "output_type": "stream",
     "text": [
      "   Specs      Score\n",
      "2  pgain  84.498301\n",
      "3  vgain  22.668209\n",
      "0  motor  11.999011\n",
      "1  screw   0.074505\n"
     ]
    }
   ],
   "source": [
    "k=4\n",
    "bestfeatures = SelectKBest(score_func=f_regression, k=k)\n",
    "fit = bestfeatures.fit(X,y)\n",
    "dfscores = pd.DataFrame(fit.scores_)\n",
    "dfcolumns = pd.DataFrame(header)\n",
    "#concat two dataframes for better visualization \n",
    "featureScores = pd.concat([dfcolumns,dfscores],axis=1)\n",
    "featureScores.columns = ['Specs','Score']  #naming the dataframe columns\n",
    "print(featureScores.nlargest(k,'Score')) "
   ]
  },
  {
   "cell_type": "code",
   "execution_count": 22,
   "metadata": {
    "colab": {
     "base_uri": "https://localhost:8080/"
    },
    "id": "WGjGrPZYVU7b",
    "outputId": "f3166d01-7304-45c6-f38b-3f3387d70945"
   },
   "outputs": [
    {
     "data": {
      "text/plain": [
       "(152, 3)"
      ]
     },
     "execution_count": 22,
     "metadata": {},
     "output_type": "execute_result"
    }
   ],
   "source": [
    "X_new=X.drop(['screw'], axis=1)\n",
    "X_new.shape"
   ]
  },
  {
   "cell_type": "code",
   "execution_count": 23,
   "metadata": {
    "id": "IxGkNGY_X6pq"
   },
   "outputs": [],
   "source": [
    "cv_sets = KFold(n_splits=10, shuffle= True,random_state=100)\n",
    "param_grid_2 = {\n",
    "              \"max_depth\": [1,2,3,4,5,6,7,8,9,10],\n",
    "              \"min_samples_leaf\": [1,2,3,4,5,6,7,8,9,10],\n",
    "              # \"search_type\": [\"greedy\", \"grid\", \"adaptive\"],\n",
    "              # \"n_search_grid\": [50,100,200]\n",
    "              }"
   ]
  },
  {
   "cell_type": "code",
   "execution_count": 24,
   "metadata": {
    "id": "ChRTIfRmVk-o"
   },
   "outputs": [],
   "source": [
    "grid = GridSearchCV(model_tree, param_grid_2,cv=cv_sets,n_jobs=4,scoring=error_metric)"
   ]
  },
  {
   "cell_type": "code",
   "execution_count": 25,
   "metadata": {
    "colab": {
     "base_uri": "https://localhost:8080/"
    },
    "id": "KIsUDMyCWOuE",
    "outputId": "51ce94be-3dbf-49c9-907c-76977ae432cc"
   },
   "outputs": [
    {
     "name": "stdout",
     "output_type": "stream",
     "text": [
      "Best Hyperparameters::\n",
      "ModelTree(model=<linear_regr.linear_regr object at 0x000001EE963470A0>, max_depth=4, min_samples_leaf=6, search_type=greedy, n_search_grid=100)\n"
     ]
    }
   ],
   "source": [
    "try:\n",
    "  X_new=X_new.to_numpy()\n",
    "except:\n",
    "  print('already converted to numpy')\n",
    "try:\n",
    "  y=y.to_numpy()\n",
    "except:\n",
    "  print('already converted to numpy')\n",
    "grid = grid.fit(X_new, y)\n",
    "\n",
    "print(\"Best Hyperparameters::\\n{}\".format(grid.best_estimator_))"
   ]
  },
  {
   "cell_type": "code",
   "execution_count": 26,
   "metadata": {
    "colab": {
     "base_uri": "https://localhost:8080/",
     "height": 758
    },
    "id": "lxOD-WAsW__5",
    "outputId": "c903b1e0-d743-40d2-e611-b4b12a3734a7"
   },
   "outputs": [],
   "source": [
    "lmt_t_2 = grid.best_estimator_\n",
    "df2 = pd.DataFrame(data=grid.cv_results_)\n"
   ]
  },
  {
   "cell_type": "code",
   "execution_count": 27,
   "metadata": {
    "colab": {
     "base_uri": "https://localhost:8080/",
     "height": 316
    },
    "id": "TrBF0ihDXDvd",
    "outputId": "2d211327-65d3-424a-c3d4-de9cbbc087cf"
   },
   "outputs": [
    {
     "data": {
      "text/plain": [
       "[Text(0.5, 1.0, 'Effect of Depth and Leaf Nodes on Model Performance')]"
      ]
     },
     "execution_count": 27,
     "metadata": {},
     "output_type": "execute_result"
    },
    {
     "data": {
      "image/png": "[encoded data removed]",
      "text/plain": [
       "<Figure size 432x288 with 1 Axes>"
      ]
     },
     "metadata": {},
     "output_type": "display_data"
    }
   ],
   "source": [
    "df2 = pd.DataFrame(data=grid.cv_results_)\n",
    "fig,ax = plt.subplots()\n",
    "sns.pointplot(data=df2[['mean_test_score',\n",
    "                           'param_min_samples_leaf',\n",
    "                           'param_max_depth']],\n",
    "             y='mean_test_score',x='param_max_depth',\n",
    "             hue='param_min_samples_leaf',ax=ax)\n",
    "ax.set(title=\"Effect of Depth and Leaf Nodes on Model Performance\")"
   ]
  },
  {
   "cell_type": "code",
   "execution_count": 30,
   "metadata": {
    "colab": {
     "base_uri": "https://localhost:8080/"
    },
    "id": "D5K3KHH7XPeb",
    "outputId": "45e51094-c0f4-4e77-eb30-4e3a0e113963"
   },
   "outputs": [
    {
     "name": "stdout",
     "output_type": "stream",
     "text": [
      "(152, 3)\n",
      "Mean Squared Error: 0.13780411083603628\n",
      "Root Mean Squared Error: 0.3712197608372112\n",
      "mean absolute error: 0.22171339579425475\n",
      "Overall model accuracy: 0.8560202396989787\n",
      "SOC: 15\n"
     ]
    }
   ],
   "source": [
    "folds = cv_sets\n",
    "\n",
    "print(X_new.shape)\n",
    "# X=X.to_numpy()\n",
    "mse = cross_val_score(lmt_t_2,X_new,y,cv=folds,scoring='neg_mean_squared_error')\n",
    "mse=np.abs(np.mean(mse))\n",
    "print(\"Mean Squared Error: {}\".format(mse))\n",
    "rmse=math.sqrt(mse)\n",
    "print(\"Root Mean Squared Error: {}\".format(rmse))\n",
    "mae = cross_val_score(lmt_t_2,X_new,y,cv=folds,scoring='neg_mean_absolute_error')\n",
    "mae = np.abs(np.mean(mae))\n",
    "print(\"mean absolute error: {}\".format(mae))\n",
    "r2 = cross_val_score(lmt_t_2,X_new,y,cv=folds,scoring='r2')\n",
    "r2 = np.abs(np.mean(r2))\n",
    "print(\"Overall model accuracy: {}\".format(r2))\n",
    "soc=get_soc(lmt_t_2.max_depth,X_new.shape[1])\n",
    "print(\"SOC: {}\".format(soc))"
   ]
  },
  {
   "cell_type": "code",
   "execution_count": 31,
   "metadata": {},
   "outputs": [
    {
     "data": {
      "text/plain": [
       "<matplotlib.legend.Legend at 0x1ee96bb7ca0>"
      ]
     },
     "execution_count": 31,
     "metadata": {},
     "output_type": "execute_result"
    },
    {
     "data": {
      "image/png": "[encoded data removed]",
      "text/plain": [
       "<Figure size 432x288 with 1 Axes>"
      ]
     },
     "metadata": {},
     "output_type": "display_data"
    }
   ],
   "source": [
    "train_sizes=np.array([0.1,0.2,0.3,0.4,0.5,1.0])\n",
    "_,train_scores,validation_scores=learning_curve(lmt_t_2,X_new,y,cv=folds,train_sizes=train_sizes,scoring=error_metric)\n",
    "train_scores_mean = -train_scores.mean(axis = 1)\n",
    "validation_scores_mean = -validation_scores.mean(axis = 1)\n",
    "plt.title(\"Learning curve\")\n",
    "\n",
    "plt.plot(train_sizes, train_scores_mean, label = 'Training error')\n",
    "plt.plot(train_sizes, validation_scores_mean, label = 'Validation error')\n",
    "plt.legend()\n",
    "plt.ylabel('MSE', fontsize = 14)\n",
    "plt.xlabel('Training set size', fontsize = 14)\n",
    "plt.title('Learning curves for a linear regression model', fontsize = 18, y = 1.03)\n",
    "plt.legend()"
   ]
  }
 ],
 "metadata": {
  "colab": {
   "collapsed_sections": [],
   "name": "Servo_LMT-2.ipynb",
   "provenance": []
  },
  "kernelspec": {
   "display_name": "Python 3",
   "language": "python",
   "name": "python3"
  },
  "language_info": {
   "codemirror_mode": {
    "name": "ipython",
    "version": 3
   },
   "file_extension": ".py",
   "mimetype": "text/x-python",
   "name": "python",
   "nbconvert_exporter": "python",
   "pygments_lexer": "ipython3",
   "version": "3.8.3"
  }
 },
 "nbformat": 4,
 "nbformat_minor": 1
}
