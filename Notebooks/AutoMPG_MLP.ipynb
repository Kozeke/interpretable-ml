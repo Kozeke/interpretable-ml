{
 "cells": [
  {
   "cell_type": "code",
   "execution_count": 1,
   "metadata": {
    "colab": {
     "base_uri": "https://localhost:8080/"
    },
    "executionInfo": {
     "elapsed": 2110,
     "status": "ok",
     "timestamp": 1624499779269,
     "user": {
      "displayName": "Zhumakhan Nazir",
      "photoUrl": "",
      "userId": "11929776087798199813"
     },
     "user_tz": -360
    },
    "id": "Wc_3YAwQwKmH",
    "outputId": "48222cef-b78f-40ae-cf7d-a12d9102549e"
   },
   "outputs": [],
   "source": [
    "%matplotlib inline\n",
    "\n",
    "import numpy as np\n",
    "import pandas as pd\n",
    "import seaborn as sns\n",
    "from math import sqrt\n",
    "from sklearn.svm import SVR\n",
    "from sklearn.neural_network import MLPRegressor\n",
    "\n",
    "from sklearn.linear_model import LinearRegression\n",
    "import matplotlib.pyplot as plt\n",
    "\n",
    "from statsmodels.stats.outliers_influence import variance_inflation_factor\n",
    "from scipy.stats import zscore, t\n",
    "\n",
    "from sklearn.ensemble import ExtraTreesRegressor\n",
    "from sklearn.ensemble import IsolationForest\n",
    "\n",
    "from sklearn.metrics import mean_squared_error,make_scorer\n",
    "from sklearn.metrics import r2_score, mean_absolute_error\n",
    "\n",
    "from sklearn.neighbors import LocalOutlierFactor\n",
    "\n",
    "\n",
    "from sklearn.feature_selection import RFE,RFECV\n",
    "from sklearn.feature_selection import SelectKBest\n",
    "from sklearn.feature_selection import f_regression\n",
    "from sklearn.feature_selection import mutual_info_regression\n",
    "from sklearn.feature_selection import SelectFromModel\n",
    "\n",
    "\n",
    "from sklearn.pipeline import Pipeline\n",
    "from sklearn.preprocessing import StandardScaler,OrdinalEncoder\n",
    "\n",
    "from sklearn.model_selection import GridSearchCV\n",
    "from sklearn.model_selection import cross_val_score\n",
    "from sklearn.model_selection import train_test_split\n",
    "from sklearn.model_selection import validation_curve\n",
    "from sklearn.model_selection import learning_curve\n",
    "from sklearn.model_selection import cross_val_score\n",
    "from sklearn.model_selection import KFold\n",
    "\n",
    "plt.style.use('ggplot')\n",
    "import warnings\n",
    "warnings.filterwarnings('ignore')"
   ]
  },
  {
   "cell_type": "code",
   "execution_count": 2,
   "metadata": {
    "colab": {
     "base_uri": "https://localhost:8080/"
    },
    "executionInfo": {
     "elapsed": 11,
     "status": "ok",
     "timestamp": 1624499779269,
     "user": {
      "displayName": "Zhumakhan Nazir",
      "photoUrl": "",
      "userId": "11929776087798199813"
     },
     "user_tz": -360
    },
    "id": "sDmI5LWPwccW",
    "outputId": "797d03a1-4947-4a9d-faed-f58b18e4694a"
   },
   "outputs": [
    {
     "name": "stdout",
     "output_type": "stream",
     "text": [
      "(398, 8)\n"
     ]
    },
    {
     "data": {
      "text/plain": [
       "mpg             float64\n",
       "cylinders         int64\n",
       "displacement    float64\n",
       "horsepower       object\n",
       "weight          float64\n",
       "acceleration    float64\n",
       "year              int64\n",
       "origin            int64\n",
       "dtype: object"
      ]
     },
     "execution_count": 2,
     "metadata": {},
     "output_type": "execute_result"
    }
   ],
   "source": [
    "uploaded = 'http://archive.ics.uci.edu/ml/machine-learning-databases/auto-mpg/auto-mpg.data'\n",
    "columns = ['mpg','cylinders','displacement','horsepower','weight','acceleration','year','origin','name']\n",
    "df = pd.read_csv(uploaded,delim_whitespace=True,names=columns)\n",
    "\n",
    "#drop name column\n",
    "df.drop(columns=['name'],inplace=True)\n",
    "\n",
    "columns = ['cylinders','displacement','horsepower','weight','acceleration','year','origin']\n",
    "print(df.shape)\n",
    "df.dtypes"
   ]
  },
  {
   "cell_type": "code",
   "execution_count": 3,
   "metadata": {
    "colab": {
     "base_uri": "https://localhost:8080/"
    },
    "executionInfo": {
     "elapsed": 58,
     "status": "ok",
     "timestamp": 1624499781480,
     "user": {
      "displayName": "Zhumakhan Nazir",
      "photoUrl": "",
      "userId": "11929776087798199813"
     },
     "user_tz": -360
    },
    "id": "r6CMI3V4BOj7",
    "outputId": "e4de3f8d-566b-4442-9ec0-cd3fcc73774b"
   },
   "outputs": [
    {
     "data": {
      "text/plain": [
       "array(['130.0', '165.0', '150.0', '140.0', '198.0', '220.0', '215.0',\n",
       "       '225.0', '190.0', '170.0', '160.0', '95.00', '97.00', '85.00',\n",
       "       '88.00', '46.00', '87.00', '90.00', '113.0', '200.0', '210.0',\n",
       "       '193.0', '?', '100.0', '105.0', '175.0', '153.0', '180.0', '110.0',\n",
       "       '72.00', '86.00', '70.00', '76.00', '65.00', '69.00', '60.00',\n",
       "       '80.00', '54.00', '208.0', '155.0', '112.0', '92.00', '145.0',\n",
       "       '137.0', '158.0', '167.0', '94.00', '107.0', '230.0', '49.00',\n",
       "       '75.00', '91.00', '122.0', '67.00', '83.00', '78.00', '52.00',\n",
       "       '61.00', '93.00', '148.0', '129.0', '96.00', '71.00', '98.00',\n",
       "       '115.0', '53.00', '81.00', '79.00', '120.0', '152.0', '102.0',\n",
       "       '108.0', '68.00', '58.00', '149.0', '89.00', '63.00', '48.00',\n",
       "       '66.00', '139.0', '103.0', '125.0', '133.0', '138.0', '135.0',\n",
       "       '142.0', '77.00', '62.00', '132.0', '84.00', '64.00', '74.00',\n",
       "       '116.0', '82.00'], dtype=object)"
      ]
     },
     "execution_count": 3,
     "metadata": {},
     "output_type": "execute_result"
    }
   ],
   "source": [
    "df.horsepower.unique()"
   ]
  },
  {
   "cell_type": "code",
   "execution_count": 4,
   "metadata": {
    "colab": {
     "base_uri": "https://localhost:8080/"
    },
    "executionInfo": {
     "elapsed": 57,
     "status": "ok",
     "timestamp": 1624499781481,
     "user": {
      "displayName": "Zhumakhan Nazir",
      "photoUrl": "",
      "userId": "11929776087798199813"
     },
     "user_tz": -360
    },
    "id": "bWjdM28NBSYa",
    "outputId": "7d72986a-3e20-4958-dcac-1c0d22f64b74"
   },
   "outputs": [
    {
     "data": {
      "text/plain": [
       "mpg             False\n",
       "cylinders       False\n",
       "displacement    False\n",
       "horsepower      False\n",
       "weight          False\n",
       "acceleration    False\n",
       "year            False\n",
       "origin          False\n",
       "dtype: bool"
      ]
     },
     "execution_count": 4,
     "metadata": {},
     "output_type": "execute_result"
    }
   ],
   "source": [
    "df=df[df['horsepower']!='?']\n",
    "df['horsepower']=df['horsepower'].astype('float')\n",
    "df.isnull().any()"
   ]
  },
  {
   "cell_type": "code",
   "execution_count": 5,
   "metadata": {
    "colab": {
     "base_uri": "https://localhost:8080/",
     "height": 221
    },
    "executionInfo": {
     "elapsed": 45,
     "status": "ok",
     "timestamp": 1624499781481,
     "user": {
      "displayName": "Zhumakhan Nazir",
      "photoUrl": "",
      "userId": "11929776087798199813"
     },
     "user_tz": -360
    },
    "id": "HSJpUO6QBYRH",
    "outputId": "d561ab15-b869-4684-8668-f60787d07302"
   },
   "outputs": [
    {
     "name": "stdout",
     "output_type": "stream",
     "text": [
      "(385, 8)\n"
     ]
    },
    {
     "data": {
      "text/html": [
       "<div>\n",
       "<style scoped>\n",
       "    .dataframe tbody tr th:only-of-type {\n",
       "        vertical-align: middle;\n",
       "    }\n",
       "\n",
       "    .dataframe tbody tr th {\n",
       "        vertical-align: top;\n",
       "    }\n",
       "\n",
       "    .dataframe thead th {\n",
       "        text-align: right;\n",
       "    }\n",
       "</style>\n",
       "<table border=\"1\" class=\"dataframe\">\n",
       "  <thead>\n",
       "    <tr style=\"text-align: right;\">\n",
       "      <th></th>\n",
       "      <th>mpg</th>\n",
       "      <th>cylinders</th>\n",
       "      <th>displacement</th>\n",
       "      <th>horsepower</th>\n",
       "      <th>weight</th>\n",
       "      <th>acceleration</th>\n",
       "      <th>year</th>\n",
       "      <th>origin</th>\n",
       "    </tr>\n",
       "  </thead>\n",
       "  <tbody>\n",
       "    <tr>\n",
       "      <th>0</th>\n",
       "      <td>18.0</td>\n",
       "      <td>1.483947</td>\n",
       "      <td>1.077290</td>\n",
       "      <td>0.664133</td>\n",
       "      <td>0.620540</td>\n",
       "      <td>-1.285258</td>\n",
       "      <td>-1.625315</td>\n",
       "      <td>-0.716641</td>\n",
       "    </tr>\n",
       "    <tr>\n",
       "      <th>1</th>\n",
       "      <td>15.0</td>\n",
       "      <td>1.483947</td>\n",
       "      <td>1.488732</td>\n",
       "      <td>1.574594</td>\n",
       "      <td>0.843334</td>\n",
       "      <td>-1.466724</td>\n",
       "      <td>-1.625315</td>\n",
       "      <td>-0.716641</td>\n",
       "    </tr>\n",
       "    <tr>\n",
       "      <th>2</th>\n",
       "      <td>18.0</td>\n",
       "      <td>1.483947</td>\n",
       "      <td>1.182542</td>\n",
       "      <td>1.184397</td>\n",
       "      <td>0.540382</td>\n",
       "      <td>-1.648189</td>\n",
       "      <td>-1.625315</td>\n",
       "      <td>-0.716641</td>\n",
       "    </tr>\n",
       "    <tr>\n",
       "      <th>3</th>\n",
       "      <td>16.0</td>\n",
       "      <td>1.483947</td>\n",
       "      <td>1.048584</td>\n",
       "      <td>1.184397</td>\n",
       "      <td>0.536845</td>\n",
       "      <td>-1.285258</td>\n",
       "      <td>-1.625315</td>\n",
       "      <td>-0.716641</td>\n",
       "    </tr>\n",
       "    <tr>\n",
       "      <th>4</th>\n",
       "      <td>17.0</td>\n",
       "      <td>1.483947</td>\n",
       "      <td>1.029447</td>\n",
       "      <td>0.924265</td>\n",
       "      <td>0.555706</td>\n",
       "      <td>-1.829655</td>\n",
       "      <td>-1.625315</td>\n",
       "      <td>-0.716641</td>\n",
       "    </tr>\n",
       "  </tbody>\n",
       "</table>\n",
       "</div>"
      ],
      "text/plain": [
       "    mpg  cylinders  displacement  horsepower    weight  acceleration  \\\n",
       "0  18.0   1.483947      1.077290    0.664133  0.620540     -1.285258   \n",
       "1  15.0   1.483947      1.488732    1.574594  0.843334     -1.466724   \n",
       "2  18.0   1.483947      1.182542    1.184397  0.540382     -1.648189   \n",
       "3  16.0   1.483947      1.048584    1.184397  0.536845     -1.285258   \n",
       "4  17.0   1.483947      1.029447    0.924265  0.555706     -1.829655   \n",
       "\n",
       "       year    origin  \n",
       "0 -1.625315 -0.716641  \n",
       "1 -1.625315 -0.716641  \n",
       "2 -1.625315 -0.716641  \n",
       "3 -1.625315 -0.716641  \n",
       "4 -1.625315 -0.716641  "
      ]
     },
     "execution_count": 5,
     "metadata": {},
     "output_type": "execute_result"
    }
   ],
   "source": [
    "df[columns]=StandardScaler().fit_transform(df[columns])\n",
    "\n",
    "#apply z-score outlier treatment\n",
    "z = np.abs(zscore(df))\n",
    "df = df[(z < 3).all(axis=1)]\n",
    "\n",
    "print(df.shape)\n",
    "df.head()"
   ]
  },
  {
   "cell_type": "code",
   "execution_count": 6,
   "metadata": {
    "colab": {
     "base_uri": "https://localhost:8080/",
     "height": 128
    },
    "executionInfo": {
     "elapsed": 29,
     "status": "ok",
     "timestamp": 1624499781482,
     "user": {
      "displayName": "Zhumakhan Nazir",
      "photoUrl": "",
      "userId": "11929776087798199813"
     },
     "user_tz": -360
    },
    "id": "lyudckSfBcS-",
    "outputId": "e5c89378-6c6a-4706-9174-45666ed58e43"
   },
   "outputs": [
    {
     "name": "stdout",
     "output_type": "stream",
     "text": [
      "(385, 7)\n"
     ]
    },
    {
     "data": {
      "text/html": [
       "<div>\n",
       "<style scoped>\n",
       "    .dataframe tbody tr th:only-of-type {\n",
       "        vertical-align: middle;\n",
       "    }\n",
       "\n",
       "    .dataframe tbody tr th {\n",
       "        vertical-align: top;\n",
       "    }\n",
       "\n",
       "    .dataframe thead th {\n",
       "        text-align: right;\n",
       "    }\n",
       "</style>\n",
       "<table border=\"1\" class=\"dataframe\">\n",
       "  <thead>\n",
       "    <tr style=\"text-align: right;\">\n",
       "      <th></th>\n",
       "      <th>cylinders</th>\n",
       "      <th>displacement</th>\n",
       "      <th>horsepower</th>\n",
       "      <th>weight</th>\n",
       "      <th>acceleration</th>\n",
       "      <th>year</th>\n",
       "      <th>origin</th>\n",
       "    </tr>\n",
       "  </thead>\n",
       "  <tbody>\n",
       "    <tr>\n",
       "      <th>skewness</th>\n",
       "      <td>0.533598</td>\n",
       "      <td>0.672639</td>\n",
       "      <td>0.971972</td>\n",
       "      <td>0.531125</td>\n",
       "      <td>0.227886</td>\n",
       "      <td>0.012683</td>\n",
       "      <td>0.902325</td>\n",
       "    </tr>\n",
       "    <tr>\n",
       "      <th>kurtosis</th>\n",
       "      <td>-1.357577</td>\n",
       "      <td>-0.870397</td>\n",
       "      <td>0.326162</td>\n",
       "      <td>-0.783535</td>\n",
       "      <td>0.184673</td>\n",
       "      <td>-1.158124</td>\n",
       "      <td>-0.873909</td>\n",
       "    </tr>\n",
       "  </tbody>\n",
       "</table>\n",
       "</div>"
      ],
      "text/plain": [
       "          cylinders  displacement  horsepower    weight  acceleration  \\\n",
       "skewness   0.533598      0.672639    0.971972  0.531125      0.227886   \n",
       "kurtosis  -1.357577     -0.870397    0.326162 -0.783535      0.184673   \n",
       "\n",
       "              year    origin  \n",
       "skewness  0.012683  0.902325  \n",
       "kurtosis -1.158124 -0.873909  "
      ]
     },
     "execution_count": 6,
     "metadata": {},
     "output_type": "execute_result"
    }
   ],
   "source": [
    "X_orig=df[columns]\n",
    "y=df['mpg']\n",
    "print(X_orig.shape)\n",
    "pd.DataFrame(data=[X_orig.skew(),X_orig.kurtosis()],index=['skewness','kurtosis'])"
   ]
  },
  {
   "cell_type": "code",
   "execution_count": 7,
   "metadata": {
    "colab": {
     "base_uri": "https://localhost:8080/"
    },
    "executionInfo": {
     "elapsed": 17,
     "status": "ok",
     "timestamp": 1624499781482,
     "user": {
      "displayName": "Zhumakhan Nazir",
      "photoUrl": "",
      "userId": "11929776087798199813"
     },
     "user_tz": -360
    },
    "id": "GtPWyY890_Rl",
    "outputId": "d15602ea-0910-4425-b134-080366d4227c"
   },
   "outputs": [
    {
     "data": {
      "text/plain": [
       "(366, 7)"
      ]
     },
     "execution_count": 7,
     "metadata": {},
     "output_type": "execute_result"
    }
   ],
   "source": [
    "outliers = LocalOutlierFactor(n_neighbors=20).fit_predict(X_orig)\n",
    "target_out = LocalOutlierFactor(n_neighbors=20).fit_predict(y.values.reshape(-1,1))\n",
    "\n",
    "outliers = outliers == 1\n",
    "target_out = target_out == 1\n",
    "for i,t in enumerate(target_out):\n",
    "  outliers[i]=outliers[i] and t\n",
    "\n",
    "X_orig,y=X_orig[outliers],y[outliers]\n",
    "X_orig.shape"
   ]
  },
  {
   "cell_type": "code",
   "execution_count": 8,
   "metadata": {
    "colab": {
     "base_uri": "https://localhost:8080/",
     "height": 266
    },
    "executionInfo": {
     "elapsed": 12,
     "status": "ok",
     "timestamp": 1624499782854,
     "user": {
      "displayName": "Zhumakhan Nazir",
      "photoUrl": "",
      "userId": "11929776087798199813"
     },
     "user_tz": -360
    },
    "id": "n3zdoRvweDQD",
    "outputId": "6436d1d4-b1ef-42b5-d1fc-5d949d4e7f2b"
   },
   "outputs": [
    {
     "data": {
      "text/html": [
       "<div>\n",
       "<style scoped>\n",
       "    .dataframe tbody tr th:only-of-type {\n",
       "        vertical-align: middle;\n",
       "    }\n",
       "\n",
       "    .dataframe tbody tr th {\n",
       "        vertical-align: top;\n",
       "    }\n",
       "\n",
       "    .dataframe thead th {\n",
       "        text-align: right;\n",
       "    }\n",
       "</style>\n",
       "<table border=\"1\" class=\"dataframe\">\n",
       "  <thead>\n",
       "    <tr style=\"text-align: right;\">\n",
       "      <th></th>\n",
       "      <th>VIF Factor</th>\n",
       "      <th>features</th>\n",
       "    </tr>\n",
       "  </thead>\n",
       "  <tbody>\n",
       "    <tr>\n",
       "      <th>0</th>\n",
       "      <td>11.612756</td>\n",
       "      <td>cylinders</td>\n",
       "    </tr>\n",
       "    <tr>\n",
       "      <th>1</th>\n",
       "      <td>25.224016</td>\n",
       "      <td>displacement</td>\n",
       "    </tr>\n",
       "    <tr>\n",
       "      <th>2</th>\n",
       "      <td>12.045105</td>\n",
       "      <td>horsepower</td>\n",
       "    </tr>\n",
       "    <tr>\n",
       "      <th>3</th>\n",
       "      <td>13.650862</td>\n",
       "      <td>weight</td>\n",
       "    </tr>\n",
       "    <tr>\n",
       "      <th>4</th>\n",
       "      <td>2.948990</td>\n",
       "      <td>acceleration</td>\n",
       "    </tr>\n",
       "    <tr>\n",
       "      <th>5</th>\n",
       "      <td>1.178280</td>\n",
       "      <td>year</td>\n",
       "    </tr>\n",
       "    <tr>\n",
       "      <th>6</th>\n",
       "      <td>1.780656</td>\n",
       "      <td>origin</td>\n",
       "    </tr>\n",
       "  </tbody>\n",
       "</table>\n",
       "</div>"
      ],
      "text/plain": [
       "   VIF Factor      features\n",
       "0   11.612756     cylinders\n",
       "1   25.224016  displacement\n",
       "2   12.045105    horsepower\n",
       "3   13.650862        weight\n",
       "4    2.948990  acceleration\n",
       "5    1.178280          year\n",
       "6    1.780656        origin"
      ]
     },
     "execution_count": 8,
     "metadata": {},
     "output_type": "execute_result"
    }
   ],
   "source": [
    "vif = pd.DataFrame()\n",
    "vif[\"VIF Factor\"] = [variance_inflation_factor(X_orig.values, i) for i in range(X_orig.shape[1])]\n",
    "vif[\"features\"] = pd.Index(X_orig.columns)\n",
    "vif"
   ]
  },
  {
   "cell_type": "code",
   "execution_count": 9,
   "metadata": {
    "colab": {
     "base_uri": "https://localhost:8080/",
     "height": 266
    },
    "executionInfo": {
     "elapsed": 9,
     "status": "ok",
     "timestamp": 1624499782855,
     "user": {
      "displayName": "Zhumakhan Nazir",
      "photoUrl": "",
      "userId": "11929776087798199813"
     },
     "user_tz": -360
    },
    "id": "1J8niHt3BomD",
    "outputId": "b7c0c338-4d01-4a7e-836d-3b501ff66f1d"
   },
   "outputs": [
    {
     "data": {
      "text/html": [
       "<div>\n",
       "<style scoped>\n",
       "    .dataframe tbody tr th:only-of-type {\n",
       "        vertical-align: middle;\n",
       "    }\n",
       "\n",
       "    .dataframe tbody tr th {\n",
       "        vertical-align: top;\n",
       "    }\n",
       "\n",
       "    .dataframe thead th {\n",
       "        text-align: right;\n",
       "    }\n",
       "</style>\n",
       "<table border=\"1\" class=\"dataframe\">\n",
       "  <thead>\n",
       "    <tr style=\"text-align: right;\">\n",
       "      <th></th>\n",
       "      <th>VIF Factor</th>\n",
       "      <th>features</th>\n",
       "    </tr>\n",
       "  </thead>\n",
       "  <tbody>\n",
       "    <tr>\n",
       "      <th>0</th>\n",
       "      <td>11.612756</td>\n",
       "      <td>cylinders</td>\n",
       "    </tr>\n",
       "    <tr>\n",
       "      <th>1</th>\n",
       "      <td>25.224016</td>\n",
       "      <td>displacement</td>\n",
       "    </tr>\n",
       "    <tr>\n",
       "      <th>2</th>\n",
       "      <td>12.045105</td>\n",
       "      <td>horsepower</td>\n",
       "    </tr>\n",
       "    <tr>\n",
       "      <th>3</th>\n",
       "      <td>13.650862</td>\n",
       "      <td>weight</td>\n",
       "    </tr>\n",
       "    <tr>\n",
       "      <th>4</th>\n",
       "      <td>2.948990</td>\n",
       "      <td>acceleration</td>\n",
       "    </tr>\n",
       "    <tr>\n",
       "      <th>5</th>\n",
       "      <td>1.178280</td>\n",
       "      <td>year</td>\n",
       "    </tr>\n",
       "    <tr>\n",
       "      <th>6</th>\n",
       "      <td>1.780656</td>\n",
       "      <td>origin</td>\n",
       "    </tr>\n",
       "  </tbody>\n",
       "</table>\n",
       "</div>"
      ],
      "text/plain": [
       "   VIF Factor      features\n",
       "0   11.612756     cylinders\n",
       "1   25.224016  displacement\n",
       "2   12.045105    horsepower\n",
       "3   13.650862        weight\n",
       "4    2.948990  acceleration\n",
       "5    1.178280          year\n",
       "6    1.780656        origin"
      ]
     },
     "execution_count": 9,
     "metadata": {},
     "output_type": "execute_result"
    }
   ],
   "source": [
    "# Highest VIF>= 10 value is for displacement(25.1), remove displacement\n",
    "# 'cylinders','displacement','horsepower','weight','acceleration','year','origin'\n",
    "X = X_orig\n",
    "vif = pd.DataFrame()\n",
    "vif[\"VIF Factor\"] = [variance_inflation_factor(X.values, i) for i in range(X.shape[1])]\n",
    "vif[\"features\"] = pd.Index(X.columns)\n",
    "vif"
   ]
  },
  {
   "cell_type": "code",
   "execution_count": 10,
   "metadata": {
    "colab": {
     "base_uri": "https://localhost:8080/",
     "height": 235
    },
    "executionInfo": {
     "elapsed": 8,
     "status": "ok",
     "timestamp": 1624499782856,
     "user": {
      "displayName": "Zhumakhan Nazir",
      "photoUrl": "",
      "userId": "11929776087798199813"
     },
     "user_tz": -360
    },
    "id": "79c-scdWBxRs",
    "outputId": "f8e86b73-e82a-4f82-93b3-dd6f0b321c9c"
   },
   "outputs": [
    {
     "data": {
      "text/html": [
       "<div>\n",
       "<style scoped>\n",
       "    .dataframe tbody tr th:only-of-type {\n",
       "        vertical-align: middle;\n",
       "    }\n",
       "\n",
       "    .dataframe tbody tr th {\n",
       "        vertical-align: top;\n",
       "    }\n",
       "\n",
       "    .dataframe thead th {\n",
       "        text-align: right;\n",
       "    }\n",
       "</style>\n",
       "<table border=\"1\" class=\"dataframe\">\n",
       "  <thead>\n",
       "    <tr style=\"text-align: right;\">\n",
       "      <th></th>\n",
       "      <th>VIF Factor</th>\n",
       "      <th>features</th>\n",
       "    </tr>\n",
       "  </thead>\n",
       "  <tbody>\n",
       "    <tr>\n",
       "      <th>0</th>\n",
       "      <td>6.068045</td>\n",
       "      <td>cylinders</td>\n",
       "    </tr>\n",
       "    <tr>\n",
       "      <th>1</th>\n",
       "      <td>11.629223</td>\n",
       "      <td>horsepower</td>\n",
       "    </tr>\n",
       "    <tr>\n",
       "      <th>2</th>\n",
       "      <td>10.803007</td>\n",
       "      <td>weight</td>\n",
       "    </tr>\n",
       "    <tr>\n",
       "      <th>3</th>\n",
       "      <td>2.913342</td>\n",
       "      <td>acceleration</td>\n",
       "    </tr>\n",
       "    <tr>\n",
       "      <th>4</th>\n",
       "      <td>1.164594</td>\n",
       "      <td>year</td>\n",
       "    </tr>\n",
       "    <tr>\n",
       "      <th>5</th>\n",
       "      <td>1.582154</td>\n",
       "      <td>origin</td>\n",
       "    </tr>\n",
       "  </tbody>\n",
       "</table>\n",
       "</div>"
      ],
      "text/plain": [
       "   VIF Factor      features\n",
       "0    6.068045     cylinders\n",
       "1   11.629223    horsepower\n",
       "2   10.803007        weight\n",
       "3    2.913342  acceleration\n",
       "4    1.164594          year\n",
       "5    1.582154        origin"
      ]
     },
     "execution_count": 10,
     "metadata": {},
     "output_type": "execute_result"
    }
   ],
   "source": [
    "# Highest VIF>=10 value is for horsepower(VIF=11.6), remove horsepower\n",
    "# 'cylinders','displacement','horsepower','weight','acceleration','year','origin'\n",
    "X = X.drop(['displacement'],axis=1)\n",
    "vif = pd.DataFrame()\n",
    "vif[\"VIF Factor\"] = [variance_inflation_factor(X.values, i) for i in range(X.shape[1])]\n",
    "vif[\"features\"] = pd.Index(X.columns)\n",
    "vif"
   ]
  },
  {
   "cell_type": "code",
   "execution_count": 11,
   "metadata": {
    "colab": {
     "base_uri": "https://localhost:8080/",
     "height": 204
    },
    "executionInfo": {
     "elapsed": 5,
     "status": "ok",
     "timestamp": 1624499783719,
     "user": {
      "displayName": "Zhumakhan Nazir",
      "photoUrl": "",
      "userId": "11929776087798199813"
     },
     "user_tz": -360
    },
    "id": "WfocTpy3V0Ck",
    "outputId": "fde61814-93a3-4fd8-c949-4b1170b1836f"
   },
   "outputs": [
    {
     "data": {
      "text/html": [
       "<div>\n",
       "<style scoped>\n",
       "    .dataframe tbody tr th:only-of-type {\n",
       "        vertical-align: middle;\n",
       "    }\n",
       "\n",
       "    .dataframe tbody tr th {\n",
       "        vertical-align: top;\n",
       "    }\n",
       "\n",
       "    .dataframe thead th {\n",
       "        text-align: right;\n",
       "    }\n",
       "</style>\n",
       "<table border=\"1\" class=\"dataframe\">\n",
       "  <thead>\n",
       "    <tr style=\"text-align: right;\">\n",
       "      <th></th>\n",
       "      <th>VIF Factor</th>\n",
       "      <th>features</th>\n",
       "    </tr>\n",
       "  </thead>\n",
       "  <tbody>\n",
       "    <tr>\n",
       "      <th>0</th>\n",
       "      <td>5.985752</td>\n",
       "      <td>cylinders</td>\n",
       "    </tr>\n",
       "    <tr>\n",
       "      <th>1</th>\n",
       "      <td>5.380115</td>\n",
       "      <td>weight</td>\n",
       "    </tr>\n",
       "    <tr>\n",
       "      <th>2</th>\n",
       "      <td>1.381748</td>\n",
       "      <td>acceleration</td>\n",
       "    </tr>\n",
       "    <tr>\n",
       "      <th>3</th>\n",
       "      <td>1.106418</td>\n",
       "      <td>year</td>\n",
       "    </tr>\n",
       "    <tr>\n",
       "      <th>4</th>\n",
       "      <td>1.523176</td>\n",
       "      <td>origin</td>\n",
       "    </tr>\n",
       "  </tbody>\n",
       "</table>\n",
       "</div>"
      ],
      "text/plain": [
       "   VIF Factor      features\n",
       "0    5.985752     cylinders\n",
       "1    5.380115        weight\n",
       "2    1.381748  acceleration\n",
       "3    1.106418          year\n",
       "4    1.523176        origin"
      ]
     },
     "execution_count": 11,
     "metadata": {},
     "output_type": "execute_result"
    }
   ],
   "source": [
    "# Highest VIF>=10 value is for horsepower(VIF=11.6), remove horsepower\n",
    "# 'cylinders','displacement','horsepower','weight','acceleration','year','origin'\n",
    "X = X.drop(['horsepower'],axis=1)\n",
    "vif = pd.DataFrame()\n",
    "vif[\"VIF Factor\"] = [variance_inflation_factor(X.values, i) for i in range(X.shape[1])]\n",
    "vif[\"features\"] = pd.Index(X.columns)\n",
    "vif"
   ]
  },
  {
   "cell_type": "code",
   "execution_count": 12,
   "metadata": {
    "colab": {
     "base_uri": "https://localhost:8080/"
    },
    "executionInfo": {
     "elapsed": 3,
     "status": "ok",
     "timestamp": 1624499784521,
     "user": {
      "displayName": "Zhumakhan Nazir",
      "photoUrl": "",
      "userId": "11929776087798199813"
     },
     "user_tz": -360
    },
    "id": "vzSy-iCpB2ZL",
    "outputId": "f2448fd7-c723-417b-abf6-1cc06652842a"
   },
   "outputs": [
    {
     "data": {
      "text/plain": [
       "(366, 5)"
      ]
     },
     "execution_count": 12,
     "metadata": {},
     "output_type": "execute_result"
    }
   ],
   "source": [
    "k=X.shape[1]\n",
    "acc_metric = 'neg_mean_squared_error'\n",
    "# acc_metric = 'neg_mean_absolute_error'\n",
    "cv = KFold(n_splits=10, shuffle= True,random_state=100)\n",
    "model_selected=None\n",
    "minRMSE=np.inf\n",
    "train_sizes=np.array([0.1,0.2,0.3,0.4,0.5,1.0])\n",
    "\n",
    "try:\n",
    "    X=X.to_numpy()\n",
    "except:\n",
    "    pass\n",
    "try:\n",
    "    y=y.to_numpy()\n",
    "except:\n",
    "    pass\n",
    "X.shape"
   ]
  },
  {
   "cell_type": "code",
   "execution_count": 13,
   "metadata": {
    "executionInfo": {
     "elapsed": 4,
     "status": "ok",
     "timestamp": 1624499786785,
     "user": {
      "displayName": "Zhumakhan Nazir",
      "photoUrl": "",
      "userId": "11929776087798199813"
     },
     "user_tz": -360
    },
    "id": "hnNhqj5KDWR1"
   },
   "outputs": [],
   "source": [
    "# Dimash's version\n",
    "# def get_soc(final_clf, features):\n",
    "#     soc = 0\n",
    "#     n = 7     # for tanh\n",
    "#     if( final_clf.get_params()['activation'] == 'relu' ):\n",
    "#       n = 1\n",
    "#     elif ( final_clf.get_params()['activation'] == 'logistic' ):\n",
    "#       n = 3\n",
    "\n",
    "#     for i in final_clf.get_params()['hidden_layer_sizes']:\n",
    "#       soc += ( 2 * features + n * i )\n",
    "#       features = i\n",
    "#     soc += 2 * features * final_clf.n_outputs_\n",
    "#     return soc"
   ]
  },
  {
   "cell_type": "code",
   "execution_count": 14,
   "metadata": {},
   "outputs": [],
   "source": [
    "# Prof's version\n",
    "def get_soc(clf, P):\n",
    "    soc=0\n",
    "    ac=clf.get_params()['activation']\n",
    "    At = (ac=='relu')*1 + (ac=='logistic')*4 + (ac=='tanh') * 9\n",
    "    N = list(clf.get_params()['hidden_layer_sizes'])\n",
    "    N.insert(0,P)\n",
    "    H = len(N)\n",
    "    N.append(clf.n_outputs_)\n",
    "    \n",
    "    for h in range(H):\n",
    "        soc += (2 * N[h] + At) * N[h+1] + 2*N[h+1]\n",
    "    return soc"
   ]
  },
  {
   "cell_type": "code",
   "execution_count": 15,
   "metadata": {
    "executionInfo": {
     "elapsed": 3,
     "status": "ok",
     "timestamp": 1624499786785,
     "user": {
      "displayName": "Zhumakhan Nazir",
      "photoUrl": "",
      "userId": "11929776087798199813"
     },
     "user_tz": -360
    },
    "id": "3GeKKcGs6tMJ"
   },
   "outputs": [],
   "source": [
    "arr_mse = []\n",
    "arr_mae = []\n",
    "arr_soc = []\n",
    "arr_hls = []"
   ]
  },
  {
   "cell_type": "code",
   "execution_count": 18,
   "metadata": {
    "colab": {
     "base_uri": "https://localhost:8080/",
     "height": 384
    },
    "executionInfo": {
     "elapsed": 72658,
     "status": "ok",
     "timestamp": 1624477335108,
     "user": {
      "displayName": "Zhumakhan Nazir",
      "photoUrl": "",
      "userId": "11929776087798199813"
     },
     "user_tz": -360
    },
    "id": "1DpSYg4eHSXf",
    "outputId": "1f5b00ff-1b48-4a97-9bc7-0d93764c72ec"
   },
   "outputs": [
    {
     "name": "stdout",
     "output_type": "stream",
     "text": [
      "mae :  2.5107868345773996\n",
      "soc :  5903\n",
      "[2.5107868345773996]\n"
     ]
    }
   ],
   "source": [
    "# My Experimental block\n",
    "\n",
    "# default learning_rate_init = 0.001\n",
    "# default hidden_layer_sizes = (100, )\n",
    "params_3 = {\n",
    " 'activation': ['relu'], \n",
    " 'hidden_layer_sizes': [(50,50)], \n",
    " 'learning_rate_init': [0.000774263682681127]\n",
    "}\n",
    "res = []\n",
    "\n",
    "for _ in range(1): \n",
    "    clf = MLPRegressor()\n",
    "    grid = GridSearchCV(clf, param_grid = params_3, cv=5, scoring='neg_mean_absolute_error')\n",
    "    grid.fit(X, y)\n",
    "\n",
    "#     print(\"Best Hyperparameters::\\n{}\".format(grid.best_params_))\n",
    "#     results = pd.DataFrame(data=grid.cv_results_)\n",
    "\n",
    "    final_clf = grid.best_estimator_\n",
    "\n",
    "#     _,train_scores,test_scores=learning_curve(final_clf,X,y,cv=cv,train_sizes=train_sizes,scoring='neg_mean_absolute_error')\n",
    "\n",
    "#     plt.title(\"Learning curve\")\n",
    "#     plt.plot(len(X)*train_sizes,train_scores.mean(axis=1),'r-',label='train error')\n",
    "#     plt.plot(len(X)*train_sizes,test_scores.mean(axis=1),'g-',label='test error')\n",
    "#     plt.legend()\n",
    "#     plt.xlabel('train size')\n",
    "#     plt.ylabel('MSE')\n",
    "#     plt.show()\n",
    "\n",
    "#     mse = cross_val_score(final_clf,X,y,cv=10,scoring='neg_mean_squared_error')\n",
    "    mae = cross_val_score(final_clf,X,y,cv=10,scoring='neg_mean_absolute_error')\n",
    "\n",
    "#     std = np.std(mse)\n",
    "#     mse = np.abs(np.mean(mse))\n",
    "    mae = np.abs(np.mean(mae))\n",
    "\n",
    "    soc=get_soc(final_clf, 5)\n",
    "\n",
    "#     arr_mse.append(mse)\n",
    "    arr_mae.append(mae)\n",
    "    arr_soc.append(soc)\n",
    "    arr_hls.append(final_clf.get_params()['hidden_layer_sizes'])\n",
    "\n",
    "#     print(\"mse : \", mse)\n",
    "    print(\"mae : \", mae)\n",
    "    print(\"soc : \", soc)\n",
    "    res.append(mae)\n",
    "print(res)"
   ]
  },
  {
   "cell_type": "code",
   "execution_count": 19,
   "metadata": {
    "id": "6fHuUQ1EHtl2"
   },
   "outputs": [
    {
     "data": {
      "text/plain": [
       "2.5107868345773996"
      ]
     },
     "execution_count": 19,
     "metadata": {},
     "output_type": "execute_result"
    }
   ],
   "source": [
    "sum(res)/len(res)"
   ]
  },
  {
   "cell_type": "code",
   "execution_count": 49,
   "metadata": {
    "colab": {
     "base_uri": "https://localhost:8080/",
     "height": 384
    },
    "executionInfo": {
     "elapsed": 1067427,
     "status": "ok",
     "timestamp": 1624463161617,
     "user": {
      "displayName": "Zhumakhan Nazir",
      "photoUrl": "",
      "userId": "11929776087798199813"
     },
     "user_tz": -360
    },
    "id": "brgT-hXdwxx3",
    "outputId": "a56b10b8-c259-48ea-f29d-46addd488f5f"
   },
   "outputs": [
    {
     "name": "stdout",
     "output_type": "stream",
     "text": [
      "Best Hyperparameters::\n",
      "{'activation': 'relu', 'hidden_layer_sizes': (100,), 'learning_rate_init': 0.01}\n"
     ]
    },
    {
     "data": {
      "image/png": "[encoded data removed]",
      "text/plain": [
       "<Figure size 432x288 with 1 Axes>"
      ]
     },
     "metadata": {},
     "output_type": "display_data"
    },
    {
     "name": "stdout",
     "output_type": "stream",
     "text": [
      "mse :  7.23807808108366\n",
      "mae :  1.9399038456049715\n",
      "soc :  1503\n"
     ]
    }
   ],
   "source": [
    "# default learning_rate_init = 0.001\n",
    "# default hidden_layer_sizes = (100, )\n",
    "params_1 = {\n",
    " 'activation': ['logistic', 'tanh', 'relu'], \n",
    " 'hidden_layer_sizes': [(100,)], \n",
    " 'learning_rate_init': np.logspace(-4,-2, 10)\n",
    "}\n",
    "\n",
    "clf = MLPRegressor()\n",
    "grid = GridSearchCV(clf, param_grid = params_1, cv=5, scoring='neg_mean_absolute_error')\n",
    "grid.fit(X, y)\n",
    "\n",
    "print(\"Best Hyperparameters::\\n{}\".format(grid.best_params_))\n",
    "results = pd.DataFrame(data=grid.cv_results_)\n",
    "\n",
    "final_clf = grid.best_estimator_\n",
    "\n",
    "_,train_scores,test_scores=learning_curve(final_clf,X,y,cv=cv,train_sizes=train_sizes,scoring='neg_mean_absolute_error')\n",
    "\n",
    "plt.title(\"Learning curve\")\n",
    "plt.plot(len(X)*train_sizes,train_scores.mean(axis=1),'r-',label='train error')\n",
    "plt.plot(len(X)*train_sizes,test_scores.mean(axis=1),'g-',label='test error')\n",
    "plt.legend()\n",
    "plt.xlabel('train size')\n",
    "plt.ylabel('MSE')\n",
    "plt.show()\n",
    "\n",
    "mse = cross_val_score(final_clf,X,y,cv=10,scoring='neg_mean_squared_error')\n",
    "mae = cross_val_score(final_clf,X,y,cv=10,scoring='neg_mean_absolute_error')\n",
    "\n",
    "std = np.std(mse)\n",
    "mse = np.abs(np.mean(mse))\n",
    "mae = np.abs(np.mean(mae))\n",
    "soc=get_soc(final_clf, 5)\n",
    "\n",
    "arr_mse.append(mse)\n",
    "arr_mae.append(mae)\n",
    "arr_soc.append(soc)\n",
    "arr_hls.append(final_clf.get_params()['hidden_layer_sizes'])\n",
    "print(\"mse : \", mse)\n",
    "print(\"mae : \", mae)\n",
    "print(\"soc : \", soc)\n"
   ]
  },
  {
   "cell_type": "code",
   "execution_count": 21,
   "metadata": {
    "colab": {
     "background_save": true
    },
    "id": "xfMtcY79Nhln",
    "outputId": "f31d24fd-b909-442e-c4e7-7bf7cc749bb7"
   },
   "outputs": [
    {
     "name": "stdout",
     "output_type": "stream",
     "text": [
      "Best Hyperparameters::\n",
      "{'activation': 'relu', 'hidden_layer_sizes': (150, 150, 150, 150), 'learning_rate_init': 0.0002782559402207126}\n"
     ]
    },
    {
     "data": {
      "image/png": "[encoded data removed]",
      "text/plain": [
       "<Figure size 432x288 with 1 Axes>"
      ]
     },
     "metadata": {},
     "output_type": "display_data"
    },
    {
     "name": "stdout",
     "output_type": "stream",
     "text": [
      "mse :  7.380522236047403\n",
      "mae :  1.9809110766362892\n",
      "soc :  138603\n"
     ]
    }
   ],
   "source": [
    "# default learning_rate_init = 0.001\n",
    "# default hidden_layer_sizes = (100, )\n",
    "params_2 = {\n",
    " 'activation': ['logistic', 'tanh', 'relu'], \n",
    " 'hidden_layer_sizes': [(50, 50, 50, 50), (100, 100, 100, 100), (150, 150, 150, 150)], \n",
    " 'learning_rate_init': np.logspace(-4,-2, 10)\n",
    "}\n",
    "\n",
    "clf = MLPRegressor()\n",
    "grid = GridSearchCV(clf, param_grid = params_2, cv=5, scoring='neg_mean_absolute_error')\n",
    "grid.fit(X, y)\n",
    "\n",
    "print(\"Best Hyperparameters::\\n{}\".format(grid.best_params_))\n",
    "results = pd.DataFrame(data=grid.cv_results_)\n",
    "\n",
    "final_clf = grid.best_estimator_\n",
    "\n",
    "_,train_scores,test_scores=learning_curve(final_clf,X,y,cv=cv,train_sizes=train_sizes,scoring='neg_mean_absolute_error')\n",
    "\n",
    "plt.title(\"Learning curve\")\n",
    "plt.plot(len(X)*train_sizes,train_scores.mean(axis=1),'r-',label='train error')\n",
    "plt.plot(len(X)*train_sizes,test_scores.mean(axis=1),'g-',label='test error')\n",
    "plt.legend()\n",
    "plt.xlabel('train size')\n",
    "plt.ylabel('MSE')\n",
    "plt.show()\n",
    "\n",
    "mse = cross_val_score(final_clf,X,y,cv=10,scoring='neg_mean_squared_error')\n",
    "mae = cross_val_score(final_clf,X,y,cv=10,scoring='neg_mean_absolute_error')\n",
    "\n",
    "std = np.std(mse)\n",
    "mse = np.abs(np.mean(mse))\n",
    "mae = np.abs(np.mean(mae))\n",
    "\n",
    "soc=get_soc(final_clf, 5)\n",
    "\n",
    "arr_mse.append(mse)\n",
    "arr_mae.append(mae)\n",
    "arr_soc.append(soc)\n",
    "arr_hls.append(final_clf.get_params()['hidden_layer_sizes'])\n",
    "\n",
    "print(\"mse : \", mse)\n",
    "print(\"mae : \", mae)\n",
    "print(\"soc : \", soc)"
   ]
  },
  {
   "cell_type": "code",
   "execution_count": 22,
   "metadata": {
    "colab": {
     "base_uri": "https://localhost:8080/",
     "height": 384
    },
    "executionInfo": {
     "elapsed": 481297,
     "status": "ok",
     "timestamp": 1624477863404,
     "user": {
      "displayName": "Zhumakhan Nazir",
      "photoUrl": "",
      "userId": "11929776087798199813"
     },
     "user_tz": -360
    },
    "id": "AgZ0LoDymC85",
    "outputId": "6e40f3c7-b5f7-4f88-8abc-19e61c490f07"
   },
   "outputs": [
    {
     "name": "stdout",
     "output_type": "stream",
     "text": [
      "Best Hyperparameters::\n",
      "{'activation': 'relu', 'hidden_layer_sizes': (50, 50, 50, 50), 'learning_rate_init': 0.003593813663804626}\n"
     ]
    },
    {
     "data": {
      "image/png": "[encoded data removed]",
      "text/plain": [
       "<Figure size 432x288 with 1 Axes>"
      ]
     },
     "metadata": {},
     "output_type": "display_data"
    },
    {
     "name": "stdout",
     "output_type": "stream",
     "text": [
      "mse :  6.825970570666965\n",
      "mae :  1.9804632392803825\n",
      "soc :  16203\n"
     ]
    }
   ],
   "source": [
    "# default learning_rate_init = 0.001\n",
    "# default hidden_layer_sizes = (100, )\n",
    "params_3 = {\n",
    " 'activation': ['logistic', 'tanh', 'relu'], \n",
    " 'hidden_layer_sizes': [(25,25,25,25), (50,50,50,50), (75,75,75,75)], \n",
    " 'learning_rate_init': np.logspace(-4,-2, 10)\n",
    "}\n",
    "\n",
    "clf = MLPRegressor()\n",
    "grid = GridSearchCV(clf, param_grid = params_3, cv=5, scoring='neg_mean_absolute_error')\n",
    "grid.fit(X, y)\n",
    "\n",
    "print(\"Best Hyperparameters::\\n{}\".format(grid.best_params_))\n",
    "results = pd.DataFrame(data=grid.cv_results_)\n",
    "\n",
    "final_clf = grid.best_estimator_\n",
    "\n",
    "_,train_scores,test_scores=learning_curve(final_clf,X,y,cv=cv,train_sizes=train_sizes,scoring='neg_mean_absolute_error')\n",
    "\n",
    "plt.title(\"Learning curve\")\n",
    "plt.plot(len(X)*train_sizes,train_scores.mean(axis=1),'r-',label='train error')\n",
    "plt.plot(len(X)*train_sizes,test_scores.mean(axis=1),'g-',label='test error')\n",
    "plt.legend()\n",
    "plt.xlabel('train size')\n",
    "plt.ylabel('MSE')\n",
    "plt.show()\n",
    "\n",
    "mse = cross_val_score(final_clf,X,y,cv=10,scoring='neg_mean_squared_error')\n",
    "mae = cross_val_score(final_clf,X,y,cv=10,scoring='neg_mean_absolute_error')\n",
    "\n",
    "std = np.std(mse)\n",
    "mse = np.abs(np.mean(mse))\n",
    "mae = np.abs(np.mean(mae))\n",
    "\n",
    "soc=get_soc(final_clf, 5)\n",
    "\n",
    "arr_mse.append(mse)\n",
    "arr_mae.append(mae)\n",
    "arr_soc.append(soc)\n",
    "arr_hls.append(final_clf.get_params()['hidden_layer_sizes'])\n",
    "\n",
    "print(\"mse : \", mse)\n",
    "print(\"mae : \", mae)\n",
    "print(\"soc : \", soc)"
   ]
  },
  {
   "cell_type": "code",
   "execution_count": 23,
   "metadata": {
    "colab": {
     "base_uri": "https://localhost:8080/",
     "height": 384
    },
    "executionInfo": {
     "elapsed": 686671,
     "status": "ok",
     "timestamp": 1624480561262,
     "user": {
      "displayName": "Zhumakhan Nazir",
      "photoUrl": "",
      "userId": "11929776087798199813"
     },
     "user_tz": -360
    },
    "id": "OqLZkCNvuP4L",
    "outputId": "666804df-9179-40b5-ec6a-5042c177144c"
   },
   "outputs": [
    {
     "name": "stdout",
     "output_type": "stream",
     "text": [
      "Best Hyperparameters::\n",
      "{'activation': 'relu', 'hidden_layer_sizes': (75, 75, 75, 75), 'learning_rate_init': 0.000774263682681127}\n"
     ]
    },
    {
     "data": {
      "image/png": "[encoded data removed]",
      "text/plain": [
       "<Figure size 432x288 with 1 Axes>"
      ]
     },
     "metadata": {},
     "output_type": "display_data"
    },
    {
     "name": "stdout",
     "output_type": "stream",
     "text": [
      "mse :  6.626403034106997\n",
      "mae :  1.9236399518015062\n",
      "soc :  35553\n"
     ]
    }
   ],
   "source": [
    "# default learning_rate_init = 0.001\n",
    "# default hidden_layer_sizes = (100, )\n",
    "params_4 = {\n",
    " 'activation': ['logistic', 'tanh', 'relu'], \n",
    " 'hidden_layer_sizes': [(65,65,65,65), (85,85,85,85), (75,75,75,75)], \n",
    " 'learning_rate_init': np.logspace(-4,-2, 10)\n",
    "}\n",
    "\n",
    "clf = MLPRegressor()\n",
    "grid = GridSearchCV(clf, param_grid = params_4, cv=5, scoring='neg_mean_absolute_error')\n",
    "grid.fit(X, y)\n",
    "\n",
    "print(\"Best Hyperparameters::\\n{}\".format(grid.best_params_))\n",
    "results = pd.DataFrame(data=grid.cv_results_)\n",
    "\n",
    "final_clf = grid.best_estimator_\n",
    "\n",
    "_,train_scores,test_scores=learning_curve(final_clf,X,y,cv=cv,train_sizes=train_sizes,scoring='neg_mean_absolute_error')\n",
    "\n",
    "plt.title(\"Learning curve\")\n",
    "plt.plot(len(X)*train_sizes,train_scores.mean(axis=1),'r-',label='train error')\n",
    "plt.plot(len(X)*train_sizes,test_scores.mean(axis=1),'g-',label='test error')\n",
    "plt.legend()\n",
    "plt.xlabel('train size')\n",
    "plt.ylabel('MSE')\n",
    "plt.show()\n",
    "\n",
    "mse = cross_val_score(final_clf,X,y,cv=10,scoring='neg_mean_squared_error')\n",
    "mae = cross_val_score(final_clf,X,y,cv=10,scoring='neg_mean_absolute_error')\n",
    "\n",
    "std = np.std(mse)\n",
    "mse = np.abs(np.mean(mse))\n",
    "mae = np.abs(np.mean(mae))\n",
    "\n",
    "soc=get_soc(final_clf, 5)\n",
    "\n",
    "arr_mse.append(mse)\n",
    "arr_mae.append(mae)\n",
    "arr_soc.append(soc)\n",
    "arr_hls.append(final_clf.get_params()['hidden_layer_sizes'])\n",
    "\n",
    "print(\"mse : \", mse)\n",
    "print(\"mae : \", mae)\n",
    "print(\"soc : \", soc)"
   ]
  },
  {
   "cell_type": "code",
   "execution_count": 24,
   "metadata": {
    "colab": {
     "base_uri": "https://localhost:8080/",
     "height": 384
    },
    "executionInfo": {
     "elapsed": 970461,
     "status": "ok",
     "timestamp": 1624500804971,
     "user": {
      "displayName": "Zhumakhan Nazir",
      "photoUrl": "",
      "userId": "11929776087798199813"
     },
     "user_tz": -360
    },
    "id": "KbFcvygnZQ-O",
    "outputId": "773f3609-5db9-4ca6-8d4e-0a0732758cc0"
   },
   "outputs": [
    {
     "name": "stdout",
     "output_type": "stream",
     "text": [
      "Best Hyperparameters::\n",
      "{'activation': 'relu', 'hidden_layer_sizes': (85, 85, 85, 85), 'learning_rate_init': 0.000774263682681127}\n"
     ]
    },
    {
     "data": {
      "image/png": "[encoded data removed]",
      "text/plain": [
       "<Figure size 432x288 with 1 Axes>"
      ]
     },
     "metadata": {},
     "output_type": "display_data"
    },
    {
     "name": "stdout",
     "output_type": "stream",
     "text": [
      "mse :  6.868666316285115\n",
      "mae :  1.8904334106222649\n",
      "soc :  45393\n"
     ]
    }
   ],
   "source": [
    "# default learning_rate_init = 0.001\n",
    "# default hidden_layer_sizes = (100, )\n",
    "params_5 = {\n",
    " 'activation': ['logistic', 'tanh', 'relu'], \n",
    " 'hidden_layer_sizes': [(80,80,80,80), (85,85,85,85), (70,70,70,70), (90,90,90,90)], \n",
    " 'learning_rate_init': np.logspace(-4,-2, 10)\n",
    "}\n",
    "\n",
    "clf = MLPRegressor()\n",
    "grid = GridSearchCV(clf, param_grid = params_5, cv=5, scoring='neg_mean_absolute_error')\n",
    "grid.fit(X, y)\n",
    "\n",
    "print(\"Best Hyperparameters::\\n{}\".format(grid.best_params_))\n",
    "results = pd.DataFrame(data=grid.cv_results_)\n",
    "\n",
    "final_clf = grid.best_estimator_\n",
    "\n",
    "_,train_scores,test_scores=learning_curve(final_clf,X,y,cv=cv,train_sizes=train_sizes,scoring='neg_mean_absolute_error')\n",
    "\n",
    "plt.title(\"Learning curve\")\n",
    "plt.plot(len(X)*train_sizes,train_scores.mean(axis=1),'r-',label='train error')\n",
    "plt.plot(len(X)*train_sizes,test_scores.mean(axis=1),'g-',label='test error')\n",
    "plt.legend()\n",
    "plt.xlabel('train size')\n",
    "plt.ylabel('MSE')\n",
    "plt.show()\n",
    "\n",
    "mse = cross_val_score(final_clf,X,y,cv=10,scoring='neg_mean_squared_error')\n",
    "mae = cross_val_score(final_clf,X,y,cv=10,scoring='neg_mean_absolute_error')\n",
    "\n",
    "std = np.std(mse)\n",
    "mse = np.abs(np.mean(mse))\n",
    "mae = np.abs(np.mean(mae))\n",
    "\n",
    "soc=get_soc(final_clf, 5)\n",
    "\n",
    "arr_mse.append(mse)\n",
    "arr_mae.append(mae)\n",
    "arr_soc.append(soc)\n",
    "arr_hls.append(final_clf.get_params()['hidden_layer_sizes'])\n",
    "\n",
    "print(\"mse : \", mse)\n",
    "print(\"mae : \", mae)\n",
    "print(\"soc : \", soc)"
   ]
  },
  {
   "cell_type": "code",
   "execution_count": 44,
   "metadata": {
    "colab": {
     "base_uri": "https://localhost:8080/",
     "height": 384
    },
    "id": "QjaXqV46wFt6",
    "outputId": "611c9b4a-e666-4098-b6f6-467efe242f7a"
   },
   "outputs": [
    {
     "name": "stdout",
     "output_type": "stream",
     "text": [
      "Best Hyperparameters::\n",
      "{'activation': 'relu', 'hidden_layer_sizes': (73, 73, 73, 73), 'learning_rate_init': 0.000774263682681127}\n"
     ]
    },
    {
     "data": {
      "image/png": "[encoded data removed]",
      "text/plain": [
       "<Figure size 432x288 with 1 Axes>"
      ]
     },
     "metadata": {},
     "output_type": "display_data"
    },
    {
     "name": "stdout",
     "output_type": "stream",
     "text": [
      "mse :  6.950667266911242\n",
      "mae :  1.9173802042231305\n",
      "soc :  33729\n"
     ]
    }
   ],
   "source": [
    "# default learning_rate_init = 0.001\n",
    "# default hidden_layer_sizes = (100, )\n",
    "params_6 = {\n",
    " 'activation': ['logistic', 'tanh', 'relu'], \n",
    " 'hidden_layer_sizes': [(73,73,73,73), (77,77,77,7), (70,70,70,70)], \n",
    " 'learning_rate_init': np.logspace(-4,-2, 10)\n",
    "}\n",
    "\n",
    "clf = MLPRegressor()\n",
    "grid = GridSearchCV(clf, param_grid = params_6, cv=5, scoring='neg_mean_absolute_error')\n",
    "grid.fit(X, y)\n",
    "\n",
    "print(\"Best Hyperparameters::\\n{}\".format(grid.best_params_))\n",
    "results = pd.DataFrame(data=grid.cv_results_)\n",
    "\n",
    "final_clf = grid.best_estimator_\n",
    "\n",
    "_,train_scores,test_scores=learning_curve(final_clf,X,y,cv=cv,train_sizes=train_sizes,scoring='neg_mean_absolute_error')\n",
    "\n",
    "plt.title(\"Learning curve\")\n",
    "plt.plot(len(X)*train_sizes,train_scores.mean(axis=1),'r-',label='train error')\n",
    "plt.plot(len(X)*train_sizes,test_scores.mean(axis=1),'g-',label='test error')\n",
    "plt.legend()\n",
    "plt.xlabel('train size')\n",
    "plt.ylabel('MSE')\n",
    "plt.show()\n",
    "\n",
    "mse = cross_val_score(final_clf,X,y,cv=10,scoring='neg_mean_squared_error')\n",
    "mae = cross_val_score(final_clf,X,y,cv=10,scoring='neg_mean_absolute_error')\n",
    "\n",
    "std = np.std(mse)\n",
    "mse = np.abs(np.mean(mse))\n",
    "mae = np.abs(np.mean(mae))\n",
    "\n",
    "soc=get_soc(final_clf, 5)\n",
    "\n",
    "arr_mse.append(mse)\n",
    "arr_mae.append(mae)\n",
    "arr_soc.append(soc)\n",
    "arr_hls.append(final_clf.get_params()['hidden_layer_sizes'])\n",
    "\n",
    "print(\"mse : \", mse)\n",
    "print(\"mae : \", mae)\n",
    "print(\"soc : \", soc)"
   ]
  },
  {
   "cell_type": "code",
   "execution_count": 26,
   "metadata": {
    "colab": {
     "background_save": true
    },
    "id": "o9rmsgP565oP"
   },
   "outputs": [
    {
     "name": "stdout",
     "output_type": "stream",
     "text": [
      "Best Hyperparameters::\n",
      "{'activation': 'relu', 'hidden_layer_sizes': (100, 100, 100), 'learning_rate_init': 0.000774263682681127}\n"
     ]
    },
    {
     "data": {
      "image/png": "[encoded data removed]",
      "text/plain": [
       "<Figure size 432x288 with 1 Axes>"
      ]
     },
     "metadata": {},
     "output_type": "display_data"
    },
    {
     "name": "stdout",
     "output_type": "stream",
     "text": [
      "mse :  6.839354334969771\n",
      "mae :  1.9539998349206773\n",
      "soc :  42103\n"
     ]
    }
   ],
   "source": [
    "# default learning_rate_init = 0.001\n",
    "# default hidden_layer_sizes = (100, )\n",
    "params = {\n",
    " 'activation': ['logistic', 'tanh', 'relu'], \n",
    " 'hidden_layer_sizes': [(100,100,100), (50,50,50,50), (50,50,50)], \n",
    " 'learning_rate_init': np.logspace(-4,-2, 10)\n",
    "}\n",
    "\n",
    "clf = MLPRegressor()\n",
    "grid = GridSearchCV(clf, param_grid = params, cv=5, scoring='neg_mean_absolute_error')\n",
    "grid.fit(X, y)\n",
    "\n",
    "print(\"Best Hyperparameters::\\n{}\".format(grid.best_params_))\n",
    "results = pd.DataFrame(data=grid.cv_results_)\n",
    "\n",
    "final_clf = grid.best_estimator_\n",
    "\n",
    "_,train_scores,test_scores=learning_curve(final_clf,X,y,cv=cv,train_sizes=train_sizes,scoring='neg_mean_absolute_error')\n",
    "\n",
    "plt.title(\"Learning curve\")\n",
    "plt.plot(len(X)*train_sizes,train_scores.mean(axis=1),'r-',label='train error')\n",
    "plt.plot(len(X)*train_sizes,test_scores.mean(axis=1),'g-',label='test error')\n",
    "plt.legend()\n",
    "plt.xlabel('train size')\n",
    "plt.ylabel('MSE')\n",
    "plt.show()\n",
    "\n",
    "mse = cross_val_score(final_clf,X,y,cv=10,scoring='neg_mean_squared_error')\n",
    "mae = cross_val_score(final_clf,X,y,cv=10,scoring='neg_mean_absolute_error')\n",
    "\n",
    "std = np.std(mse)\n",
    "mse = np.abs(np.mean(mse))\n",
    "mae = np.abs(np.mean(mae))\n",
    "\n",
    "soc=get_soc(final_clf, 5)\n",
    "\n",
    "arr_mse.append(mse)\n",
    "arr_mae.append(mae)\n",
    "arr_soc.append(soc)\n",
    "arr_hls.append(final_clf.get_params()['hidden_layer_sizes'])\n",
    "\n",
    "print(\"mse : \", mse)\n",
    "print(\"mae : \", mae)\n",
    "print(\"soc : \", soc)"
   ]
  },
  {
   "cell_type": "code",
   "execution_count": 27,
   "metadata": {
    "colab": {
     "base_uri": "https://localhost:8080/",
     "height": 384
    },
    "id": "Vm1Nhmw87aIz",
    "outputId": "3ce55447-4660-4ce7-ed48-1d3b7becbf41"
   },
   "outputs": [
    {
     "name": "stdout",
     "output_type": "stream",
     "text": [
      "Best Hyperparameters::\n",
      "{'activation': 'relu', 'hidden_layer_sizes': (100, 100), 'learning_rate_init': 0.003593813663804626}\n"
     ]
    },
    {
     "data": {
      "image/png": "[encoded data removed]",
      "text/plain": [
       "<Figure size 432x288 with 1 Axes>"
      ]
     },
     "metadata": {},
     "output_type": "display_data"
    },
    {
     "name": "stdout",
     "output_type": "stream",
     "text": [
      "mse :  7.036716480406821\n",
      "mae :  1.9545468749213597\n",
      "soc :  21803\n"
     ]
    }
   ],
   "source": [
    "# default learning_rate_init = 0.001\n",
    "# default hidden_layer_sizes = (100, )\n",
    "params = {\n",
    " 'activation': ['logistic', 'tanh', 'relu'], \n",
    " 'hidden_layer_sizes': [(100,100),(50,50,50)], \n",
    " 'learning_rate_init': np.logspace(-4,-2, 10)\n",
    "}\n",
    "\n",
    "clf = MLPRegressor()\n",
    "grid = GridSearchCV(clf, param_grid = params, cv=5, scoring='neg_mean_absolute_error')\n",
    "grid.fit(X, y)\n",
    "\n",
    "print(\"Best Hyperparameters::\\n{}\".format(grid.best_params_))\n",
    "results = pd.DataFrame(data=grid.cv_results_)\n",
    "\n",
    "final_clf = grid.best_estimator_\n",
    "\n",
    "_,train_scores,test_scores=learning_curve(final_clf,X,y,cv=cv,train_sizes=train_sizes,scoring='neg_mean_absolute_error')\n",
    "\n",
    "plt.title(\"Learning curve\")\n",
    "plt.plot(len(X)*train_sizes,train_scores.mean(axis=1),'r-',label='train error')\n",
    "plt.plot(len(X)*train_sizes,test_scores.mean(axis=1),'g-',label='test error')\n",
    "plt.legend()\n",
    "plt.xlabel('train size')\n",
    "plt.ylabel('MSE')\n",
    "plt.show()\n",
    "\n",
    "mse = cross_val_score(final_clf,X,y,cv=10,scoring='neg_mean_squared_error')\n",
    "mae = cross_val_score(final_clf,X,y,cv=10,scoring='neg_mean_absolute_error')\n",
    "\n",
    "std = np.std(mse)\n",
    "mse = np.abs(np.mean(mse))\n",
    "mae = np.abs(np.mean(mae))\n",
    "\n",
    "soc=get_soc(final_clf, 5)\n",
    "\n",
    "arr_mse.append(mse)\n",
    "arr_mae.append(mae)\n",
    "arr_soc.append(soc)\n",
    "arr_hls.append(final_clf.get_params()['hidden_layer_sizes'])\n",
    "\n",
    "print(\"mse : \", mse)\n",
    "print(\"mae : \", mae)\n",
    "print(\"soc : \", soc)"
   ]
  },
  {
   "cell_type": "code",
   "execution_count": 28,
   "metadata": {
    "id": "M5IBCyPDBI4H",
    "outputId": "39e7dc72-e11b-4d46-ee6d-f929a2dc48ad"
   },
   "outputs": [
    {
     "name": "stdout",
     "output_type": "stream",
     "text": [
      "Best Hyperparameters::\n",
      "{'activation': 'relu', 'hidden_layer_sizes': (10, 10, 10), 'learning_rate_init': 0.01}\n"
     ]
    },
    {
     "data": {
      "image/png": "[encoded data removed]",
      "text/plain": [
       "<Figure size 432x288 with 1 Axes>"
      ]
     },
     "metadata": {},
     "output_type": "display_data"
    },
    {
     "name": "stdout",
     "output_type": "stream",
     "text": [
      "mse :  7.307908694792377\n",
      "mae :  1.9965984481112122\n",
      "soc :  613\n"
     ]
    }
   ],
   "source": [
    "# default learning_rate_init = 0.001\n",
    "# default hidden_layer_sizes = (100, )\n",
    "params = {\n",
    " 'activation': ['logistic', 'tanh', 'relu'], \n",
    " 'hidden_layer_sizes': [(50,50),(100,), (10,10,10)], \n",
    " 'learning_rate_init': np.logspace(-4,-2, 10)\n",
    "}\n",
    "\n",
    "clf = MLPRegressor()\n",
    "grid = GridSearchCV(clf, param_grid = params, cv=5, scoring='neg_mean_absolute_error')\n",
    "grid.fit(X, y)\n",
    "\n",
    "print(\"Best Hyperparameters::\\n{}\".format(grid.best_params_))\n",
    "results = pd.DataFrame(data=grid.cv_results_)\n",
    "\n",
    "final_clf = grid.best_estimator_\n",
    "\n",
    "_,train_scores,test_scores=learning_curve(final_clf,X,y,cv=cv,train_sizes=train_sizes,scoring='neg_mean_absolute_error')\n",
    "\n",
    "plt.title(\"Learning curve\")\n",
    "plt.plot(len(X)*train_sizes,train_scores.mean(axis=1),'r-',label='train error')\n",
    "plt.plot(len(X)*train_sizes,test_scores.mean(axis=1),'g-',label='test error')\n",
    "plt.legend()\n",
    "plt.xlabel('train size')\n",
    "plt.ylabel('MSE')\n",
    "plt.show()\n",
    "\n",
    "mse = cross_val_score(final_clf,X,y,cv=10,scoring='neg_mean_squared_error')\n",
    "mae = cross_val_score(final_clf,X,y,cv=10,scoring='neg_mean_absolute_error')\n",
    "\n",
    "std = np.std(mse)\n",
    "mse = np.abs(np.mean(mse))\n",
    "mae = np.abs(np.mean(mae))\n",
    "\n",
    "soc=get_soc(final_clf, 5)\n",
    "\n",
    "arr_mse.append(mse)\n",
    "arr_mae.append(mae)\n",
    "arr_soc.append(soc)\n",
    "arr_hls.append(final_clf.get_params()['hidden_layer_sizes'])\n",
    "\n",
    "print(\"mse : \", mse)\n",
    "print(\"mae : \", mae)\n",
    "print(\"soc : \", soc)"
   ]
  },
  {
   "cell_type": "code",
   "execution_count": 29,
   "metadata": {
    "id": "HUZvYV3uBI4H",
    "outputId": "f0b897f2-b879-4e79-fa61-21d3e0bc8f97"
   },
   "outputs": [
    {
     "name": "stdout",
     "output_type": "stream",
     "text": [
      "Best Hyperparameters::\n",
      "{'activation': 'relu', 'hidden_layer_sizes': (50,), 'learning_rate_init': 0.01}\n"
     ]
    },
    {
     "data": {
      "image/png": "[encoded data removed]",
      "text/plain": [
       "<Figure size 432x288 with 1 Axes>"
      ]
     },
     "metadata": {},
     "output_type": "display_data"
    },
    {
     "name": "stdout",
     "output_type": "stream",
     "text": [
      "mse :  7.80853077721877\n",
      "mae :  2.0324618286034553\n",
      "soc :  753\n"
     ]
    }
   ],
   "source": [
    "# default learning_rate_init = 0.001\n",
    "# default hidden_layer_sizes = (100, )\n",
    "params = {\n",
    " 'activation': ['logistic', 'tanh', 'relu'], \n",
    " 'hidden_layer_sizes': [(50,),(10,), (10,10)], \n",
    " 'learning_rate_init': np.logspace(-4,-2, 10)\n",
    "}\n",
    "\n",
    "clf = MLPRegressor()\n",
    "grid = GridSearchCV(clf, param_grid = params, cv=5, scoring='neg_mean_absolute_error')\n",
    "grid.fit(X, y)\n",
    "\n",
    "print(\"Best Hyperparameters::\\n{}\".format(grid.best_params_))\n",
    "results = pd.DataFrame(data=grid.cv_results_)\n",
    "\n",
    "final_clf = grid.best_estimator_\n",
    "\n",
    "_,train_scores,test_scores=learning_curve(final_clf,X,y,cv=cv,train_sizes=train_sizes,scoring='neg_mean_absolute_error')\n",
    "\n",
    "plt.title(\"Learning curve\")\n",
    "plt.plot(len(X)*train_sizes,train_scores.mean(axis=1),'r-',label='train error')\n",
    "plt.plot(len(X)*train_sizes,test_scores.mean(axis=1),'g-',label='test error')\n",
    "plt.legend()\n",
    "plt.xlabel('train size')\n",
    "plt.ylabel('MSE')\n",
    "plt.show()\n",
    "\n",
    "mse = cross_val_score(final_clf,X,y,cv=10,scoring='neg_mean_squared_error')\n",
    "mae = cross_val_score(final_clf,X,y,cv=10,scoring='neg_mean_absolute_error')\n",
    "\n",
    "std = np.std(mse)\n",
    "mse = np.abs(np.mean(mse))\n",
    "mae = np.abs(np.mean(mae))\n",
    "\n",
    "soc=get_soc(final_clf, 5)\n",
    "\n",
    "arr_mse.append(mse)\n",
    "arr_mae.append(mae)\n",
    "arr_soc.append(soc)\n",
    "arr_hls.append(final_clf.get_params()['hidden_layer_sizes'])\n",
    "\n",
    "print(\"mse : \", mse)\n",
    "print(\"mae : \", mae)\n",
    "print(\"soc : \", soc)"
   ]
  },
  {
   "cell_type": "code",
   "execution_count": 30,
   "metadata": {
    "id": "dMSriS3tBI4I",
    "outputId": "8fe8a8f0-1fde-4bd0-80ea-e9b9c3ffeba4"
   },
   "outputs": [
    {
     "name": "stdout",
     "output_type": "stream",
     "text": [
      "Best Hyperparameters::\n",
      "{'activation': 'relu', 'hidden_layer_sizes': (10, 10), 'learning_rate_init': 0.01}\n"
     ]
    },
    {
     "data": {
      "image/png": "[encoded data removed]",
      "text/plain": [
       "<Figure size 432x288 with 1 Axes>"
      ]
     },
     "metadata": {},
     "output_type": "display_data"
    },
    {
     "name": "stdout",
     "output_type": "stream",
     "text": [
      "mse :  7.6233027656817285\n",
      "mae :  2.083152221232987\n",
      "soc :  383\n"
     ]
    }
   ],
   "source": [
    "# default learning_rate_init = 0.001\n",
    "# default hidden_layer_sizes = (100, )\n",
    "params = {\n",
    " 'activation': ['logistic', 'tanh', 'relu'], \n",
    " 'hidden_layer_sizes': [(20,),(10,), (10,10)], \n",
    " 'learning_rate_init': np.logspace(-4,-2, 10)\n",
    "}\n",
    "\n",
    "clf = MLPRegressor()\n",
    "grid = GridSearchCV(clf, param_grid = params, cv=5, scoring='neg_mean_absolute_error')\n",
    "grid.fit(X, y)\n",
    "\n",
    "print(\"Best Hyperparameters::\\n{}\".format(grid.best_params_))\n",
    "results = pd.DataFrame(data=grid.cv_results_)\n",
    "\n",
    "final_clf = grid.best_estimator_\n",
    "\n",
    "_,train_scores,test_scores=learning_curve(final_clf,X,y,cv=cv,train_sizes=train_sizes,scoring='neg_mean_absolute_error')\n",
    "\n",
    "plt.title(\"Learning curve\")\n",
    "plt.plot(len(X)*train_sizes,train_scores.mean(axis=1),'r-',label='train error')\n",
    "plt.plot(len(X)*train_sizes,test_scores.mean(axis=1),'g-',label='test error')\n",
    "plt.legend()\n",
    "plt.xlabel('train size')\n",
    "plt.ylabel('MSE')\n",
    "plt.show()\n",
    "\n",
    "mse = cross_val_score(final_clf,X,y,cv=10,scoring='neg_mean_squared_error')\n",
    "mae = cross_val_score(final_clf,X,y,cv=10,scoring='neg_mean_absolute_error')\n",
    "\n",
    "std = np.std(mse)\n",
    "mse = np.abs(np.mean(mse))\n",
    "mae = np.abs(np.mean(mae))\n",
    "\n",
    "soc=get_soc(final_clf, 5)\n",
    "\n",
    "arr_mse.append(mse)\n",
    "arr_mae.append(mae)\n",
    "arr_soc.append(soc)\n",
    "arr_hls.append(final_clf.get_params()['hidden_layer_sizes'])\n",
    "\n",
    "print(\"mse : \", mse)\n",
    "print(\"mae : \", mae)\n",
    "print(\"soc : \", soc)"
   ]
  },
  {
   "cell_type": "code",
   "execution_count": 31,
   "metadata": {
    "id": "ek29UkLFBI4I",
    "outputId": "628c12f8-01a4-44fb-e764-b20b6702a02b"
   },
   "outputs": [
    {
     "name": "stdout",
     "output_type": "stream",
     "text": [
      "Best Hyperparameters::\n",
      "{'activation': 'relu', 'hidden_layer_sizes': (20, 20), 'learning_rate_init': 0.01}\n"
     ]
    },
    {
     "data": {
      "image/png": "[encoded data removed]",
      "text/plain": [
       "<Figure size 432x288 with 1 Axes>"
      ]
     },
     "metadata": {},
     "output_type": "display_data"
    },
    {
     "name": "stdout",
     "output_type": "stream",
     "text": [
      "mse :  6.9605641737749036\n",
      "mae :  1.938347668052383\n",
      "soc :  1163\n"
     ]
    }
   ],
   "source": [
    "# default learning_rate_init = 0.001\n",
    "# default hidden_layer_sizes = (100, )\n",
    "params = {\n",
    " 'activation': ['logistic', 'tanh', 'relu'], \n",
    " 'hidden_layer_sizes': [(20,20),(10,),(25,)], \n",
    " 'learning_rate_init': np.logspace(-4,-2, 10)\n",
    "}\n",
    "\n",
    "clf = MLPRegressor()\n",
    "grid = GridSearchCV(clf, param_grid = params, cv=5, scoring='neg_mean_absolute_error')\n",
    "grid.fit(X, y)\n",
    "\n",
    "print(\"Best Hyperparameters::\\n{}\".format(grid.best_params_))\n",
    "results = pd.DataFrame(data=grid.cv_results_)\n",
    "\n",
    "final_clf = grid.best_estimator_\n",
    "\n",
    "_,train_scores,test_scores=learning_curve(final_clf,X,y,cv=cv,train_sizes=train_sizes,scoring='neg_mean_absolute_error')\n",
    "\n",
    "plt.title(\"Learning curve\")\n",
    "plt.plot(len(X)*train_sizes,train_scores.mean(axis=1),'r-',label='train error')\n",
    "plt.plot(len(X)*train_sizes,test_scores.mean(axis=1),'g-',label='test error')\n",
    "plt.legend()\n",
    "plt.xlabel('train size')\n",
    "plt.ylabel('MSE')\n",
    "plt.show()\n",
    "\n",
    "mse = cross_val_score(final_clf,X,y,cv=10,scoring='neg_mean_squared_error')\n",
    "mae = cross_val_score(final_clf,X,y,cv=10,scoring='neg_mean_absolute_error')\n",
    "\n",
    "std = np.std(mse)\n",
    "mse = np.abs(np.mean(mse))\n",
    "mae = np.abs(np.mean(mae))\n",
    "\n",
    "soc=get_soc(final_clf, 5)\n",
    "\n",
    "arr_mse.append(mse)\n",
    "arr_mae.append(mae)\n",
    "arr_soc.append(soc)\n",
    "arr_hls.append(final_clf.get_params()['hidden_layer_sizes'])\n",
    "\n",
    "print(\"mse : \", mse)\n",
    "print(\"mae : \", mae)\n",
    "print(\"soc : \", soc)"
   ]
  },
  {
   "cell_type": "code",
   "execution_count": 32,
   "metadata": {
    "id": "2j1HREDyBI4J",
    "outputId": "a95ab356-543b-4ad4-dfa2-7ffd8a4ec240"
   },
   "outputs": [
    {
     "name": "stdout",
     "output_type": "stream",
     "text": [
      "Best Hyperparameters::\n",
      "{'activation': 'relu', 'hidden_layer_sizes': (15, 15), 'learning_rate_init': 0.005994842503189409}\n"
     ]
    },
    {
     "data": {
      "image/png": "[encoded data removed]",
      "text/plain": [
       "<Figure size 432x288 with 1 Axes>"
      ]
     },
     "metadata": {},
     "output_type": "display_data"
    },
    {
     "name": "stdout",
     "output_type": "stream",
     "text": [
      "mse :  7.908959219823657\n",
      "mae :  2.012236409042604\n",
      "soc :  723\n"
     ]
    }
   ],
   "source": [
    "# default learning_rate_init = 0.001\n",
    "# default hidden_layer_sizes = (100, )\n",
    "params = {\n",
    " 'activation': ['logistic', 'tanh', 'relu'], \n",
    " 'hidden_layer_sizes': [(15,15),(25,)], \n",
    " 'learning_rate_init': np.logspace(-4,-2, 10)\n",
    "}\n",
    "\n",
    "clf = MLPRegressor()\n",
    "grid = GridSearchCV(clf, param_grid = params, cv=5, scoring='neg_mean_absolute_error')\n",
    "grid.fit(X, y)\n",
    "\n",
    "print(\"Best Hyperparameters::\\n{}\".format(grid.best_params_))\n",
    "results = pd.DataFrame(data=grid.cv_results_)\n",
    "\n",
    "final_clf = grid.best_estimator_\n",
    "\n",
    "_,train_scores,test_scores=learning_curve(final_clf,X,y,cv=cv,train_sizes=train_sizes,scoring='neg_mean_absolute_error')\n",
    "\n",
    "plt.title(\"Learning curve\")\n",
    "plt.plot(len(X)*train_sizes,train_scores.mean(axis=1),'r-',label='train error')\n",
    "plt.plot(len(X)*train_sizes,test_scores.mean(axis=1),'g-',label='test error')\n",
    "plt.legend()\n",
    "plt.xlabel('train size')\n",
    "plt.ylabel('MSE')\n",
    "plt.show()\n",
    "\n",
    "mse = cross_val_score(final_clf,X,y,cv=10,scoring='neg_mean_squared_error')\n",
    "mae = cross_val_score(final_clf,X,y,cv=10,scoring='neg_mean_absolute_error')\n",
    "\n",
    "std = np.std(mse)\n",
    "mse = np.abs(np.mean(mse))\n",
    "mae = np.abs(np.mean(mae))\n",
    "\n",
    "soc=get_soc(final_clf, 5)\n",
    "\n",
    "arr_mse.append(mse)\n",
    "arr_mae.append(mae)\n",
    "arr_soc.append(soc)\n",
    "arr_hls.append(final_clf.get_params()['hidden_layer_sizes'])\n",
    "\n",
    "print(\"mse : \", mse)\n",
    "print(\"mae : \", mae)\n",
    "print(\"soc : \", soc)"
   ]
  },
  {
   "cell_type": "code",
   "execution_count": 33,
   "metadata": {
    "id": "0FwfQv_kBI4J",
    "outputId": "3e8baa6a-04f5-4fbf-f802-4d284314d6bb"
   },
   "outputs": [
    {
     "name": "stdout",
     "output_type": "stream",
     "text": [
      "Best Hyperparameters::\n",
      "{'activation': 'relu', 'hidden_layer_sizes': (12, 12), 'learning_rate_init': 0.01}\n"
     ]
    },
    {
     "data": {
      "image/png": "[encoded data removed]",
      "text/plain": [
       "<Figure size 432x288 with 1 Axes>"
      ]
     },
     "metadata": {},
     "output_type": "display_data"
    },
    {
     "name": "stdout",
     "output_type": "stream",
     "text": [
      "mse :  7.767121685474898\n",
      "mae :  2.0924571766085096\n",
      "soc :  507\n"
     ]
    }
   ],
   "source": [
    "# default learning_rate_init = 0.001\n",
    "# default hidden_layer_sizes = (100, )\n",
    "params = {\n",
    " 'activation': ['logistic', 'tanh', 'relu'], \n",
    " 'hidden_layer_sizes': [(12,12),(20,),(5,5,5)], \n",
    " 'learning_rate_init': np.logspace(-4,-2, 10)\n",
    "}\n",
    "\n",
    "clf = MLPRegressor()\n",
    "grid = GridSearchCV(clf, param_grid = params, cv=5, scoring='neg_mean_absolute_error')\n",
    "grid.fit(X, y)\n",
    "\n",
    "print(\"Best Hyperparameters::\\n{}\".format(grid.best_params_))\n",
    "results = pd.DataFrame(data=grid.cv_results_)\n",
    "\n",
    "final_clf = grid.best_estimator_\n",
    "\n",
    "_,train_scores,test_scores=learning_curve(final_clf,X,y,cv=cv,train_sizes=train_sizes,scoring='neg_mean_absolute_error')\n",
    "\n",
    "plt.title(\"Learning curve\")\n",
    "plt.plot(len(X)*train_sizes,train_scores.mean(axis=1),'r-',label='train error')\n",
    "plt.plot(len(X)*train_sizes,test_scores.mean(axis=1),'g-',label='test error')\n",
    "plt.legend()\n",
    "plt.xlabel('train size')\n",
    "plt.ylabel('MSE')\n",
    "plt.show()\n",
    "\n",
    "mse = cross_val_score(final_clf,X,y,cv=10,scoring='neg_mean_squared_error')\n",
    "mae = cross_val_score(final_clf,X,y,cv=10,scoring='neg_mean_absolute_error')\n",
    "\n",
    "std = np.std(mse)\n",
    "mse = np.abs(np.mean(mse))\n",
    "mae = np.abs(np.mean(mae))\n",
    "\n",
    "soc=get_soc(final_clf, 5)\n",
    "\n",
    "arr_mse.append(mse)\n",
    "arr_mae.append(mae)\n",
    "arr_soc.append(soc)\n",
    "arr_hls.append(final_clf.get_params()['hidden_layer_sizes'])\n",
    "\n",
    "print(\"mse : \", mse)\n",
    "print(\"mae : \", mae)\n",
    "print(\"soc : \", soc)"
   ]
  },
  {
   "cell_type": "code",
   "execution_count": 36,
   "metadata": {
    "id": "FmlCCxuYBI4K",
    "outputId": "6d8a767d-9fb0-4bf9-a361-8feb580715af"
   },
   "outputs": [
    {
     "name": "stdout",
     "output_type": "stream",
     "text": [
      "Best Hyperparameters::\n",
      "{'activation': 'relu', 'hidden_layer_sizes': (11, 11), 'learning_rate_init': 0.005994842503189409}\n"
     ]
    },
    {
     "data": {
      "image/png": "[encoded data removed]",
      "text/plain": [
       "<Figure size 432x288 with 1 Axes>"
      ]
     },
     "metadata": {},
     "output_type": "display_data"
    },
    {
     "name": "stdout",
     "output_type": "stream",
     "text": [
      "(11, 11)\n",
      "mse :  8.714544316436323\n",
      "mae :  2.0688444684247886\n",
      "soc :  443\n"
     ]
    }
   ],
   "source": [
    "# default learning_rate_init = 0.001\n",
    "# default hidden_layer_sizes = (100, )\n",
    "params = {\n",
    " 'activation': ['logistic', 'tanh', 'relu'], \n",
    " 'hidden_layer_sizes': [(11,11),(21,),(22),(7,7,7)], \n",
    " 'learning_rate_init': np.logspace(-4,-2, 10)\n",
    "}\n",
    "\n",
    "clf = MLPRegressor()\n",
    "grid = GridSearchCV(clf, param_grid = params, cv=5, scoring='neg_mean_absolute_error')\n",
    "grid.fit(X, y)\n",
    "\n",
    "print(\"Best Hyperparameters::\\n{}\".format(grid.best_params_))\n",
    "results = pd.DataFrame(data=grid.cv_results_)\n",
    "\n",
    "final_clf = grid.best_estimator_\n",
    "\n",
    "_,train_scores,test_scores=learning_curve(final_clf,X,y,cv=cv,train_sizes=train_sizes,scoring='neg_mean_absolute_error')\n",
    "\n",
    "plt.title(\"Learning curve\")\n",
    "plt.plot(len(X)*train_sizes,train_scores.mean(axis=1),'r-',label='train error')\n",
    "plt.plot(len(X)*train_sizes,test_scores.mean(axis=1),'g-',label='test error')\n",
    "plt.legend()\n",
    "plt.xlabel('train size')\n",
    "plt.ylabel('MSE')\n",
    "plt.show()\n",
    "\n",
    "mse = cross_val_score(final_clf,X,y,cv=10,scoring='neg_mean_squared_error')\n",
    "mae = cross_val_score(final_clf,X,y,cv=10,scoring='neg_mean_absolute_error')\n",
    "\n",
    "std = np.std(mse)\n",
    "mse = np.abs(np.mean(mse))\n",
    "mae = np.abs(np.mean(mae))\n",
    "\n",
    "print(final_clf.get_params()['hidden_layer_sizes'])\n",
    "soc=get_soc(final_clf, 5)\n",
    "\n",
    "arr_mse.append(mse)\n",
    "arr_mae.append(mae)\n",
    "arr_soc.append(soc)\n",
    "arr_hls.append(final_clf.get_params()['hidden_layer_sizes'])\n",
    "\n",
    "print(\"mse : \", mse)\n",
    "print(\"mae : \", mae)\n",
    "print(\"soc : \", soc)"
   ]
  },
  {
   "cell_type": "code",
   "execution_count": 37,
   "metadata": {
    "id": "x-pf-WoHBI4K",
    "outputId": "c87d9aea-aa9c-4986-efbf-c3213b890745"
   },
   "outputs": [
    {
     "name": "stdout",
     "output_type": "stream",
     "text": [
      "Best Hyperparameters::\n",
      "{'activation': 'relu', 'hidden_layer_sizes': (10, 10), 'learning_rate_init': 0.01}\n"
     ]
    },
    {
     "data": {
      "image/png": "[encoded data removed]",
      "text/plain": [
       "<Figure size 432x288 with 1 Axes>"
      ]
     },
     "metadata": {},
     "output_type": "display_data"
    },
    {
     "name": "stdout",
     "output_type": "stream",
     "text": [
      "mse :  7.9977486260572\n",
      "mae :  1.968866660970654\n",
      "soc :  383\n"
     ]
    }
   ],
   "source": [
    "# default learning_rate_init = 0.001\n",
    "# default hidden_layer_sizes = (100, )\n",
    "params = {\n",
    " 'activation': ['logistic', 'tanh', 'relu'], \n",
    " 'hidden_layer_sizes': [(10,10)], \n",
    " 'learning_rate_init': np.logspace(-4,-2, 10)\n",
    "}\n",
    "\n",
    "clf = MLPRegressor()\n",
    "grid = GridSearchCV(clf, param_grid = params, cv=5, scoring='neg_mean_absolute_error')\n",
    "grid.fit(X, y)\n",
    "\n",
    "print(\"Best Hyperparameters::\\n{}\".format(grid.best_params_))\n",
    "results = pd.DataFrame(data=grid.cv_results_)\n",
    "\n",
    "final_clf = grid.best_estimator_\n",
    "\n",
    "_,train_scores,test_scores=learning_curve(final_clf,X,y,cv=cv,train_sizes=train_sizes,scoring='neg_mean_absolute_error')\n",
    "\n",
    "plt.title(\"Learning curve\")\n",
    "plt.plot(len(X)*train_sizes,train_scores.mean(axis=1),'r-',label='train error')\n",
    "plt.plot(len(X)*train_sizes,test_scores.mean(axis=1),'g-',label='test error')\n",
    "plt.legend()\n",
    "plt.xlabel('train size')\n",
    "plt.ylabel('MSE')\n",
    "plt.show()\n",
    "\n",
    "mse = cross_val_score(final_clf,X,y,cv=10,scoring='neg_mean_squared_error')\n",
    "mae = cross_val_score(final_clf,X,y,cv=10,scoring='neg_mean_absolute_error')\n",
    "\n",
    "std = np.std(mse)\n",
    "mse = np.abs(np.mean(mse))\n",
    "mae = np.abs(np.mean(mae))\n",
    "\n",
    "soc=get_soc(final_clf, 5)\n",
    "\n",
    "arr_mse.append(mse)\n",
    "arr_mae.append(mae)\n",
    "arr_soc.append(soc)\n",
    "arr_hls.append(final_clf.get_params()['hidden_layer_sizes'])\n",
    "\n",
    "print(\"mse : \", mse)\n",
    "print(\"mae : \", mae)\n",
    "print(\"soc : \", soc)"
   ]
  },
  {
   "cell_type": "code",
   "execution_count": 39,
   "metadata": {
    "id": "iverSRTpBI4L",
    "outputId": "1e261b8b-e76f-407b-f626-2f53939abb4a"
   },
   "outputs": [
    {
     "name": "stdout",
     "output_type": "stream",
     "text": [
      "Best Hyperparameters::\n",
      "{'activation': 'relu', 'hidden_layer_sizes': (5, 5), 'learning_rate_init': 0.01}\n"
     ]
    },
    {
     "data": {
      "image/png": "[encoded data removed]",
      "text/plain": [
       "<Figure size 432x288 with 1 Axes>"
      ]
     },
     "metadata": {},
     "output_type": "display_data"
    },
    {
     "name": "stdout",
     "output_type": "stream",
     "text": [
      "(5, 5)\n",
      "mse :  8.905287054343109\n",
      "mae :  2.2544347150639146\n",
      "soc :  143\n"
     ]
    }
   ],
   "source": [
    "# default learning_rate_init = 0.001\n",
    "# default hidden_layer_sizes = (100, )\n",
    "params = {\n",
    " 'activation': ['logistic', 'tanh', 'relu'], \n",
    " 'hidden_layer_sizes': [(5,5),(10)], \n",
    " 'learning_rate_init': np.logspace(-4,-2, 10)\n",
    "}\n",
    "\n",
    "clf = MLPRegressor()\n",
    "grid = GridSearchCV(clf, param_grid = params, cv=5, scoring='neg_mean_absolute_error')\n",
    "grid.fit(X, y)\n",
    "\n",
    "print(\"Best Hyperparameters::\\n{}\".format(grid.best_params_))\n",
    "results = pd.DataFrame(data=grid.cv_results_)\n",
    "\n",
    "final_clf = grid.best_estimator_\n",
    "\n",
    "_,train_scores,test_scores=learning_curve(final_clf,X,y,cv=cv,train_sizes=train_sizes,scoring='neg_mean_absolute_error')\n",
    "\n",
    "plt.title(\"Learning curve\")\n",
    "plt.plot(len(X)*train_sizes,train_scores.mean(axis=1),'r-',label='train error')\n",
    "plt.plot(len(X)*train_sizes,test_scores.mean(axis=1),'g-',label='test error')\n",
    "plt.legend()\n",
    "plt.xlabel('train size')\n",
    "plt.ylabel('MSE')\n",
    "plt.show()\n",
    "\n",
    "mse = cross_val_score(final_clf,X,y,cv=10,scoring='neg_mean_squared_error')\n",
    "mae = cross_val_score(final_clf,X,y,cv=10,scoring='neg_mean_absolute_error')\n",
    "\n",
    "std = np.std(mse)\n",
    "mse = np.abs(np.mean(mse))\n",
    "mae = np.abs(np.mean(mae))\n",
    "print(final_clf.get_params()['hidden_layer_sizes'])\n",
    "soc=get_soc(final_clf, 5)\n",
    "\n",
    "arr_mse.append(mse)\n",
    "arr_mae.append(mae)\n",
    "arr_soc.append(soc)\n",
    "arr_hls.append(final_clf.get_params()['hidden_layer_sizes'])\n",
    "\n",
    "print(\"mse : \", mse)\n",
    "print(\"mae : \", mae)\n",
    "print(\"soc : \", soc)"
   ]
  },
  {
   "cell_type": "code",
   "execution_count": 40,
   "metadata": {
    "id": "q6bbWauxBI4L",
    "outputId": "42f055e8-a013-4a30-df6e-45edacc2df28"
   },
   "outputs": [
    {
     "name": "stdout",
     "output_type": "stream",
     "text": [
      "Best Hyperparameters::\n",
      "{'activation': 'relu', 'hidden_layer_sizes': (8, 8), 'learning_rate_init': 0.005994842503189409}\n"
     ]
    },
    {
     "data": {
      "image/png": "[encoded data removed]",
      "text/plain": [
       "<Figure size 432x288 with 1 Axes>"
      ]
     },
     "metadata": {},
     "output_type": "display_data"
    },
    {
     "name": "stdout",
     "output_type": "stream",
     "text": [
      "mse :  8.731034217754722\n",
      "mae :  2.106147805941519\n",
      "soc :  275\n"
     ]
    }
   ],
   "source": [
    "\n",
    "\n",
    "# default learning_rate_init = 0.001\n",
    "# default hidden_layer_sizes = (100, )\n",
    "params = {\n",
    " 'activation': ['logistic', 'tanh', 'relu'], \n",
    " 'hidden_layer_sizes': [(7,7,),(8,8),(10)], \n",
    " 'learning_rate_init': np.logspace(-4,-2, 10)\n",
    "}\n",
    "\n",
    "clf = MLPRegressor()\n",
    "grid = GridSearchCV(clf, param_grid = params, cv=5, scoring='neg_mean_absolute_error')\n",
    "grid.fit(X, y)\n",
    "\n",
    "print(\"Best Hyperparameters::\\n{}\".format(grid.best_params_))\n",
    "results = pd.DataFrame(data=grid.cv_results_)\n",
    "\n",
    "final_clf = grid.best_estimator_\n",
    "\n",
    "_,train_scores,test_scores=learning_curve(final_clf,X,y,cv=cv,train_sizes=train_sizes,scoring='neg_mean_absolute_error')\n",
    "\n",
    "plt.title(\"Learning curve\")\n",
    "plt.plot(len(X)*train_sizes,train_scores.mean(axis=1),'r-',label='train error')\n",
    "plt.plot(len(X)*train_sizes,test_scores.mean(axis=1),'g-',label='test error')\n",
    "plt.legend()\n",
    "plt.xlabel('train size')\n",
    "plt.ylabel('MSE')\n",
    "plt.show()\n",
    "\n",
    "mse = cross_val_score(final_clf,X,y,cv=10,scoring='neg_mean_squared_error')\n",
    "mae = cross_val_score(final_clf,X,y,cv=10,scoring='neg_mean_absolute_error')\n",
    "\n",
    "std = np.std(mse)\n",
    "mse = np.abs(np.mean(mse))\n",
    "mae = np.abs(np.mean(mae))\n",
    "\n",
    "soc=get_soc(final_clf, 5)\n",
    "\n",
    "arr_mse.append(mse)\n",
    "arr_mae.append(mae)\n",
    "arr_soc.append(soc)\n",
    "arr_hls.append(final_clf.get_params()['hidden_layer_sizes'])\n",
    "\n",
    "print(\"mse : \", mse)\n",
    "print(\"mae : \", mae)\n",
    "print(\"soc : \", soc)"
   ]
  },
  {
   "cell_type": "code",
   "execution_count": 41,
   "metadata": {
    "id": "S8QBw3WXBI4L",
    "outputId": "b717ec91-6db8-4d45-9de5-69978ffaa2f1"
   },
   "outputs": [
    {
     "name": "stdout",
     "output_type": "stream",
     "text": [
      "Best Hyperparameters::\n",
      "{'activation': 'relu', 'hidden_layer_sizes': (7, 7), 'learning_rate_init': 0.005994842503189409}\n"
     ]
    },
    {
     "data": {
      "image/png": "[encoded data removed]",
      "text/plain": [
       "<Figure size 432x288 with 1 Axes>"
      ]
     },
     "metadata": {},
     "output_type": "display_data"
    },
    {
     "name": "stdout",
     "output_type": "stream",
     "text": [
      "mse :  9.70957394763117\n",
      "mae :  2.1801740560135876\n",
      "soc :  227\n"
     ]
    }
   ],
   "source": [
    "# default learning_rate_init = 0.001\n",
    "# default hidden_layer_sizes = (100, )\n",
    "params = {\n",
    " 'activation': ['logistic', 'tanh', 'relu'], \n",
    " 'hidden_layer_sizes': [(7,7,),(15,)], \n",
    " 'learning_rate_init': np.logspace(-4,-2, 10)\n",
    "}\n",
    "\n",
    "clf = MLPRegressor()\n",
    "grid = GridSearchCV(clf, param_grid = params, cv=5, scoring='neg_mean_absolute_error')\n",
    "grid.fit(X, y)\n",
    "\n",
    "print(\"Best Hyperparameters::\\n{}\".format(grid.best_params_))\n",
    "results = pd.DataFrame(data=grid.cv_results_)\n",
    "\n",
    "final_clf = grid.best_estimator_\n",
    "\n",
    "_,train_scores,test_scores=learning_curve(final_clf,X,y,cv=cv,train_sizes=train_sizes,scoring='neg_mean_absolute_error')\n",
    "\n",
    "plt.title(\"Learning curve\")\n",
    "plt.plot(len(X)*train_sizes,train_scores.mean(axis=1),'r-',label='train error')\n",
    "plt.plot(len(X)*train_sizes,test_scores.mean(axis=1),'g-',label='test error')\n",
    "plt.legend()\n",
    "plt.xlabel('train size')\n",
    "plt.ylabel('MSE')\n",
    "plt.show()\n",
    "\n",
    "mse = cross_val_score(final_clf,X,y,cv=10,scoring='neg_mean_squared_error')\n",
    "mae = cross_val_score(final_clf,X,y,cv=10,scoring='neg_mean_absolute_error')\n",
    "\n",
    "std = np.std(mse)\n",
    "mse = np.abs(np.mean(mse))\n",
    "mae = np.abs(np.mean(mae))\n",
    "\n",
    "soc=get_soc(final_clf, 5)\n",
    "\n",
    "arr_mse.append(mse)\n",
    "arr_mae.append(mae)\n",
    "arr_soc.append(soc)\n",
    "arr_hls.append(final_clf.get_params()['hidden_layer_sizes'])\n",
    "\n",
    "print(\"mse : \", mse)\n",
    "print(\"mae : \", mae)\n",
    "print(\"soc : \", soc)"
   ]
  },
  {
   "cell_type": "code",
   "execution_count": 42,
   "metadata": {
    "id": "rhSSITDXBI4M",
    "outputId": "c81c7d3f-5b03-497f-b672-b39f346cdd67"
   },
   "outputs": [
    {
     "name": "stdout",
     "output_type": "stream",
     "text": [
      "Best Hyperparameters::\n",
      "{'activation': 'relu', 'hidden_layer_sizes': (6, 6), 'learning_rate_init': 0.01}\n"
     ]
    },
    {
     "data": {
      "image/png": "[encoded data removed]",
      "text/plain": [
       "<Figure size 432x288 with 1 Axes>"
      ]
     },
     "metadata": {},
     "output_type": "display_data"
    },
    {
     "name": "stdout",
     "output_type": "stream",
     "text": [
      "mse :  8.299240881607997\n",
      "mae :  2.179865128168748\n",
      "soc :  183\n"
     ]
    }
   ],
   "source": [
    "# default learning_rate_init = 0.001\n",
    "# default hidden_layer_sizes = (100, )\n",
    "params = {\n",
    " 'activation': ['logistic', 'tanh', 'relu'], \n",
    " 'hidden_layer_sizes': [(6,6,),(12,)], \n",
    " 'learning_rate_init': np.logspace(-4,-2, 10)\n",
    "}\n",
    "\n",
    "clf = MLPRegressor()\n",
    "grid = GridSearchCV(clf, param_grid = params, cv=5, scoring='neg_mean_absolute_error')\n",
    "grid.fit(X, y)\n",
    "\n",
    "print(\"Best Hyperparameters::\\n{}\".format(grid.best_params_))\n",
    "results = pd.DataFrame(data=grid.cv_results_)\n",
    "\n",
    "final_clf = grid.best_estimator_\n",
    "\n",
    "_,train_scores,test_scores=learning_curve(final_clf,X,y,cv=cv,train_sizes=train_sizes,scoring='neg_mean_absolute_error')\n",
    "\n",
    "plt.title(\"Learning curve\")\n",
    "plt.plot(len(X)*train_sizes,train_scores.mean(axis=1),'r-',label='train error')\n",
    "plt.plot(len(X)*train_sizes,test_scores.mean(axis=1),'g-',label='test error')\n",
    "plt.legend()\n",
    "plt.xlabel('train size')\n",
    "plt.ylabel('MSE')\n",
    "plt.show()\n",
    "\n",
    "mse = cross_val_score(final_clf,X,y,cv=10,scoring='neg_mean_squared_error')\n",
    "mae = cross_val_score(final_clf,X,y,cv=10,scoring='neg_mean_absolute_error')\n",
    "\n",
    "std = np.std(mse)\n",
    "mse = np.abs(np.mean(mse))\n",
    "mae = np.abs(np.mean(mae))\n",
    "\n",
    "soc=get_soc(final_clf, 5)\n",
    "\n",
    "arr_mse.append(mse)\n",
    "arr_mae.append(mae)\n",
    "arr_soc.append(soc)\n",
    "arr_hls.append(final_clf.get_params()['hidden_layer_sizes'])\n",
    "\n",
    "print(\"mse : \", mse)\n",
    "print(\"mae : \", mae)\n",
    "print(\"soc : \", soc)"
   ]
  },
  {
   "cell_type": "code",
   "execution_count": 43,
   "metadata": {
    "id": "2Ok8RisrBI4M",
    "outputId": "1639d5e3-f7db-4814-e91a-5f16dca7c580"
   },
   "outputs": [
    {
     "name": "stdout",
     "output_type": "stream",
     "text": [
      "Best Hyperparameters::\n",
      "{'activation': 'relu', 'hidden_layer_sizes': (3, 3, 3), 'learning_rate_init': 0.002154434690031882}\n"
     ]
    },
    {
     "data": {
      "image/png": "[encoded data removed]",
      "text/plain": [
       "<Figure size 432x288 with 1 Axes>"
      ]
     },
     "metadata": {},
     "output_type": "display_data"
    },
    {
     "name": "stdout",
     "output_type": "stream",
     "text": [
      "mse :  202.28640953620982\n",
      "mae :  8.2698882095057\n",
      "soc :  102\n"
     ]
    }
   ],
   "source": [
    "# default learning_rate_init = 0.001\n",
    "# default hidden_layer_sizes = (100, )\n",
    "params = {\n",
    " 'activation': ['logistic', 'tanh', 'relu'], \n",
    " 'hidden_layer_sizes': [(3,3,3), (2,2,2),(1,1,1,1),(2,2,2,2)], \n",
    " 'learning_rate_init': np.logspace(-4,-2, 10)\n",
    "}\n",
    "\n",
    "clf = MLPRegressor()\n",
    "grid = GridSearchCV(clf, param_grid = params, cv=5, scoring='neg_mean_absolute_error')\n",
    "grid.fit(X, y)\n",
    "\n",
    "print(\"Best Hyperparameters::\\n{}\".format(grid.best_params_))\n",
    "results = pd.DataFrame(data=grid.cv_results_)\n",
    "\n",
    "final_clf = grid.best_estimator_\n",
    "\n",
    "_,train_scores,test_scores=learning_curve(final_clf,X,y,cv=cv,train_sizes=train_sizes,scoring='neg_mean_absolute_error')\n",
    "\n",
    "plt.title(\"Learning curve\")\n",
    "plt.plot(len(X)*train_sizes,train_scores.mean(axis=1),'r-',label='train error')\n",
    "plt.plot(len(X)*train_sizes,test_scores.mean(axis=1),'g-',label='test error')\n",
    "plt.legend()\n",
    "plt.xlabel('train size')\n",
    "plt.ylabel('MSE')\n",
    "plt.show()\n",
    "\n",
    "mse = cross_val_score(final_clf,X,y,cv=10,scoring='neg_mean_squared_error')\n",
    "mae = cross_val_score(final_clf,X,y,cv=10,scoring='neg_mean_absolute_error')\n",
    "\n",
    "std = np.std(mse)\n",
    "mse = np.abs(np.mean(mse))\n",
    "mae = np.abs(np.mean(mae))\n",
    "\n",
    "soc=get_soc(final_clf, 5)\n",
    "\n",
    "arr_mse.append(mse)\n",
    "arr_mae.append(mae)\n",
    "arr_soc.append(soc)\n",
    "arr_hls.append(final_clf.get_params()['hidden_layer_sizes'])\n",
    "\n",
    "print(\"mse : \", mse)\n",
    "print(\"mae : \", mae)\n",
    "print(\"soc : \", soc)"
   ]
  },
  {
   "cell_type": "code",
   "execution_count": null,
   "metadata": {
    "id": "JBxnCV-hB0VW"
   },
   "outputs": [],
   "source": [
    "from sklearn.feature_selection import SelectKBest, f_regression\n",
    "\n",
    "X = SelectKBest(f_regression, k=4).fit_transform(X_orig, y)"
   ]
  },
  {
   "cell_type": "code",
   "execution_count": null,
   "metadata": {
    "id": "kcK5x_WCBI4R",
    "outputId": "4cdfe2bc-7022-4463-911e-9a9103c78539"
   },
   "outputs": [],
   "source": [
    "# default learning_rate_init = 0.001\n",
    "# default hidden_layer_sizes = (100, )\n",
    "params = {\n",
    " 'activation': ['logistic', 'tanh', 'relu'], \n",
    " 'hidden_layer_sizes': [(7,7)], \n",
    " 'learning_rate_init': np.logspace(-4,-2, 10)\n",
    "}\n",
    "\n",
    "clf = MLPRegressor()\n",
    "grid = GridSearchCV(clf, param_grid = params, cv=5, scoring='neg_mean_absolute_error')\n",
    "grid.fit(X, y)\n",
    "\n",
    "print(\"Best Hyperparameters::\\n{}\".format(grid.best_params_))\n",
    "results = pd.DataFrame(data=grid.cv_results_)\n",
    "\n",
    "final_clf = grid.best_estimator_\n",
    "\n",
    "_,train_scores,test_scores=learning_curve(final_clf,X,y,cv=cv,train_sizes=train_sizes,scoring='neg_mean_absolute_error')\n",
    "\n",
    "plt.title(\"Learning curve\")\n",
    "plt.plot(len(X)*train_sizes,train_scores.mean(axis=1),'r-',label='train error')\n",
    "plt.plot(len(X)*train_sizes,test_scores.mean(axis=1),'g-',label='test error')\n",
    "plt.legend()\n",
    "plt.xlabel('train size')\n",
    "plt.ylabel('MSE')\n",
    "plt.show()\n",
    "\n",
    "mse = cross_val_score(final_clf,X,y,cv=10,scoring='neg_mean_squared_error')\n",
    "mae = cross_val_score(final_clf,X,y,cv=10,scoring='neg_mean_absolute_error')\n",
    "\n",
    "std = np.std(mse)\n",
    "mse = np.abs(np.mean(mse))\n",
    "mae = np.abs(np.mean(mae))\n",
    "\n",
    "soc=get_soc(final_clf, 4)\n",
    "\n",
    "arr_mse.append(mse)\n",
    "arr_mae.append(mae)\n",
    "arr_soc.append(soc)\n",
    "arr_hls.append(final_clf.get_params()['hidden_layer_sizes'])\n",
    "\n",
    "print(\"mse : \", mse)\n",
    "print(\"mae : \", mae)\n",
    "print(\"soc : \", soc)"
   ]
  },
  {
   "cell_type": "code",
   "execution_count": null,
   "metadata": {
    "id": "2L1nwajzB54m"
   },
   "outputs": [],
   "source": [
    "X = SelectKBest(f_regression, k=3).fit_transform(X_orig, y)"
   ]
  },
  {
   "cell_type": "code",
   "execution_count": null,
   "metadata": {
    "id": "arTy5dviBI4T",
    "outputId": "df437e73-6cf6-43c9-a771-ee1e42cd1762"
   },
   "outputs": [
    {
     "name": "stdout",
     "output_type": "stream",
     "text": [
      "Best Hyperparameters::\n",
      "{'activation': 'relu', 'hidden_layer_sizes': (7, 7), 'learning_rate_init': 0.01}\n"
     ]
    },
    {
     "data": {
      "image/png": "[encoded data removed]",
      "text/plain": [
       "<Figure size 432x288 with 1 Axes>"
      ]
     },
     "metadata": {
      "tags": []
     },
     "output_type": "display_data"
    },
    {
     "name": "stdout",
     "output_type": "stream",
     "text": [
      "mse :  20.006972231464935\n",
      "mae :  3.7040791205811425\n",
      "soc :  48\n"
     ]
    }
   ],
   "source": [
    "# default learning_rate_init = 0.001\n",
    "# default hidden_layer_sizes = (100, )\n",
    "params = {\n",
    " 'activation': ['logistic', 'tanh', 'relu'], \n",
    " 'hidden_layer_sizes': [(7,7)], \n",
    " 'learning_rate_init': np.logspace(-4,-2, 10)\n",
    "}\n",
    "\n",
    "clf = MLPRegressor()\n",
    "grid = GridSearchCV(clf, param_grid = params, cv=5, scoring='neg_mean_absolute_error')\n",
    "grid.fit(X, y)\n",
    "\n",
    "print(\"Best Hyperparameters::\\n{}\".format(grid.best_params_))\n",
    "results = pd.DataFrame(data=grid.cv_results_)\n",
    "\n",
    "final_clf = grid.best_estimator_\n",
    "\n",
    "_,train_scores,test_scores=learning_curve(final_clf,X,y,cv=cv,train_sizes=train_sizes,scoring='neg_mean_absolute_error')\n",
    "\n",
    "plt.title(\"Learning curve\")\n",
    "plt.plot(len(X)*train_sizes,train_scores.mean(axis=1),'r-',label='train error')\n",
    "plt.plot(len(X)*train_sizes,test_scores.mean(axis=1),'g-',label='test error')\n",
    "plt.legend()\n",
    "plt.xlabel('train size')\n",
    "plt.ylabel('MSE')\n",
    "plt.show()\n",
    "\n",
    "mse = cross_val_score(final_clf,X,y,cv=10,scoring='neg_mean_squared_error')\n",
    "mae = cross_val_score(final_clf,X,y,cv=10,scoring='neg_mean_absolute_error')\n",
    "\n",
    "std = np.std(mse)\n",
    "mse = np.abs(np.mean(mse))\n",
    "mae = np.abs(np.mean(mae))\n",
    "\n",
    "soc=get_soc(final_clf, 3)\n",
    "\n",
    "arr_mse.append(mse)\n",
    "arr_mae.append(mae)\n",
    "arr_soc.append(soc)\n",
    "arr_hls.append(final_clf.get_params()['hidden_layer_sizes'])\n",
    "\n",
    "print(\"mse : \", mse)\n",
    "print(\"mae : \", mae)\n",
    "print(\"soc : \", soc)"
   ]
  },
  {
   "cell_type": "code",
   "execution_count": null,
   "metadata": {
    "id": "7-GMeCG5BI4T",
    "outputId": "6b94aabb-f46b-46ff-8372-af3bf8674e44"
   },
   "outputs": [
    {
     "data": {
      "text/plain": [
       "([1.8501569403554512,\n",
       "  1.7884720797170153,\n",
       "  1.7737071811184777,\n",
       "  1.8167754414118928,\n",
       "  1.8883323455226688,\n",
       "  1.8705487717763938,\n",
       "  1.830370321723611,\n",
       "  1.8357588080252978,\n",
       "  1.8510252981339548,\n",
       "  1.9100406552393767,\n",
       "  1.9700491617414155,\n",
       "  1.8671834288314155,\n",
       "  1.914349637734422,\n",
       "  1.933352355786728,\n",
       "  1.8931515812263904,\n",
       "  1.8716991054530627,\n",
       "  2.0552448777105012,\n",
       "  1.8981976315865565,\n",
       "  1.906444019830706,\n",
       "  1.9996059174279441,\n",
       "  1.9200871098172825],\n",
       " [1210,\n",
       "  610,\n",
       "  910,\n",
       "  1030,\n",
       "  1090,\n",
       "  850,\n",
       "  610,\n",
       "  460,\n",
       "  310,\n",
       "  160,\n",
       "  70,\n",
       "  130,\n",
       "  100,\n",
       "  82,\n",
       "  76,\n",
       "  70,\n",
       "  40,\n",
       "  58,\n",
       "  52,\n",
       "  46,\n",
       "  50])"
      ]
     },
     "execution_count": 85,
     "metadata": {
      "tags": []
     },
     "output_type": "execute_result"
    }
   ],
   "source": [
    "arr_mae, arr_soc"
   ]
  },
  {
   "cell_type": "code",
   "execution_count": null,
   "metadata": {
    "id": "aLyboHOaBI4U"
   },
   "outputs": [],
   "source": []
  },
  {
   "cell_type": "code",
   "execution_count": null,
   "metadata": {
    "id": "Jch8AGOuBI4U"
   },
   "outputs": [],
   "source": []
  },
  {
   "cell_type": "code",
   "execution_count": null,
   "metadata": {
    "id": "ijgKZUt3qPJn"
   },
   "outputs": [],
   "source": [
    "arr_mae_min = [1.7737071811184777]\n",
    "arr_soc_min = [910]\n",
    "arr_mae_min_soc = [1.9200871098172825]\n",
    "arr_soc_min_soc = [50]"
   ]
  },
  {
   "cell_type": "code",
   "execution_count": null,
   "metadata": {
    "colab": {
     "base_uri": "https://localhost:8080/"
    },
    "id": "dRu-q6J2XsFU",
    "outputId": "152b6520-0e0b-446e-a6dd-98e461716987"
   },
   "outputs": [
    {
     "data": {
      "text/plain": [
       "[1.9700491617414155, 2.0552448777105012, 1.9996059174279441]"
      ]
     },
     "execution_count": 87,
     "metadata": {
      "tags": []
     },
     "output_type": "execute_result"
    }
   ],
   "source": [
    "arr_mae_not_allowed = [ x for x in arr_mae if x >= arr_mae_min[0]*1.1 ]\n",
    "arr_mae_not_allowed"
   ]
  },
  {
   "cell_type": "code",
   "execution_count": null,
   "metadata": {
    "id": "GOdxt2QjZ9bS"
   },
   "outputs": [],
   "source": [
    "arr_mae_not_allowed_soc = [70,40,46]"
   ]
  },
  {
   "cell_type": "code",
   "execution_count": null,
   "metadata": {
    "colab": {
     "base_uri": "https://localhost:8080/",
     "height": 299
    },
    "id": "JhF6G_0daqk3",
    "outputId": "c807f9ba-4301-4f40-db92-a284624f12c1"
   },
   "outputs": [
    {
     "data": {
      "image/png": "[encoded data removed]",
      "text/plain": [
       "<Figure size 432x288 with 1 Axes>"
      ]
     },
     "metadata": {
      "tags": []
     },
     "output_type": "display_data"
    }
   ],
   "source": [
    "plt.title(\"MAE vs. SOC\")\n",
    "\n",
    "plt.scatter(arr_mae, arr_soc, c='green')\n",
    "plt.scatter(arr_mae_not_allowed, arr_mae_not_allowed_soc, c='red')\n",
    "plt.scatter(arr_mae_min, arr_soc_min, c='blue')\n",
    "plt.scatter(arr_mae_min_soc, [50], c='grey')\n",
    "plt.axvline(x=arr_mae_min[0]*1.1)\n",
    "plt.xlabel('MAE')\n",
    "plt.ylabel('SOC')\n",
    "plt.show()"
   ]
  },
  {
   "cell_type": "code",
   "execution_count": null,
   "metadata": {
    "colab": {
     "base_uri": "https://localhost:8080/",
     "height": 299
    },
    "id": "wd5Fj_wRcnV0",
    "outputId": "9ad100d2-da73-4fd1-c8f4-3c9bbb5e54ca"
   },
   "outputs": [
    {
     "data": {
      "image/png": "[encoded data removed]",
      "text/plain": [
       "<Figure size 432x288 with 1 Axes>"
      ]
     },
     "metadata": {
      "tags": []
     },
     "output_type": "display_data"
    }
   ],
   "source": [
    "plt.title(\"MAE vs. SOC\")\n",
    "\n",
    "plt.scatter(arr_mae, arr_soc, c='green')\n",
    "plt.scatter(arr_mae_not_allowed, arr_mae_not_allowed_soc, c='red')\n",
    "plt.scatter(arr_mae_min, arr_soc_min, c='blue')\n",
    "plt.scatter(arr_mae_min_soc, [50], c='grey')\n",
    "plt.axvline(x=arr_mae_min[0]*1.1)\n",
    "\n",
    "for i, txt in enumerate(arr_mae):\n",
    "    plt.annotate(i, (arr_mae[i], arr_soc[i]))\n",
    "\n",
    "plt.xlabel('MAE')\n",
    "plt.ylabel('SOC')\n",
    "plt.show()"
   ]
  },
  {
   "cell_type": "code",
   "execution_count": null,
   "metadata": {
    "colab": {
     "base_uri": "https://localhost:8080/",
     "height": 452
    },
    "id": "8tmi0e90eDWj",
    "outputId": "1a423f40-a883-4a45-c3f2-c514f45176e1"
   },
   "outputs": [
    {
     "data": {
      "text/html": [
       "<div>\n",
       "<style scoped>\n",
       "    .dataframe tbody tr th:only-of-type {\n",
       "        vertical-align: middle;\n",
       "    }\n",
       "\n",
       "    .dataframe tbody tr th {\n",
       "        vertical-align: top;\n",
       "    }\n",
       "\n",
       "    .dataframe thead th {\n",
       "        text-align: right;\n",
       "    }\n",
       "</style>\n",
       "<table border=\"1\" class=\"dataframe\">\n",
       "  <thead>\n",
       "    <tr style=\"text-align: right;\">\n",
       "      <th></th>\n",
       "      <th>MAE</th>\n",
       "      <th>SOC</th>\n",
       "      <th>Hidden Layer Size</th>\n",
       "    </tr>\n",
       "  </thead>\n",
       "  <tbody>\n",
       "    <tr>\n",
       "      <th>0</th>\n",
       "      <td>1.850157</td>\n",
       "      <td>1210</td>\n",
       "      <td>(100, 100, 100, 100)</td>\n",
       "    </tr>\n",
       "    <tr>\n",
       "      <th>1</th>\n",
       "      <td>1.788472</td>\n",
       "      <td>610</td>\n",
       "      <td>(50, 50, 50, 50)</td>\n",
       "    </tr>\n",
       "    <tr>\n",
       "      <th>2</th>\n",
       "      <td>1.773707</td>\n",
       "      <td>910</td>\n",
       "      <td>(75, 75, 75, 75)</td>\n",
       "    </tr>\n",
       "    <tr>\n",
       "      <th>3</th>\n",
       "      <td>1.816775</td>\n",
       "      <td>1030</td>\n",
       "      <td>(85, 85, 85, 85)</td>\n",
       "    </tr>\n",
       "    <tr>\n",
       "      <th>4</th>\n",
       "      <td>1.888332</td>\n",
       "      <td>1090</td>\n",
       "      <td>(90, 90, 90, 90)</td>\n",
       "    </tr>\n",
       "    <tr>\n",
       "      <th>5</th>\n",
       "      <td>1.870549</td>\n",
       "      <td>850</td>\n",
       "      <td>(70, 70, 70, 70)</td>\n",
       "    </tr>\n",
       "    <tr>\n",
       "      <th>6</th>\n",
       "      <td>1.830370</td>\n",
       "      <td>610</td>\n",
       "      <td>(50, 50, 50, 50)</td>\n",
       "    </tr>\n",
       "    <tr>\n",
       "      <th>7</th>\n",
       "      <td>1.835759</td>\n",
       "      <td>460</td>\n",
       "      <td>(50, 50, 50)</td>\n",
       "    </tr>\n",
       "    <tr>\n",
       "      <th>8</th>\n",
       "      <td>1.851025</td>\n",
       "      <td>310</td>\n",
       "      <td>(100,)</td>\n",
       "    </tr>\n",
       "    <tr>\n",
       "      <th>9</th>\n",
       "      <td>1.910041</td>\n",
       "      <td>160</td>\n",
       "      <td>(50,)</td>\n",
       "    </tr>\n",
       "    <tr>\n",
       "      <th>10</th>\n",
       "      <td>1.970049</td>\n",
       "      <td>70</td>\n",
       "      <td>(10, 10)</td>\n",
       "    </tr>\n",
       "    <tr>\n",
       "      <th>11</th>\n",
       "      <td>1.867183</td>\n",
       "      <td>130</td>\n",
       "      <td>(20, 20)</td>\n",
       "    </tr>\n",
       "    <tr>\n",
       "      <th>12</th>\n",
       "      <td>1.914350</td>\n",
       "      <td>100</td>\n",
       "      <td>(15, 15)</td>\n",
       "    </tr>\n",
       "    <tr>\n",
       "      <th>13</th>\n",
       "      <td>1.933352</td>\n",
       "      <td>82</td>\n",
       "      <td>(12, 12)</td>\n",
       "    </tr>\n",
       "    <tr>\n",
       "      <th>14</th>\n",
       "      <td>1.893152</td>\n",
       "      <td>76</td>\n",
       "      <td>(11, 11)</td>\n",
       "    </tr>\n",
       "    <tr>\n",
       "      <th>15</th>\n",
       "      <td>1.871699</td>\n",
       "      <td>70</td>\n",
       "      <td>(10, 10)</td>\n",
       "    </tr>\n",
       "    <tr>\n",
       "      <th>16</th>\n",
       "      <td>2.055245</td>\n",
       "      <td>40</td>\n",
       "      <td>(5, 5)</td>\n",
       "    </tr>\n",
       "    <tr>\n",
       "      <th>17</th>\n",
       "      <td>1.898198</td>\n",
       "      <td>58</td>\n",
       "      <td>(8, 8)</td>\n",
       "    </tr>\n",
       "    <tr>\n",
       "      <th>18</th>\n",
       "      <td>1.906444</td>\n",
       "      <td>52</td>\n",
       "      <td>(7, 7)</td>\n",
       "    </tr>\n",
       "    <tr>\n",
       "      <th>19</th>\n",
       "      <td>1.999606</td>\n",
       "      <td>46</td>\n",
       "      <td>(6, 6)</td>\n",
       "    </tr>\n",
       "    <tr>\n",
       "      <th>20</th>\n",
       "      <td>1.920087</td>\n",
       "      <td>50</td>\n",
       "      <td>(7, 7)</td>\n",
       "    </tr>\n",
       "  </tbody>\n",
       "</table>\n",
       "</div>"
      ],
      "text/plain": [
       "         MAE   SOC    Hidden Layer Size \n",
       "0   1.850157  1210  (100, 100, 100, 100)\n",
       "1   1.788472   610      (50, 50, 50, 50)\n",
       "2   1.773707   910      (75, 75, 75, 75)\n",
       "3   1.816775  1030      (85, 85, 85, 85)\n",
       "4   1.888332  1090      (90, 90, 90, 90)\n",
       "5   1.870549   850      (70, 70, 70, 70)\n",
       "6   1.830370   610      (50, 50, 50, 50)\n",
       "7   1.835759   460          (50, 50, 50)\n",
       "8   1.851025   310                (100,)\n",
       "9   1.910041   160                 (50,)\n",
       "10  1.970049    70              (10, 10)\n",
       "11  1.867183   130              (20, 20)\n",
       "12  1.914350   100              (15, 15)\n",
       "13  1.933352    82              (12, 12)\n",
       "14  1.893152    76              (11, 11)\n",
       "15  1.871699    70              (10, 10)\n",
       "16  2.055245    40                (5, 5)\n",
       "17  1.898198    58                (8, 8)\n",
       "18  1.906444    52                (7, 7)\n",
       "19  1.999606    46                (6, 6)\n",
       "20  1.920087    50                (7, 7)"
      ]
     },
     "execution_count": 91,
     "metadata": {
      "tags": []
     },
     "output_type": "execute_result"
    }
   ],
   "source": [
    "data = { 'MAE': arr_mae, 'SOC': arr_soc, 'Hidden Layer Size ': arr_hls }\n",
    "df = pd.DataFrame(data)\n",
    "df"
   ]
  },
  {
   "cell_type": "code",
   "execution_count": null,
   "metadata": {
    "id": "9Lsdb7xjBI4Z"
   },
   "outputs": [],
   "source": []
  }
 ],
 "metadata": {
  "colab": {
   "collapsed_sections": [],
   "name": "Copy of AutoMPG_MLP-2.ipynb",
   "version": ""
  },
  "kernelspec": {
   "display_name": "Python 3",
   "language": "python",
   "name": "python3"
  },
  "language_info": {
   "codemirror_mode": {
    "name": "ipython",
    "version": 3
   },
   "file_extension": ".py",
   "mimetype": "text/x-python",
   "name": "python",
   "nbconvert_exporter": "python",
   "pygments_lexer": "ipython3",
   "version": "3.8.2"
  }
 },
 "nbformat": 4,
 "nbformat_minor": 1
}
