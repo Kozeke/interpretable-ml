{
 "cells": [
  {
   "cell_type": "code",
   "execution_count": 2,
   "metadata": {
    "colab": {
     "base_uri": "https://localhost:8080/"
    },
    "executionInfo": {
     "elapsed": 3391,
     "status": "ok",
     "timestamp": 1619365065358,
     "user": {
      "displayName": "Kozy-Korpesh Tolep",
      "photoUrl": "https://lh3.googleusercontent.com/a-/AOh14GjEBxPHGGrAf0Q_TWo2suiSsFytKEeYK82Dpv-Ncg=s64",
      "userId": "08907390623384163541"
     },
     "user_tz": -360
    },
    "id": "Xjnnd97KKg3B",
    "outputId": "ebf8de71-6579-4674-d4b9-ffc23196072e"
   },
   "outputs": [],
   "source": [
    "import pandas as pd\n",
    "import numpy as np\n",
    "import seaborn as sns\n",
    "import math\n",
    "\n",
    "from sklearn.model_selection import cross_val_score\n",
    "from sklearn.model_selection import train_test_split\n",
    "from sklearn.preprocessing import StandardScaler,OrdinalEncoder\n",
    "from sklearn.feature_selection import mutual_info_regression\n",
    "from sklearn.model_selection import KFold\n",
    "from sklearn.preprocessing import StandardScaler,OrdinalEncoder\n",
    "from sklearn.pipeline import Pipeline\n",
    "from sklearn.model_selection import GridSearchCV\n",
    "import statsmodels as sm   # contains good statistical tools for modeling\n",
    "\n",
    "from statsmodels.stats.outliers_influence import variance_inflation_factor  # we will need vif for checking multicollinearity\n",
    "from sklearn.neighbors import LocalOutlierFactor\n",
    "\n",
    "from sklearn.feature_selection import SelectKBest\n",
    "from sklearn.feature_selection import f_regression\n",
    "from sklearn.metrics import r2_score, mean_absolute_error\n",
    "from sklearn.model_selection import learning_curve\n",
    "\n",
    "from scipy.stats import zscore\n",
    "\n",
    "import os, pickle, csv\n",
    "from math import sqrt\n",
    "from sklearn.model_selection import GridSearchCV\n",
    "from sklearn.metrics import mean_squared_error\n",
    "from sklearn.metrics import r2_score\n",
    "import matplotlib.pyplot as plt\n",
    "import warnings\n",
    "warnings.filterwarnings('ignore')\n",
    "plt.style.use('ggplot')\n",
    "\n",
    "from IPython.display import HTML\n",
    "import base64  \n"
   ]
  },
  {
   "cell_type": "code",
   "execution_count": 3,
   "metadata": {
    "executionInfo": {
     "elapsed": 3388,
     "status": "ok",
     "timestamp": 1619365065359,
     "user": {
      "displayName": "Kozy-Korpesh Tolep",
      "photoUrl": "https://lh3.googleusercontent.com/a-/AOh14GjEBxPHGGrAf0Q_TWo2suiSsFytKEeYK82Dpv-Ncg=s64",
      "userId": "08907390623384163541"
     },
     "user_tz": -360
    },
    "id": "_SHHXr2kITy-"
   },
   "outputs": [],
   "source": [
    "# from google.colab import files\n",
    "uploaded = 'http://archive.ics.uci.edu/ml/machine-learning-databases/forest-fires/forestfires.csv'"
   ]
  },
  {
   "cell_type": "code",
   "execution_count": 4,
   "metadata": {
    "colab": {
     "base_uri": "https://localhost:8080/",
     "height": 106
    },
    "executionInfo": {
     "elapsed": 3378,
     "status": "ok",
     "timestamp": 1619365065360,
     "user": {
      "displayName": "Kozy-Korpesh Tolep",
      "photoUrl": "https://lh3.googleusercontent.com/a-/AOh14GjEBxPHGGrAf0Q_TWo2suiSsFytKEeYK82Dpv-Ncg=s64",
      "userId": "08907390623384163541"
     },
     "user_tz": -360
    },
    "id": "DTUrSuqKlQQe",
    "outputId": "0fd88cb5-5236-42a9-bae7-b3fa91acb372"
   },
   "outputs": [
    {
     "data": {
      "text/html": [
       "<div>\n",
       "<style scoped>\n",
       "    .dataframe tbody tr th:only-of-type {\n",
       "        vertical-align: middle;\n",
       "    }\n",
       "\n",
       "    .dataframe tbody tr th {\n",
       "        vertical-align: top;\n",
       "    }\n",
       "\n",
       "    .dataframe thead th {\n",
       "        text-align: right;\n",
       "    }\n",
       "</style>\n",
       "<table border=\"1\" class=\"dataframe\">\n",
       "  <thead>\n",
       "    <tr style=\"text-align: right;\">\n",
       "      <th></th>\n",
       "      <th>X</th>\n",
       "      <th>Y</th>\n",
       "      <th>month</th>\n",
       "      <th>day</th>\n",
       "      <th>FFMC</th>\n",
       "      <th>DMC</th>\n",
       "      <th>DC</th>\n",
       "      <th>ISI</th>\n",
       "      <th>temp</th>\n",
       "      <th>RH</th>\n",
       "      <th>wind</th>\n",
       "      <th>rain</th>\n",
       "      <th>area</th>\n",
       "    </tr>\n",
       "  </thead>\n",
       "  <tbody>\n",
       "    <tr>\n",
       "      <th>skewness</th>\n",
       "      <td>0.036246</td>\n",
       "      <td>0.417296</td>\n",
       "      <td>0.084074</td>\n",
       "      <td>0.157756</td>\n",
       "      <td>-6.575606</td>\n",
       "      <td>0.547498</td>\n",
       "      <td>-1.100445</td>\n",
       "      <td>2.536325</td>\n",
       "      <td>-0.331172</td>\n",
       "      <td>0.862904</td>\n",
       "      <td>0.571001</td>\n",
       "      <td>19.816344</td>\n",
       "      <td>12.846934</td>\n",
       "    </tr>\n",
       "    <tr>\n",
       "      <th>kurtosis</th>\n",
       "      <td>-1.172331</td>\n",
       "      <td>1.420553</td>\n",
       "      <td>-1.719350</td>\n",
       "      <td>-1.101004</td>\n",
       "      <td>67.066041</td>\n",
       "      <td>0.204822</td>\n",
       "      <td>-0.245244</td>\n",
       "      <td>21.458037</td>\n",
       "      <td>0.136166</td>\n",
       "      <td>0.438183</td>\n",
       "      <td>0.054324</td>\n",
       "      <td>421.295964</td>\n",
       "      <td>194.140721</td>\n",
       "    </tr>\n",
       "  </tbody>\n",
       "</table>\n",
       "</div>"
      ],
      "text/plain": [
       "                 X         Y     month       day       FFMC       DMC  \\\n",
       "skewness  0.036246  0.417296  0.084074  0.157756  -6.575606  0.547498   \n",
       "kurtosis -1.172331  1.420553 -1.719350 -1.101004  67.066041  0.204822   \n",
       "\n",
       "                DC        ISI      temp        RH      wind        rain  \\\n",
       "skewness -1.100445   2.536325 -0.331172  0.862904  0.571001   19.816344   \n",
       "kurtosis -0.245244  21.458037  0.136166  0.438183  0.054324  421.295964   \n",
       "\n",
       "                area  \n",
       "skewness   12.846934  \n",
       "kurtosis  194.140721  "
      ]
     },
     "execution_count": 4,
     "metadata": {},
     "output_type": "execute_result"
    }
   ],
   "source": [
    "df = pd.read_csv(uploaded)\n",
    "columns = ['X','Y','month','day','FFMC','DMC','DC','ISI','temp','RH','wind','rain']\n",
    "\n",
    "df[['day','month']] = OrdinalEncoder().fit_transform(df[['day','month']])\n",
    "\n",
    "pd.DataFrame(data=[df.skew(),df.kurtosis()],index=['skewness','kurtosis'])"
   ]
  },
  {
   "cell_type": "code",
   "execution_count": 5,
   "metadata": {
    "colab": {
     "base_uri": "https://localhost:8080/"
    },
    "executionInfo": {
     "elapsed": 3369,
     "status": "ok",
     "timestamp": 1619365065361,
     "user": {
      "displayName": "Kozy-Korpesh Tolep",
      "photoUrl": "https://lh3.googleusercontent.com/a-/AOh14GjEBxPHGGrAf0Q_TWo2suiSsFytKEeYK82Dpv-Ncg=s64",
      "userId": "08907390623384163541"
     },
     "user_tz": -360
    },
    "id": "QW2Zmda_e8aP",
    "outputId": "3c200d3a-1ad4-49b9-c594-c7152a1102bf"
   },
   "outputs": [
    {
     "name": "stdout",
     "output_type": "stream",
     "text": [
      "(517, 13)\n",
      "(486, 13)\n"
     ]
    }
   ],
   "source": [
    "df[columns]=StandardScaler().fit_transform(df[columns])\n",
    "\n",
    "print(df.shape)\n",
    "z = np.abs(zscore(df))\n",
    "df = df[(z < 3).all(axis=1)]\n",
    "print(df.shape)\n"
   ]
  },
  {
   "cell_type": "code",
   "execution_count": 6,
   "metadata": {
    "colab": {
     "base_uri": "https://localhost:8080/"
    },
    "executionInfo": {
     "elapsed": 4380,
     "status": "ok",
     "timestamp": 1618375370225,
     "user": {
      "displayName": "Kozy-Korpesh Tolep",
      "photoUrl": "https://lh3.googleusercontent.com/a-/AOh14GjEBxPHGGrAf0Q_TWo2suiSsFytKEeYK82Dpv-Ncg=s64",
      "userId": "08907390623384163541"
     },
     "user_tz": -360
    },
    "id": "lbNdzpYinDXX",
    "outputId": "2797c66a-6189-4de8-f38e-070cea1ad5f1"
   },
   "outputs": [
    {
     "data": {
      "text/plain": [
       "const    1.334274\n",
       "X        1.380336\n",
       "Y        1.378691\n",
       "month    1.567285\n",
       "day      1.065657\n",
       "FFMC     3.345243\n",
       "DMC      2.745312\n",
       "DC       2.721977\n",
       "ISI      2.618092\n",
       "temp     2.862027\n",
       "RH       1.909193\n",
       "wind     1.192008\n",
       "rain     1.076656\n",
       "area     1.016980\n",
       "dtype: float64"
      ]
     },
     "execution_count": 6,
     "metadata": {},
     "output_type": "execute_result"
    }
   ],
   "source": [
    "X1 = sm.tools.add_constant(df) \n",
    "\n",
    "series1 = pd.Series([variance_inflation_factor(X1.values,i) for i in range(X1.shape[1])],\n",
    "                  index=X1.columns)\n",
    "\n",
    "series1"
   ]
  },
  {
   "cell_type": "markdown",
   "metadata": {
    "id": "egSd0pVDZa-9"
   },
   "source": [
    "All variance inflation factor coefficient are less than five, it can be concluded that there is no correlation between features."
   ]
  },
  {
   "cell_type": "code",
   "execution_count": 7,
   "metadata": {
    "colab": {
     "base_uri": "https://localhost:8080/"
    },
    "executionInfo": {
     "elapsed": 4369,
     "status": "ok",
     "timestamp": 1618375370227,
     "user": {
      "displayName": "Kozy-Korpesh Tolep",
      "photoUrl": "https://lh3.googleusercontent.com/a-/AOh14GjEBxPHGGrAf0Q_TWo2suiSsFytKEeYK82Dpv-Ncg=s64",
      "userId": "08907390623384163541"
     },
     "user_tz": -360
    },
    "id": "bt-lr1yxUe1-",
    "outputId": "4d40e287-b86d-4a1d-c1c3-29c8a710fbdd"
   },
   "outputs": [
    {
     "name": "stdout",
     "output_type": "stream",
     "text": [
      "Index(['X', 'Y', 'month', 'day', 'FFMC', 'DMC', 'DC', 'ISI', 'temp', 'RH',\n",
      "       'wind', 'rain'],\n",
      "      dtype='object')\n"
     ]
    }
   ],
   "source": [
    "numerical_features = df.drop(columns=['area']).copy()\n",
    "print(numerical_features.columns)"
   ]
  },
  {
   "cell_type": "code",
   "execution_count": 8,
   "metadata": {
    "colab": {
     "base_uri": "https://localhost:8080/"
    },
    "executionInfo": {
     "elapsed": 6955,
     "status": "ok",
     "timestamp": 1618375372841,
     "user": {
      "displayName": "Kozy-Korpesh Tolep",
      "photoUrl": "https://lh3.googleusercontent.com/a-/AOh14GjEBxPHGGrAf0Q_TWo2suiSsFytKEeYK82Dpv-Ncg=s64",
      "userId": "08907390623384163541"
     },
     "user_tz": -360
    },
    "id": "xLGkdW2F5Xxy",
    "outputId": "310976b1-da6d-4f63-df0d-149dbf031b7a"
   },
   "outputs": [
    {
     "data": {
      "text/plain": [
       "X         0.063923\n",
       "Y        -0.202949\n",
       "month     0.052650\n",
       "day       0.159875\n",
       "FFMC     -1.685313\n",
       "DMC       0.569870\n",
       "DC       -1.190412\n",
       "ISI       0.683740\n",
       "temp     -0.328373\n",
       "RH        0.706399\n",
       "wind      0.486262\n",
       "rain     13.349848\n",
       "area      5.326617\n",
       "dtype: float64"
      ]
     },
     "execution_count": 8,
     "metadata": {},
     "output_type": "execute_result"
    }
   ],
   "source": [
    "df.skew()"
   ]
  },
  {
   "cell_type": "code",
   "execution_count": 9,
   "metadata": {
    "colab": {
     "base_uri": "https://localhost:8080/"
    },
    "executionInfo": {
     "elapsed": 6946,
     "status": "ok",
     "timestamp": 1618375372846,
     "user": {
      "displayName": "Kozy-Korpesh Tolep",
      "photoUrl": "https://lh3.googleusercontent.com/a-/AOh14GjEBxPHGGrAf0Q_TWo2suiSsFytKEeYK82Dpv-Ncg=s64",
      "userId": "08907390623384163541"
     },
     "user_tz": -360
    },
    "id": "IqgnSLSI5ZsH",
    "outputId": "0deb86d7-bf9b-495b-aa95-ae8dad8c5108"
   },
   "outputs": [
    {
     "data": {
      "text/plain": [
       "X         -1.172167\n",
       "Y         -0.449995\n",
       "month     -1.747641\n",
       "day       -1.113485\n",
       "FFMC       4.254761\n",
       "DMC        0.282799\n",
       "DC         0.011288\n",
       "ISI        0.461803\n",
       "temp       0.247071\n",
       "RH        -0.005989\n",
       "wind      -0.164352\n",
       "rain     184.836192\n",
       "area      35.472354\n",
       "dtype: float64"
      ]
     },
     "execution_count": 9,
     "metadata": {},
     "output_type": "execute_result"
    }
   ],
   "source": [
    "df.kurtosis() "
   ]
  },
  {
   "cell_type": "code",
   "execution_count": 10,
   "metadata": {
    "colab": {
     "base_uri": "https://localhost:8080/",
     "height": 284
    },
    "executionInfo": {
     "elapsed": 6941,
     "status": "ok",
     "timestamp": 1618375372853,
     "user": {
      "displayName": "Kozy-Korpesh Tolep",
      "photoUrl": "https://lh3.googleusercontent.com/a-/AOh14GjEBxPHGGrAf0Q_TWo2suiSsFytKEeYK82Dpv-Ncg=s64",
      "userId": "08907390623384163541"
     },
     "user_tz": -360
    },
    "id": "Sy0Wq3xTb4ay",
    "outputId": "47fe6f90-f68f-4829-cf3d-28fe213a1778"
   },
   "outputs": [
    {
     "data": {
      "text/html": [
       "<div>\n",
       "<style scoped>\n",
       "    .dataframe tbody tr th:only-of-type {\n",
       "        vertical-align: middle;\n",
       "    }\n",
       "\n",
       "    .dataframe tbody tr th {\n",
       "        vertical-align: top;\n",
       "    }\n",
       "\n",
       "    .dataframe thead th {\n",
       "        text-align: right;\n",
       "    }\n",
       "</style>\n",
       "<table border=\"1\" class=\"dataframe\">\n",
       "  <thead>\n",
       "    <tr style=\"text-align: right;\">\n",
       "      <th></th>\n",
       "      <th>X</th>\n",
       "      <th>Y</th>\n",
       "      <th>month</th>\n",
       "      <th>day</th>\n",
       "      <th>FFMC</th>\n",
       "      <th>DMC</th>\n",
       "      <th>DC</th>\n",
       "      <th>ISI</th>\n",
       "      <th>temp</th>\n",
       "      <th>RH</th>\n",
       "      <th>wind</th>\n",
       "      <th>rain</th>\n",
       "      <th>area</th>\n",
       "    </tr>\n",
       "  </thead>\n",
       "  <tbody>\n",
       "    <tr>\n",
       "      <th>count</th>\n",
       "      <td>486.000000</td>\n",
       "      <td>486.000000</td>\n",
       "      <td>486.000000</td>\n",
       "      <td>486.000000</td>\n",
       "      <td>486.000000</td>\n",
       "      <td>486.000000</td>\n",
       "      <td>486.000000</td>\n",
       "      <td>486.000000</td>\n",
       "      <td>486.000000</td>\n",
       "      <td>486.000000</td>\n",
       "      <td>486.000000</td>\n",
       "      <td>486.000000</td>\n",
       "      <td>486.000000</td>\n",
       "    </tr>\n",
       "    <tr>\n",
       "      <th>mean</th>\n",
       "      <td>-0.042953</td>\n",
       "      <td>-0.064818</td>\n",
       "      <td>0.016721</td>\n",
       "      <td>0.008394</td>\n",
       "      <td>0.090212</td>\n",
       "      <td>0.023017</td>\n",
       "      <td>0.041235</td>\n",
       "      <td>-0.007240</td>\n",
       "      <td>0.013679</td>\n",
       "      <td>-0.044691</td>\n",
       "      <td>-0.030526</td>\n",
       "      <td>-0.057958</td>\n",
       "      <td>8.233210</td>\n",
       "    </tr>\n",
       "    <tr>\n",
       "      <th>std</th>\n",
       "      <td>0.985553</td>\n",
       "      <td>0.910819</td>\n",
       "      <td>1.011503</td>\n",
       "      <td>1.005144</td>\n",
       "      <td>0.564407</td>\n",
       "      <td>0.993732</td>\n",
       "      <td>0.979924</td>\n",
       "      <td>0.856469</td>\n",
       "      <td>0.985249</td>\n",
       "      <td>0.937818</td>\n",
       "      <td>0.970576</td>\n",
       "      <td>0.186201</td>\n",
       "      <td>21.978126</td>\n",
       "    </tr>\n",
       "    <tr>\n",
       "      <th>min</th>\n",
       "      <td>-1.587360</td>\n",
       "      <td>-1.871724</td>\n",
       "      <td>-1.317959</td>\n",
       "      <td>-1.423121</td>\n",
       "      <td>-2.818736</td>\n",
       "      <td>-1.685913</td>\n",
       "      <td>-2.179108</td>\n",
       "      <td>-1.739089</td>\n",
       "      <td>-2.876943</td>\n",
       "      <td>-1.796637</td>\n",
       "      <td>-2.021098</td>\n",
       "      <td>-0.073268</td>\n",
       "      <td>0.000000</td>\n",
       "    </tr>\n",
       "    <tr>\n",
       "      <th>25%</th>\n",
       "      <td>-0.722136</td>\n",
       "      <td>-0.244001</td>\n",
       "      <td>-1.089076</td>\n",
       "      <td>-0.903154</td>\n",
       "      <td>-0.062501</td>\n",
       "      <td>-0.555952</td>\n",
       "      <td>-0.294723</td>\n",
       "      <td>-0.526153</td>\n",
       "      <td>-0.532523</td>\n",
       "      <td>-0.753800</td>\n",
       "      <td>-0.736124</td>\n",
       "      <td>-0.073268</td>\n",
       "      <td>0.000000</td>\n",
       "    </tr>\n",
       "    <tr>\n",
       "      <th>50%</th>\n",
       "      <td>-0.289524</td>\n",
       "      <td>-0.244001</td>\n",
       "      <td>0.055339</td>\n",
       "      <td>0.136781</td>\n",
       "      <td>0.182296</td>\n",
       "      <td>-0.038640</td>\n",
       "      <td>0.474768</td>\n",
       "      <td>-0.136477</td>\n",
       "      <td>0.070821</td>\n",
       "      <td>-0.201709</td>\n",
       "      <td>-0.009834</td>\n",
       "      <td>-0.073268</td>\n",
       "      <td>0.530000</td>\n",
       "    </tr>\n",
       "    <tr>\n",
       "      <th>75%</th>\n",
       "      <td>0.575701</td>\n",
       "      <td>0.569860</td>\n",
       "      <td>1.199754</td>\n",
       "      <td>0.656748</td>\n",
       "      <td>0.408960</td>\n",
       "      <td>0.492739</td>\n",
       "      <td>0.674505</td>\n",
       "      <td>0.368455</td>\n",
       "      <td>0.674164</td>\n",
       "      <td>0.534411</td>\n",
       "      <td>0.492982</td>\n",
       "      <td>-0.073268</td>\n",
       "      <td>6.515000</td>\n",
       "    </tr>\n",
       "    <tr>\n",
       "      <th>max</th>\n",
       "      <td>1.873537</td>\n",
       "      <td>1.383722</td>\n",
       "      <td>1.199754</td>\n",
       "      <td>1.696682</td>\n",
       "      <td>1.007353</td>\n",
       "      <td>2.819865</td>\n",
       "      <td>1.261610</td>\n",
       "      <td>2.980931</td>\n",
       "      <td>2.484195</td>\n",
       "      <td>2.804116</td>\n",
       "      <td>2.727720</td>\n",
       "      <td>2.632426</td>\n",
       "      <td>200.940000</td>\n",
       "    </tr>\n",
       "  </tbody>\n",
       "</table>\n",
       "</div>"
      ],
      "text/plain": [
       "                X           Y       month         day        FFMC         DMC  \\\n",
       "count  486.000000  486.000000  486.000000  486.000000  486.000000  486.000000   \n",
       "mean    -0.042953   -0.064818    0.016721    0.008394    0.090212    0.023017   \n",
       "std      0.985553    0.910819    1.011503    1.005144    0.564407    0.993732   \n",
       "min     -1.587360   -1.871724   -1.317959   -1.423121   -2.818736   -1.685913   \n",
       "25%     -0.722136   -0.244001   -1.089076   -0.903154   -0.062501   -0.555952   \n",
       "50%     -0.289524   -0.244001    0.055339    0.136781    0.182296   -0.038640   \n",
       "75%      0.575701    0.569860    1.199754    0.656748    0.408960    0.492739   \n",
       "max      1.873537    1.383722    1.199754    1.696682    1.007353    2.819865   \n",
       "\n",
       "               DC         ISI        temp          RH        wind        rain  \\\n",
       "count  486.000000  486.000000  486.000000  486.000000  486.000000  486.000000   \n",
       "mean     0.041235   -0.007240    0.013679   -0.044691   -0.030526   -0.057958   \n",
       "std      0.979924    0.856469    0.985249    0.937818    0.970576    0.186201   \n",
       "min     -2.179108   -1.739089   -2.876943   -1.796637   -2.021098   -0.073268   \n",
       "25%     -0.294723   -0.526153   -0.532523   -0.753800   -0.736124   -0.073268   \n",
       "50%      0.474768   -0.136477    0.070821   -0.201709   -0.009834   -0.073268   \n",
       "75%      0.674505    0.368455    0.674164    0.534411    0.492982   -0.073268   \n",
       "max      1.261610    2.980931    2.484195    2.804116    2.727720    2.632426   \n",
       "\n",
       "             area  \n",
       "count  486.000000  \n",
       "mean     8.233210  \n",
       "std     21.978126  \n",
       "min      0.000000  \n",
       "25%      0.000000  \n",
       "50%      0.530000  \n",
       "75%      6.515000  \n",
       "max    200.940000  "
      ]
     },
     "execution_count": 10,
     "metadata": {},
     "output_type": "execute_result"
    }
   ],
   "source": [
    "df.describe()"
   ]
  },
  {
   "cell_type": "code",
   "execution_count": 11,
   "metadata": {
    "executionInfo": {
     "elapsed": 2780,
     "status": "ok",
     "timestamp": 1619365065361,
     "user": {
      "displayName": "Kozy-Korpesh Tolep",
      "photoUrl": "https://lh3.googleusercontent.com/a-/AOh14GjEBxPHGGrAf0Q_TWo2suiSsFytKEeYK82Dpv-Ncg=s64",
      "userId": "08907390623384163541"
     },
     "user_tz": -360
    },
    "id": "h_hfvlO86CS6"
   },
   "outputs": [],
   "source": [
    "X = df.drop(columns=['area'])\n",
    "y = df['area'].to_numpy()"
   ]
  },
  {
   "cell_type": "code",
   "execution_count": 12,
   "metadata": {
    "colab": {
     "base_uri": "https://localhost:8080/"
    },
    "executionInfo": {
     "elapsed": 1927,
     "status": "ok",
     "timestamp": 1619365065362,
     "user": {
      "displayName": "Kozy-Korpesh Tolep",
      "photoUrl": "https://lh3.googleusercontent.com/a-/AOh14GjEBxPHGGrAf0Q_TWo2suiSsFytKEeYK82Dpv-Ncg=s64",
      "userId": "08907390623384163541"
     },
     "user_tz": -360
    },
    "id": "8kEtKX4XfePE",
    "outputId": "1c90a7f7-da84-4e1e-95ad-ac46e7652f40"
   },
   "outputs": [
    {
     "name": "stdout",
     "output_type": "stream",
     "text": [
      "(468, 12)\n"
     ]
    },
    {
     "data": {
      "text/plain": [
       "(468,)"
      ]
     },
     "execution_count": 12,
     "metadata": {},
     "output_type": "execute_result"
    }
   ],
   "source": [
    "outliers = LocalOutlierFactor(n_neighbors=20).fit_predict(X)\n",
    "\n",
    "target_out = LocalOutlierFactor(n_neighbors=20).fit_predict(y.reshape(-1, 1))\n",
    "\n",
    "outliers = outliers == 1\n",
    "target_out = target_out == 1\n",
    "for i,t in enumerate(target_out):\n",
    "  outliers[i]=outliers[i] and t\n",
    "\n",
    "\n",
    "X,y=X[outliers],y[outliers]\n",
    "X_2,y_2=X,y\n",
    "X_3=X\n",
    "\n",
    "\n",
    "print(X.shape)\n",
    "y.shape"
   ]
  },
  {
   "cell_type": "code",
   "execution_count": 13,
   "metadata": {
    "executionInfo": {
     "elapsed": 5015,
     "status": "ok",
     "timestamp": 1619365072886,
     "user": {
      "displayName": "Kozy-Korpesh Tolep",
      "photoUrl": "https://lh3.googleusercontent.com/a-/AOh14GjEBxPHGGrAf0Q_TWo2suiSsFytKEeYK82Dpv-Ncg=s64",
      "userId": "08907390623384163541"
     },
     "user_tz": -360
    },
    "id": "mIEGzJd2KuUO"
   },
   "outputs": [],
   "source": [
    "import requests\n",
    "\n",
    "\n",
    "url_linreg = 'https://raw.githubusercontent.com/ankonzoid/LearningX/master/advanced_ML/model_tree/models/linear_regr.py'\n",
    "url_modeltree='https://raw.githubusercontent.com/ankonzoid/LearningX/master/advanced_ML/model_tree/src/ModelTree.py'\n",
    "\n",
    "r = requests.get(url_linreg, allow_redirects=True)\n",
    "with open('linear_regr.py', 'wb') as file:\n",
    "  file.write(r.content)\n",
    "\n",
    "r = requests.get(url_modeltree, allow_redirects=True)\n",
    "with open('ModelTree.py', 'wb') as file:\n",
    "  file.write(r.content)\n",
    "\n",
    "\n",
    "# from google.colab import files\n",
    "# uploaded = files.upload()"
   ]
  },
  {
   "cell_type": "code",
   "execution_count": 14,
   "metadata": {
    "executionInfo": {
     "elapsed": 2009,
     "status": "ok",
     "timestamp": 1619365074899,
     "user": {
      "displayName": "Kozy-Korpesh Tolep",
      "photoUrl": "https://lh3.googleusercontent.com/a-/AOh14GjEBxPHGGrAf0Q_TWo2suiSsFytKEeYK82Dpv-Ncg=s64",
      "userId": "08907390623384163541"
     },
     "user_tz": -360
    },
    "id": "izYj5E3pL6zb"
   },
   "outputs": [],
   "source": [
    "from ModelTree import ModelTree\n",
    "from linear_regr import linear_regr"
   ]
  },
  {
   "cell_type": "code",
   "execution_count": 15,
   "metadata": {
    "executionInfo": {
     "elapsed": 2008,
     "status": "ok",
     "timestamp": 1619365074900,
     "user": {
      "displayName": "Kozy-Korpesh Tolep",
      "photoUrl": "https://lh3.googleusercontent.com/a-/AOh14GjEBxPHGGrAf0Q_TWo2suiSsFytKEeYK82Dpv-Ncg=s64",
      "userId": "08907390623384163541"
     },
     "user_tz": -360
    },
    "id": "Ch5CK0RtVfPt"
   },
   "outputs": [],
   "source": [
    "model = linear_regr()\n",
    "model_tree = ModelTree(model, max_depth=2, min_samples_leaf=30,\n",
    "                        search_type=\"greedy\", n_search_grid=100)"
   ]
  },
  {
   "cell_type": "code",
   "execution_count": 41,
   "metadata": {
    "id": "gMRVWHLpVmTV"
   },
   "outputs": [],
   "source": [
    "cv_sets = KFold(n_splits=10, shuffle= True,random_state=100)\n",
    "param_grid = {\n",
    "              \"max_depth\": [1,3],\n",
    "              \"min_samples_leaf\":[50],\n",
    "              # \"search_type\": [\"greedy\", \"grid\", \"adaptive\"],\n",
    "              # \"n_search_grid\": [50,100,200]\n",
    "              }"
   ]
  },
  {
   "cell_type": "code",
   "execution_count": 42,
   "metadata": {
    "executionInfo": {
     "elapsed": 2007,
     "status": "ok",
     "timestamp": 1619365074901,
     "user": {
      "displayName": "Kozy-Korpesh Tolep",
      "photoUrl": "https://lh3.googleusercontent.com/a-/AOh14GjEBxPHGGrAf0Q_TWo2suiSsFytKEeYK82Dpv-Ncg=s64",
      "userId": "08907390623384163541"
     },
     "user_tz": -360
    },
    "id": "WpPnCkq4qw5O"
   },
   "outputs": [],
   "source": [
    "error_metric='neg_mean_absolute_error'"
   ]
  },
  {
   "cell_type": "code",
   "execution_count": 43,
   "metadata": {
    "id": "MZcjdO5rWEfY"
   },
   "outputs": [],
   "source": [
    "grid = GridSearchCV(model_tree, param_grid,cv=cv_sets,n_jobs=4,scoring=error_metric)"
   ]
  },
  {
   "cell_type": "code",
   "execution_count": 44,
   "metadata": {
    "colab": {
     "base_uri": "https://localhost:8080/"
    },
    "executionInfo": {
     "elapsed": 132943,
     "status": "ok",
     "timestamp": 1618375498930,
     "user": {
      "displayName": "Kozy-Korpesh Tolep",
      "photoUrl": "https://lh3.googleusercontent.com/a-/AOh14GjEBxPHGGrAf0Q_TWo2suiSsFytKEeYK82Dpv-Ncg=s64",
      "userId": "08907390623384163541"
     },
     "user_tz": -360
    },
    "id": "0RnfyXPkWGVt",
    "outputId": "b4efaeb2-fdb6-491e-e696-8741ff21f286"
   },
   "outputs": [
    {
     "name": "stdout",
     "output_type": "stream",
     "text": [
      "X is already numpy\n",
      "y is already numpy\n",
      "Best Hyperparameters::\n",
      "ModelTree(model=<linear_regr.linear_regr object at 0x130d29640>, max_depth=1, min_samples_leaf=50, search_type=greedy, n_search_grid=100)\n"
     ]
    },
    {
     "data": {
      "text/plain": [
       "(468, 12)"
      ]
     },
     "execution_count": 44,
     "metadata": {},
     "output_type": "execute_result"
    }
   ],
   "source": [
    "try:\n",
    "  X=X.to_numpy()\n",
    "except:\n",
    "  print('X is already numpy')\n",
    "\n",
    "try:\n",
    "  y=y.to_numpy()\n",
    "except:\n",
    "  print('y is already numpy')\n",
    "\n",
    "grid = grid.fit(X,y)\n",
    "print(\"Best Hyperparameters::\\n{}\".format(grid.best_estimator_))\n",
    "X.shape\n"
   ]
  },
  {
   "cell_type": "code",
   "execution_count": 45,
   "metadata": {
    "id": "ZlQ5PE5dWIaE"
   },
   "outputs": [],
   "source": [
    "lmt_t = grid.best_estimator_\n"
   ]
  },
  {
   "cell_type": "code",
   "execution_count": 46,
   "metadata": {
    "colab": {
     "base_uri": "https://localhost:8080/",
     "height": 130
    },
    "executionInfo": {
     "elapsed": 132927,
     "status": "ok",
     "timestamp": 1618375498936,
     "user": {
      "displayName": "Kozy-Korpesh Tolep",
      "photoUrl": "https://lh3.googleusercontent.com/a-/AOh14GjEBxPHGGrAf0Q_TWo2suiSsFytKEeYK82Dpv-Ncg=s64",
      "userId": "08907390623384163541"
     },
     "user_tz": -360
    },
    "id": "5vWJaCs6XDwu",
    "outputId": "f97c8962-fee2-421c-c892-a756a2c13b4f"
   },
   "outputs": [
    {
     "data": {
      "text/html": [
       "<div>\n",
       "<style scoped>\n",
       "    .dataframe tbody tr th:only-of-type {\n",
       "        vertical-align: middle;\n",
       "    }\n",
       "\n",
       "    .dataframe tbody tr th {\n",
       "        vertical-align: top;\n",
       "    }\n",
       "\n",
       "    .dataframe thead th {\n",
       "        text-align: right;\n",
       "    }\n",
       "</style>\n",
       "<table border=\"1\" class=\"dataframe\">\n",
       "  <thead>\n",
       "    <tr style=\"text-align: right;\">\n",
       "      <th></th>\n",
       "      <th>mean_fit_time</th>\n",
       "      <th>std_fit_time</th>\n",
       "      <th>mean_score_time</th>\n",
       "      <th>std_score_time</th>\n",
       "      <th>param_max_depth</th>\n",
       "      <th>param_min_samples_leaf</th>\n",
       "      <th>params</th>\n",
       "      <th>split0_test_score</th>\n",
       "      <th>split1_test_score</th>\n",
       "      <th>split2_test_score</th>\n",
       "      <th>split3_test_score</th>\n",
       "      <th>split4_test_score</th>\n",
       "      <th>split5_test_score</th>\n",
       "      <th>split6_test_score</th>\n",
       "      <th>split7_test_score</th>\n",
       "      <th>split8_test_score</th>\n",
       "      <th>split9_test_score</th>\n",
       "      <th>mean_test_score</th>\n",
       "      <th>std_test_score</th>\n",
       "      <th>rank_test_score</th>\n",
       "    </tr>\n",
       "  </thead>\n",
       "  <tbody>\n",
       "    <tr>\n",
       "      <th>0</th>\n",
       "      <td>7.912792</td>\n",
       "      <td>0.165299</td>\n",
       "      <td>0.005329</td>\n",
       "      <td>0.000112</td>\n",
       "      <td>1</td>\n",
       "      <td>50</td>\n",
       "      <td>{'max_depth': 1, 'min_samples_leaf': 50}</td>\n",
       "      <td>-7.135471</td>\n",
       "      <td>-6.630283</td>\n",
       "      <td>-7.662803</td>\n",
       "      <td>-7.200833</td>\n",
       "      <td>-6.378829</td>\n",
       "      <td>-7.310330</td>\n",
       "      <td>-6.000443</td>\n",
       "      <td>-6.472016</td>\n",
       "      <td>-7.317737</td>\n",
       "      <td>-6.360150</td>\n",
       "      <td>-6.846890</td>\n",
       "      <td>0.516784</td>\n",
       "      <td>1</td>\n",
       "    </tr>\n",
       "    <tr>\n",
       "      <th>1</th>\n",
       "      <td>17.245601</td>\n",
       "      <td>1.921395</td>\n",
       "      <td>0.004747</td>\n",
       "      <td>0.001220</td>\n",
       "      <td>3</td>\n",
       "      <td>50</td>\n",
       "      <td>{'max_depth': 3, 'min_samples_leaf': 50}</td>\n",
       "      <td>-8.245998</td>\n",
       "      <td>-7.143731</td>\n",
       "      <td>-7.699298</td>\n",
       "      <td>-7.836769</td>\n",
       "      <td>-7.065726</td>\n",
       "      <td>-8.417594</td>\n",
       "      <td>-7.201785</td>\n",
       "      <td>-8.013897</td>\n",
       "      <td>-8.226241</td>\n",
       "      <td>-7.334582</td>\n",
       "      <td>-7.718562</td>\n",
       "      <td>0.479298</td>\n",
       "      <td>2</td>\n",
       "    </tr>\n",
       "  </tbody>\n",
       "</table>\n",
       "</div>"
      ],
      "text/plain": [
       "   mean_fit_time  std_fit_time  mean_score_time  std_score_time  \\\n",
       "0       7.912792      0.165299         0.005329        0.000112   \n",
       "1      17.245601      1.921395         0.004747        0.001220   \n",
       "\n",
       "  param_max_depth param_min_samples_leaf  \\\n",
       "0               1                     50   \n",
       "1               3                     50   \n",
       "\n",
       "                                     params  split0_test_score  \\\n",
       "0  {'max_depth': 1, 'min_samples_leaf': 50}          -7.135471   \n",
       "1  {'max_depth': 3, 'min_samples_leaf': 50}          -8.245998   \n",
       "\n",
       "   split1_test_score  split2_test_score  split3_test_score  split4_test_score  \\\n",
       "0          -6.630283          -7.662803          -7.200833          -6.378829   \n",
       "1          -7.143731          -7.699298          -7.836769          -7.065726   \n",
       "\n",
       "   split5_test_score  split6_test_score  split7_test_score  split8_test_score  \\\n",
       "0          -7.310330          -6.000443          -6.472016          -7.317737   \n",
       "1          -8.417594          -7.201785          -8.013897          -8.226241   \n",
       "\n",
       "   split9_test_score  mean_test_score  std_test_score  rank_test_score  \n",
       "0          -6.360150        -6.846890        0.516784                1  \n",
       "1          -7.334582        -7.718562        0.479298                2  "
      ]
     },
     "execution_count": 46,
     "metadata": {},
     "output_type": "execute_result"
    }
   ],
   "source": [
    "df = pd.DataFrame(data=grid.cv_results_)\n",
    "df"
   ]
  },
  {
   "cell_type": "code",
   "execution_count": 47,
   "metadata": {
    "colab": {
     "base_uri": "https://localhost:8080/",
     "height": 316
    },
    "executionInfo": {
     "elapsed": 132917,
     "status": "ok",
     "timestamp": 1618375498938,
     "user": {
      "displayName": "Kozy-Korpesh Tolep",
      "photoUrl": "https://lh3.googleusercontent.com/a-/AOh14GjEBxPHGGrAf0Q_TWo2suiSsFytKEeYK82Dpv-Ncg=s64",
      "userId": "08907390623384163541"
     },
     "user_tz": -360
    },
    "id": "fOncS022zvVB",
    "outputId": "7a2a8bdb-8fb4-48b3-e552-a9178ae9ad23"
   },
   "outputs": [
    {
     "data": {
      "text/plain": [
       "[Text(0.5, 1.0, 'Effect of Depth and Leaf Nodes on Model Performance')]"
      ]
     },
     "execution_count": 47,
     "metadata": {},
     "output_type": "execute_result"
    },
    {
     "data": {
      "image/png": "[encoded data removed]",
      "text/plain": [
       "<Figure size 1080x720 with 1 Axes>"
      ]
     },
     "metadata": {},
     "output_type": "display_data"
    }
   ],
   "source": [
    "fig,ax = plt.subplots(figsize=(15,10))\n",
    "ax.set_ylim([-400,0])\n",
    "sns.pointplot(data=df[['mean_test_score',\n",
    "                           'param_min_samples_leaf',\n",
    "                           'param_max_depth']],\n",
    "             y='mean_test_score',x='param_max_depth',\n",
    "             hue='param_min_samples_leaf',ax=ax)\n",
    "ax.set(title=\"Effect of Depth and Leaf Nodes on Model Performance\")"
   ]
  },
  {
   "cell_type": "code",
   "execution_count": 48,
   "metadata": {
    "id": "wHTf12vxwu_T"
   },
   "outputs": [],
   "source": [
    "folds = KFold(n_splits = 10, shuffle = True, random_state = 100)"
   ]
  },
  {
   "cell_type": "code",
   "execution_count": 49,
   "metadata": {
    "executionInfo": {
     "elapsed": 1317,
     "status": "ok",
     "timestamp": 1619365096967,
     "user": {
      "displayName": "Kozy-Korpesh Tolep",
      "photoUrl": "https://lh3.googleusercontent.com/a-/AOh14GjEBxPHGGrAf0Q_TWo2suiSsFytKEeYK82Dpv-Ncg=s64",
      "userId": "08907390623384163541"
     },
     "user_tz": -360
    },
    "id": "o_1tR_PjWNeW"
   },
   "outputs": [],
   "source": [
    "def get_soc(D,f):\n",
    "    return (2*D+1)+(2*f)  "
   ]
  },
  {
   "cell_type": "code",
   "execution_count": null,
   "metadata": {
    "colab": {
     "background_save": true,
     "base_uri": "https://localhost:8080/"
    },
    "id": "-qEbyjRlWMUk",
    "outputId": "6e9517ff-acdf-44a3-cb2b-7a8345244bec"
   },
   "outputs": [
    {
     "name": "stdout",
     "output_type": "stream",
     "text": [
      "(468, 12)\n"
     ]
    }
   ],
   "source": [
    "print(X.shape)\n",
    "# X=X.to_numpy()\n",
    "# print(mean_squared_error(y,y_pred))\n",
    "# mse = cross_val_score(lmt_t,X,y,cv=folds,scoring='neg_mean_squared_error')\n",
    "# mse=np.abs(np.mean(mse))\n",
    "# print(\"Mean Squared Error: {}\".format(mse))\n",
    "# rmse=math.sqrt(mse)\n",
    "# print(\"Root Mean Squared Error: {}\".format(rmse))\n",
    "mae = cross_val_score(lmt_t,X,y,cv=folds,scoring='neg_mean_absolute_error')\n",
    "mae = np.abs(np.mean(mae))\n",
    "print(\"mean absolute error: {}\".format(mae))\n",
    "# r2 = cross_val_score(lmt_t,X,y,cv=folds,scoring='r2')\n",
    "# r2 = np.abs(np.mean(r2))\n",
    "# print(\"Overall model accuracy: {}\".format(r2))\n",
    "soc=get_soc(lmt_t.max_depth,X.shape[1])\n",
    "print(\"SOC: {}\".format(soc))"
   ]
  },
  {
   "cell_type": "code",
   "execution_count": 30,
   "metadata": {
    "id": "Qb9W8r1GLlfj"
   },
   "outputs": [],
   "source": [
    "train_sizes=np.array([0.1,0.2,0.3,0.4,0.5,1.0])\n",
    "_,train_scores,validation_scores=learning_curve(lmt_t,X,y,cv=folds,train_sizes=train_sizes,scoring=error_metric)"
   ]
  },
  {
   "cell_type": "code",
   "execution_count": null,
   "metadata": {
    "colab": {
     "background_save": true
    },
    "id": "6yC9FB1hLm7-",
    "outputId": "db566481-20d9-47e7-a531-a73c3b392f2d"
   },
   "outputs": [
    {
     "name": "stdout",
     "output_type": "stream",
     "text": [
      "Mean training scores\n",
      "\n",
      " 0.1   -0.000000\n",
      "0.2   -0.000000\n",
      "0.3    0.084955\n",
      "0.4    1.443308\n",
      "0.5    5.683612\n",
      "1.0    6.287324\n",
      "dtype: float64\n",
      "\n",
      " --------------------\n",
      "\n",
      "Mean validation scores\n",
      "\n",
      " 0.1    5.204963\n",
      "0.2    5.204963\n",
      "0.3    5.226166\n",
      "0.4    5.633059\n",
      "0.5    8.116995\n",
      "1.0    7.181195\n",
      "dtype: float64\n"
     ]
    }
   ],
   "source": [
    "train_scores_mean = -train_scores.mean(axis = 1)\n",
    "validation_scores_mean = -validation_scores.mean(axis = 1)\n"
   ]
  },
  {
   "cell_type": "code",
   "execution_count": null,
   "metadata": {
    "id": "-UAq8secbZ5V",
    "outputId": "f891a117-1686-489a-d2ed-5842a4b5e8ee"
   },
   "outputs": [
    {
     "data": {
      "text/plain": [
       "<matplotlib.legend.Legend at 0x192fa59f8e0>"
      ]
     },
     "execution_count": 53,
     "metadata": {
      "tags": []
     },
     "output_type": "execute_result"
    },
    {
     "data": {
      "image/png": "[encoded data removed]",
      "text/plain": [
       "<Figure size 432x288 with 1 Axes>"
      ]
     },
     "metadata": {
      "tags": []
     },
     "output_type": "display_data"
    }
   ],
   "source": [
    "plt.title(\"Learning curve\")\n",
    "\n",
    "plt.plot(train_sizes, train_scores_mean, label = 'Training error')\n",
    "plt.plot(train_sizes, validation_scores_mean, label = 'Validation error')\n",
    "plt.legend()\n",
    "plt.ylabel('MSE', fontsize = 14)\n",
    "plt.xlabel('Training set size', fontsize = 14)\n",
    "plt.title('Learning curves for a linear regression model', fontsize = 18, y = 1.03)\n",
    "plt.legend()"
   ]
  },
  {
   "cell_type": "code",
   "execution_count": null,
   "metadata": {
    "id": "HAt3LYM_qw5S",
    "outputId": "1f724f13-2f4e-4d18-a0c6-03c01a403bfb"
   },
   "outputs": [
    {
     "name": "stdout",
     "output_type": "stream",
     "text": [
      "(468, 12)\n",
      "Best Hyperparameters::\n",
      "ModelTree(model=<linear_regr.linear_regr object at 0x00000192FCE03100>, max_depth=1, min_samples_leaf=24, search_type=greedy, n_search_grid=100)\n",
      "Best Hyperparameters::\n",
      "ModelTree(model=<linear_regr.linear_regr object at 0x00000192FA5BADF0>, max_depth=2, min_samples_leaf=17, search_type=greedy, n_search_grid=100)\n",
      "Best Hyperparameters::\n",
      "ModelTree(model=<linear_regr.linear_regr object at 0x00000192FCE08AC0>, max_depth=3, min_samples_leaf=25, search_type=greedy, n_search_grid=100)\n",
      "Best Hyperparameters::\n",
      "ModelTree(model=<linear_regr.linear_regr object at 0x00000192FCE08130>, max_depth=4, min_samples_leaf=25, search_type=greedy, n_search_grid=100)\n",
      "Best Hyperparameters::\n",
      "ModelTree(model=<linear_regr.linear_regr object at 0x00000192FEE0B3A0>, max_depth=5, min_samples_leaf=25, search_type=greedy, n_search_grid=100)\n",
      "Best Hyperparameters::\n",
      "ModelTree(model=<linear_regr.linear_regr object at 0x00000192FEE27940>, max_depth=6, min_samples_leaf=25, search_type=greedy, n_search_grid=100)\n",
      "Best Hyperparameters::\n",
      "ModelTree(model=<linear_regr.linear_regr object at 0x00000192FCE07F70>, max_depth=7, min_samples_leaf=25, search_type=greedy, n_search_grid=100)\n",
      "[27, 29, 31, 33, 35, 37, 39]\n"
     ]
    },
    {
     "data": {
      "text/plain": [
       "[126.22162409739526,\n",
       " 141.72205210622639,\n",
       " 164.46652022233562,\n",
       " 189.88047280580815,\n",
       " 218.084625562222,\n",
       " 237.96076735402985,\n",
       " 291.53369131154227]"
      ]
     },
     "execution_count": 113,
     "metadata": {
      "tags": []
     },
     "output_type": "execute_result"
    }
   ],
   "source": [
    "mses = []\n",
    "SOCs = []\n",
    "arr_maes = []\n",
    "max_depth = []\n",
    "leaves = []\n",
    "print(X.shape)\n",
    "# X=X.to_numpy()\n",
    "# y=y.to_numpy()\n",
    "for x in range(1,8):\n",
    "  cv_sets = KFold(n_splits=10, shuffle= True,random_state=100)\n",
    "  param_grid = {\n",
    "                \"max_depth\": [x],\n",
    "                \"min_samples_leaf\": [1,2,3,4,5,6,7,8,9,10,11,12,13,14,15,16,17,18,19,20,21,22,23,24,25],\n",
    "#                 \"search_type\": [\"greedy\", \"grid\", \"adaptive\"],\n",
    "#                 \"n_search_grid\": [50,100,200]\n",
    "  }  \n",
    "  grid = GridSearchCV(model_tree, param_grid,cv=cv_sets,n_jobs=4,scoring=error_metric)\n",
    "  grid = grid.fit(X, y)\n",
    "  print(\"Best Hyperparameters::\\n{}\".format(grid.best_estimator_))\n",
    "  lmt = grid.best_estimator_\n",
    "  mse = cross_val_score(lmt,X,y,cv=cv_sets,scoring='neg_mean_squared_error')\n",
    "  mae = cross_val_score(lmt,X,y,cv=cv_sets,scoring='neg_mean_absolute_error')\n",
    "\n",
    "  mse=np.abs(np.mean(mse))\n",
    "  mses.append(mse)\n",
    "  mae=np.abs(np.mean(mae))\n",
    "  arr_maes.append(mae)\n",
    "  soc=get_soc(x,X.shape[1])\n",
    "  SOCs.append(soc)\n",
    "  max_depth.append(x)\n",
    "print(SOCs);\n",
    "mses"
   ]
  },
  {
   "cell_type": "code",
   "execution_count": null,
   "metadata": {
    "id": "fskPnsOSqw5S",
    "outputId": "777761c7-68b1-492b-b379-e29a719c094a"
   },
   "outputs": [
    {
     "data": {
      "text/plain": [
       "[7.180221071008512,\n",
       " 7.55907455901545,\n",
       " 8.58333716990818,\n",
       " 9.182974542677872,\n",
       " 9.855422687653002,\n",
       " 10.412304513715068,\n",
       " 11.188675384275719]"
      ]
     },
     "execution_count": 114,
     "metadata": {
      "tags": []
     },
     "output_type": "execute_result"
    }
   ],
   "source": [
    "min_samples_leaf=[24,17,25,25,25,25,25]\n",
    "arr_maes"
   ]
  },
  {
   "cell_type": "code",
   "execution_count": null,
   "metadata": {
    "id": "Vrh58gr5qw5S",
    "outputId": "4d0a4f66-60c5-4d3d-e3ae-cd32eb044191"
   },
   "outputs": [
    {
     "name": "stdout",
     "output_type": "stream",
     "text": [
      "X is already numpy\n",
      "y is already numpy\n"
     ]
    }
   ],
   "source": [
    "try:\n",
    "  X=X.to_numpy()\n",
    "except:\n",
    "  print('X is already numpy')\n",
    "\n",
    "try:\n",
    "  y=y.to_numpy()\n",
    "except:\n",
    "  print('y is already numpy')\n",
    "for x in range(14,23,2):\n",
    "    for y in range(1,3):\n",
    "      LMT = ModelTree(model, max_depth=y, min_samples_leaf=x,\n",
    "                              search_type=\"greedy\", n_search_grid=100)\n",
    "      mse = cross_val_score(LMT,X,y,cv=cv_sets,scoring='neg_mean_squared_error')\n",
    "      mae = cross_val_score(LMT,X,y,cv=cv_sets,scoring='neg_mean_absolute_error')\n",
    "\n",
    "      mse=np.abs(np.mean(mse))\n",
    "      msses.append(mse)\n",
    "      mae=np.abs(np.mean(mae))\n",
    "      arrr_maes.append(mae)\n",
    "      soc=get_soc(y,X.shape[1])\n",
    "      SOCCs.append(soc)\n",
    "      max_d.append(y)\n",
    "      ml.append(x)"
   ]
  },
  {
   "cell_type": "code",
   "execution_count": null,
   "metadata": {
    "id": "vUJ3YGscqw5T",
    "outputId": "f54bb24f-c69c-48df-b140-ea4b2aa5efa3"
   },
   "outputs": [
    {
     "name": "stdout",
     "output_type": "stream",
     "text": [
      "Lowest Mean Squared Error: 126.221\n",
      "Lowest Mean Absolute Error: 7.180221071008512\n"
     ]
    }
   ],
   "source": [
    "arr_mse_min = 126.221\n",
    "arr_mae_min = min(arr_maes)\n",
    "arr_soc_min = [27]\n",
    "arr_mse_min_soc = 126.221\n",
    "arr_mae_min_soc = min(arr_maes)\n",
    "arr_soc_min_soc = [27]\n",
    "print(\"Lowest Mean Squared Error: {}\".format(arr_mse_min))\n",
    "print(\"Lowest Mean Absolute Error: {}\".format(arr_mae_min))"
   ]
  },
  {
   "cell_type": "code",
   "execution_count": null,
   "metadata": {
    "id": "hbXCPdU-qw5T",
    "outputId": "ba7a5c82-f914-4541-8661-3d5a24589fdb"
   },
   "outputs": [
    {
     "data": {
      "text/plain": [
       "([141.72205210622639,\n",
       "  164.46652022233562,\n",
       "  189.88047280580815,\n",
       "  218.084625562222,\n",
       "  237.96076735402985,\n",
       "  291.53369131154227,\n",
       "  219.51963924064466,\n",
       "  168.26381549413097,\n",
       "  153.1812946032357,\n",
       "  211.0008227039869,\n",
       "  211.20020232590204,\n",
       "  158.38309375828985,\n",
       "  141.05711364412974],\n",
       " [8.58333716990818,\n",
       "  9.182974542677872,\n",
       "  9.855422687653002,\n",
       "  10.412304513715068,\n",
       "  11.188675384275719,\n",
       "  8.202726125385162,\n",
       "  7.9495299337227765,\n",
       "  8.364372652527432,\n",
       "  8.393245079051226])"
      ]
     },
     "execution_count": 32,
     "metadata": {
      "tags": []
     },
     "output_type": "execute_result"
    }
   ],
   "source": [
    "arr_mse_not_allowed = [ x for x in mses if x >= arr_mse_min*1.1 ]\n",
    "arr_mae_not_allowed = [ x for x in arr_maes if x >= arr_mae_min*1.1 ]\n",
    "arr_mse_not_allowed, arr_mae_not_allowed"
   ]
  },
  {
   "cell_type": "code",
   "execution_count": null,
   "metadata": {
    "id": "L9AN3xnZqw5U"
   },
   "outputs": [],
   "source": [
    "arr_mse_not_allowed_soc = [29, 31, 33, 35, 37,39, 29,29,29,29,29,27,27,27]\n",
    "arr_mae_not_allowed_soc = [31, 33, 35, 37,39, 29,29,29,29]"
   ]
  },
  {
   "cell_type": "code",
   "execution_count": null,
   "metadata": {
    "id": "7UcPq_h1qw5U",
    "outputId": "a5f84bfd-80f4-4f56-9d0a-ee084f4dbc8f"
   },
   "outputs": [
    {
     "data": {
      "image/png": "[encoded data removed]",
      "text/plain": [
       "<Figure size 432x288 with 1 Axes>"
      ]
     },
     "metadata": {
      "tags": []
     },
     "output_type": "display_data"
    }
   ],
   "source": [
    "plt.title(\"MAE vs. SOC\")\n",
    "\n",
    "plt.scatter(arr_maes, SOCs, c='green')\n",
    "plt.scatter(arr_mae_not_allowed, arr_mae_not_allowed_soc, c='red')\n",
    "plt.scatter(arr_mae_min, arr_soc_min, c='blue')\n",
    "plt.scatter(arr_mae_min_soc, arr_soc_min_soc, c='grey')\n",
    "plt.axvline(x=arr_mae_min*1.1)\n",
    "for i, txt in enumerate(mses):\n",
    "    plt.annotate(i, (arr_maes[i], SOCs[i]))\n",
    "plt.xlabel('MAE')\n",
    "plt.ylabel('SOC')\n",
    "plt.show()"
   ]
  },
  {
   "cell_type": "code",
   "execution_count": null,
   "metadata": {
    "id": "lwEAIf7Yqw5U",
    "outputId": "57c8b4a1-8260-4bb6-c474-e9f221e3fc08"
   },
   "outputs": [
    {
     "data": {
      "text/html": [
       "<div>\n",
       "<style scoped>\n",
       "    .dataframe tbody tr th:only-of-type {\n",
       "        vertical-align: middle;\n",
       "    }\n",
       "\n",
       "    .dataframe tbody tr th {\n",
       "        vertical-align: top;\n",
       "    }\n",
       "\n",
       "    .dataframe thead th {\n",
       "        text-align: right;\n",
       "    }\n",
       "</style>\n",
       "<table border=\"1\" class=\"dataframe\">\n",
       "  <thead>\n",
       "    <tr style=\"text-align: right;\">\n",
       "      <th></th>\n",
       "      <th>MSE</th>\n",
       "      <th>MAE</th>\n",
       "      <th>SOC</th>\n",
       "      <th>max_depth</th>\n",
       "      <th>min_samples_leaf</th>\n",
       "    </tr>\n",
       "  </thead>\n",
       "  <tbody>\n",
       "    <tr>\n",
       "      <th>0</th>\n",
       "      <td>126.221624</td>\n",
       "      <td>7.180221</td>\n",
       "      <td>27</td>\n",
       "      <td>1</td>\n",
       "      <td>24</td>\n",
       "    </tr>\n",
       "    <tr>\n",
       "      <th>1</th>\n",
       "      <td>141.722052</td>\n",
       "      <td>7.559075</td>\n",
       "      <td>29</td>\n",
       "      <td>2</td>\n",
       "      <td>17</td>\n",
       "    </tr>\n",
       "    <tr>\n",
       "      <th>2</th>\n",
       "      <td>164.466520</td>\n",
       "      <td>8.583337</td>\n",
       "      <td>31</td>\n",
       "      <td>3</td>\n",
       "      <td>25</td>\n",
       "    </tr>\n",
       "    <tr>\n",
       "      <th>3</th>\n",
       "      <td>189.880473</td>\n",
       "      <td>9.182975</td>\n",
       "      <td>33</td>\n",
       "      <td>4</td>\n",
       "      <td>25</td>\n",
       "    </tr>\n",
       "    <tr>\n",
       "      <th>4</th>\n",
       "      <td>218.084626</td>\n",
       "      <td>9.855423</td>\n",
       "      <td>35</td>\n",
       "      <td>5</td>\n",
       "      <td>25</td>\n",
       "    </tr>\n",
       "    <tr>\n",
       "      <th>5</th>\n",
       "      <td>237.960767</td>\n",
       "      <td>10.412305</td>\n",
       "      <td>37</td>\n",
       "      <td>6</td>\n",
       "      <td>25</td>\n",
       "    </tr>\n",
       "    <tr>\n",
       "      <th>6</th>\n",
       "      <td>291.533691</td>\n",
       "      <td>11.188675</td>\n",
       "      <td>39</td>\n",
       "      <td>7</td>\n",
       "      <td>25</td>\n",
       "    </tr>\n",
       "    <tr>\n",
       "      <th>7</th>\n",
       "      <td>219.519639</td>\n",
       "      <td>8.202726</td>\n",
       "      <td>29</td>\n",
       "      <td>2</td>\n",
       "      <td>14</td>\n",
       "    </tr>\n",
       "    <tr>\n",
       "      <th>8</th>\n",
       "      <td>168.263815</td>\n",
       "      <td>7.882823</td>\n",
       "      <td>29</td>\n",
       "      <td>2</td>\n",
       "      <td>16</td>\n",
       "    </tr>\n",
       "    <tr>\n",
       "      <th>9</th>\n",
       "      <td>153.181295</td>\n",
       "      <td>7.949530</td>\n",
       "      <td>29</td>\n",
       "      <td>2</td>\n",
       "      <td>18</td>\n",
       "    </tr>\n",
       "    <tr>\n",
       "      <th>10</th>\n",
       "      <td>211.000823</td>\n",
       "      <td>8.364373</td>\n",
       "      <td>29</td>\n",
       "      <td>2</td>\n",
       "      <td>20</td>\n",
       "    </tr>\n",
       "    <tr>\n",
       "      <th>11</th>\n",
       "      <td>211.200202</td>\n",
       "      <td>8.393245</td>\n",
       "      <td>29</td>\n",
       "      <td>2</td>\n",
       "      <td>22</td>\n",
       "    </tr>\n",
       "    <tr>\n",
       "      <th>12</th>\n",
       "      <td>158.383094</td>\n",
       "      <td>7.632535</td>\n",
       "      <td>27</td>\n",
       "      <td>1</td>\n",
       "      <td>14</td>\n",
       "    </tr>\n",
       "    <tr>\n",
       "      <th>13</th>\n",
       "      <td>141.057114</td>\n",
       "      <td>7.310613</td>\n",
       "      <td>27</td>\n",
       "      <td>1</td>\n",
       "      <td>16</td>\n",
       "    </tr>\n",
       "    <tr>\n",
       "      <th>14</th>\n",
       "      <td>128.204952</td>\n",
       "      <td>7.224774</td>\n",
       "      <td>27</td>\n",
       "      <td>1</td>\n",
       "      <td>18</td>\n",
       "    </tr>\n",
       "    <tr>\n",
       "      <th>15</th>\n",
       "      <td>129.066319</td>\n",
       "      <td>7.198672</td>\n",
       "      <td>27</td>\n",
       "      <td>1</td>\n",
       "      <td>20</td>\n",
       "    </tr>\n",
       "    <tr>\n",
       "      <th>16</th>\n",
       "      <td>129.081886</td>\n",
       "      <td>7.206253</td>\n",
       "      <td>27</td>\n",
       "      <td>1</td>\n",
       "      <td>22</td>\n",
       "    </tr>\n",
       "  </tbody>\n",
       "</table>\n",
       "</div>"
      ],
      "text/plain": [
       "           MSE        MAE  SOC  max_depth  min_samples_leaf\n",
       "0   126.221624   7.180221   27          1                24\n",
       "1   141.722052   7.559075   29          2                17\n",
       "2   164.466520   8.583337   31          3                25\n",
       "3   189.880473   9.182975   33          4                25\n",
       "4   218.084626   9.855423   35          5                25\n",
       "5   237.960767  10.412305   37          6                25\n",
       "6   291.533691  11.188675   39          7                25\n",
       "7   219.519639   8.202726   29          2                14\n",
       "8   168.263815   7.882823   29          2                16\n",
       "9   153.181295   7.949530   29          2                18\n",
       "10  211.000823   8.364373   29          2                20\n",
       "11  211.200202   8.393245   29          2                22\n",
       "12  158.383094   7.632535   27          1                14\n",
       "13  141.057114   7.310613   27          1                16\n",
       "14  128.204952   7.224774   27          1                18\n",
       "15  129.066319   7.198672   27          1                20\n",
       "16  129.081886   7.206253   27          1                22"
      ]
     },
     "execution_count": 34,
     "metadata": {
      "tags": []
     },
     "output_type": "execute_result"
    }
   ],
   "source": [
    "data = { 'MSE': mses, 'MAE': arr_maes, 'SOC': SOCs, 'max_depth': max_depth,  'min_samples_leaf': min_samples_leaf }\n",
    "df2 = pd.DataFrame(data)\n",
    "df2\n"
   ]
  },
  {
   "cell_type": "code",
   "execution_count": null,
   "metadata": {
    "id": "ag2XrW-Jqw5U",
    "outputId": "d900657f-e841-4246-ec6e-767b1fb17ffa"
   },
   "outputs": [
    {
     "name": "stdout",
     "output_type": "stream",
     "text": [
      "    Specs     Score\n",
      "10   wind  2.665304\n",
      "0       X  1.549705\n",
      "11   rain  0.851719\n",
      "3     day  0.637407\n",
      "4    FFMC  0.523909\n",
      "5     DMC  0.373371\n",
      "2   month  0.337813\n",
      "1       Y  0.300340\n",
      "8    temp  0.128801\n",
      "9      RH  0.080501\n",
      "7     ISI  0.041118\n",
      "6      DC  0.012693\n"
     ]
    }
   ],
   "source": [
    "df_header = df.columns.values  # header\n",
    "header = list(df_header)\n",
    "k=12\n",
    "bestfeatures = SelectKBest(score_func=f_regression, k=k)\n",
    "fit = bestfeatures.fit(X,y)\n",
    "dfscores = pd.DataFrame(fit.scores_)\n",
    "dfcolumns = pd.DataFrame(header)\n",
    "#concat two dataframes for better visualization \n",
    "featureScores = pd.concat([dfcolumns,dfscores],axis=1)\n",
    "featureScores.columns = ['Specs','Score']  #naming the dataframe columns\n",
    "print(featureScores.nlargest(k,'Score'))\n",
    "col=featureScores.nlargest(k,'Score')\n",
    "col=col.drop(['Score'], axis=1)\n"
   ]
  },
  {
   "cell_type": "code",
   "execution_count": null,
   "metadata": {
    "id": "hRFQIHCjqw5V",
    "outputId": "c0ad5f19-ae3b-4078-bdb1-1a17a9464173"
   },
   "outputs": [
    {
     "name": "stdout",
     "output_type": "stream",
     "text": [
      "y is already numpy\n",
      "Best Hyperparameters::\n",
      "ModelTree(model=<linear_regr.linear_regr object at 0x000001AFA11FDA60>, max_depth=1, min_samples_leaf=22, search_type=greedy, n_search_grid=100)\n",
      "(468, 12)\n"
     ]
    },
    {
     "ename": "NameError",
     "evalue": "name 'folds' is not defined",
     "output_type": "error",
     "traceback": [
      "\u001b[1;31m---------------------------------------------------------------------------\u001b[0m",
      "\u001b[1;31mNameError\u001b[0m                                 Traceback (most recent call last)",
      "\u001b[1;32m<ipython-input-12-61bc20bb8191>\u001b[0m in \u001b[0;36m<module>\u001b[1;34m\u001b[0m\n\u001b[0;32m     33\u001b[0m \u001b[1;33m\u001b[0m\u001b[0m\n\u001b[0;32m     34\u001b[0m \u001b[0mprint\u001b[0m\u001b[1;33m(\u001b[0m\u001b[0mX\u001b[0m\u001b[1;33m.\u001b[0m\u001b[0mshape\u001b[0m\u001b[1;33m)\u001b[0m\u001b[1;33m\u001b[0m\u001b[1;33m\u001b[0m\u001b[0m\n\u001b[1;32m---> 35\u001b[1;33m \u001b[0mmae\u001b[0m \u001b[1;33m=\u001b[0m \u001b[0mcross_val_score\u001b[0m\u001b[1;33m(\u001b[0m\u001b[0mlmt_t_2\u001b[0m\u001b[1;33m,\u001b[0m\u001b[0mX_new\u001b[0m\u001b[1;33m,\u001b[0m\u001b[0my\u001b[0m\u001b[1;33m,\u001b[0m\u001b[0mcv\u001b[0m\u001b[1;33m=\u001b[0m\u001b[0mfolds\u001b[0m\u001b[1;33m,\u001b[0m\u001b[0mscoring\u001b[0m\u001b[1;33m=\u001b[0m\u001b[1;34m'neg_mean_absolute_error'\u001b[0m\u001b[1;33m)\u001b[0m\u001b[1;33m\u001b[0m\u001b[1;33m\u001b[0m\u001b[0m\n\u001b[0m\u001b[0;32m     36\u001b[0m \u001b[0mmae\u001b[0m \u001b[1;33m=\u001b[0m \u001b[0mnp\u001b[0m\u001b[1;33m.\u001b[0m\u001b[0mabs\u001b[0m\u001b[1;33m(\u001b[0m\u001b[0mnp\u001b[0m\u001b[1;33m.\u001b[0m\u001b[0mmean\u001b[0m\u001b[1;33m(\u001b[0m\u001b[0mmae\u001b[0m\u001b[1;33m)\u001b[0m\u001b[1;33m)\u001b[0m\u001b[1;33m\u001b[0m\u001b[1;33m\u001b[0m\u001b[0m\n\u001b[0;32m     37\u001b[0m \u001b[0mprint\u001b[0m\u001b[1;33m(\u001b[0m\u001b[1;34m\"mean absolute error: {}\"\u001b[0m\u001b[1;33m.\u001b[0m\u001b[0mformat\u001b[0m\u001b[1;33m(\u001b[0m\u001b[0mmae\u001b[0m\u001b[1;33m)\u001b[0m\u001b[1;33m)\u001b[0m\u001b[1;33m\u001b[0m\u001b[1;33m\u001b[0m\u001b[0m\n",
      "\u001b[1;31mNameError\u001b[0m: name 'folds' is not defined"
     ]
    },
    {
     "data": {
      "image/png": "[encoded data removed]",
      "text/plain": [
       "<Figure size 1080x720 with 1 Axes>"
      ]
     },
     "metadata": {
      "tags": []
     },
     "output_type": "display_data"
    }
   ],
   "source": [
    "X_new=X_2.drop(['DC'], axis=1)\n",
    "\n",
    "cv_sets = KFold(n_splits=10, shuffle= True,random_state=100)\n",
    "param_grid = {\n",
    "              \"max_depth\": [1,2,3,4,5,6,7,8,9],\n",
    "              \"min_samples_leaf\":[1,2,3,4,5,6,7,8,9,10,11,12,13,14,15,16,17,18,19,20,21,22,23,24,25],\n",
    "              # \"search_type\": [\"greedy\", \"grid\", \"adaptive\"],\n",
    "              # \"n_search_grid\": [50,100,200]\n",
    "              }\n",
    "grid = GridSearchCV(model_tree, param_grid,cv=cv_sets,n_jobs=4,scoring=error_metric)\n",
    "try:\n",
    "  X_new=X_new.to_numpy()\n",
    "except:\n",
    "  print('X is already numpy')\n",
    "\n",
    "try:\n",
    "  y=y.to_numpy()\n",
    "except:\n",
    "  print('y is already numpy')\n",
    "\n",
    "grid = grid.fit(X_new,y)\n",
    "print(\"Best Hyperparameters::\\n{}\".format(grid.best_estimator_))\n",
    "lmt_t_2 = grid.best_estimator_\n",
    "df = pd.DataFrame(data=grid.cv_results_)\n",
    "fig,ax = plt.subplots(figsize=(15,10))\n",
    "ax.set_ylim([-400,0])\n",
    "sns.pointplot(data=df[['mean_test_score',\n",
    "                           'param_min_samples_leaf',\n",
    "                           'param_max_depth']],\n",
    "             y='mean_test_score',x='param_max_depth',\n",
    "             hue='param_min_samples_leaf',ax=ax)\n",
    "ax.set(title=\"Effect of Depth and Leaf Nodes on Model Performance\")\n",
    "\n",
    "\n"
   ]
  },
  {
   "cell_type": "code",
   "execution_count": null,
   "metadata": {
    "id": "Vi1hwR-4qw5V",
    "outputId": "79ec695a-2778-4f2e-f0e5-748459c462d5"
   },
   "outputs": [
    {
     "name": "stdout",
     "output_type": "stream",
     "text": [
      "(468, 12)\n",
      "mean absolute error: 6.99342640309518\n",
      "SOC: 25\n"
     ]
    },
    {
     "data": {
      "image/png": "[encoded data removed]",
      "text/plain": [
       "<Figure size 432x288 with 1 Axes>"
      ]
     },
     "metadata": {
      "tags": []
     },
     "output_type": "display_data"
    }
   ],
   "source": [
    "train_sizes=np.array([0.1,0.2,0.3,0.4,0.5,1.0])\n",
    "_,train_scores,validation_scores=learning_curve(lmt_t_2,X_new,y,cv=cv_sets,train_sizes=train_sizes,scoring=error_metric)\n",
    "train_scores_mean = -train_scores.mean(axis = 1)\n",
    "validation_scores_mean = -validation_scores.mean(axis = 1)\n",
    "\n",
    "plt.title(\"Learning curve\")\n",
    "\n",
    "plt.plot(train_sizes, train_scores_mean, label = 'Training error')\n",
    "plt.plot(train_sizes, validation_scores_mean, label = 'Validation error')\n",
    "plt.legend()\n",
    "plt.ylabel('MSE', fontsize = 14)\n",
    "plt.xlabel('Training set size', fontsize = 14)\n",
    "plt.title('Learning curves for a linear regression model', fontsize = 18, y = 1.03)\n",
    "plt.legend()\n",
    "print(X.shape)\n",
    "mae = cross_val_score(lmt_t_2,X_new,y,cv=cv_sets,scoring='neg_mean_absolute_error')\n",
    "mae = np.abs(np.mean(mae))\n",
    "print(\"mean absolute error: {}\".format(mae))\n",
    "soc=get_soc(lmt_t_2.max_depth,X_new.shape[1])\n",
    "print(\"SOC: {}\".format(soc))"
   ]
  },
  {
   "cell_type": "code",
   "execution_count": null,
   "metadata": {
    "id": "J3BrlEWVqw5V",
    "outputId": "ca87b3ef-a48e-4e16-c61f-1bf8c6d1542a"
   },
   "outputs": [
    {
     "name": "stdout",
     "output_type": "stream",
     "text": [
      "(468, 10)\n",
      "y is already numpy\n",
      "Best Hyperparameters::\n",
      "ModelTree(model=<linear_regr.linear_regr object at 0x000001AFA3420790>, max_depth=1, min_samples_leaf=16, search_type=greedy, n_search_grid=100)\n"
     ]
    },
    {
     "data": {
      "text/plain": [
       "[Text(0.5, 1.0, 'Effect of Depth and Leaf Nodes on Model Performance')]"
      ]
     },
     "execution_count": 29,
     "metadata": {
      "tags": []
     },
     "output_type": "execute_result"
    },
    {
     "data": {
      "image/png": "[encoded data removed]",
      "text/plain": [
       "<Figure size 1080x720 with 1 Axes>"
      ]
     },
     "metadata": {
      "tags": []
     },
     "output_type": "display_data"
    }
   ],
   "source": [
    "X_new=X_2.drop(['ISI','DC'], axis=1)\n",
    "print(X_new.shape)\n",
    "cv_sets = KFold(n_splits=10, shuffle= True,random_state=100)\n",
    "param_grid = {\n",
    "              \"max_depth\": [1,2,3,4,5,6,7,8,9],\n",
    "              \"min_samples_leaf\":[1,2,3,4,5,6,7,8,9,10,11,12,13,14,15,16,17,18,19,20,21,22,23,24,25],\n",
    "              # \"search_type\": [\"greedy\", \"grid\", \"adaptive\"],\n",
    "              # \"n_search_grid\": [50,100,200]\n",
    "              }\n",
    "grid = GridSearchCV(model_tree, param_grid,cv=cv_sets,n_jobs=4,scoring=error_metric)\n",
    "try:\n",
    "  X_new=X_new.to_numpy()\n",
    "except:\n",
    "  print('X is already numpy')\n",
    "\n",
    "try:\n",
    "  y=y.to_numpy()\n",
    "except:\n",
    "  print('y is already numpy')\n",
    "\n",
    "grid = grid.fit(X_new,y)\n",
    "print(\"Best Hyperparameters::\\n{}\".format(grid.best_estimator_))\n",
    "lmt_t_2 = grid.best_estimator_\n",
    "df = pd.DataFrame(data=grid.cv_results_)\n",
    "fig,ax = plt.subplots(figsize=(15,10))\n",
    "ax.set_ylim([-400,0])\n",
    "sns.pointplot(data=df[['mean_test_score',\n",
    "                           'param_min_samples_leaf',\n",
    "                           'param_max_depth']],\n",
    "             y='mean_test_score',x='param_max_depth',\n",
    "             hue='param_min_samples_leaf',ax=ax)\n",
    "ax.set(title=\"Effect of Depth and Leaf Nodes on Model Performance\")"
   ]
  },
  {
   "cell_type": "code",
   "execution_count": null,
   "metadata": {
    "id": "mIdr8DUAqw5V",
    "outputId": "a1cb69e9-1d0a-466c-881f-6a0c3b8f1139"
   },
   "outputs": [
    {
     "name": "stdout",
     "output_type": "stream",
     "text": [
      "(468, 12)\n",
      "mean absolute error: 6.906519673700979\n",
      "SOC: 23\n"
     ]
    },
    {
     "data": {
      "text/plain": [
       "<matplotlib.legend.Legend at 0x1afa12050d0>"
      ]
     },
     "execution_count": 30,
     "metadata": {
      "tags": []
     },
     "output_type": "execute_result"
    },
    {
     "data": {
      "image/png": "[encoded data removed]",
      "text/plain": [
       "<Figure size 432x288 with 1 Axes>"
      ]
     },
     "metadata": {
      "tags": []
     },
     "output_type": "display_data"
    }
   ],
   "source": [
    "print(X.shape)\n",
    "mae = cross_val_score(lmt_t_2,X_new,y,cv=cv_sets,scoring='neg_mean_absolute_error')\n",
    "mae = np.abs(np.mean(mae))\n",
    "print(\"mean absolute error: {}\".format(mae))\n",
    "soc=get_soc(lmt_t_2.max_depth,X_new.shape[1])\n",
    "print(\"SOC: {}\".format(soc))\n",
    "\n",
    "train_sizes=np.array([0.1,0.2,0.3,0.4,0.5,1.0])\n",
    "_,train_scores,validation_scores=learning_curve(lmt_t_2,X_new,y,cv=cv_sets,train_sizes=train_sizes,scoring=error_metric)\n",
    "train_scores_mean = -train_scores.mean(axis = 1)\n",
    "validation_scores_mean = -validation_scores.mean(axis = 1)\n",
    "\n",
    "plt.title(\"Learning curve\")\n",
    "\n",
    "plt.plot(train_sizes, train_scores_mean, label = 'Training error')\n",
    "plt.plot(train_sizes, validation_scores_mean, label = 'Validation error')\n",
    "plt.legend()\n",
    "plt.ylabel('MSE', fontsize = 14)\n",
    "plt.xlabel('Training set size', fontsize = 14)\n",
    "plt.title('Learning curves for a linear regression model', fontsize = 18, y = 1.03)\n",
    "plt.legend()"
   ]
  },
  {
   "cell_type": "code",
   "execution_count": 13,
   "metadata": {
    "colab": {
     "base_uri": "https://localhost:8080/",
     "height": 710
    },
    "executionInfo": {
     "elapsed": 2901614,
     "status": "ok",
     "timestamp": 1619368060319,
     "user": {
      "displayName": "Kozy-Korpesh Tolep",
      "photoUrl": "https://lh3.googleusercontent.com/a-/AOh14GjEBxPHGGrAf0Q_TWo2suiSsFytKEeYK82Dpv-Ncg=s64",
      "userId": "08907390623384163541"
     },
     "user_tz": -360
    },
    "id": "EYgRVTJirHW8",
    "outputId": "96288f22-a3ab-4a52-c978-c418629c0bba"
   },
   "outputs": [
    {
     "name": "stdout",
     "output_type": "stream",
     "text": [
      "(468, 1)\n",
      "y is already numpy\n",
      "Best Hyperparameters::\n",
      "ModelTree(model=<linear_regr.linear_regr object at 0x7f501db76ed0>, max_depth=1, min_samples_leaf=1, search_type=greedy, n_search_grid=100)\n"
     ]
    },
    {
     "data": {
      "text/plain": [
       "[Text(0.5, 1.0, 'Effect of Depth and Leaf Nodes on Model Performance')]"
      ]
     },
     "execution_count": 13,
     "metadata": {
      "tags": []
     },
     "output_type": "execute_result"
    },
    {
     "data": {
      "image/png": "[encoded data removed]",
      "text/plain": [
       "<Figure size 1080x720 with 1 Axes>"
      ]
     },
     "metadata": {
      "needs_background": "light",
      "tags": []
     },
     "output_type": "display_data"
    }
   ],
   "source": [
    "X_new=X_2.drop(['X','Y','month','day','FFMC','DMC','DC','ISI','temp','RH','rain'], axis=1)\n",
    "print(X_new.shape)\n",
    "cv_sets = KFold(n_splits=10, shuffle= True,random_state=100)\n",
    "param_grid = {\n",
    "              \"max_depth\": [1,2,3,4,5,6,7,8,9],\n",
    "              \"min_samples_leaf\":[1,2,3,4,5,6,7,8,9,10,11,12,13,14,15,16,17,18,19,20,21,22,23,24,25],\n",
    "              # \"search_type\": [\"greedy\", \"grid\", \"adaptive\"],\n",
    "              # \"n_search_grid\": [50,100,200]\n",
    "              }\n",
    "grid = GridSearchCV(model_tree, param_grid,cv=cv_sets,n_jobs=4,scoring=error_metric)\n",
    "try:\n",
    "  X_new=X_new.to_numpy()\n",
    "except:\n",
    "  print('X is already numpy')\n",
    "\n",
    "try:\n",
    "  y=y.to_numpy()\n",
    "except:\n",
    "  print('y is already numpy')\n",
    "\n",
    "grid = grid.fit(X_new,y)\n",
    "print(\"Best Hyperparameters::\\n{}\".format(grid.best_estimator_))\n",
    "lmt_t_2 = grid.best_estimator_\n",
    "df = pd.DataFrame(data=grid.cv_results_)\n",
    "fig,ax = plt.subplots(figsize=(15,10))\n",
    "ax.set_ylim([-400,0])\n",
    "sns.pointplot(data=df[['mean_test_score',\n",
    "                           'param_min_samples_leaf',\n",
    "                           'param_max_depth']],\n",
    "             y='mean_test_score',x='param_max_depth',\n",
    "             hue='param_min_samples_leaf',ax=ax)\n",
    "ax.set(title=\"Effect of Depth and Leaf Nodes on Model Performance\")"
   ]
  },
  {
   "cell_type": "code",
   "execution_count": 14,
   "metadata": {
    "colab": {
     "base_uri": "https://localhost:8080/",
     "height": 378
    },
    "executionInfo": {
     "elapsed": 28141,
     "status": "ok",
     "timestamp": 1619368088468,
     "user": {
      "displayName": "Kozy-Korpesh Tolep",
      "photoUrl": "https://lh3.googleusercontent.com/a-/AOh14GjEBxPHGGrAf0Q_TWo2suiSsFytKEeYK82Dpv-Ncg=s64",
      "userId": "08907390623384163541"
     },
     "user_tz": -360
    },
    "id": "ttFfDo-3rYI0",
    "outputId": "a228fa12-73cb-48ef-8690-bd0c587884b4"
   },
   "outputs": [
    {
     "name": "stdout",
     "output_type": "stream",
     "text": [
      "(468, 1)\n",
      "mean absolute error: 6.4907258558007\n",
      "SOC: 5\n"
     ]
    },
    {
     "data": {
      "text/plain": [
       "<matplotlib.legend.Legend at 0x7f501d8b3590>"
      ]
     },
     "execution_count": 14,
     "metadata": {
      "tags": []
     },
     "output_type": "execute_result"
    },
    {
     "data": {
      "image/png": "[encoded data removed]",
      "text/plain": [
       "<Figure size 432x288 with 1 Axes>"
      ]
     },
     "metadata": {
      "needs_background": "light",
      "tags": []
     },
     "output_type": "display_data"
    }
   ],
   "source": [
    "print(X_new.shape)\n",
    "mae = cross_val_score(lmt_t_2,X_new,y,cv=cv_sets,scoring='neg_mean_absolute_error')\n",
    "mae = np.abs(np.mean(mae))\n",
    "print(\"mean absolute error: {}\".format(mae))\n",
    "soc=get_soc(lmt_t_2.max_depth,X_new.shape[1])\n",
    "print(\"SOC: {}\".format(soc))\n",
    "\n",
    "train_sizes=np.array([0.1,0.2,0.3,0.4,0.5,1.0])\n",
    "_,train_scores,validation_scores=learning_curve(lmt_t_2,X_new,y,cv=cv_sets,train_sizes=train_sizes,scoring=error_metric)\n",
    "train_scores_mean = -train_scores.mean(axis = 1)\n",
    "validation_scores_mean = -validation_scores.mean(axis = 1)\n",
    "\n",
    "plt.title(\"Learning curve\")\n",
    "\n",
    "plt.plot(train_sizes, train_scores_mean, label = 'Training error')\n",
    "plt.plot(train_sizes, validation_scores_mean, label = 'Validation error')\n",
    "plt.legend()\n",
    "plt.ylabel('MSE', fontsize = 14)\n",
    "plt.xlabel('Training set size', fontsize = 14)\n",
    "plt.title('Learning curves for a linear regression model', fontsize = 18, y = 1.03)\n",
    "plt.legend()"
   ]
  },
  {
   "cell_type": "code",
   "execution_count": null,
   "metadata": {
    "id": "BH1tNjlUqw5W"
   },
   "outputs": [],
   "source": []
  }
 ],
 "metadata": {
  "colab": {
   "collapsed_sections": [],
   "name": "Copy of ForestFire_LMT-2.ipynb",
   "provenance": []
  },
  "kernelspec": {
   "display_name": "Python 3",
   "language": "python",
   "name": "python3"
  },
  "language_info": {
   "codemirror_mode": {
    "name": "ipython",
    "version": 3
   },
   "file_extension": ".py",
   "mimetype": "text/x-python",
   "name": "python",
   "nbconvert_exporter": "python",
   "pygments_lexer": "ipython3",
   "version": "3.8.2"
  }
 },
 "nbformat": 4,
 "nbformat_minor": 1
}
