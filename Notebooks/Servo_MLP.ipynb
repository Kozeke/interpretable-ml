{
 "cells": [
  {
   "cell_type": "code",
   "execution_count": 1,
   "metadata": {
    "executionInfo": {
     "elapsed": 2172,
     "status": "ok",
     "timestamp": 1619373221899,
     "user": {
      "displayName": "Dinmukhamed Kaldykhanov",
      "photoUrl": "https://lh3.googleusercontent.com/a-/AOh14Gi8JBhh4qoXO8KmL48WKzrczCRexBMskXI2i_1Ngw=s64",
      "userId": "16471649019417663423"
     },
     "user_tz": -360
    },
    "id": "eY3RO7WODA7k"
   },
   "outputs": [],
   "source": [
    "%matplotlib inline\n",
    "\n",
    "import numpy as np\n",
    "import pandas as pd\n",
    "import seaborn as sns\n",
    "from math import sqrt\n",
    "from sklearn.svm import SVR\n",
    "from sklearn.neural_network import MLPRegressor\n",
    "\n",
    "from sklearn.linear_model import LinearRegression\n",
    "import matplotlib.pyplot as plt\n",
    "\n",
    "from statsmodels.stats.outliers_influence import variance_inflation_factor\n",
    "from scipy.stats import zscore, t\n",
    "\n",
    "from sklearn.ensemble import ExtraTreesRegressor\n",
    "from sklearn.ensemble import IsolationForest\n",
    "\n",
    "from sklearn.metrics import mean_squared_error,make_scorer\n",
    "from sklearn.metrics import r2_score, mean_absolute_error\n",
    "\n",
    "from sklearn.neighbors import LocalOutlierFactor\n",
    "\n",
    "\n",
    "from sklearn.feature_selection import RFE,RFECV\n",
    "from sklearn.feature_selection import SelectKBest\n",
    "from sklearn.feature_selection import f_regression\n",
    "from sklearn.feature_selection import mutual_info_regression\n",
    "from sklearn.feature_selection import SelectFromModel\n",
    "\n",
    "\n",
    "from sklearn.pipeline import Pipeline\n",
    "from sklearn.preprocessing import StandardScaler,OrdinalEncoder\n",
    "\n",
    "from sklearn.model_selection import GridSearchCV\n",
    "from sklearn.model_selection import cross_val_score\n",
    "from sklearn.model_selection import train_test_split\n",
    "from sklearn.model_selection import validation_curve\n",
    "from sklearn.model_selection import learning_curve\n",
    "from sklearn.model_selection import cross_val_score\n",
    "from sklearn.model_selection import KFold\n",
    "\n",
    "plt.style.use('ggplot')\n",
    "import warnings\n",
    "warnings.filterwarnings('ignore')"
   ]
  },
  {
   "cell_type": "code",
   "execution_count": 2,
   "metadata": {
    "colab": {
     "base_uri": "https://localhost:8080/",
     "height": 204
    },
    "executionInfo": {
     "elapsed": 1048,
     "status": "ok",
     "timestamp": 1619373223360,
     "user": {
      "displayName": "Dinmukhamed Kaldykhanov",
      "photoUrl": "https://lh3.googleusercontent.com/a-/AOh14Gi8JBhh4qoXO8KmL48WKzrczCRexBMskXI2i_1Ngw=s64",
      "userId": "16471649019417663423"
     },
     "user_tz": -360
    },
    "id": "aI8Ih90GDnwK",
    "outputId": "3d5e62ce-2537-4853-b098-fff9d8fecf5a"
   },
   "outputs": [
    {
     "data": {
      "text/html": [
       "<div>\n",
       "<style scoped>\n",
       "    .dataframe tbody tr th:only-of-type {\n",
       "        vertical-align: middle;\n",
       "    }\n",
       "\n",
       "    .dataframe tbody tr th {\n",
       "        vertical-align: top;\n",
       "    }\n",
       "\n",
       "    .dataframe thead th {\n",
       "        text-align: right;\n",
       "    }\n",
       "</style>\n",
       "<table border=\"1\" class=\"dataframe\">\n",
       "  <thead>\n",
       "    <tr style=\"text-align: right;\">\n",
       "      <th></th>\n",
       "      <th>motor</th>\n",
       "      <th>screw</th>\n",
       "      <th>pgain</th>\n",
       "      <th>vgain</th>\n",
       "      <th>class</th>\n",
       "    </tr>\n",
       "  </thead>\n",
       "  <tbody>\n",
       "    <tr>\n",
       "      <th>0</th>\n",
       "      <td>E</td>\n",
       "      <td>E</td>\n",
       "      <td>5</td>\n",
       "      <td>4</td>\n",
       "      <td>0.281251</td>\n",
       "    </tr>\n",
       "    <tr>\n",
       "      <th>1</th>\n",
       "      <td>B</td>\n",
       "      <td>D</td>\n",
       "      <td>6</td>\n",
       "      <td>5</td>\n",
       "      <td>0.506252</td>\n",
       "    </tr>\n",
       "    <tr>\n",
       "      <th>2</th>\n",
       "      <td>D</td>\n",
       "      <td>D</td>\n",
       "      <td>4</td>\n",
       "      <td>3</td>\n",
       "      <td>0.356251</td>\n",
       "    </tr>\n",
       "    <tr>\n",
       "      <th>3</th>\n",
       "      <td>B</td>\n",
       "      <td>A</td>\n",
       "      <td>3</td>\n",
       "      <td>2</td>\n",
       "      <td>5.500033</td>\n",
       "    </tr>\n",
       "    <tr>\n",
       "      <th>4</th>\n",
       "      <td>D</td>\n",
       "      <td>B</td>\n",
       "      <td>6</td>\n",
       "      <td>5</td>\n",
       "      <td>0.356251</td>\n",
       "    </tr>\n",
       "  </tbody>\n",
       "</table>\n",
       "</div>"
      ],
      "text/plain": [
       "  motor screw  pgain  vgain     class\n",
       "0     E     E      5      4  0.281251\n",
       "1     B     D      6      5  0.506252\n",
       "2     D     D      4      3  0.356251\n",
       "3     B     A      3      2  5.500033\n",
       "4     D     B      6      5  0.356251"
      ]
     },
     "execution_count": 2,
     "metadata": {},
     "output_type": "execute_result"
    }
   ],
   "source": [
    "uploaded = 'http://archive.ics.uci.edu/ml/machine-learning-databases/servo/servo.data'\n",
    "column_names = ['motor','screw','pgain','vgain','class']\n",
    "df = pd.read_csv(uploaded,names=column_names)\n",
    "df.head()"
   ]
  },
  {
   "cell_type": "code",
   "execution_count": 3,
   "metadata": {
    "colab": {
     "base_uri": "https://localhost:8080/",
     "height": 221
    },
    "executionInfo": {
     "elapsed": 1768,
     "status": "ok",
     "timestamp": 1619373226693,
     "user": {
      "displayName": "Dinmukhamed Kaldykhanov",
      "photoUrl": "https://lh3.googleusercontent.com/a-/AOh14Gi8JBhh4qoXO8KmL48WKzrczCRexBMskXI2i_1Ngw=s64",
      "userId": "16471649019417663423"
     },
     "user_tz": -360
    },
    "id": "rHQaB6XDDA78",
    "outputId": "b44ca6fd-34c5-483f-aa8c-5ca6255a7a62"
   },
   "outputs": [
    {
     "name": "stdout",
     "output_type": "stream",
     "text": [
      "(165, 5)\n"
     ]
    },
    {
     "data": {
      "text/html": [
       "<div>\n",
       "<style scoped>\n",
       "    .dataframe tbody tr th:only-of-type {\n",
       "        vertical-align: middle;\n",
       "    }\n",
       "\n",
       "    .dataframe tbody tr th {\n",
       "        vertical-align: top;\n",
       "    }\n",
       "\n",
       "    .dataframe thead th {\n",
       "        text-align: right;\n",
       "    }\n",
       "</style>\n",
       "<table border=\"1\" class=\"dataframe\">\n",
       "  <thead>\n",
       "    <tr style=\"text-align: right;\">\n",
       "      <th></th>\n",
       "      <th>motor</th>\n",
       "      <th>screw</th>\n",
       "      <th>pgain</th>\n",
       "      <th>vgain</th>\n",
       "      <th>class</th>\n",
       "    </tr>\n",
       "  </thead>\n",
       "  <tbody>\n",
       "    <tr>\n",
       "      <th>0</th>\n",
       "      <td>1.504301</td>\n",
       "      <td>1.524517</td>\n",
       "      <td>0.832065</td>\n",
       "      <td>1.069805</td>\n",
       "      <td>-0.712853</td>\n",
       "    </tr>\n",
       "    <tr>\n",
       "      <th>1</th>\n",
       "      <td>-0.624667</td>\n",
       "      <td>0.826998</td>\n",
       "      <td>1.817560</td>\n",
       "      <td>1.802008</td>\n",
       "      <td>-0.568154</td>\n",
       "    </tr>\n",
       "    <tr>\n",
       "      <th>2</th>\n",
       "      <td>0.794645</td>\n",
       "      <td>0.826998</td>\n",
       "      <td>-0.153430</td>\n",
       "      <td>0.337602</td>\n",
       "      <td>-0.664620</td>\n",
       "    </tr>\n",
       "    <tr>\n",
       "      <th>3</th>\n",
       "      <td>-0.624667</td>\n",
       "      <td>-1.265558</td>\n",
       "      <td>-1.138926</td>\n",
       "      <td>-0.394600</td>\n",
       "      <td>2.643366</td>\n",
       "    </tr>\n",
       "    <tr>\n",
       "      <th>4</th>\n",
       "      <td>0.794645</td>\n",
       "      <td>-0.568039</td>\n",
       "      <td>1.817560</td>\n",
       "      <td>1.802008</td>\n",
       "      <td>-0.664620</td>\n",
       "    </tr>\n",
       "  </tbody>\n",
       "</table>\n",
       "</div>"
      ],
      "text/plain": [
       "      motor     screw     pgain     vgain     class\n",
       "0  1.504301  1.524517  0.832065  1.069805 -0.712853\n",
       "1 -0.624667  0.826998  1.817560  1.802008 -0.568154\n",
       "2  0.794645  0.826998 -0.153430  0.337602 -0.664620\n",
       "3 -0.624667 -1.265558 -1.138926 -0.394600  2.643366\n",
       "4  0.794645 -0.568039  1.817560  1.802008 -0.664620"
      ]
     },
     "execution_count": 3,
     "metadata": {},
     "output_type": "execute_result"
    }
   ],
   "source": [
    "#convert categorical variables(motor and screw) into integers using OrdinalEncoder\n",
    "\n",
    "df[['motor','screw']] = OrdinalEncoder().fit_transform(df[['motor','screw']])\n",
    "\n",
    "#scale independent variables,\n",
    "df[column_names]=StandardScaler().fit_transform(df[column_names])\n",
    "\n",
    "#apply z-score outlier treatment\n",
    "z = np.abs(zscore(df))\n",
    "df = df[(z < 3).all(axis=1)]\n",
    "\n",
    "print(df.shape)\n",
    "df.head()"
   ]
  },
  {
   "cell_type": "code",
   "execution_count": 4,
   "metadata": {
    "colab": {
     "base_uri": "https://localhost:8080/",
     "height": 128
    },
    "executionInfo": {
     "elapsed": 1284,
     "status": "ok",
     "timestamp": 1619373230594,
     "user": {
      "displayName": "Dinmukhamed Kaldykhanov",
      "photoUrl": "https://lh3.googleusercontent.com/a-/AOh14Gi8JBhh4qoXO8KmL48WKzrczCRexBMskXI2i_1Ngw=s64",
      "userId": "16471649019417663423"
     },
     "user_tz": -360
    },
    "id": "SILLkNojDA8B",
    "outputId": "af5f1e0b-d6c9-4ae5-8088-5f94ea5c1586"
   },
   "outputs": [
    {
     "name": "stdout",
     "output_type": "stream",
     "text": [
      "(165, 4)\n"
     ]
    },
    {
     "data": {
      "text/html": [
       "<div>\n",
       "<style scoped>\n",
       "    .dataframe tbody tr th:only-of-type {\n",
       "        vertical-align: middle;\n",
       "    }\n",
       "\n",
       "    .dataframe tbody tr th {\n",
       "        vertical-align: top;\n",
       "    }\n",
       "\n",
       "    .dataframe thead th {\n",
       "        text-align: right;\n",
       "    }\n",
       "</style>\n",
       "<table border=\"1\" class=\"dataframe\">\n",
       "  <thead>\n",
       "    <tr style=\"text-align: right;\">\n",
       "      <th></th>\n",
       "      <th>motor</th>\n",
       "      <th>screw</th>\n",
       "      <th>pgain</th>\n",
       "      <th>vgain</th>\n",
       "      <th>class</th>\n",
       "    </tr>\n",
       "  </thead>\n",
       "  <tbody>\n",
       "    <tr>\n",
       "      <th>skewness</th>\n",
       "      <td>0.195261</td>\n",
       "      <td>0.153155</td>\n",
       "      <td>0.535944</td>\n",
       "      <td>0.507322</td>\n",
       "      <td>1.716442</td>\n",
       "    </tr>\n",
       "    <tr>\n",
       "      <th>kurtosis</th>\n",
       "      <td>-1.191624</td>\n",
       "      <td>-1.309982</td>\n",
       "      <td>-0.782201</td>\n",
       "      <td>-0.987126</td>\n",
       "      <td>1.488545</td>\n",
       "    </tr>\n",
       "  </tbody>\n",
       "</table>\n",
       "</div>"
      ],
      "text/plain": [
       "             motor     screw     pgain     vgain     class\n",
       "skewness  0.195261  0.153155  0.535944  0.507322  1.716442\n",
       "kurtosis -1.191624 -1.309982 -0.782201 -0.987126  1.488545"
      ]
     },
     "execution_count": 4,
     "metadata": {},
     "output_type": "execute_result"
    }
   ],
   "source": [
    "columns = ['motor','screw','pgain','vgain']\n",
    "\n",
    "X_orig=df[columns]\n",
    "y=df['class']\n",
    "\n",
    "print(X_orig.shape)\n",
    "pd.DataFrame(data=[df.skew(),df.kurtosis()],index=['skewness','kurtosis'])"
   ]
  },
  {
   "cell_type": "code",
   "execution_count": 5,
   "metadata": {
    "colab": {
     "base_uri": "https://localhost:8080/"
    },
    "executionInfo": {
     "elapsed": 1301,
     "status": "ok",
     "timestamp": 1619373068436,
     "user": {
      "displayName": "Dinmukhamed Kaldykhanov",
      "photoUrl": "https://lh3.googleusercontent.com/a-/AOh14Gi8JBhh4qoXO8KmL48WKzrczCRexBMskXI2i_1Ngw=s64",
      "userId": "16471649019417663423"
     },
     "user_tz": -360
    },
    "id": "IBJxUEI3DA8J",
    "outputId": "140a0187-9635-4bbb-800c-bcc4a4c07f82"
   },
   "outputs": [
    {
     "data": {
      "text/plain": [
       "(152, 4)"
      ]
     },
     "execution_count": 5,
     "metadata": {},
     "output_type": "execute_result"
    }
   ],
   "source": [
    "#remove outliers using n_neighbors\n",
    "outliers = LocalOutlierFactor(n_neighbors=20).fit_predict(X_orig)\n",
    "target_out = LocalOutlierFactor(n_neighbors=20).fit_predict(y.values.reshape(-1, 1))\n",
    "outliers = outliers == 1\n",
    "target_out = target_out == 1\n",
    "for i,t in enumerate(target_out):\n",
    "  outliers[i]=outliers[i] and t\n",
    "\n",
    "X_orig,y=X_orig[outliers],y[outliers]\n",
    "X_orig.shape"
   ]
  },
  {
   "cell_type": "code",
   "execution_count": 6,
   "metadata": {
    "colab": {
     "base_uri": "https://localhost:8080/",
     "height": 173
    },
    "executionInfo": {
     "elapsed": 1279,
     "status": "ok",
     "timestamp": 1619373233052,
     "user": {
      "displayName": "Dinmukhamed Kaldykhanov",
      "photoUrl": "https://lh3.googleusercontent.com/a-/AOh14Gi8JBhh4qoXO8KmL48WKzrczCRexBMskXI2i_1Ngw=s64",
      "userId": "16471649019417663423"
     },
     "user_tz": -360
    },
    "id": "kJ3oSOVlm2OK",
    "outputId": "471251cd-1a64-421a-9264-33963c9acf36"
   },
   "outputs": [
    {
     "data": {
      "text/html": [
       "<div>\n",
       "<style scoped>\n",
       "    .dataframe tbody tr th:only-of-type {\n",
       "        vertical-align: middle;\n",
       "    }\n",
       "\n",
       "    .dataframe tbody tr th {\n",
       "        vertical-align: top;\n",
       "    }\n",
       "\n",
       "    .dataframe thead th {\n",
       "        text-align: right;\n",
       "    }\n",
       "</style>\n",
       "<table border=\"1\" class=\"dataframe\">\n",
       "  <thead>\n",
       "    <tr style=\"text-align: right;\">\n",
       "      <th></th>\n",
       "      <th>VIF Factor</th>\n",
       "      <th>features</th>\n",
       "    </tr>\n",
       "  </thead>\n",
       "  <tbody>\n",
       "    <tr>\n",
       "      <th>0</th>\n",
       "      <td>1.002871</td>\n",
       "      <td>motor</td>\n",
       "    </tr>\n",
       "    <tr>\n",
       "      <th>1</th>\n",
       "      <td>1.069808</td>\n",
       "      <td>screw</td>\n",
       "    </tr>\n",
       "    <tr>\n",
       "      <th>2</th>\n",
       "      <td>3.155504</td>\n",
       "      <td>pgain</td>\n",
       "    </tr>\n",
       "    <tr>\n",
       "      <th>3</th>\n",
       "      <td>3.079987</td>\n",
       "      <td>vgain</td>\n",
       "    </tr>\n",
       "  </tbody>\n",
       "</table>\n",
       "</div>"
      ],
      "text/plain": [
       "   VIF Factor features\n",
       "0    1.002871    motor\n",
       "1    1.069808    screw\n",
       "2    3.155504    pgain\n",
       "3    3.079987    vgain"
      ]
     },
     "execution_count": 6,
     "metadata": {},
     "output_type": "execute_result"
    }
   ],
   "source": [
    "vif = pd.DataFrame()\n",
    "vif[\"VIF Factor\"] = [variance_inflation_factor(X_orig.values, i) for i in range(X_orig.shape[1])]\n",
    "vif[\"features\"] = pd.Index(X_orig.columns)\n",
    "vif"
   ]
  },
  {
   "cell_type": "code",
   "execution_count": 7,
   "metadata": {
    "executionInfo": {
     "elapsed": 930,
     "status": "ok",
     "timestamp": 1619373234019,
     "user": {
      "displayName": "Dinmukhamed Kaldykhanov",
      "photoUrl": "https://lh3.googleusercontent.com/a-/AOh14Gi8JBhh4qoXO8KmL48WKzrczCRexBMskXI2i_1Ngw=s64",
      "userId": "16471649019417663423"
     },
     "user_tz": -360
    },
    "id": "EWoe1UZmci-S"
   },
   "outputs": [],
   "source": [
    "# There are no variable with VIF>=10\n",
    "X=X_orig[:]"
   ]
  },
  {
   "cell_type": "code",
   "execution_count": 8,
   "metadata": {
    "executionInfo": {
     "elapsed": 958,
     "status": "ok",
     "timestamp": 1619373234579,
     "user": {
      "displayName": "Dinmukhamed Kaldykhanov",
      "photoUrl": "https://lh3.googleusercontent.com/a-/AOh14Gi8JBhh4qoXO8KmL48WKzrczCRexBMskXI2i_1Ngw=s64",
      "userId": "16471649019417663423"
     },
     "user_tz": -360
    },
    "id": "2IwatFyQvQZ4"
   },
   "outputs": [],
   "source": [
    "k=X.shape[1]\n",
    "cv = KFold(n_splits=10, shuffle= True,random_state=100)\n",
    "acc_metric='neg_mean_squared_error'\n",
    "# acc_metric='neg_mean_absolute_error'\n",
    "model_selected=None\n",
    "minRMSE=np.inf\n",
    "train_sizes=np.array([0.1,0.2,0.3,0.4,0.5,1.0])\n"
   ]
  },
  {
   "cell_type": "code",
   "execution_count": 30,
   "metadata": {
    "executionInfo": {
     "elapsed": 676,
     "status": "ok",
     "timestamp": 1619373235603,
     "user": {
      "displayName": "Dinmukhamed Kaldykhanov",
      "photoUrl": "https://lh3.googleusercontent.com/a-/AOh14Gi8JBhh4qoXO8KmL48WKzrczCRexBMskXI2i_1Ngw=s64",
      "userId": "16471649019417663423"
     },
     "user_tz": -360
    },
    "id": "hnNhqj5KDWR1"
   },
   "outputs": [],
   "source": [
    "# Dimash's version\n",
    "# def get_soc(final_clf, features):\n",
    "#     soc = 0\n",
    "#     n = 7     # for tanh\n",
    "#     if( final_clf.get_params()['activation'] == 'relu' ):\n",
    "#       n = 1\n",
    "#     elif ( final_clf.get_params()['activation'] == 'logistic' ):\n",
    "#       n = 3\n",
    "\n",
    "#     for i in final_clf.get_params()['hidden_layer_sizes']:\n",
    "#       soc += ( 2 * features + n * i )\n",
    "#       features = i\n",
    "#     soc += 2 * features * final_clf.n_outputs_\n",
    "#     return soc"
   ]
  },
  {
   "cell_type": "code",
   "execution_count": 9,
   "metadata": {},
   "outputs": [],
   "source": [
    "# Prof's version\n",
    "def get_soc(clf, P):\n",
    "    soc=0\n",
    "    ac=clf.get_params()['activation']\n",
    "    At = (ac=='relu')*1 + (ac=='logistic')*4 + (ac=='tanh') * 9\n",
    "    N = list(clf.get_params()['hidden_layer_sizes'])\n",
    "    N.insert(0,P)\n",
    "    H = len(N)\n",
    "    N.append(clf.n_outputs_)\n",
    "    \n",
    "    for h in range(H):\n",
    "        soc += (2 * N[h] + At) * N[h+1] + 2*N[h+1]\n",
    "    return soc"
   ]
  },
  {
   "cell_type": "code",
   "execution_count": 10,
   "metadata": {
    "executionInfo": {
     "elapsed": 1556,
     "status": "ok",
     "timestamp": 1619373237281,
     "user": {
      "displayName": "Dinmukhamed Kaldykhanov",
      "photoUrl": "https://lh3.googleusercontent.com/a-/AOh14Gi8JBhh4qoXO8KmL48WKzrczCRexBMskXI2i_1Ngw=s64",
      "userId": "16471649019417663423"
     },
     "user_tz": -360
    },
    "id": "232wbRrbufMI"
   },
   "outputs": [],
   "source": [
    "arr_mse = []\n",
    "arr_mae = []\n",
    "arr_soc = []\n",
    "arr_hls = []"
   ]
  },
  {
   "cell_type": "code",
   "execution_count": 27,
   "metadata": {
    "colab": {
     "base_uri": "https://localhost:8080/",
     "height": 384
    },
    "executionInfo": {
     "elapsed": 76023,
     "status": "ok",
     "timestamp": 1619373312506,
     "user": {
      "displayName": "Dinmukhamed Kaldykhanov",
      "photoUrl": "https://lh3.googleusercontent.com/a-/AOh14Gi8JBhh4qoXO8KmL48WKzrczCRexBMskXI2i_1Ngw=s64",
      "userId": "16471649019417663423"
     },
     "user_tz": -360
    },
    "id": "ZyGmMseSJK54",
    "outputId": "79e2b94a-63e1-483e-f50d-763e629708b3"
   },
   "outputs": [],
   "source": [
    "cv = KFold(n_splits=10, shuffle= True,random_state=100)\n",
    "params = {\n",
    " 'activation': ['relu'], \n",
    " 'hidden_layer_sizes': [(236,236,236,236)], \n",
    " 'learning_rate_init': [0.003593813663804626]\n",
    "}\n",
    "\n",
    "def test(params, cv=5, N=10, scoring='neg_mean_absolute_error'):\n",
    "    socs=[]\n",
    "    maes=[]\n",
    "    h_layers=[]\n",
    "    for _ in range(N):\n",
    "        grid = GridSearchCV(MLPRegressor(), param_grid = params, cv=cv, scoring=scoring)\n",
    "        grid.fit(X, y)\n",
    "        final_clf = grid.best_estimator_\n",
    "        mae = cross_val_score(final_clf,X,y,cv=cv,scoring=scoring)\n",
    "        mae = np.abs(np.mean(mae))\n",
    "        soc=get_soc(final_clf, X.shape[1])\n",
    "        socs.append(soc)\n",
    "        maes.append(mae)\n",
    "        h_layers.append((final_clf.get_params()['activation'],final_clf.get_params()['hidden_layer_sizes']))\n",
    "    return maes,socs,h_layers\n",
    "\n",
    "# test(params,cv)"
   ]
  },
  {
   "cell_type": "code",
   "execution_count": 18,
   "metadata": {},
   "outputs": [
    {
     "data": {
      "text/plain": [
       "0.08514417149100854"
      ]
     },
     "execution_count": 18,
     "metadata": {},
     "output_type": "execute_result"
    }
   ],
   "source": [
    "np.mean(maes)"
   ]
  },
  {
   "cell_type": "code",
   "execution_count": 29,
   "metadata": {
    "colab": {
     "base_uri": "https://localhost:8080/",
     "height": 384
    },
    "executionInfo": {
     "elapsed": 113165,
     "status": "ok",
     "timestamp": 1619177341634,
     "user": {
      "displayName": "Dinmukhamed Kaldykhanov",
      "photoUrl": "https://lh3.googleusercontent.com/a-/AOh14Gi8JBhh4qoXO8KmL48WKzrczCRexBMskXI2i_1Ngw=s64",
      "userId": "16471649019417663423"
     },
     "user_tz": -360
    },
    "id": "QLSgeROm2i3P",
    "outputId": "e179607d-585d-4458-ba28-fc300645650d"
   },
   "outputs": [
    {
     "data": {
      "text/plain": [
       "([0.08484567395075758,\n",
       "  0.09339607411864778,\n",
       "  0.08192394292369559,\n",
       "  0.08544439644784277,\n",
       "  0.08872716281697698],\n",
       " [61103, 61103, 61103, 61103, 61103],\n",
       " [('relu', (100, 100, 100, 100)),\n",
       "  ('relu', (100, 100, 100, 100)),\n",
       "  ('relu', (100, 100, 100, 100)),\n",
       "  ('relu', (100, 100, 100, 100)),\n",
       "  ('relu', (100, 100, 100, 100))])"
      ]
     },
     "execution_count": 29,
     "metadata": {},
     "output_type": "execute_result"
    }
   ],
   "source": [
    "params_1 = {\n",
    " 'activation': ['logistic', 'tanh', 'relu'], \n",
    " 'hidden_layer_sizes': [(100,), (100, 100), (100, 100, 100), (100, 100, 100, 100), (100, 100, 100, 100, 100)], \n",
    " 'learning_rate_init': np.logspace(-4,-2, 5)\n",
    "}\n",
    "# test(params_1,cv,1)\n",
    "\n",
    "# clf = MLPRegressor()\n",
    "# grid = GridSearchCV(clf, param_grid = params_1, cv=5, scoring='neg_mean_absolute_error')\n",
    "# grid.fit(X, y)\n",
    "\n",
    "# print(\"Best Hyperparameters::\\n{}\".format(grid.best_params_))\n",
    "# results = pd.DataFrame(data=grid.cv_results_)\n",
    "\n",
    "# final_clf = grid.best_estimator_\n",
    "\n",
    "# _,train_scores,test_scores=learning_curve(final_clf,X,y,cv=cv,train_sizes=train_sizes,scoring='neg_mean_absolute_error')\n",
    "\n",
    "# plt.title(\"Learning curve\")\n",
    "# plt.plot(len(X)*train_sizes,train_scores.mean(axis=1),'r-',label='train error')\n",
    "# plt.plot(len(X)*train_sizes,test_scores.mean(axis=1),'g-',label='test error')\n",
    "# plt.legend()\n",
    "# plt.xlabel('train size')\n",
    "# plt.ylabel('MSE')\n",
    "# plt.show()\n",
    "\n",
    "# mse = cross_val_score(final_clf,X,y,cv=10,scoring='neg_mean_squared_error')\n",
    "# mae = cross_val_score(final_clf,X,y,cv=10,scoring='neg_mean_absolute_error')\n",
    "\n",
    "# std = np.std(mse)\n",
    "# mse = np.abs(np.mean(mse))\n",
    "# mae = np.abs(np.mean(mae))\n",
    "# soc=get_soc(final_clf, 4)\n",
    "\n",
    "# arr_mse.append(mse)\n",
    "# arr_mae.append(mae)\n",
    "# arr_soc.append(soc)\n",
    "# arr_hls.append(final_clf.get_params()['hidden_layer_sizes'])\n",
    "# print(\"mse : \", mse)\n",
    "# print(\"mae : \", mae)\n",
    "# print(\"soc : \", soc)\n",
    "\n",
    "params_1 = {\n",
    " 'activation': ['relu'], \n",
    " 'hidden_layer_sizes': [(100, 100, 100, 100)], \n",
    " 'learning_rate_init': [0.01]\n",
    "}\n",
    "test(params_1,cv,5)"
   ]
  },
  {
   "cell_type": "code",
   "execution_count": 30,
   "metadata": {},
   "outputs": [
    {
     "data": {
      "text/plain": [
       "0.08686745005158414"
      ]
     },
     "execution_count": 30,
     "metadata": {},
     "output_type": "execute_result"
    }
   ],
   "source": [
    "np.mean([0.08484567395075758,\n",
    "  0.09339607411864778,\n",
    "  0.08192394292369559,\n",
    "  0.08544439644784277,\n",
    "  0.08872716281697698])"
   ]
  },
  {
   "cell_type": "code",
   "execution_count": 31,
   "metadata": {
    "colab": {
     "base_uri": "https://localhost:8080/",
     "height": 384
    },
    "executionInfo": {
     "elapsed": 255420,
     "status": "ok",
     "timestamp": 1619177938357,
     "user": {
      "displayName": "Dinmukhamed Kaldykhanov",
      "photoUrl": "https://lh3.googleusercontent.com/a-/AOh14Gi8JBhh4qoXO8KmL48WKzrczCRexBMskXI2i_1Ngw=s64",
      "userId": "16471649019417663423"
     },
     "user_tz": -360
    },
    "id": "UskZSdISSjAO",
    "outputId": "b53835fd-671f-4472-87f3-47bae74cca05"
   },
   "outputs": [
    {
     "data": {
      "text/plain": [
       "([0.08939285960272716], [242203], [('relu', (200, 200, 200, 200))])"
      ]
     },
     "execution_count": 31,
     "metadata": {},
     "output_type": "execute_result"
    }
   ],
   "source": [
    "# default learning_rate_init = 0.001\n",
    "# default hidden_layer_sizes = (100, )\n",
    "params_2 = {\n",
    " 'activation': ['relu'], \n",
    " 'hidden_layer_sizes': [(50, 50, 50, 50), (200, 200, 200, 200)], \n",
    " 'learning_rate_init': np.logspace(-4,-2, 5)\n",
    "}\n",
    "test(params_2,cv,1)"
   ]
  },
  {
   "cell_type": "code",
   "execution_count": 33,
   "metadata": {
    "colab": {
     "base_uri": "https://localhost:8080/",
     "height": 384
    },
    "executionInfo": {
     "elapsed": 321269,
     "status": "ok",
     "timestamp": 1619178320471,
     "user": {
      "displayName": "Dinmukhamed Kaldykhanov",
      "photoUrl": "https://lh3.googleusercontent.com/a-/AOh14Gi8JBhh4qoXO8KmL48WKzrczCRexBMskXI2i_1Ngw=s64",
      "userId": "16471649019417663423"
     },
     "user_tz": -360
    },
    "id": "gx4F_qdFXcNw",
    "outputId": "bf804a09-1aae-4c9c-9cda-f997604f2dc5"
   },
   "outputs": [
    {
     "data": {
      "text/plain": [
       "([0.08749890820353008,\n",
       "  0.15395389321984865,\n",
       "  0.09405933912704806,\n",
       "  0.10108869197235218,\n",
       "  0.0895709460636426],\n",
       " [377753, 377753, 377753, 377753, 377753],\n",
       " [('relu', (250, 250, 250, 250)),\n",
       "  ('relu', (250, 250, 250, 250)),\n",
       "  ('relu', (250, 250, 250, 250)),\n",
       "  ('relu', (250, 250, 250, 250)),\n",
       "  ('relu', (250, 250, 250, 250))])"
      ]
     },
     "execution_count": 33,
     "metadata": {},
     "output_type": "execute_result"
    }
   ],
   "source": [
    "# default learning_rate_init = 0.001\n",
    "# default hidden_layer_sizes = (100, )\n",
    "params_3 = {\n",
    " 'activation': ['relu'], \n",
    " 'hidden_layer_sizes': [(250, 250, 250, 250)], \n",
    " 'learning_rate_init': [0.01]\n",
    "}\n",
    "test(params_3,cv,5)\n"
   ]
  },
  {
   "cell_type": "code",
   "execution_count": 34,
   "metadata": {},
   "outputs": [
    {
     "data": {
      "text/plain": [
       "0.1052343557172843"
      ]
     },
     "execution_count": 34,
     "metadata": {},
     "output_type": "execute_result"
    }
   ],
   "source": [
    "np.mean([0.08749890820353008,\n",
    "  0.15395389321984865,\n",
    "  0.09405933912704806,\n",
    "  0.10108869197235218,\n",
    "  0.0895709460636426])"
   ]
  },
  {
   "cell_type": "code",
   "execution_count": 36,
   "metadata": {
    "colab": {
     "base_uri": "https://localhost:8080/",
     "height": 384
    },
    "executionInfo": {
     "elapsed": 275215,
     "status": "ok",
     "timestamp": 1619179049565,
     "user": {
      "displayName": "Dinmukhamed Kaldykhanov",
      "photoUrl": "https://lh3.googleusercontent.com/a-/AOh14Gi8JBhh4qoXO8KmL48WKzrczCRexBMskXI2i_1Ngw=s64",
      "userId": "16471649019417663423"
     },
     "user_tz": -360
    },
    "id": "Ca3AJW7pwzLl",
    "outputId": "1aca13f4-baa1-4b20-fdda-2bf8ca4e9622"
   },
   "outputs": [
    {
     "data": {
      "text/plain": [
       "([0.0930669748978818,\n",
       "  0.09527695250944786,\n",
       "  0.09186058810826263,\n",
       "  0.09507642382693662,\n",
       "  0.16394986576446574],\n",
       " [456778, 306228, 306228, 306228, 306228],\n",
       " [('relu', (275, 275, 275, 275)),\n",
       "  ('relu', (225, 225, 225, 225)),\n",
       "  ('relu', (225, 225, 225, 225)),\n",
       "  ('relu', (225, 225, 225, 225)),\n",
       "  ('relu', (225, 225, 225, 225))])"
      ]
     },
     "execution_count": 36,
     "metadata": {},
     "output_type": "execute_result"
    }
   ],
   "source": [
    "# default learning_rate_init = 0.001\n",
    "# default hidden_layer_sizes = (100, )\n",
    "params_4 = {\n",
    " 'activation': ['relu'], \n",
    " 'hidden_layer_sizes': [(225,225,225,225), (275,275,275,275)],\n",
    " 'learning_rate_init': [0.01]\n",
    "}\n",
    "test(params_4,cv,5)\n"
   ]
  },
  {
   "cell_type": "code",
   "execution_count": 37,
   "metadata": {},
   "outputs": [
    {
     "data": {
      "text/plain": [
       "0.10784616102139895"
      ]
     },
     "execution_count": 37,
     "metadata": {},
     "output_type": "execute_result"
    }
   ],
   "source": [
    "np.mean([0.0930669748978818,\n",
    "  0.09527695250944786,\n",
    "  0.09186058810826263,\n",
    "  0.09507642382693662,\n",
    "  0.16394986576446574])"
   ]
  },
  {
   "cell_type": "code",
   "execution_count": null,
   "metadata": {
    "colab": {
     "base_uri": "https://localhost:8080/",
     "height": 384
    },
    "executionInfo": {
     "elapsed": 306028,
     "status": "ok",
     "timestamp": 1619179379306,
     "user": {
      "displayName": "Dinmukhamed Kaldykhanov",
      "photoUrl": "https://lh3.googleusercontent.com/a-/AOh14Gi8JBhh4qoXO8KmL48WKzrczCRexBMskXI2i_1Ngw=s64",
      "userId": "16471649019417663423"
     },
     "user_tz": -360
    },
    "id": "kuxTpcMq1rN8",
    "outputId": "d29ec881-86c0-43db-c9f8-6a3f84596b5c"
   },
   "outputs": [
    {
     "name": "stdout",
     "output_type": "stream",
     "text": [
      "Best Hyperparameters::\n",
      "{'activation': 'relu', 'hidden_layer_sizes': (235, 235, 235, 235), 'learning_rate_init': 0.003593813663804626}\n"
     ]
    },
    {
     "data": {
      "image/png": "[encoded data removed]",
      "text/plain": [
       "<Figure size 432x288 with 1 Axes>"
      ]
     },
     "metadata": {
      "tags": []
     },
     "output_type": "display_data"
    },
    {
     "name": "stdout",
     "output_type": "stream",
     "text": [
      "mse :  0.023024217109603753\n",
      "mae :  0.08584637110829238\n",
      "soc :  2828\n"
     ]
    }
   ],
   "source": [
    "# default learning_rate_init = 0.001\n",
    "# default hidden_layer_sizes = (100, )\n",
    "params_5 = {\n",
    " 'activation': ['logistic', 'tanh', 'relu'], \n",
    " 'hidden_layer_sizes': [(235,235,235,235), (215,215,215,215)], \n",
    " 'learning_rate_init': np.logspace(-4,-2, 10)\n",
    "}\n",
    "\n",
    "clf = MLPRegressor()\n",
    "grid = GridSearchCV(clf, param_grid = params_5, cv=5, scoring='neg_mean_absolute_error')\n",
    "grid.fit(X, y)\n",
    "\n",
    "print(\"Best Hyperparameters::\\n{}\".format(grid.best_params_))\n",
    "# results = pd.DataFrame(data=grid.cv_results_)\n",
    "\n",
    "final_clf = grid.best_estimator_\n",
    "\n",
    "# _,train_scores,test_scores=learning_curve(final_clf,X,y,cv=cv,train_sizes=train_sizes,scoring='neg_mean_absolute_error')\n",
    "\n",
    "# plt.title(\"Learning curve\")\n",
    "# plt.plot(len(X)*train_sizes,train_scores.mean(axis=1),'r-',label='train error')\n",
    "# plt.plot(len(X)*train_sizes,test_scores.mean(axis=1),'g-',label='test error')\n",
    "# plt.legend()\n",
    "# plt.xlabel('train size')\n",
    "# plt.ylabel('MSE')\n",
    "# plt.show()\n",
    "\n",
    "# mse = cross_val_score(final_clf,X,y,cv=10,scoring='neg_mean_squared_error')\n",
    "mae = cross_val_score(final_clf,X,y,cv=10,scoring='neg_mean_absolute_error')\n",
    "\n",
    "# std = np.std(mse)\n",
    "# mse = np.abs(np.mean(mse))\n",
    "mae = np.abs(np.mean(mae))\n",
    "soc=get_soc(final_clf, 4)\n",
    "\n",
    "# arr_mse.append(mse)\n",
    "arr_mae.append(mae)\n",
    "arr_soc.append(soc)\n",
    "arr_hls.append(final_clf.get_params()['hidden_layer_sizes'])\n",
    "# print(\"mse : \", mse)\n",
    "print(\"mae : \", mae)\n",
    "print(\"soc : \", soc)\n"
   ]
  },
  {
   "cell_type": "code",
   "execution_count": 90,
   "metadata": {
    "colab": {
     "base_uri": "https://localhost:8080/",
     "height": 384
    },
    "executionInfo": {
     "elapsed": 286790,
     "status": "ok",
     "timestamp": 1619180133498,
     "user": {
      "displayName": "Dinmukhamed Kaldykhanov",
      "photoUrl": "https://lh3.googleusercontent.com/a-/AOh14Gi8JBhh4qoXO8KmL48WKzrczCRexBMskXI2i_1Ngw=s64",
      "userId": "16471649019417663423"
     },
     "user_tz": -360
    },
    "id": "sD8dWLc9HYj8",
    "outputId": "05c86ec4-02dd-4399-ba75-6b80167bcaf1"
   },
   "outputs": [
    {
     "name": "stdout",
     "output_type": "stream",
     "text": [
      "0.08814831998478326\n"
     ]
    },
    {
     "data": {
      "text/plain": [
       "([0.088901078096281,\n",
       "  0.08693130894502729,\n",
       "  0.0905178430546592,\n",
       "  0.08480514457707364,\n",
       "  0.08958622525087515],\n",
       " [49593, 49593, 49593, 49593, 49593],\n",
       " [('relu', (90, 90, 90, 90)),\n",
       "  ('relu', (90, 90, 90, 90)),\n",
       "  ('relu', (90, 90, 90, 90)),\n",
       "  ('relu', (90, 90, 90, 90)),\n",
       "  ('relu', (90, 90, 90, 90))])"
      ]
     },
     "execution_count": 90,
     "metadata": {},
     "output_type": "execute_result"
    }
   ],
   "source": [
    "# default learning_rate_init = 0.001\n",
    "# default hidden_layer_sizes = (100, )\n",
    "params_6 = {\n",
    " 'activation': ['relu'], \n",
    " 'hidden_layer_sizes': [(90,90,90,90)], \n",
    " 'learning_rate_init': [0.01]\n",
    "}\n",
    "maes,socs,params=test(params_6,cv,5)\n",
    "print(np.mean(maes))\n",
    "maes,socs,params"
   ]
  },
  {
   "cell_type": "code",
   "execution_count": 79,
   "metadata": {},
   "outputs": [
    {
     "data": {
      "text/plain": [
       "0.1048977656847994"
      ]
     },
     "execution_count": 79,
     "metadata": {},
     "output_type": "execute_result"
    }
   ],
   "source": [
    "np.mean([0.09983318655463407,\n",
    "  0.09900170459220828,\n",
    "  0.10709119838909957,\n",
    "  0.10837697174197461,\n",
    "  0.11018576714608055])"
   ]
  },
  {
   "cell_type": "code",
   "execution_count": null,
   "metadata": {
    "colab": {
     "base_uri": "https://localhost:8080/",
     "height": 384
    },
    "executionInfo": {
     "elapsed": 305929,
     "status": "ok",
     "timestamp": 1619180488097,
     "user": {
      "displayName": "Dinmukhamed Kaldykhanov",
      "photoUrl": "https://lh3.googleusercontent.com/a-/AOh14Gi8JBhh4qoXO8KmL48WKzrczCRexBMskXI2i_1Ngw=s64",
      "userId": "16471649019417663423"
     },
     "user_tz": -360
    },
    "id": "Lb5jROKpLyB9",
    "outputId": "cc6ecc83-b82d-4921-c7d5-de3db480e74f"
   },
   "outputs": [
    {
     "name": "stdout",
     "output_type": "stream",
     "text": [
      "Best Hyperparameters::\n",
      "{'activation': 'relu', 'hidden_layer_sizes': (236, 236, 236, 236), 'learning_rate_init': 0.003593813663804626}\n"
     ]
    },
    {
     "data": {
      "image/png": "[encoded data removed]",
      "text/plain": [
       "<Figure size 432x288 with 1 Axes>"
      ]
     },
     "metadata": {
      "tags": []
     },
     "output_type": "display_data"
    },
    {
     "name": "stdout",
     "output_type": "stream",
     "text": [
      "mse :  0.020468522613708216\n",
      "mae :  0.08123698029122395\n",
      "soc :  2840\n"
     ]
    }
   ],
   "source": [
    "# default learning_rate_init = 0.001\n",
    "# default hidden_layer_sizes = (100, )\n",
    "params_7 = {\n",
    " 'activation': ['logistic', 'tanh', 'relu'], \n",
    " 'hidden_layer_sizes': [(236,236,236,236), (238,238,238,238), (239,239,239,239)], \n",
    " 'learning_rate_init': np.logspace(-4,-2, 10)\n",
    "}\n",
    "\n",
    "clf = MLPRegressor()\n",
    "grid = GridSearchCV(clf, param_grid = params_7, cv=5, scoring='neg_mean_absolute_error')\n",
    "grid.fit(X, y)\n",
    "\n",
    "print(\"Best Hyperparameters::\\n{}\".format(grid.best_params_))\n",
    "# results = pd.DataFrame(data=grid.cv_results_)\n",
    "\n",
    "final_clf = grid.best_estimator_\n",
    "\n",
    "# _,train_scores,test_scores=learning_curve(final_clf,X,y,cv=cv,train_sizes=train_sizes,scoring='neg_mean_absolute_error')\n",
    "\n",
    "# plt.title(\"Learning curve\")\n",
    "# plt.plot(len(X)*train_sizes,train_scores.mean(axis=1),'r-',label='train error')\n",
    "# plt.plot(len(X)*train_sizes,test_scores.mean(axis=1),'g-',label='test error')\n",
    "# plt.legend()\n",
    "# plt.xlabel('train size')\n",
    "# plt.ylabel('MSE')\n",
    "# plt.show()\n",
    "\n",
    "# mse = cross_val_score(final_clf,X,y,cv=10,scoring='neg_mean_squared_error')\n",
    "mae = cross_val_score(final_clf,X,y,cv=10,scoring='neg_mean_absolute_error')\n",
    "\n",
    "# std = np.std(mse)\n",
    "# mse = np.abs(np.mean(mse))\n",
    "mae = np.abs(np.mean(mae))\n",
    "soc=get_soc(final_clf, 4)\n",
    "\n",
    "# arr_mse.append(mse)\n",
    "arr_mae.append(mae)\n",
    "arr_soc.append(soc)\n",
    "arr_hls.append(final_clf.get_params()['hidden_layer_sizes'])\n",
    "# print(\"mse : \", mse)\n",
    "print(\"mae : \", mae)\n",
    "print(\"soc : \", soc)\n"
   ]
  },
  {
   "cell_type": "code",
   "execution_count": null,
   "metadata": {
    "colab": {
     "base_uri": "https://localhost:8080/",
     "height": 384
    },
    "executionInfo": {
     "elapsed": 99868,
     "status": "ok",
     "timestamp": 1619181015335,
     "user": {
      "displayName": "Dinmukhamed Kaldykhanov",
      "photoUrl": "https://lh3.googleusercontent.com/a-/AOh14Gi8JBhh4qoXO8KmL48WKzrczCRexBMskXI2i_1Ngw=s64",
      "userId": "16471649019417663423"
     },
     "user_tz": -360
    },
    "id": "_X6VdPSWNJ47",
    "outputId": "0d2805fb-087d-4d1a-adeb-f53a7d70a2ff"
   },
   "outputs": [
    {
     "name": "stdout",
     "output_type": "stream",
     "text": [
      "Best Hyperparameters::\n",
      "{'activation': 'relu', 'hidden_layer_sizes': (100, 100, 100), 'learning_rate_init': 0.01}\n"
     ]
    },
    {
     "data": {
      "image/png": "[encoded data removed]",
      "text/plain": [
       "<Figure size 432x288 with 1 Axes>"
      ]
     },
     "metadata": {
      "tags": []
     },
     "output_type": "display_data"
    },
    {
     "name": "stdout",
     "output_type": "stream",
     "text": [
      "mse :  0.01925389875480499\n",
      "mae :  0.08578292088793057\n",
      "soc :  908\n"
     ]
    }
   ],
   "source": [
    "# default learning_rate_init = 0.001\n",
    "# default hidden_layer_sizes = (100, )\n",
    "params = {\n",
    " 'activation': ['logistic', 'tanh', 'relu'], \n",
    " 'hidden_layer_sizes': [(100,100,100), (75,75,75,75)], \n",
    " 'learning_rate_init': np.logspace(-4,-2, 10)\n",
    "}\n",
    "\n",
    "clf = MLPRegressor()\n",
    "grid = GridSearchCV(clf, param_grid = params, cv=5, scoring='neg_mean_absolute_error')\n",
    "grid.fit(X, y)\n",
    "\n",
    "print(\"Best Hyperparameters::\\n{}\".format(grid.best_params_))\n",
    "# results = pd.DataFrame(data=grid.cv_results_)\n",
    "\n",
    "final_clf = grid.best_estimator_\n",
    "\n",
    "# _,train_scores,test_scores=learning_curve(final_clf,X,y,cv=cv,train_sizes=train_sizes,scoring='neg_mean_absolute_error')\n",
    "\n",
    "# plt.title(\"Learning curve\")\n",
    "# plt.plot(len(X)*train_sizes,train_scores.mean(axis=1),'r-',label='train error')\n",
    "# plt.plot(len(X)*train_sizes,test_scores.mean(axis=1),'g-',label='test error')\n",
    "# plt.legend()\n",
    "# plt.xlabel('train size')\n",
    "# plt.ylabel('MSE')\n",
    "# plt.show()\n",
    "\n",
    "# mse = cross_val_score(final_clf,X,y,cv=10,scoring='neg_mean_squared_error')\n",
    "mae = cross_val_score(final_clf,X,y,cv=10,scoring='neg_mean_absolute_error')\n",
    "\n",
    "# std = np.std(mse)\n",
    "# mse = np.abs(np.mean(mse))\n",
    "mae = np.abs(np.mean(mae))\n",
    "soc=get_soc(final_clf, 4)\n",
    "\n",
    "# arr_mse.append(mse)\n",
    "arr_mae.append(mae)\n",
    "arr_soc.append(soc)\n",
    "arr_hls.append(final_clf.get_params()['hidden_layer_sizes'])\n",
    "# print(\"mse : \", mse)\n",
    "print(\"mae : \", mae)\n",
    "print(\"soc : \", soc)\n"
   ]
  },
  {
   "cell_type": "code",
   "execution_count": null,
   "metadata": {
    "colab": {
     "base_uri": "https://localhost:8080/",
     "height": 384
    },
    "executionInfo": {
     "elapsed": 81910,
     "status": "ok",
     "timestamp": 1619181262410,
     "user": {
      "displayName": "Dinmukhamed Kaldykhanov",
      "photoUrl": "https://lh3.googleusercontent.com/a-/AOh14Gi8JBhh4qoXO8KmL48WKzrczCRexBMskXI2i_1Ngw=s64",
      "userId": "16471649019417663423"
     },
     "user_tz": -360
    },
    "id": "dMYZuZhIPsf1",
    "outputId": "22d5ef4f-b74e-48b4-ea36-c6d652161cc1"
   },
   "outputs": [
    {
     "name": "stdout",
     "output_type": "stream",
     "text": [
      "Best Hyperparameters::\n",
      "{'activation': 'relu', 'hidden_layer_sizes': (75, 75, 75), 'learning_rate_init': 0.01}\n"
     ]
    },
    {
     "data": {
      "image/png": "[encoded data removed]",
      "text/plain": [
       "<Figure size 432x288 with 1 Axes>"
      ]
     },
     "metadata": {
      "tags": []
     },
     "output_type": "display_data"
    },
    {
     "name": "stdout",
     "output_type": "stream",
     "text": [
      "mse :  0.022197816316070196\n",
      "mae :  0.08839466618411465\n",
      "soc :  683\n"
     ]
    }
   ],
   "source": [
    "# default learning_rate_init = 0.001\n",
    "# default hidden_layer_sizes = (100, )\n",
    "params = {\n",
    " 'activation': ['logistic', 'tanh', 'relu'], \n",
    " 'hidden_layer_sizes': [(75,75,75), (100,100)], \n",
    " 'learning_rate_init': np.logspace(-4,-2, 10)\n",
    "}\n",
    "\n",
    "clf = MLPRegressor()\n",
    "grid = GridSearchCV(clf, param_grid = params, cv=5, scoring='neg_mean_absolute_error')\n",
    "grid.fit(X, y)\n",
    "\n",
    "print(\"Best Hyperparameters::\\n{}\".format(grid.best_params_))\n",
    "# results = pd.DataFrame(data=grid.cv_results_)\n",
    "\n",
    "final_clf = grid.best_estimator_\n",
    "\n",
    "# _,train_scores,test_scores=learning_curve(final_clf,X,y,cv=cv,train_sizes=train_sizes,scoring='neg_mean_absolute_error')\n",
    "\n",
    "# plt.title(\"Learning curve\")\n",
    "# plt.plot(len(X)*train_sizes,train_scores.mean(axis=1),'r-',label='train error')\n",
    "# plt.plot(len(X)*train_sizes,test_scores.mean(axis=1),'g-',label='test error')\n",
    "# plt.legend()\n",
    "# plt.xlabel('train size')\n",
    "# plt.ylabel('MSE')\n",
    "# plt.show()\n",
    "\n",
    "# mse = cross_val_score(final_clf,X,y,cv=10,scoring='neg_mean_squared_error')\n",
    "mae = cross_val_score(final_clf,X,y,cv=10,scoring='neg_mean_absolute_error')\n",
    "\n",
    "# std = np.std(mse)\n",
    "# mse = np.abs(np.mean(mse))\n",
    "mae = np.abs(np.mean(mae))\n",
    "soc=get_soc(final_clf, 4)\n",
    "\n",
    "# arr_mse.append(mse)\n",
    "arr_mae.append(mae)\n",
    "arr_soc.append(soc)\n",
    "arr_hls.append(final_clf.get_params()['hidden_layer_sizes'])\n",
    "# print(\"mse : \", mse)\n",
    "print(\"mae : \", mae)\n",
    "print(\"soc : \", soc)\n"
   ]
  },
  {
   "cell_type": "code",
   "execution_count": null,
   "metadata": {
    "colab": {
     "base_uri": "https://localhost:8080/",
     "height": 384
    },
    "executionInfo": {
     "elapsed": 75457,
     "status": "ok",
     "timestamp": 1619181787528,
     "user": {
      "displayName": "Dinmukhamed Kaldykhanov",
      "photoUrl": "https://lh3.googleusercontent.com/a-/AOh14Gi8JBhh4qoXO8KmL48WKzrczCRexBMskXI2i_1Ngw=s64",
      "userId": "16471649019417663423"
     },
     "user_tz": -360
    },
    "id": "N7BkhbV6ij5E",
    "outputId": "908b8c96-14ea-4dc0-d7d4-cac50bc1e2d2"
   },
   "outputs": [
    {
     "name": "stdout",
     "output_type": "stream",
     "text": [
      "Best Hyperparameters::\n",
      "{'activation': 'relu', 'hidden_layer_sizes': (70, 70, 70), 'learning_rate_init': 0.01}\n"
     ]
    },
    {
     "data": {
      "image/png": "[encoded data removed]",
      "text/plain": [
       "<Figure size 432x288 with 1 Axes>"
      ]
     },
     "metadata": {
      "tags": []
     },
     "output_type": "display_data"
    },
    {
     "name": "stdout",
     "output_type": "stream",
     "text": [
      "mse :  0.02547135112130905\n",
      "mae :  0.08933839573024502\n",
      "soc :  638\n"
     ]
    }
   ],
   "source": [
    "# default learning_rate_init = 0.001\n",
    "# default hidden_layer_sizes = (100, )\n",
    "params = {\n",
    " 'activation': ['logistic', 'tanh', 'relu'], \n",
    " 'hidden_layer_sizes': [(70,70,70), (50,50,50,50)], \n",
    " 'learning_rate_init': np.logspace(-4,-2, 10)\n",
    "}\n",
    "\n",
    "clf = MLPRegressor()\n",
    "grid = GridSearchCV(clf, param_grid = params, cv=5, scoring='neg_mean_absolute_error')\n",
    "grid.fit(X, y)\n",
    "\n",
    "print(\"Best Hyperparameters::\\n{}\".format(grid.best_params_))\n",
    "# results = pd.DataFrame(data=grid.cv_results_)\n",
    "\n",
    "final_clf = grid.best_estimator_\n",
    "\n",
    "# _,train_scores,test_scores=learning_curve(final_clf,X,y,cv=cv,train_sizes=train_sizes,scoring='neg_mean_absolute_error')\n",
    "\n",
    "# plt.title(\"Learning curve\")\n",
    "# plt.plot(len(X)*train_sizes,train_scores.mean(axis=1),'r-',label='train error')\n",
    "# plt.plot(len(X)*train_sizes,test_scores.mean(axis=1),'g-',label='test error')\n",
    "# plt.legend()\n",
    "# plt.xlabel('train size')\n",
    "# plt.ylabel('MSE')\n",
    "# plt.show()\n",
    "\n",
    "# mse = cross_val_score(final_clf,X,y,cv=10,scoring='neg_mean_squared_error')\n",
    "mae = cross_val_score(final_clf,X,y,cv=10,scoring='neg_mean_absolute_error')\n",
    "\n",
    "# std = np.std(mse)\n",
    "# mse = np.abs(np.mean(mse))\n",
    "mae = np.abs(np.mean(mae))\n",
    "soc=get_soc(final_clf, 4)\n",
    "\n",
    "# arr_mse.append(mse)\n",
    "arr_mae.append(mae)\n",
    "arr_soc.append(soc)\n",
    "arr_hls.append(final_clf.get_params()['hidden_layer_sizes'])\n",
    "# print(\"mse : \", mse)\n",
    "print(\"mae : \", mae)\n",
    "print(\"soc : \", soc)\n"
   ]
  },
  {
   "cell_type": "code",
   "execution_count": null,
   "metadata": {
    "colab": {
     "base_uri": "https://localhost:8080/",
     "height": 384
    },
    "executionInfo": {
     "elapsed": 77664,
     "status": "ok",
     "timestamp": 1619182370387,
     "user": {
      "displayName": "Dinmukhamed Kaldykhanov",
      "photoUrl": "https://lh3.googleusercontent.com/a-/AOh14Gi8JBhh4qoXO8KmL48WKzrczCRexBMskXI2i_1Ngw=s64",
      "userId": "16471649019417663423"
     },
     "user_tz": -360
    },
    "id": "DeSYZhMrkft0",
    "outputId": "e8a2807d-3810-4c74-9844-b4dd24710303"
   },
   "outputs": [
    {
     "name": "stdout",
     "output_type": "stream",
     "text": [
      "Best Hyperparameters::\n",
      "{'activation': 'relu', 'hidden_layer_sizes': (72, 72, 72), 'learning_rate_init': 0.01}\n"
     ]
    },
    {
     "data": {
      "image/png": "[encoded data removed]",
      "text/plain": [
       "<Figure size 432x288 with 1 Axes>"
      ]
     },
     "metadata": {
      "tags": []
     },
     "output_type": "display_data"
    },
    {
     "name": "stdout",
     "output_type": "stream",
     "text": [
      "mse :  0.020772924963515894\n",
      "mae :  0.08645720340546385\n",
      "soc :  656\n"
     ]
    }
   ],
   "source": [
    "# default learning_rate_init = 0.001\n",
    "# default hidden_layer_sizes = (100, )\n",
    "params = {\n",
    " 'activation': ['logistic', 'tanh', 'relu'], \n",
    " 'hidden_layer_sizes': [(72,72,72), (74,74,74)], \n",
    " 'learning_rate_init': np.logspace(-4,-2, 10)\n",
    "}\n",
    "\n",
    "clf = MLPRegressor()\n",
    "grid = GridSearchCV(clf, param_grid = params, cv=5, scoring='neg_mean_absolute_error')\n",
    "grid.fit(X, y)\n",
    "\n",
    "print(\"Best Hyperparameters::\\n{}\".format(grid.best_params_))\n",
    "# results = pd.DataFrame(data=grid.cv_results_)\n",
    "\n",
    "final_clf = grid.best_estimator_\n",
    "\n",
    "# _,train_scores,test_scores=learning_curve(final_clf,X,y,cv=cv,train_sizes=train_sizes,scoring='neg_mean_absolute_error')\n",
    "\n",
    "# plt.title(\"Learning curve\")\n",
    "# plt.plot(len(X)*train_sizes,train_scores.mean(axis=1),'r-',label='train error')\n",
    "# plt.plot(len(X)*train_sizes,test_scores.mean(axis=1),'g-',label='test error')\n",
    "# plt.legend()\n",
    "# plt.xlabel('train size')\n",
    "# plt.ylabel('MSE')\n",
    "# plt.show()\n",
    "\n",
    "# mse = cross_val_score(final_clf,X,y,cv=10,scoring='neg_mean_squared_error')\n",
    "mae = cross_val_score(final_clf,X,y,cv=10,scoring='neg_mean_absolute_error')\n",
    "\n",
    "# std = np.std(mse)\n",
    "# mse = np.abs(np.mean(mse))\n",
    "mae = np.abs(np.mean(mae))\n",
    "soc=get_soc(final_clf, 4)\n",
    "\n",
    "# arr_mse.append(mse)\n",
    "arr_mae.append(mae)\n",
    "arr_soc.append(soc)\n",
    "arr_hls.append(final_clf.get_params()['hidden_layer_sizes'])\n",
    "# print(\"mse : \", mse)\n",
    "print(\"mae : \", mae)\n",
    "print(\"soc : \", soc)\n"
   ]
  },
  {
   "cell_type": "code",
   "execution_count": null,
   "metadata": {
    "colab": {
     "base_uri": "https://localhost:8080/",
     "height": 384
    },
    "executionInfo": {
     "elapsed": 79496,
     "status": "ok",
     "timestamp": 1619183162421,
     "user": {
      "displayName": "Dinmukhamed Kaldykhanov",
      "photoUrl": "https://lh3.googleusercontent.com/a-/AOh14Gi8JBhh4qoXO8KmL48WKzrczCRexBMskXI2i_1Ngw=s64",
      "userId": "16471649019417663423"
     },
     "user_tz": -360
    },
    "id": "VDKajK6CmSrY",
    "outputId": "03cf705e-be04-4fd4-8414-13b450413ae3"
   },
   "outputs": [
    {
     "name": "stdout",
     "output_type": "stream",
     "text": [
      "Best Hyperparameters::\n",
      "{'activation': 'relu', 'hidden_layer_sizes': (71, 71, 71), 'learning_rate_init': 0.01}\n"
     ]
    },
    {
     "data": {
      "image/png": "[encoded data removed]",
      "text/plain": [
       "<Figure size 432x288 with 1 Axes>"
      ]
     },
     "metadata": {
      "tags": []
     },
     "output_type": "display_data"
    },
    {
     "name": "stdout",
     "output_type": "stream",
     "text": [
      "mse :  0.018790224339807093\n",
      "mae :  0.08711166615528985\n",
      "soc :  647\n"
     ]
    }
   ],
   "source": [
    "# default learning_rate_init = 0.001\n",
    "# default hidden_layer_sizes = (100, )\n",
    "params = {\n",
    " 'activation': ['logistic', 'tanh', 'relu'], \n",
    " 'hidden_layer_sizes': [(71,71,71)], \n",
    " 'learning_rate_init': np.logspace(-4,-2, 10)\n",
    "}\n",
    "\n",
    "clf = MLPRegressor()\n",
    "grid = GridSearchCV(clf, param_grid = params, cv=5, scoring='neg_mean_absolute_error')\n",
    "grid.fit(X, y)\n",
    "\n",
    "print(\"Best Hyperparameters::\\n{}\".format(grid.best_params_))\n",
    "# results = pd.DataFrame(data=grid.cv_results_)\n",
    "\n",
    "final_clf = grid.best_estimator_\n",
    "\n",
    "_,train_scores,test_scores=learning_curve(final_clf,X,y,cv=cv,train_sizes=train_sizes,scoring='neg_mean_absolute_error')\n",
    "\n",
    "plt.title(\"Learning curve\")\n",
    "plt.plot(len(X)*train_sizes,train_scores.mean(axis=1),'r-',label='train error')\n",
    "plt.plot(len(X)*train_sizes,test_scores.mean(axis=1),'g-',label='test error')\n",
    "plt.legend()\n",
    "plt.xlabel('train size')\n",
    "plt.ylabel('MSE')\n",
    "plt.show()\n",
    "\n",
    "mse = cross_val_score(final_clf,X,y,cv=10,scoring='neg_mean_squared_error')\n",
    "mae = cross_val_score(final_clf,X,y,cv=10,scoring='neg_mean_absolute_error')\n",
    "\n",
    "std = np.std(mse)\n",
    "mse = np.abs(np.mean(mse))\n",
    "mae = np.abs(np.mean(mae))\n",
    "soc=get_soc(final_clf, 4)\n",
    "\n",
    "arr_mse.append(mse)\n",
    "arr_mae.append(mae)\n",
    "arr_soc.append(soc)\n",
    "arr_hls.append(final_clf.get_params()['hidden_layer_sizes'])\n",
    "print(\"mse : \", mse)\n",
    "print(\"mae : \", mae)\n",
    "print(\"soc : \", soc)\n"
   ]
  },
  {
   "cell_type": "code",
   "execution_count": null,
   "metadata": {
    "colab": {
     "base_uri": "https://localhost:8080/",
     "height": 384
    },
    "executionInfo": {
     "elapsed": 71548,
     "status": "ok",
     "timestamp": 1619183355259,
     "user": {
      "displayName": "Dinmukhamed Kaldykhanov",
      "photoUrl": "https://lh3.googleusercontent.com/a-/AOh14Gi8JBhh4qoXO8KmL48WKzrczCRexBMskXI2i_1Ngw=s64",
      "userId": "16471649019417663423"
     },
     "user_tz": -360
    },
    "id": "5QDecCugm9bc",
    "outputId": "fec1b661-7321-4051-dbd1-67233c44d5fe"
   },
   "outputs": [
    {
     "name": "stdout",
     "output_type": "stream",
     "text": [
      "Best Hyperparameters::\n",
      "{'activation': 'relu', 'hidden_layer_sizes': (50, 50, 50, 50), 'learning_rate_init': 0.01}\n"
     ]
    },
    {
     "data": {
      "image/png": "[encoded data removed]",
      "text/plain": [
       "<Figure size 432x288 with 1 Axes>"
      ]
     },
     "metadata": {
      "tags": []
     },
     "output_type": "display_data"
    },
    {
     "name": "stdout",
     "output_type": "stream",
     "text": [
      "mse :  0.02165442328554145\n",
      "mae :  0.09149339338467251\n",
      "soc :  608\n"
     ]
    }
   ],
   "source": [
    "# default learning_rate_init = 0.001\n",
    "# default hidden_layer_sizes = (100, )\n",
    "params = {\n",
    " 'activation': ['logistic', 'tanh', 'relu'], \n",
    " 'hidden_layer_sizes': [(60,60,60), (50,50,50,50)], \n",
    " 'learning_rate_init': np.logspace(-4,-2, 10)\n",
    "}\n",
    "\n",
    "clf = MLPRegressor()\n",
    "grid = GridSearchCV(clf, param_grid = params, cv=5, scoring='neg_mean_absolute_error')\n",
    "grid.fit(X, y)\n",
    "\n",
    "print(\"Best Hyperparameters::\\n{}\".format(grid.best_params_))\n",
    "results = pd.DataFrame(data=grid.cv_results_)\n",
    "\n",
    "final_clf = grid.best_estimator_\n",
    "\n",
    "_,train_scores,test_scores=learning_curve(final_clf,X,y,cv=cv,train_sizes=train_sizes,scoring='neg_mean_absolute_error')\n",
    "\n",
    "plt.title(\"Learning curve\")\n",
    "plt.plot(len(X)*train_sizes,train_scores.mean(axis=1),'r-',label='train error')\n",
    "plt.plot(len(X)*train_sizes,test_scores.mean(axis=1),'g-',label='test error')\n",
    "plt.legend()\n",
    "plt.xlabel('train size')\n",
    "plt.ylabel('MSE')\n",
    "plt.show()\n",
    "\n",
    "mse = cross_val_score(final_clf,X,y,cv=10,scoring='neg_mean_squared_error')\n",
    "mae = cross_val_score(final_clf,X,y,cv=10,scoring='neg_mean_absolute_error')\n",
    "\n",
    "std = np.std(mse)\n",
    "mse = np.abs(np.mean(mse))\n",
    "mae = np.abs(np.mean(mae))\n",
    "soc=get_soc(final_clf, 4)\n",
    "\n",
    "arr_mse.append(mse)\n",
    "arr_mae.append(mae)\n",
    "arr_soc.append(soc)\n",
    "arr_hls.append(final_clf.get_params()['hidden_layer_sizes'])\n",
    "print(\"mse : \", mse)\n",
    "print(\"mae : \", mae)\n",
    "print(\"soc : \", soc)\n"
   ]
  },
  {
   "cell_type": "code",
   "execution_count": null,
   "metadata": {
    "colab": {
     "base_uri": "https://localhost:8080/",
     "height": 384
    },
    "executionInfo": {
     "elapsed": 66255,
     "status": "ok",
     "timestamp": 1619184296569,
     "user": {
      "displayName": "Dinmukhamed Kaldykhanov",
      "photoUrl": "https://lh3.googleusercontent.com/a-/AOh14Gi8JBhh4qoXO8KmL48WKzrczCRexBMskXI2i_1Ngw=s64",
      "userId": "16471649019417663423"
     },
     "user_tz": -360
    },
    "id": "cto7TeX3nZ2F",
    "outputId": "a4b7685f-fd00-4054-e6ac-aae34584e497"
   },
   "outputs": [
    {
     "name": "stdout",
     "output_type": "stream",
     "text": [
      "Best Hyperparameters::\n",
      "{'activation': 'relu', 'hidden_layer_sizes': (65, 65, 65), 'learning_rate_init': 0.003593813663804626}\n"
     ]
    },
    {
     "data": {
      "image/png": "[encoded data removed]",
      "text/plain": [
       "<Figure size 432x288 with 1 Axes>"
      ]
     },
     "metadata": {
      "tags": []
     },
     "output_type": "display_data"
    },
    {
     "name": "stdout",
     "output_type": "stream",
     "text": [
      "mse :  0.05369354506341841\n",
      "mae :  0.14727679252030282\n",
      "soc :  593\n"
     ]
    }
   ],
   "source": [
    "# default learning_rate_init = 0.001\n",
    "# default hidden_layer_sizes = (100, )\n",
    "params = {\n",
    " 'activation': ['logistic', 'tanh', 'relu'], \n",
    " 'hidden_layer_sizes': [(65,65,65), (67,67,67)], \n",
    " 'learning_rate_init': np.logspace(-4,-2, 10)\n",
    "}\n",
    "\n",
    "clf = MLPRegressor()\n",
    "grid = GridSearchCV(clf, param_grid = params, cv=5, scoring='neg_mean_absolute_error')\n",
    "grid.fit(X, y)\n",
    "\n",
    "print(\"Best Hyperparameters::\\n{}\".format(grid.best_params_))\n",
    "results = pd.DataFrame(data=grid.cv_results_)\n",
    "\n",
    "final_clf = grid.best_estimator_\n",
    "\n",
    "_,train_scores,test_scores=learning_curve(final_clf,X,y,cv=cv,train_sizes=train_sizes,scoring='neg_mean_absolute_error')\n",
    "\n",
    "plt.title(\"Learning curve\")\n",
    "plt.plot(len(X)*train_sizes,train_scores.mean(axis=1),'r-',label='train error')\n",
    "plt.plot(len(X)*train_sizes,test_scores.mean(axis=1),'g-',label='test error')\n",
    "plt.legend()\n",
    "plt.xlabel('train size')\n",
    "plt.ylabel('MSE')\n",
    "plt.show()\n",
    "\n",
    "mse = cross_val_score(final_clf,X,y,cv=10,scoring='neg_mean_squared_error')\n",
    "mae = cross_val_score(final_clf,X,y,cv=10,scoring='neg_mean_absolute_error')\n",
    "\n",
    "std = np.std(mse)\n",
    "mse = np.abs(np.mean(mse))\n",
    "mae = np.abs(np.mean(mae))\n",
    "soc=get_soc(final_clf, 4)\n",
    "\n",
    "arr_mse.append(mse)\n",
    "arr_mae.append(mae)\n",
    "arr_soc.append(soc)\n",
    "arr_hls.append(final_clf.get_params()['hidden_layer_sizes'])\n",
    "print(\"mse : \", mse)\n",
    "print(\"mae : \", mae)\n",
    "print(\"soc : \", soc)\n"
   ]
  },
  {
   "cell_type": "code",
   "execution_count": null,
   "metadata": {
    "colab": {
     "base_uri": "https://localhost:8080/",
     "height": 384
    },
    "executionInfo": {
     "elapsed": 68243,
     "status": "ok",
     "timestamp": 1619183730338,
     "user": {
      "displayName": "Dinmukhamed Kaldykhanov",
      "photoUrl": "https://lh3.googleusercontent.com/a-/AOh14Gi8JBhh4qoXO8KmL48WKzrczCRexBMskXI2i_1Ngw=s64",
      "userId": "16471649019417663423"
     },
     "user_tz": -360
    },
    "id": "QLeE5CD5oB0Z",
    "outputId": "4defa825-a6f5-47af-9d25-c6a0c51d7924"
   },
   "outputs": [
    {
     "name": "stdout",
     "output_type": "stream",
     "text": [
      "Best Hyperparameters::\n",
      "{'activation': 'relu', 'hidden_layer_sizes': (68, 68, 68), 'learning_rate_init': 0.005994842503189409}\n"
     ]
    },
    {
     "data": {
      "image/png": "[encoded data removed]",
      "text/plain": [
       "<Figure size 432x288 with 1 Axes>"
      ]
     },
     "metadata": {
      "tags": []
     },
     "output_type": "display_data"
    },
    {
     "name": "stdout",
     "output_type": "stream",
     "text": [
      "mse :  0.031161343417593586\n",
      "mae :  0.09639759906836584\n",
      "soc :  620\n"
     ]
    }
   ],
   "source": [
    "# default learning_rate_init = 0.001\n",
    "# default hidden_layer_sizes = (100, )\n",
    "params = {\n",
    " 'activation': ['logistic', 'tanh', 'relu'], \n",
    " 'hidden_layer_sizes': [(68,68,68), (69,69,69)], \n",
    " 'learning_rate_init': np.logspace(-4,-2, 10)\n",
    "}\n",
    "\n",
    "clf = MLPRegressor()\n",
    "grid = GridSearchCV(clf, param_grid = params, cv=5, scoring='neg_mean_absolute_error')\n",
    "grid.fit(X, y)\n",
    "\n",
    "print(\"Best Hyperparameters::\\n{}\".format(grid.best_params_))\n",
    "results = pd.DataFrame(data=grid.cv_results_)\n",
    "\n",
    "final_clf = grid.best_estimator_\n",
    "\n",
    "_,train_scores,test_scores=learning_curve(final_clf,X,y,cv=cv,train_sizes=train_sizes,scoring='neg_mean_absolute_error')\n",
    "\n",
    "plt.title(\"Learning curve\")\n",
    "plt.plot(len(X)*train_sizes,train_scores.mean(axis=1),'r-',label='train error')\n",
    "plt.plot(len(X)*train_sizes,test_scores.mean(axis=1),'g-',label='test error')\n",
    "plt.legend()\n",
    "plt.xlabel('train size')\n",
    "plt.ylabel('MSE')\n",
    "plt.show()\n",
    "\n",
    "mse = cross_val_score(final_clf,X,y,cv=10,scoring='neg_mean_squared_error')\n",
    "mae = cross_val_score(final_clf,X,y,cv=10,scoring='neg_mean_absolute_error')\n",
    "\n",
    "std = np.std(mse)\n",
    "mse = np.abs(np.mean(mse))\n",
    "mae = np.abs(np.mean(mae))\n",
    "soc=get_soc(final_clf, 4)\n",
    "\n",
    "arr_mse.append(mse)\n",
    "arr_mae.append(mae)\n",
    "arr_soc.append(soc)\n",
    "arr_hls.append(final_clf.get_params()['hidden_layer_sizes'])\n",
    "print(\"mse : \", mse)\n",
    "print(\"mae : \", mae)\n",
    "print(\"soc : \", soc)\n"
   ]
  },
  {
   "cell_type": "code",
   "execution_count": null,
   "metadata": {
    "colab": {
     "base_uri": "https://localhost:8080/",
     "height": 384
    },
    "executionInfo": {
     "elapsed": 70751,
     "status": "ok",
     "timestamp": 1619183803403,
     "user": {
      "displayName": "Dinmukhamed Kaldykhanov",
      "photoUrl": "https://lh3.googleusercontent.com/a-/AOh14Gi8JBhh4qoXO8KmL48WKzrczCRexBMskXI2i_1Ngw=s64",
      "userId": "16471649019417663423"
     },
     "user_tz": -360
    },
    "id": "w3gbX9hWpXAL",
    "outputId": "3d18ff26-a3e7-4826-c20e-5a4b9e302090"
   },
   "outputs": [
    {
     "name": "stdout",
     "output_type": "stream",
     "text": [
      "Best Hyperparameters::\n",
      "{'activation': 'relu', 'hidden_layer_sizes': (100, 100), 'learning_rate_init': 0.01}\n"
     ]
    },
    {
     "data": {
      "image/png": "[encoded data removed]",
      "text/plain": [
       "<Figure size 432x288 with 1 Axes>"
      ]
     },
     "metadata": {
      "tags": []
     },
     "output_type": "display_data"
    },
    {
     "name": "stdout",
     "output_type": "stream",
     "text": [
      "mse :  0.0296990666234249\n",
      "mae :  0.09959353417037434\n",
      "soc :  608\n"
     ]
    }
   ],
   "source": [
    "# default learning_rate_init = 0.001\n",
    "# default hidden_layer_sizes = (100, )\n",
    "params = {\n",
    " 'activation': ['logistic', 'tanh', 'relu'], \n",
    " 'hidden_layer_sizes': [(100,100)], \n",
    " 'learning_rate_init': np.logspace(-4,-2, 10)\n",
    "}\n",
    "\n",
    "clf = MLPRegressor()\n",
    "grid = GridSearchCV(clf, param_grid = params, cv=5, scoring='neg_mean_absolute_error')\n",
    "grid.fit(X, y)\n",
    "\n",
    "print(\"Best Hyperparameters::\\n{}\".format(grid.best_params_))\n",
    "results = pd.DataFrame(data=grid.cv_results_)\n",
    "\n",
    "final_clf = grid.best_estimator_\n",
    "\n",
    "_,train_scores,test_scores=learning_curve(final_clf,X,y,cv=cv,train_sizes=train_sizes,scoring='neg_mean_absolute_error')\n",
    "\n",
    "plt.title(\"Learning curve\")\n",
    "plt.plot(len(X)*train_sizes,train_scores.mean(axis=1),'r-',label='train error')\n",
    "plt.plot(len(X)*train_sizes,test_scores.mean(axis=1),'g-',label='test error')\n",
    "plt.legend()\n",
    "plt.xlabel('train size')\n",
    "plt.ylabel('MSE')\n",
    "plt.show()\n",
    "\n",
    "mse = cross_val_score(final_clf,X,y,cv=10,scoring='neg_mean_squared_error')\n",
    "mae = cross_val_score(final_clf,X,y,cv=10,scoring='neg_mean_absolute_error')\n",
    "\n",
    "std = np.std(mse)\n",
    "mse = np.abs(np.mean(mse))\n",
    "mae = np.abs(np.mean(mae))\n",
    "soc=get_soc(final_clf, 4)\n",
    "\n",
    "arr_mse.append(mse)\n",
    "arr_mae.append(mae)\n",
    "arr_soc.append(soc)\n",
    "arr_hls.append(final_clf.get_params()['hidden_layer_sizes'])\n",
    "print(\"mse : \", mse)\n",
    "print(\"mae : \", mae)\n",
    "print(\"soc : \", soc)\n"
   ]
  },
  {
   "cell_type": "code",
   "execution_count": null,
   "metadata": {
    "id": "GHBlAegnZhM5"
   },
   "outputs": [],
   "source": [
    "from sklearn.feature_selection import SelectKBest, f_regression\n",
    "\n",
    "X = SelectKBest(f_regression, k=3).fit_transform(X_orig, y)"
   ]
  },
  {
   "cell_type": "code",
   "execution_count": null,
   "metadata": {
    "colab": {
     "base_uri": "https://localhost:8080/",
     "height": 384
    },
    "executionInfo": {
     "elapsed": 26644,
     "status": "ok",
     "timestamp": 1619183879094,
     "user": {
      "displayName": "Dinmukhamed Kaldykhanov",
      "photoUrl": "https://lh3.googleusercontent.com/a-/AOh14Gi8JBhh4qoXO8KmL48WKzrczCRexBMskXI2i_1Ngw=s64",
      "userId": "16471649019417663423"
     },
     "user_tz": -360
    },
    "id": "CT-rYeUtZhM6",
    "outputId": "abec69bd-4481-4ab6-ede4-5c61673d3011"
   },
   "outputs": [
    {
     "name": "stdout",
     "output_type": "stream",
     "text": [
      "Best Hyperparameters::\n",
      "{'activation': 'relu', 'hidden_layer_sizes': (71, 71, 71), 'learning_rate_init': 0.003593813663804626}\n"
     ]
    },
    {
     "data": {
      "image/png": "[encoded data removed]",
      "text/plain": [
       "<Figure size 432x288 with 1 Axes>"
      ]
     },
     "metadata": {
      "tags": []
     },
     "output_type": "display_data"
    },
    {
     "name": "stdout",
     "output_type": "stream",
     "text": [
      "mse :  0.05404407135954821\n",
      "mae :  0.1437292013392325\n",
      "soc :  645\n"
     ]
    }
   ],
   "source": [
    "# default learning_rate_init = 0.001\n",
    "# default hidden_layer_sizes = (100, )\n",
    "params = {\n",
    " 'activation': ['relu'], \n",
    " 'hidden_layer_sizes': [(71,71,71)], \n",
    " 'learning_rate_init': np.logspace(-4,-2, 10)\n",
    "}\n",
    "\n",
    "clf = MLPRegressor()\n",
    "grid = GridSearchCV(clf, param_grid = params, cv=5, scoring='neg_mean_absolute_error')\n",
    "grid.fit(X, y)\n",
    "\n",
    "print(\"Best Hyperparameters::\\n{}\".format(grid.best_params_))\n",
    "results = pd.DataFrame(data=grid.cv_results_)\n",
    "\n",
    "final_clf = grid.best_estimator_\n",
    "\n",
    "_,train_scores,test_scores=learning_curve(final_clf,X,y,cv=cv,train_sizes=train_sizes,scoring='neg_mean_absolute_error')\n",
    "\n",
    "plt.title(\"Learning curve\")\n",
    "plt.plot(len(X)*train_sizes,train_scores.mean(axis=1),'r-',label='train error')\n",
    "plt.plot(len(X)*train_sizes,test_scores.mean(axis=1),'g-',label='test error')\n",
    "plt.legend()\n",
    "plt.xlabel('train size')\n",
    "plt.ylabel('MSE')\n",
    "plt.show()\n",
    "\n",
    "mse = cross_val_score(final_clf,X,y,cv=10,scoring='neg_mean_squared_error')\n",
    "mae = cross_val_score(final_clf,X,y,cv=10,scoring='neg_mean_absolute_error')\n",
    "\n",
    "std = np.std(mse)\n",
    "mse = np.abs(np.mean(mse))\n",
    "mae = np.abs(np.mean(mae))\n",
    "soc=get_soc(final_clf, 3)\n",
    "\n",
    "arr_mse.append(mse)\n",
    "arr_mae.append(mae)\n",
    "arr_soc.append(soc)\n",
    "arr_hls.append(final_clf.get_params()['hidden_layer_sizes'])\n",
    "print(\"mse : \", mse)\n",
    "print(\"mae : \", mae)\n",
    "print(\"soc : \", soc)\n",
    "\n"
   ]
  },
  {
   "cell_type": "code",
   "execution_count": null,
   "metadata": {
    "id": "vdxhl0l9r7Fc"
   },
   "outputs": [],
   "source": [
    "arr_mae_min = [0.08123698029122395]\n",
    "arr_soc_min = [2840]\n",
    "arr_mae_min_soc = [0.08711166615528985]\n",
    "arr_soc_min_soc = [647]"
   ]
  },
  {
   "cell_type": "code",
   "execution_count": null,
   "metadata": {
    "colab": {
     "base_uri": "https://localhost:8080/"
    },
    "executionInfo": {
     "elapsed": 1237,
     "status": "ok",
     "timestamp": 1619184624658,
     "user": {
      "displayName": "Dinmukhamed Kaldykhanov",
      "photoUrl": "https://lh3.googleusercontent.com/a-/AOh14Gi8JBhh4qoXO8KmL48WKzrczCRexBMskXI2i_1Ngw=s64",
      "userId": "16471649019417663423"
     },
     "user_tz": -360
    },
    "id": "zl-tRwnwr6Bu",
    "outputId": "2db45aa0-7b93-4984-a8cb-81b1887abf57"
   },
   "outputs": [
    {
     "data": {
      "text/plain": [
       "[0.09149339338467251,\n",
       " 0.1437292013392325,\n",
       " 0.14727679252030282,\n",
       " 0.09959353417037434,\n",
       " 0.09639759906836584]"
      ]
     },
     "execution_count": 104,
     "metadata": {
      "tags": []
     },
     "output_type": "execute_result"
    }
   ],
   "source": [
    "arr_mae_not_allowed = [ x for x in arr_mae if x >= arr_mae_min[0]*1.1 ]\n",
    "arr_mae_not_allowed"
   ]
  },
  {
   "cell_type": "code",
   "execution_count": null,
   "metadata": {
    "colab": {
     "base_uri": "https://localhost:8080/"
    },
    "executionInfo": {
     "elapsed": 3862,
     "status": "ok",
     "timestamp": 1619184629277,
     "user": {
      "displayName": "Dinmukhamed Kaldykhanov",
      "photoUrl": "https://lh3.googleusercontent.com/a-/AOh14Gi8JBhh4qoXO8KmL48WKzrczCRexBMskXI2i_1Ngw=s64",
      "userId": "16471649019417663423"
     },
     "user_tz": -360
    },
    "id": "KbAIDzHw5BtX",
    "outputId": "3d19891d-99e5-439b-dd22-3d9fceb0778d"
   },
   "outputs": [
    {
     "data": {
      "text/plain": [
       "([1208,\n",
       "  2408,\n",
       "  3008,\n",
       "  2708,\n",
       "  2828,\n",
       "  2852,\n",
       "  2840,\n",
       "  908,\n",
       "  683,\n",
       "  638,\n",
       "  656,\n",
       "  647,\n",
       "  608,\n",
       "  645,\n",
       "  593,\n",
       "  608,\n",
       "  620],\n",
       " [0.08351253048286908,\n",
       "  0.08800320732513323,\n",
       "  0.08399009856390433,\n",
       "  0.08536716631440969,\n",
       "  0.08584637110829238,\n",
       "  0.08793287147867831,\n",
       "  0.08123698029122395,\n",
       "  0.08578292088793057,\n",
       "  0.08839466618411465,\n",
       "  0.08933839573024502,\n",
       "  0.08645720340546385,\n",
       "  0.08711166615528985,\n",
       "  0.09149339338467251,\n",
       "  0.1437292013392325,\n",
       "  0.14727679252030282,\n",
       "  0.09959353417037434,\n",
       "  0.09639759906836584])"
      ]
     },
     "execution_count": 105,
     "metadata": {
      "tags": []
     },
     "output_type": "execute_result"
    }
   ],
   "source": [
    "arr_soc, arr_mae"
   ]
  },
  {
   "cell_type": "code",
   "execution_count": null,
   "metadata": {
    "id": "Juuw3b3-r2L-"
   },
   "outputs": [],
   "source": [
    "arr_mae_not_allowed_soc = [608,645,593,608,620]"
   ]
  },
  {
   "cell_type": "code",
   "execution_count": null,
   "metadata": {
    "colab": {
     "base_uri": "https://localhost:8080/",
     "height": 299
    },
    "executionInfo": {
     "elapsed": 756,
     "status": "ok",
     "timestamp": 1619184662660,
     "user": {
      "displayName": "Dinmukhamed Kaldykhanov",
      "photoUrl": "https://lh3.googleusercontent.com/a-/AOh14Gi8JBhh4qoXO8KmL48WKzrczCRexBMskXI2i_1Ngw=s64",
      "userId": "16471649019417663423"
     },
     "user_tz": -360
    },
    "id": "cTcKozk-rnvq",
    "outputId": "58439379-fcba-4ea1-c201-19a445af188d"
   },
   "outputs": [
    {
     "data": {
      "image/png": "[encoded data removed]",
      "text/plain": [
       "<Figure size 432x288 with 1 Axes>"
      ]
     },
     "metadata": {
      "tags": []
     },
     "output_type": "display_data"
    }
   ],
   "source": [
    "plt.title(\"MAE vs. SOC\")\n",
    "\n",
    "plt.scatter(arr_mae, arr_soc, c='green')\n",
    "plt.scatter(arr_mae_not_allowed, arr_mae_not_allowed_soc, c='red')\n",
    "plt.scatter(arr_mae_min, arr_soc_min, c='blue')\n",
    "plt.scatter(arr_mae_min_soc, arr_soc_min_soc, c='grey')\n",
    "plt.axvline(x=arr_mae_min[0]*1.1)\n",
    "plt.xlabel('MAE')\n",
    "plt.ylabel('SOC')\n",
    "plt.show()"
   ]
  },
  {
   "cell_type": "code",
   "execution_count": null,
   "metadata": {
    "colab": {
     "base_uri": "https://localhost:8080/",
     "height": 299
    },
    "executionInfo": {
     "elapsed": 2513,
     "status": "ok",
     "timestamp": 1619184723957,
     "user": {
      "displayName": "Dinmukhamed Kaldykhanov",
      "photoUrl": "https://lh3.googleusercontent.com/a-/AOh14Gi8JBhh4qoXO8KmL48WKzrczCRexBMskXI2i_1Ngw=s64",
      "userId": "16471649019417663423"
     },
     "user_tz": -360
    },
    "id": "BW6TYXx0vrHU",
    "outputId": "1bc0970f-97ec-43ed-bfca-ad129f0529c8"
   },
   "outputs": [
    {
     "data": {
      "image/png": "[encoded data removed]",
      "text/plain": [
       "<Figure size 432x288 with 1 Axes>"
      ]
     },
     "metadata": {
      "tags": []
     },
     "output_type": "display_data"
    }
   ],
   "source": [
    "plt.title(\"MAE vs. SOC\")\n",
    "\n",
    "plt.scatter(arr_mae, arr_soc, c='green')\n",
    "plt.scatter(arr_mae_not_allowed, arr_mae_not_allowed_soc, c='red')\n",
    "plt.scatter(arr_mae_min, arr_soc_min, c='blue')\n",
    "plt.scatter(arr_mae_min_soc, arr_soc_min_soc, c='grey')\n",
    "plt.axvline(x=arr_mae_min[0]*1.1)\n",
    "\n",
    "for i, txt in enumerate(arr_mae):\n",
    "    plt.annotate(i, (arr_mae[i], arr_soc[i]))\n",
    "\n",
    "plt.xlabel('MAE')\n",
    "plt.ylabel('SOC')\n",
    "plt.show()"
   ]
  },
  {
   "cell_type": "code",
   "execution_count": null,
   "metadata": {
    "colab": {
     "base_uri": "https://localhost:8080/",
     "height": 576
    },
    "executionInfo": {
     "elapsed": 886,
     "status": "ok",
     "timestamp": 1619184726370,
     "user": {
      "displayName": "Dinmukhamed Kaldykhanov",
      "photoUrl": "https://lh3.googleusercontent.com/a-/AOh14Gi8JBhh4qoXO8KmL48WKzrczCRexBMskXI2i_1Ngw=s64",
      "userId": "16471649019417663423"
     },
     "user_tz": -360
    },
    "id": "3jC8UE_Ivy44",
    "outputId": "88e752ae-dabc-449f-95d6-495228a233e5"
   },
   "outputs": [
    {
     "data": {
      "text/html": [
       "<div>\n",
       "<style scoped>\n",
       "    .dataframe tbody tr th:only-of-type {\n",
       "        vertical-align: middle;\n",
       "    }\n",
       "\n",
       "    .dataframe tbody tr th {\n",
       "        vertical-align: top;\n",
       "    }\n",
       "\n",
       "    .dataframe thead th {\n",
       "        text-align: right;\n",
       "    }\n",
       "</style>\n",
       "<table border=\"1\" class=\"dataframe\">\n",
       "  <thead>\n",
       "    <tr style=\"text-align: right;\">\n",
       "      <th></th>\n",
       "      <th>MAE</th>\n",
       "      <th>SOC</th>\n",
       "      <th>Hidden Layer Size</th>\n",
       "    </tr>\n",
       "  </thead>\n",
       "  <tbody>\n",
       "    <tr>\n",
       "      <th>0</th>\n",
       "      <td>0.083513</td>\n",
       "      <td>1208</td>\n",
       "      <td>(100, 100, 100, 100)</td>\n",
       "    </tr>\n",
       "    <tr>\n",
       "      <th>1</th>\n",
       "      <td>0.088003</td>\n",
       "      <td>2408</td>\n",
       "      <td>(200, 200, 200, 200)</td>\n",
       "    </tr>\n",
       "    <tr>\n",
       "      <th>2</th>\n",
       "      <td>0.083990</td>\n",
       "      <td>3008</td>\n",
       "      <td>(250, 250, 250, 250)</td>\n",
       "    </tr>\n",
       "    <tr>\n",
       "      <th>3</th>\n",
       "      <td>0.085367</td>\n",
       "      <td>2708</td>\n",
       "      <td>(225, 225, 225, 225)</td>\n",
       "    </tr>\n",
       "    <tr>\n",
       "      <th>4</th>\n",
       "      <td>0.085846</td>\n",
       "      <td>2828</td>\n",
       "      <td>(235, 235, 235, 235)</td>\n",
       "    </tr>\n",
       "    <tr>\n",
       "      <th>5</th>\n",
       "      <td>0.087933</td>\n",
       "      <td>2852</td>\n",
       "      <td>(237, 237, 237, 237)</td>\n",
       "    </tr>\n",
       "    <tr>\n",
       "      <th>6</th>\n",
       "      <td>0.081237</td>\n",
       "      <td>2840</td>\n",
       "      <td>(236, 236, 236, 236)</td>\n",
       "    </tr>\n",
       "    <tr>\n",
       "      <th>7</th>\n",
       "      <td>0.085783</td>\n",
       "      <td>908</td>\n",
       "      <td>(100, 100, 100)</td>\n",
       "    </tr>\n",
       "    <tr>\n",
       "      <th>8</th>\n",
       "      <td>0.088395</td>\n",
       "      <td>683</td>\n",
       "      <td>(75, 75, 75)</td>\n",
       "    </tr>\n",
       "    <tr>\n",
       "      <th>9</th>\n",
       "      <td>0.089338</td>\n",
       "      <td>638</td>\n",
       "      <td>(70, 70, 70)</td>\n",
       "    </tr>\n",
       "    <tr>\n",
       "      <th>10</th>\n",
       "      <td>0.086457</td>\n",
       "      <td>656</td>\n",
       "      <td>(72, 72, 72)</td>\n",
       "    </tr>\n",
       "    <tr>\n",
       "      <th>11</th>\n",
       "      <td>0.087112</td>\n",
       "      <td>647</td>\n",
       "      <td>(71, 71, 71)</td>\n",
       "    </tr>\n",
       "    <tr>\n",
       "      <th>12</th>\n",
       "      <td>0.091493</td>\n",
       "      <td>608</td>\n",
       "      <td>(50, 50, 50, 50)</td>\n",
       "    </tr>\n",
       "    <tr>\n",
       "      <th>13</th>\n",
       "      <td>0.143729</td>\n",
       "      <td>645</td>\n",
       "      <td>(71, 71, 71)</td>\n",
       "    </tr>\n",
       "    <tr>\n",
       "      <th>14</th>\n",
       "      <td>0.147277</td>\n",
       "      <td>593</td>\n",
       "      <td>(65, 65, 65)</td>\n",
       "    </tr>\n",
       "    <tr>\n",
       "      <th>15</th>\n",
       "      <td>0.099594</td>\n",
       "      <td>608</td>\n",
       "      <td>(100, 100)</td>\n",
       "    </tr>\n",
       "    <tr>\n",
       "      <th>16</th>\n",
       "      <td>0.096398</td>\n",
       "      <td>620</td>\n",
       "      <td>(68, 68, 68)</td>\n",
       "    </tr>\n",
       "  </tbody>\n",
       "</table>\n",
       "</div>"
      ],
      "text/plain": [
       "         MAE   SOC    Hidden Layer Size \n",
       "0   0.083513  1208  (100, 100, 100, 100)\n",
       "1   0.088003  2408  (200, 200, 200, 200)\n",
       "2   0.083990  3008  (250, 250, 250, 250)\n",
       "3   0.085367  2708  (225, 225, 225, 225)\n",
       "4   0.085846  2828  (235, 235, 235, 235)\n",
       "5   0.087933  2852  (237, 237, 237, 237)\n",
       "6   0.081237  2840  (236, 236, 236, 236)\n",
       "7   0.085783   908       (100, 100, 100)\n",
       "8   0.088395   683          (75, 75, 75)\n",
       "9   0.089338   638          (70, 70, 70)\n",
       "10  0.086457   656          (72, 72, 72)\n",
       "11  0.087112   647          (71, 71, 71)\n",
       "12  0.091493   608      (50, 50, 50, 50)\n",
       "13  0.143729   645          (71, 71, 71)\n",
       "14  0.147277   593          (65, 65, 65)\n",
       "15  0.099594   608            (100, 100)\n",
       "16  0.096398   620          (68, 68, 68)"
      ]
     },
     "execution_count": 110,
     "metadata": {
      "tags": []
     },
     "output_type": "execute_result"
    }
   ],
   "source": [
    "data = { 'MAE': arr_mae, 'SOC': arr_soc, 'Hidden Layer Size ': arr_hls }\n",
    "df = pd.DataFrame(data)\n",
    "df"
   ]
  },
  {
   "cell_type": "code",
   "execution_count": null,
   "metadata": {
    "id": "oaAbhXqQZhNC"
   },
   "outputs": [],
   "source": []
  }
 ],
 "metadata": {
  "colab": {
   "collapsed_sections": [],
   "name": "Copy of Servo_MLP-2.ipynb",
   "provenance": []
  },
  "kernelspec": {
   "display_name": "Python 3",
   "language": "python",
   "name": "python3"
  },
  "language_info": {
   "codemirror_mode": {
    "name": "ipython",
    "version": 3
   },
   "file_extension": ".py",
   "mimetype": "text/x-python",
   "name": "python",
   "nbconvert_exporter": "python",
   "pygments_lexer": "ipython3",
   "version": "3.8.2"
  }
 },
 "nbformat": 4,
 "nbformat_minor": 1
}
