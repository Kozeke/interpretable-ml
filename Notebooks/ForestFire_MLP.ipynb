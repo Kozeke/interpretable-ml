{
 "cells": [
  {
   "cell_type": "code",
   "execution_count": 1,
   "metadata": {
    "executionInfo": {
     "elapsed": 1309,
     "status": "ok",
     "timestamp": 1619373499287,
     "user": {
      "displayName": "Dinmukhamed Kaldykhanov",
      "photoUrl": "https://lh3.googleusercontent.com/a-/AOh14Gi8JBhh4qoXO8KmL48WKzrczCRexBMskXI2i_1Ngw=s64",
      "userId": "16471649019417663423"
     },
     "user_tz": -360
    },
    "id": "GGhhFoDSoo4R"
   },
   "outputs": [],
   "source": [
    "%matplotlib inline\n",
    "\n",
    "import numpy as np\n",
    "import pandas as pd\n",
    "import seaborn as sns\n",
    "from math import sqrt\n",
    "from sklearn.svm import SVR\n",
    "from sklearn.neural_network import MLPRegressor\n",
    "\n",
    "from sklearn.linear_model import LinearRegression\n",
    "import matplotlib.pyplot as plt\n",
    "\n",
    "from statsmodels.stats.outliers_influence import variance_inflation_factor\n",
    "from scipy.stats import zscore, t\n",
    "\n",
    "from sklearn.ensemble import ExtraTreesRegressor\n",
    "from sklearn.ensemble import IsolationForest\n",
    "\n",
    "from sklearn.metrics import mean_squared_error,make_scorer\n",
    "from sklearn.metrics import r2_score, mean_absolute_error\n",
    "\n",
    "from sklearn.neighbors import LocalOutlierFactor\n",
    "\n",
    "\n",
    "from sklearn.feature_selection import RFE,RFECV\n",
    "from sklearn.feature_selection import SelectKBest\n",
    "from sklearn.feature_selection import f_regression\n",
    "from sklearn.feature_selection import mutual_info_regression\n",
    "from sklearn.feature_selection import SelectFromModel\n",
    "\n",
    "\n",
    "from sklearn.pipeline import Pipeline\n",
    "from sklearn.preprocessing import StandardScaler,OrdinalEncoder\n",
    "\n",
    "from sklearn.model_selection import GridSearchCV\n",
    "from sklearn.model_selection import cross_val_score\n",
    "from sklearn.model_selection import train_test_split\n",
    "from sklearn.model_selection import validation_curve\n",
    "from sklearn.model_selection import learning_curve\n",
    "from sklearn.model_selection import cross_val_score\n",
    "from sklearn.model_selection import KFold\n",
    "\n",
    "plt.style.use('ggplot')\n",
    "import warnings\n",
    "warnings.filterwarnings('ignore')"
   ]
  },
  {
   "cell_type": "code",
   "execution_count": 2,
   "metadata": {
    "executionInfo": {
     "elapsed": 1123,
     "status": "ok",
     "timestamp": 1619373503808,
     "user": {
      "displayName": "Dinmukhamed Kaldykhanov",
      "photoUrl": "https://lh3.googleusercontent.com/a-/AOh14Gi8JBhh4qoXO8KmL48WKzrczCRexBMskXI2i_1Ngw=s64",
      "userId": "16471649019417663423"
     },
     "user_tz": -360
    },
    "id": "UEftUxxno1uu"
   },
   "outputs": [],
   "source": [
    "uploaded = 'http://archive.ics.uci.edu/ml/machine-learning-databases/forest-fires/forestfires.csv'\n",
    "columns = ['X','Y','month','day','FFMC','DMC','DC','ISI','temp','RH','wind','rain']\n",
    "\n",
    "df = pd.read_csv(uploaded)\n",
    "df[['day','month']] = OrdinalEncoder().fit_transform(df[['day','month']])\n",
    "\n",
    "#scale independent variables\n",
    "df[columns]=StandardScaler().fit_transform(df[columns])\n",
    "\n",
    "# z = np.abs(zscore(df))\n",
    "# df = df[(z < 3).all(axis=1)]\n",
    "\n",
    "# print(df.shape)\n",
    "# df.head()"
   ]
  },
  {
   "cell_type": "code",
   "execution_count": 3,
   "metadata": {
    "colab": {
     "base_uri": "https://localhost:8080/",
     "height": 111
    },
    "executionInfo": {
     "elapsed": 858,
     "status": "ok",
     "timestamp": 1619373504868,
     "user": {
      "displayName": "Dinmukhamed Kaldykhanov",
      "photoUrl": "https://lh3.googleusercontent.com/a-/AOh14Gi8JBhh4qoXO8KmL48WKzrczCRexBMskXI2i_1Ngw=s64",
      "userId": "16471649019417663423"
     },
     "user_tz": -360
    },
    "id": "6ijBOqD2q6nD",
    "outputId": "09ade137-4226-4ed4-ec04-53b5922aa121"
   },
   "outputs": [
    {
     "data": {
      "text/html": [
       "<div>\n",
       "<style scoped>\n",
       "    .dataframe tbody tr th:only-of-type {\n",
       "        vertical-align: middle;\n",
       "    }\n",
       "\n",
       "    .dataframe tbody tr th {\n",
       "        vertical-align: top;\n",
       "    }\n",
       "\n",
       "    .dataframe thead th {\n",
       "        text-align: right;\n",
       "    }\n",
       "</style>\n",
       "<table border=\"1\" class=\"dataframe\">\n",
       "  <thead>\n",
       "    <tr style=\"text-align: right;\">\n",
       "      <th></th>\n",
       "      <th>X</th>\n",
       "      <th>Y</th>\n",
       "      <th>month</th>\n",
       "      <th>day</th>\n",
       "      <th>FFMC</th>\n",
       "      <th>DMC</th>\n",
       "      <th>DC</th>\n",
       "      <th>ISI</th>\n",
       "      <th>temp</th>\n",
       "      <th>RH</th>\n",
       "      <th>wind</th>\n",
       "      <th>rain</th>\n",
       "      <th>area</th>\n",
       "    </tr>\n",
       "  </thead>\n",
       "  <tbody>\n",
       "    <tr>\n",
       "      <th>skewness</th>\n",
       "      <td>0.036246</td>\n",
       "      <td>0.417296</td>\n",
       "      <td>0.084074</td>\n",
       "      <td>0.157756</td>\n",
       "      <td>-6.575606</td>\n",
       "      <td>0.547498</td>\n",
       "      <td>-1.100445</td>\n",
       "      <td>2.536325</td>\n",
       "      <td>-0.331172</td>\n",
       "      <td>0.862904</td>\n",
       "      <td>0.571001</td>\n",
       "      <td>19.816344</td>\n",
       "      <td>12.846934</td>\n",
       "    </tr>\n",
       "    <tr>\n",
       "      <th>kurtosis</th>\n",
       "      <td>-1.172331</td>\n",
       "      <td>1.420553</td>\n",
       "      <td>-1.719350</td>\n",
       "      <td>-1.101004</td>\n",
       "      <td>67.066041</td>\n",
       "      <td>0.204822</td>\n",
       "      <td>-0.245244</td>\n",
       "      <td>21.458037</td>\n",
       "      <td>0.136166</td>\n",
       "      <td>0.438183</td>\n",
       "      <td>0.054324</td>\n",
       "      <td>421.295964</td>\n",
       "      <td>194.140721</td>\n",
       "    </tr>\n",
       "  </tbody>\n",
       "</table>\n",
       "</div>"
      ],
      "text/plain": [
       "                 X         Y     month       day       FFMC       DMC  \\\n",
       "skewness  0.036246  0.417296  0.084074  0.157756  -6.575606  0.547498   \n",
       "kurtosis -1.172331  1.420553 -1.719350 -1.101004  67.066041  0.204822   \n",
       "\n",
       "                DC        ISI      temp        RH      wind        rain  \\\n",
       "skewness -1.100445   2.536325 -0.331172  0.862904  0.571001   19.816344   \n",
       "kurtosis -0.245244  21.458037  0.136166  0.438183  0.054324  421.295964   \n",
       "\n",
       "                area  \n",
       "skewness   12.846934  \n",
       "kurtosis  194.140721  "
      ]
     },
     "execution_count": 3,
     "metadata": {},
     "output_type": "execute_result"
    }
   ],
   "source": [
    "X_orig = df[columns]\n",
    "y = df['area']\n",
    "pd.DataFrame(data=[df.skew(),df.kurtosis()],index=['skewness','kurtosis'])"
   ]
  },
  {
   "cell_type": "code",
   "execution_count": 4,
   "metadata": {
    "colab": {
     "base_uri": "https://localhost:8080/"
    },
    "executionInfo": {
     "elapsed": 1273,
     "status": "ok",
     "timestamp": 1619373505975,
     "user": {
      "displayName": "Dinmukhamed Kaldykhanov",
      "photoUrl": "https://lh3.googleusercontent.com/a-/AOh14Gi8JBhh4qoXO8KmL48WKzrczCRexBMskXI2i_1Ngw=s64",
      "userId": "16471649019417663423"
     },
     "user_tz": -360
    },
    "id": "ZWVLnwyDq8Fl",
    "outputId": "4526d2c2-5b81-4282-8238-6eba4d98966a"
   },
   "outputs": [
    {
     "data": {
      "text/plain": [
       "(483, 12)"
      ]
     },
     "execution_count": 4,
     "metadata": {},
     "output_type": "execute_result"
    }
   ],
   "source": [
    "outliers = LocalOutlierFactor(20).fit_predict(X_orig)\n",
    "target_out = LocalOutlierFactor(20).fit_predict(y.values.reshape(-1,1))\n",
    "outliers = outliers == 1\n",
    "target_out = target_out == 1\n",
    "for i,t in enumerate(target_out):\n",
    "  outliers[i]=outliers[i] and t\n",
    "\n",
    "X_orig,y=X_orig[outliers],y[outliers]\n",
    "X_orig.shape"
   ]
  },
  {
   "cell_type": "code",
   "execution_count": 5,
   "metadata": {
    "colab": {
     "base_uri": "https://localhost:8080/",
     "height": 421
    },
    "executionInfo": {
     "elapsed": 876,
     "status": "ok",
     "timestamp": 1619373506617,
     "user": {
      "displayName": "Dinmukhamed Kaldykhanov",
      "photoUrl": "https://lh3.googleusercontent.com/a-/AOh14Gi8JBhh4qoXO8KmL48WKzrczCRexBMskXI2i_1Ngw=s64",
      "userId": "16471649019417663423"
     },
     "user_tz": -360
    },
    "id": "7yyQmOerrAg5",
    "outputId": "3d88b162-b0d3-4fbb-c924-f950436169bd"
   },
   "outputs": [
    {
     "data": {
      "text/html": [
       "<div>\n",
       "<style scoped>\n",
       "    .dataframe tbody tr th:only-of-type {\n",
       "        vertical-align: middle;\n",
       "    }\n",
       "\n",
       "    .dataframe tbody tr th {\n",
       "        vertical-align: top;\n",
       "    }\n",
       "\n",
       "    .dataframe thead th {\n",
       "        text-align: right;\n",
       "    }\n",
       "</style>\n",
       "<table border=\"1\" class=\"dataframe\">\n",
       "  <thead>\n",
       "    <tr style=\"text-align: right;\">\n",
       "      <th></th>\n",
       "      <th>VIF Factor</th>\n",
       "      <th>features</th>\n",
       "    </tr>\n",
       "  </thead>\n",
       "  <tbody>\n",
       "    <tr>\n",
       "      <th>0</th>\n",
       "      <td>1.400216</td>\n",
       "      <td>X</td>\n",
       "    </tr>\n",
       "    <tr>\n",
       "      <th>1</th>\n",
       "      <td>1.412978</td>\n",
       "      <td>Y</td>\n",
       "    </tr>\n",
       "    <tr>\n",
       "      <th>2</th>\n",
       "      <td>1.522731</td>\n",
       "      <td>month</td>\n",
       "    </tr>\n",
       "    <tr>\n",
       "      <th>3</th>\n",
       "      <td>1.062672</td>\n",
       "      <td>day</td>\n",
       "    </tr>\n",
       "    <tr>\n",
       "      <th>4</th>\n",
       "      <td>2.818760</td>\n",
       "      <td>FFMC</td>\n",
       "    </tr>\n",
       "    <tr>\n",
       "      <th>5</th>\n",
       "      <td>2.792247</td>\n",
       "      <td>DMC</td>\n",
       "    </tr>\n",
       "    <tr>\n",
       "      <th>6</th>\n",
       "      <td>2.857340</td>\n",
       "      <td>DC</td>\n",
       "    </tr>\n",
       "    <tr>\n",
       "      <th>7</th>\n",
       "      <td>2.381729</td>\n",
       "      <td>ISI</td>\n",
       "    </tr>\n",
       "    <tr>\n",
       "      <th>8</th>\n",
       "      <td>2.888902</td>\n",
       "      <td>temp</td>\n",
       "    </tr>\n",
       "    <tr>\n",
       "      <th>9</th>\n",
       "      <td>1.915021</td>\n",
       "      <td>RH</td>\n",
       "    </tr>\n",
       "    <tr>\n",
       "      <th>10</th>\n",
       "      <td>1.208087</td>\n",
       "      <td>wind</td>\n",
       "    </tr>\n",
       "    <tr>\n",
       "      <th>11</th>\n",
       "      <td>1.065754</td>\n",
       "      <td>rain</td>\n",
       "    </tr>\n",
       "  </tbody>\n",
       "</table>\n",
       "</div>"
      ],
      "text/plain": [
       "    VIF Factor features\n",
       "0     1.400216        X\n",
       "1     1.412978        Y\n",
       "2     1.522731    month\n",
       "3     1.062672      day\n",
       "4     2.818760     FFMC\n",
       "5     2.792247      DMC\n",
       "6     2.857340       DC\n",
       "7     2.381729      ISI\n",
       "8     2.888902     temp\n",
       "9     1.915021       RH\n",
       "10    1.208087     wind\n",
       "11    1.065754     rain"
      ]
     },
     "execution_count": 5,
     "metadata": {},
     "output_type": "execute_result"
    }
   ],
   "source": [
    "vif = pd.DataFrame()\n",
    "vif[\"VIF Factor\"] = [variance_inflation_factor(X_orig.values, i) for i in range(X_orig.shape[1])]\n",
    "vif[\"features\"] = X_orig.columns\n",
    "vif"
   ]
  },
  {
   "cell_type": "code",
   "execution_count": 6,
   "metadata": {
    "executionInfo": {
     "elapsed": 572,
     "status": "ok",
     "timestamp": 1619373508038,
     "user": {
      "displayName": "Dinmukhamed Kaldykhanov",
      "photoUrl": "https://lh3.googleusercontent.com/a-/AOh14Gi8JBhh4qoXO8KmL48WKzrczCRexBMskXI2i_1Ngw=s64",
      "userId": "16471649019417663423"
     },
     "user_tz": -360
    },
    "id": "9xyiBpPfcAPZ"
   },
   "outputs": [],
   "source": [
    "X = X_orig[:]"
   ]
  },
  {
   "cell_type": "code",
   "execution_count": 7,
   "metadata": {
    "colab": {
     "base_uri": "https://localhost:8080/"
    },
    "executionInfo": {
     "elapsed": 1209,
     "status": "ok",
     "timestamp": 1619373509174,
     "user": {
      "displayName": "Dinmukhamed Kaldykhanov",
      "photoUrl": "https://lh3.googleusercontent.com/a-/AOh14Gi8JBhh4qoXO8KmL48WKzrczCRexBMskXI2i_1Ngw=s64",
      "userId": "16471649019417663423"
     },
     "user_tz": -360
    },
    "id": "K8Iwky2H6iZ2",
    "outputId": "9692aa5e-f5fa-47cc-e59a-50022dfb7b11"
   },
   "outputs": [
    {
     "data": {
      "text/plain": [
       "(483, 12)"
      ]
     },
     "execution_count": 7,
     "metadata": {},
     "output_type": "execute_result"
    }
   ],
   "source": [
    "k=X.shape[1]\n",
    "\n",
    "acc_metric = 'neg_mean_squared_error'\n",
    "# acc_metric = 'neg_mean_absolute_error'\n",
    "\n",
    "cv = KFold(n_splits=10, shuffle= True,random_state=100)\n",
    "\n",
    "model_selected=None\n",
    "minRMSE=np.inf\n",
    "train_sizes=np.array([0.1,0.2,0.3,0.4,0.5,1.0])\n",
    "\n",
    "X.shape"
   ]
  },
  {
   "cell_type": "code",
   "execution_count": 8,
   "metadata": {
    "executionInfo": {
     "elapsed": 1031,
     "status": "ok",
     "timestamp": 1619373510238,
     "user": {
      "displayName": "Dinmukhamed Kaldykhanov",
      "photoUrl": "https://lh3.googleusercontent.com/a-/AOh14Gi8JBhh4qoXO8KmL48WKzrczCRexBMskXI2i_1Ngw=s64",
      "userId": "16471649019417663423"
     },
     "user_tz": -360
    },
    "id": "UY4ZglkKldVp"
   },
   "outputs": [],
   "source": [
    "# Dimash's version\n",
    "# def get_soc(final_clf, features):\n",
    "#     soc = 0\n",
    "#     n = 7     # for tanh\n",
    "#     if( final_clf.get_params()['activation'] == 'relu' ):\n",
    "#       n = 1\n",
    "#     elif ( final_clf.get_params()['activation'] == 'logistic' ):\n",
    "#       n = 3\n",
    "\n",
    "#     for i in final_clf.get_params()['hidden_layer_sizes']:\n",
    "#       soc += ( 2 * features + n * i )\n",
    "#       features = i\n",
    "#     soc += 2 * features * final_clf.n_outputs_\n",
    "#     return soc"
   ]
  },
  {
   "cell_type": "code",
   "execution_count": 31,
   "metadata": {},
   "outputs": [],
   "source": [
    "# Prof's version\n",
    "def get_soc(clf, P):\n",
    "    soc=0\n",
    "    ac=clf.get_params()['activation']\n",
    "    At = (ac=='relu')*1 + (ac=='logistic')*4 + (ac=='tanh') * 9\n",
    "    N = list(clf.get_params()['hidden_layer_sizes'])\n",
    "    N.insert(0,P)\n",
    "    H = len(N)\n",
    "    N.append(clf.n_outputs_)\n",
    "    \n",
    "    for h in range(H):\n",
    "        soc += (2 * N[h] + At) * N[h+1] + 2*N[h+1]\n",
    "    return soc"
   ]
  },
  {
   "cell_type": "code",
   "execution_count": 32,
   "metadata": {
    "executionInfo": {
     "elapsed": 902,
     "status": "ok",
     "timestamp": 1619373511343,
     "user": {
      "displayName": "Dinmukhamed Kaldykhanov",
      "photoUrl": "https://lh3.googleusercontent.com/a-/AOh14Gi8JBhh4qoXO8KmL48WKzrczCRexBMskXI2i_1Ngw=s64",
      "userId": "16471649019417663423"
     },
     "user_tz": -360
    },
    "id": "XRpwxMwm8y0l"
   },
   "outputs": [],
   "source": [
    "arr_mse = []\n",
    "arr_mae = []\n",
    "arr_soc = []\n",
    "arr_hls = []"
   ]
  },
  {
   "cell_type": "code",
   "execution_count": 33,
   "metadata": {},
   "outputs": [],
   "source": [
    "def test(params, cv=5, N=10, scoring='neg_mean_absolute_error'):\n",
    "    socs=[]\n",
    "    maes=[]\n",
    "    h_layers=[]\n",
    "    for _ in range(N):\n",
    "        grid = GridSearchCV(MLPRegressor(), param_grid = params, cv=cv, scoring=scoring)\n",
    "        grid.fit(X, y)\n",
    "        final_clf = grid.best_estimator_\n",
    "        mae = cross_val_score(final_clf,X,y,cv=cv,scoring=scoring)\n",
    "        mae = np.abs(np.mean(mae))\n",
    "        soc=get_soc(final_clf, X.shape[1])\n",
    "        socs.append(soc)\n",
    "        maes.append(mae)\n",
    "        h_layers.append((final_clf.get_params()['activation'],final_clf.get_params()['hidden_layer_sizes']))\n",
    "    return maes,socs,h_layers"
   ]
  },
  {
   "cell_type": "code",
   "execution_count": 34,
   "metadata": {
    "colab": {
     "base_uri": "https://localhost:8080/",
     "height": 384
    },
    "executionInfo": {
     "elapsed": 14842,
     "status": "ok",
     "timestamp": 1619373525962,
     "user": {
      "displayName": "Dinmukhamed Kaldykhanov",
      "photoUrl": "https://lh3.googleusercontent.com/a-/AOh14Gi8JBhh4qoXO8KmL48WKzrczCRexBMskXI2i_1Ngw=s64",
      "userId": "16471649019417663423"
     },
     "user_tz": -360
    },
    "id": "BbEuq3WzLHP3",
    "outputId": "14c5deaa-928f-4ecc-a5a6-9c4b0a7ebb78"
   },
   "outputs": [
    {
     "name": "stdout",
     "output_type": "stream",
     "text": [
      "7.026539175563883\n"
     ]
    },
    {
     "data": {
      "text/plain": [
       "([7.041089236449054,\n",
       "  6.974601828456288,\n",
       "  7.03632388863516,\n",
       "  7.0622481192439235,\n",
       "  7.018432805034993],\n",
       " [870, 870, 870, 870, 870],\n",
       " [('logistic', (27,)),\n",
       "  ('logistic', (27,)),\n",
       "  ('logistic', (27,)),\n",
       "  ('logistic', (27,)),\n",
       "  ('logistic', (27,))])"
      ]
     },
     "execution_count": 34,
     "metadata": {},
     "output_type": "execute_result"
    }
   ],
   "source": [
    "# default learning_rate_init = 0.001\n",
    "# default hidden_layer_sizes = (100, )\n",
    "params_6 = {\n",
    " 'activation': ['logistic'], \n",
    " 'hidden_layer_sizes': [(27,)], \n",
    " 'learning_rate_init': [0.01]\n",
    "}\n",
    "maes,socs,params=test(params_6,cv,5)\n",
    "print(np.mean(maes))\n",
    "maes,socs,params\n",
    "# clf = MLPRegressor()\n",
    "# grid = GridSearchCV(clf, param_grid = params_6, cv=5, scoring='neg_mean_absolute_error')\n",
    "# grid.fit(X, y)\n",
    "\n",
    "# print(\"Best Hyperparameters::\\n{}\".format(grid.best_params_))\n",
    "# results = pd.DataFrame(data=grid.cv_results_)\n",
    "\n",
    "# final_clf = grid.best_estimator_\n",
    "\n",
    "# _,train_scores,test_scores=learning_curve(final_clf,X,y,cv=cv,train_sizes=train_sizes,scoring='neg_mean_absolute_error')\n",
    "\n",
    "# plt.title(\"Learning curve\")\n",
    "# plt.plot(len(X)*train_sizes,train_scores.mean(axis=1),'r-',label='train error')\n",
    "# plt.plot(len(X)*train_sizes,test_scores.mean(axis=1),'g-',label='test error')\n",
    "# plt.legend()\n",
    "# plt.xlabel('train size')\n",
    "# plt.ylabel('MSE')\n",
    "# plt.show()\n",
    "\n",
    "# mse = cross_val_score(final_clf,X,y,cv=10,scoring='neg_mean_squared_error')\n",
    "# mae = cross_val_score(final_clf,X,y,cv=10,scoring='neg_mean_absolute_error')\n",
    "\n",
    "# std = np.std(mse)\n",
    "# mse = np.abs(np.mean(mse))\n",
    "# mae = np.abs(np.mean(mae))\n",
    "# soc=get_soc(final_clf, 12)\n",
    "\n",
    "# arr_mse.append(mse)\n",
    "# arr_mae.append(mae)\n",
    "# arr_soc.append(soc)\n",
    "# arr_hls.append(final_clf.get_params()['hidden_layer_sizes'])\n",
    "# print(\"mse : \", mse)\n",
    "# print(\"mae : \", mae)\n",
    "# print(\"soc : \", soc)\n"
   ]
  },
  {
   "cell_type": "code",
   "execution_count": 48,
   "metadata": {
    "colab": {
     "base_uri": "https://localhost:8080/",
     "height": 384
    },
    "executionInfo": {
     "elapsed": 131577,
     "status": "ok",
     "timestamp": 1618994160987,
     "user": {
      "displayName": "Dinmukhamed Kaldykhanov",
      "photoUrl": "https://lh3.googleusercontent.com/a-/AOh14Gi8JBhh4qoXO8KmL48WKzrczCRexBMskXI2i_1Ngw=s64",
      "userId": "16471649019417663423"
     },
     "user_tz": -360
    },
    "id": "XkBlPpnWrjz2",
    "outputId": "9e04bd8a-a8d7-4d56-b48a-79a5d3efeea7"
   },
   "outputs": [
    {
     "name": "stdout",
     "output_type": "stream",
     "text": [
      "6.192751715637935\n"
     ]
    },
    {
     "data": {
      "text/plain": [
       "([6.228502255921419,\n",
       "  6.205460869389868,\n",
       "  6.198729947066687,\n",
       "  6.12955138482356,\n",
       "  6.201514120988142],\n",
       " [2206, 2206, 2206, 2206, 2206],\n",
       " [('logistic', (100,)),\n",
       "  ('logistic', (100,)),\n",
       "  ('logistic', (100,)),\n",
       "  ('logistic', (100,)),\n",
       "  ('logistic', (100,))])"
      ]
     },
     "execution_count": 48,
     "metadata": {},
     "output_type": "execute_result"
    }
   ],
   "source": [
    "# default learning_rate_init = 0.001\n",
    "# default hidden_layer_sizes = (100, )\n",
    "params_1 = {\n",
    " 'activation': ['logistic'], \n",
    " 'hidden_layer_sizes': [(100,), (100, 100), (100, 100, 100), (100, 100, 100, 100), (100, 100, 100, 100, 100)], \n",
    " 'learning_rate_init': [0.000166810]\n",
    "}\n",
    "maes,socs,params=test(params_1,cv,5)\n",
    "print(np.mean(maes))\n",
    "maes,socs,params"
   ]
  },
  {
   "cell_type": "code",
   "execution_count": 49,
   "metadata": {
    "colab": {
     "base_uri": "https://localhost:8080/",
     "height": 384
    },
    "executionInfo": {
     "elapsed": 89581,
     "status": "ok",
     "timestamp": 1618994276386,
     "user": {
      "displayName": "Dinmukhamed Kaldykhanov",
      "photoUrl": "https://lh3.googleusercontent.com/a-/AOh14Gi8JBhh4qoXO8KmL48WKzrczCRexBMskXI2i_1Ngw=s64",
      "userId": "16471649019417663423"
     },
     "user_tz": -360
    },
    "id": "UcuviX1m8y0m",
    "outputId": "fb0adb7e-354c-46dc-8122-57b546be2a9f"
   },
   "outputs": [
    {
     "name": "stdout",
     "output_type": "stream",
     "text": [
      "5.472950765468303\n"
     ]
    },
    {
     "data": {
      "text/plain": [
       "([5.466371080750027,\n",
       "  5.494207546482855,\n",
       "  5.48177754209171,\n",
       "  5.484212167677513,\n",
       "  5.5015359681389935,\n",
       "  5.443613550379962,\n",
       "  5.503322751640862,\n",
       "  5.45824290735447,\n",
       "  5.453733517362029,\n",
       "  5.442490622804604],\n",
       " [666, 666, 666, 666, 666, 666, 666, 666, 666, 666],\n",
       " [('logistic', (30,)),\n",
       "  ('logistic', (30,)),\n",
       "  ('logistic', (30,)),\n",
       "  ('logistic', (30,)),\n",
       "  ('logistic', (30,)),\n",
       "  ('logistic', (30,)),\n",
       "  ('logistic', (30,)),\n",
       "  ('logistic', (30,)),\n",
       "  ('logistic', (30,)),\n",
       "  ('logistic', (30,))])"
      ]
     },
     "execution_count": 49,
     "metadata": {},
     "output_type": "execute_result"
    }
   ],
   "source": [
    "# default learning_rate_init = 0.001\n",
    "# default hidden_layer_sizes = (100, )\n",
    "params_2 = {\n",
    " 'activation': ['logistic'], \n",
    " 'hidden_layer_sizes': [(30,)], \n",
    " 'learning_rate_init': [0.0001668100]\n",
    "}\n",
    "maes,socs,params=test(params_2,cv,10)\n",
    "print(np.mean(maes))\n",
    "maes,socs,params"
   ]
  },
  {
   "cell_type": "code",
   "execution_count": 63,
   "metadata": {
    "colab": {
     "base_uri": "https://localhost:8080/",
     "height": 384
    },
    "executionInfo": {
     "elapsed": 44451,
     "status": "ok",
     "timestamp": 1618994353076,
     "user": {
      "displayName": "Dinmukhamed Kaldykhanov",
      "photoUrl": "https://lh3.googleusercontent.com/a-/AOh14Gi8JBhh4qoXO8KmL48WKzrczCRexBMskXI2i_1Ngw=s64",
      "userId": "16471649019417663423"
     },
     "user_tz": -360
    },
    "id": "y_qYqrc6TmqL",
    "outputId": "cac62896-025b-4d8e-d470-e23f3c4c2b0a"
   },
   "outputs": [
    {
     "name": "stdout",
     "output_type": "stream",
     "text": [
      "Best Hyperparameters::\n",
      "{'activation': 'logistic', 'hidden_layer_sizes': (25,), 'learning_rate_init': 0.0001}\n"
     ]
    },
    {
     "data": {
      "image/png": "[encoded data removed]",
      "text/plain": [
       "<Figure size 432x288 with 1 Axes>"
      ]
     },
     "metadata": {},
     "output_type": "display_data"
    },
    {
     "name": "stdout",
     "output_type": "stream",
     "text": [
      "mse :  136.4468261038399\n",
      "mae :  5.376028261103217\n",
      "soc :  806\n"
     ]
    }
   ],
   "source": [
    "# default learning_rate_init = 0.001\n",
    "# default hidden_layer_sizes = (100, )\n",
    "params_3 = {\n",
    " 'activation': ['logistic', 'tanh', 'relu'], \n",
    " 'hidden_layer_sizes': [(25,),(50,),(75)],\n",
    " 'learning_rate_init': np.logspace(-4,-2, 10)\n",
    "}\n",
    "\n",
    "clf = MLPRegressor()\n",
    "grid = GridSearchCV(clf, param_grid = params_3, cv=5, scoring='neg_mean_absolute_error')\n",
    "grid.fit(X, y)\n",
    "\n",
    "print(\"Best Hyperparameters::\\n{}\".format(grid.best_params_))\n",
    "results = pd.DataFrame(data=grid.cv_results_)\n",
    "\n",
    "final_clf = grid.best_estimator_\n",
    "\n",
    "_,train_scores,test_scores=learning_curve(final_clf,X,y,cv=cv,train_sizes=train_sizes,scoring='neg_mean_absolute_error')\n",
    "\n",
    "plt.title(\"Learning curve\")\n",
    "plt.plot(len(X)*train_sizes,train_scores.mean(axis=1),'r-',label='train error')\n",
    "plt.plot(len(X)*train_sizes,test_scores.mean(axis=1),'g-',label='test error')\n",
    "plt.legend()\n",
    "plt.xlabel('train size')\n",
    "plt.ylabel('MSE')\n",
    "plt.show()\n",
    "\n",
    "mse = cross_val_score(final_clf,X,y,cv=10,scoring='neg_mean_squared_error')\n",
    "mae = cross_val_score(final_clf,X,y,cv=10,scoring='neg_mean_absolute_error')\n",
    "\n",
    "std = np.std(mse)\n",
    "mse = np.abs(np.mean(mse))\n",
    "mae = np.abs(np.mean(mae))\n",
    "soc=get_soc(final_clf, 12)\n",
    "\n",
    "arr_mse.append(mse)\n",
    "arr_mae.append(mae)\n",
    "arr_soc.append(soc)\n",
    "arr_hls.append(final_clf.get_params()['hidden_layer_sizes'])\n",
    "print(\"mse : \", mse)\n",
    "print(\"mae : \", mae)\n",
    "print(\"soc : \", soc)\n"
   ]
  },
  {
   "cell_type": "code",
   "execution_count": 51,
   "metadata": {
    "colab": {
     "base_uri": "https://localhost:8080/",
     "height": 384
    },
    "executionInfo": {
     "elapsed": 107750,
     "status": "ok",
     "timestamp": 1618994513640,
     "user": {
      "displayName": "Dinmukhamed Kaldykhanov",
      "photoUrl": "https://lh3.googleusercontent.com/a-/AOh14Gi8JBhh4qoXO8KmL48WKzrczCRexBMskXI2i_1Ngw=s64",
      "userId": "16471649019417663423"
     },
     "user_tz": -360
    },
    "id": "whflcSd98y0o",
    "outputId": "8ab34c14-1dfc-4057-a3c2-5a436296680a"
   },
   "outputs": [
    {
     "name": "stdout",
     "output_type": "stream",
     "text": [
      "Best Hyperparameters::\n",
      "{'activation': 'logistic', 'hidden_layer_sizes': (15,), 'learning_rate_init': 0.0001}\n"
     ]
    },
    {
     "data": {
      "image/png": "[encoded data removed]",
      "text/plain": [
       "<Figure size 432x288 with 1 Axes>"
      ]
     },
     "metadata": {},
     "output_type": "display_data"
    },
    {
     "name": "stdout",
     "output_type": "stream",
     "text": [
      "mse :  140.92745715434063\n",
      "mae :  5.434847131948777\n",
      "soc :  486\n"
     ]
    }
   ],
   "source": [
    "# default learning_rate_init = 0.001\n",
    "# default hidden_layer_sizes = (100, )\n",
    "params_4 = {\n",
    " 'activation': ['logistic', 'tanh', 'relu'], \n",
    " 'hidden_layer_sizes': [(25,), (35,), (15,)],\n",
    " 'learning_rate_init': np.logspace(-4,-2, 10)\n",
    "}\n",
    "\n",
    "clf = MLPRegressor()\n",
    "grid = GridSearchCV(clf, param_grid = params_4, cv=5, scoring='neg_mean_absolute_error')\n",
    "grid.fit(X, y)\n",
    "\n",
    "print(\"Best Hyperparameters::\\n{}\".format(grid.best_params_))\n",
    "results = pd.DataFrame(data=grid.cv_results_)\n",
    "\n",
    "final_clf = grid.best_estimator_\n",
    "\n",
    "_,train_scores,test_scores=learning_curve(final_clf,X,y,cv=cv,train_sizes=train_sizes,scoring='neg_mean_absolute_error')\n",
    "\n",
    "plt.title(\"Learning curve\")\n",
    "plt.plot(len(X)*train_sizes,train_scores.mean(axis=1),'r-',label='train error')\n",
    "plt.plot(len(X)*train_sizes,test_scores.mean(axis=1),'g-',label='test error')\n",
    "plt.legend()\n",
    "plt.xlabel('train size')\n",
    "plt.ylabel('MSE')\n",
    "plt.show()\n",
    "\n",
    "mse = cross_val_score(final_clf,X,y,cv=10,scoring='neg_mean_squared_error')\n",
    "mae = cross_val_score(final_clf,X,y,cv=10,scoring='neg_mean_absolute_error')\n",
    "\n",
    "std = np.std(mse)\n",
    "mse = np.abs(np.mean(mse))\n",
    "mae = np.abs(np.mean(mae))\n",
    "soc=get_soc(final_clf, 12)\n",
    "\n",
    "arr_mse.append(mse)\n",
    "arr_mae.append(mae)\n",
    "arr_soc.append(soc)\n",
    "arr_hls.append(final_clf.get_params()['hidden_layer_sizes'])\n",
    "print(\"mse : \", mse)\n",
    "print(\"mae : \", mae)\n",
    "print(\"soc : \", soc)"
   ]
  },
  {
   "cell_type": "code",
   "execution_count": 52,
   "metadata": {
    "colab": {
     "base_uri": "https://localhost:8080/",
     "height": 384
    },
    "executionInfo": {
     "elapsed": 77135,
     "status": "ok",
     "timestamp": 1618995188406,
     "user": {
      "displayName": "Dinmukhamed Kaldykhanov",
      "photoUrl": "https://lh3.googleusercontent.com/a-/AOh14Gi8JBhh4qoXO8KmL48WKzrczCRexBMskXI2i_1Ngw=s64",
      "userId": "16471649019417663423"
     },
     "user_tz": -360
    },
    "id": "QJ63iZud8y0o",
    "outputId": "921e3932-3d4e-48c3-a6f5-c0a2199fcdde"
   },
   "outputs": [
    {
     "name": "stdout",
     "output_type": "stream",
     "text": [
      "Best Hyperparameters::\n",
      "{'activation': 'logistic', 'hidden_layer_sizes': (20,), 'learning_rate_init': 0.0001}\n"
     ]
    },
    {
     "data": {
      "image/png": "[encoded data removed]",
      "text/plain": [
       "<Figure size 432x288 with 1 Axes>"
      ]
     },
     "metadata": {},
     "output_type": "display_data"
    },
    {
     "name": "stdout",
     "output_type": "stream",
     "text": [
      "mse :  140.19572245573733\n",
      "mae :  5.534287938556427\n",
      "soc :  646\n"
     ]
    }
   ],
   "source": [
    "# default learning_rate_init = 0.001\n",
    "# default hidden_layer_sizes = (100, )\n",
    "params_5 = {\n",
    " 'activation': ['logistic', 'tanh', 'relu'], \n",
    " 'hidden_layer_sizes': [(20,), (30,)], \n",
    " 'learning_rate_init': np.logspace(-4,-2, 10)\n",
    "}\n",
    "\n",
    "clf = MLPRegressor()\n",
    "grid = GridSearchCV(clf, param_grid = params_5, cv=5, scoring='neg_mean_absolute_error')\n",
    "grid.fit(X, y)\n",
    "\n",
    "print(\"Best Hyperparameters::\\n{}\".format(grid.best_params_))\n",
    "results = pd.DataFrame(data=grid.cv_results_)\n",
    "\n",
    "final_clf = grid.best_estimator_\n",
    "\n",
    "_,train_scores,test_scores=learning_curve(final_clf,X,y,cv=cv,train_sizes=train_sizes,scoring='neg_mean_absolute_error')\n",
    "\n",
    "plt.title(\"Learning curve\")\n",
    "plt.plot(len(X)*train_sizes,train_scores.mean(axis=1),'r-',label='train error')\n",
    "plt.plot(len(X)*train_sizes,test_scores.mean(axis=1),'g-',label='test error')\n",
    "plt.legend()\n",
    "plt.xlabel('train size')\n",
    "plt.ylabel('MSE')\n",
    "plt.show()\n",
    "\n",
    "mse = cross_val_score(final_clf,X,y,cv=10,scoring='neg_mean_squared_error')\n",
    "mae = cross_val_score(final_clf,X,y,cv=10,scoring='neg_mean_absolute_error')\n",
    "\n",
    "std = np.std(mse)\n",
    "mse = np.abs(np.mean(mse))\n",
    "mae = np.abs(np.mean(mae))\n",
    "soc=get_soc(final_clf, 12)\n",
    "\n",
    "arr_mse.append(mse)\n",
    "arr_mae.append(mae)\n",
    "arr_soc.append(soc)\n",
    "arr_hls.append(final_clf.get_params()['hidden_layer_sizes'])\n",
    "print(\"mse : \", mse)\n",
    "print(\"mae : \", mae)\n",
    "print(\"soc : \", soc)\n",
    "\n",
    "\n"
   ]
  },
  {
   "cell_type": "code",
   "execution_count": 64,
   "metadata": {
    "colab": {
     "base_uri": "https://localhost:8080/",
     "height": 384
    },
    "executionInfo": {
     "elapsed": 142408,
     "status": "ok",
     "timestamp": 1618995957530,
     "user": {
      "displayName": "Dinmukhamed Kaldykhanov",
      "photoUrl": "https://lh3.googleusercontent.com/a-/AOh14Gi8JBhh4qoXO8KmL48WKzrczCRexBMskXI2i_1Ngw=s64",
      "userId": "16471649019417663423"
     },
     "user_tz": -360
    },
    "id": "6wJ-D9Mv8y0p",
    "outputId": "0b6e3c0c-8d1c-455d-9483-efd688674206"
   },
   "outputs": [
    {
     "name": "stdout",
     "output_type": "stream",
     "text": [
      "Best Hyperparameters::\n",
      "{'activation': 'relu', 'hidden_layer_sizes': (28,), 'learning_rate_init': 0.0001668100537200059}\n"
     ]
    },
    {
     "data": {
      "image/png": "[encoded data removed]",
      "text/plain": [
       "<Figure size 432x288 with 1 Axes>"
      ]
     },
     "metadata": {},
     "output_type": "display_data"
    },
    {
     "name": "stdout",
     "output_type": "stream",
     "text": [
      "mse :  136.96565160794344\n",
      "mae :  5.481597055793347\n",
      "soc :  815\n"
     ]
    }
   ],
   "source": [
    "# default learning_rate_init = 0.001\n",
    "# default hidden_layer_sizes = (100, )\n",
    "params_6 = {\n",
    " 'activation': ['logistic', 'tanh', 'relu'], \n",
    " 'hidden_layer_sizes': [(26,),(27,),(28,),(29,)], \n",
    " 'learning_rate_init': np.logspace(-4,-2, 10)\n",
    "}\n",
    "\n",
    "clf = MLPRegressor()\n",
    "grid = GridSearchCV(clf, param_grid = params_6, cv=5, scoring='neg_mean_absolute_error')\n",
    "grid.fit(X, y)\n",
    "\n",
    "print(\"Best Hyperparameters::\\n{}\".format(grid.best_params_))\n",
    "results = pd.DataFrame(data=grid.cv_results_)\n",
    "\n",
    "final_clf = grid.best_estimator_\n",
    "\n",
    "_,train_scores,test_scores=learning_curve(final_clf,X,y,cv=cv,train_sizes=train_sizes,scoring='neg_mean_absolute_error')\n",
    "\n",
    "plt.title(\"Learning curve\")\n",
    "plt.plot(len(X)*train_sizes,train_scores.mean(axis=1),'r-',label='train error')\n",
    "plt.plot(len(X)*train_sizes,test_scores.mean(axis=1),'g-',label='test error')\n",
    "plt.legend()\n",
    "plt.xlabel('train size')\n",
    "plt.ylabel('MSE')\n",
    "plt.show()\n",
    "\n",
    "mse = cross_val_score(final_clf,X,y,cv=10,scoring='neg_mean_squared_error')\n",
    "mae = cross_val_score(final_clf,X,y,cv=10,scoring='neg_mean_absolute_error')\n",
    "\n",
    "std = np.std(mse)\n",
    "mse = np.abs(np.mean(mse))\n",
    "mae = np.abs(np.mean(mae))\n",
    "soc=get_soc(final_clf, 12)\n",
    "\n",
    "arr_mse.append(mse)\n",
    "arr_mae.append(mae)\n",
    "arr_soc.append(soc)\n",
    "arr_hls.append(final_clf.get_params()['hidden_layer_sizes'])\n",
    "print(\"mse : \", mse)\n",
    "print(\"mae : \", mae)\n",
    "print(\"soc : \", soc)\n"
   ]
  },
  {
   "cell_type": "code",
   "execution_count": 54,
   "metadata": {
    "colab": {
     "base_uri": "https://localhost:8080/",
     "height": 384
    },
    "executionInfo": {
     "elapsed": 91686,
     "status": "ok",
     "timestamp": 1618996083969,
     "user": {
      "displayName": "Dinmukhamed Kaldykhanov",
      "photoUrl": "https://lh3.googleusercontent.com/a-/AOh14Gi8JBhh4qoXO8KmL48WKzrczCRexBMskXI2i_1Ngw=s64",
      "userId": "16471649019417663423"
     },
     "user_tz": -360
    },
    "id": "-2_v_lMw8y0q",
    "outputId": "40330cb4-2e27-4870-b08c-44ef12e299ad"
   },
   "outputs": [
    {
     "name": "stdout",
     "output_type": "stream",
     "text": [
      "Best Hyperparameters::\n",
      "{'activation': 'logistic', 'hidden_layer_sizes': (5, 5), 'learning_rate_init': 0.000774263682681127}\n",
      "mae :  5.635460434485935\n",
      "soc :  246\n"
     ]
    }
   ],
   "source": [
    "# default learning_rate_init = 0.001\n",
    "# default hidden_layer_sizes = (100, )\n",
    "params = {\n",
    " 'activation': ['logistic', 'tanh', 'relu'], \n",
    " 'hidden_layer_sizes': [(10,),(5,5), (5,)], \n",
    " 'learning_rate_init': np.logspace(-4,-2, 10)\n",
    "}\n",
    "\n",
    "clf = MLPRegressor()\n",
    "grid = GridSearchCV(clf, param_grid = params, cv=5, scoring='neg_mean_absolute_error')\n",
    "grid.fit(X, y)\n",
    "\n",
    "print(\"Best Hyperparameters::\\n{}\".format(grid.best_params_))\n",
    "results = pd.DataFrame(data=grid.cv_results_)\n",
    "\n",
    "final_clf = grid.best_estimator_\n",
    "\n",
    "_,train_scores,test_scores=learning_curve(final_clf,X,y,cv=cv,train_sizes=train_sizes,scoring='neg_mean_absolute_error')\n",
    "\n",
    "# plt.title(\"Learning curve\")\n",
    "# plt.plot(len(X)*train_sizes,train_scores.mean(axis=1),'r-',label='train error')\n",
    "# plt.plot(len(X)*train_sizes,test_scores.mean(axis=1),'g-',label='test error')\n",
    "# plt.legend()\n",
    "# plt.xlabel('train size')\n",
    "# plt.ylabel('MSE')\n",
    "# plt.show()\n",
    "\n",
    "mse = cross_val_score(final_clf,X,y,cv=10,scoring='neg_mean_squared_error')\n",
    "# mae = cross_val_score(final_clf,X,y,cv=10,scoring='neg_mean_absolute_error')\n",
    "\n",
    "std = np.std(mse)\n",
    "# mse = np.abs(np.mean(mse))\n",
    "mae = np.abs(np.mean(mae))\n",
    "soc=get_soc(final_clf, 12)\n",
    "\n",
    "# arr_mse.append(mse)\n",
    "arr_mae.append(mae)\n",
    "arr_soc.append(soc)\n",
    "arr_hls.append(final_clf.get_params()['hidden_layer_sizes'])\n",
    "# print(\"mse : \", mse)\n",
    "print(\"mae : \", mae)\n",
    "print(\"soc : \", soc)\n",
    "\n",
    "\n",
    "\n",
    "\n"
   ]
  },
  {
   "cell_type": "code",
   "execution_count": 70,
   "metadata": {
    "colab": {
     "base_uri": "https://localhost:8080/",
     "height": 384
    },
    "executionInfo": {
     "elapsed": 34529,
     "status": "ok",
     "timestamp": 1618996336427,
     "user": {
      "displayName": "Dinmukhamed Kaldykhanov",
      "photoUrl": "https://lh3.googleusercontent.com/a-/AOh14Gi8JBhh4qoXO8KmL48WKzrczCRexBMskXI2i_1Ngw=s64",
      "userId": "16471649019417663423"
     },
     "user_tz": -360
    },
    "id": "bNkPkO7D8y0q",
    "outputId": "4842a38d-2649-4f35-b409-49637f1ce7a5"
   },
   "outputs": [
    {
     "name": "stdout",
     "output_type": "stream",
     "text": [
      "Best Hyperparameters::\n",
      "{'activation': 'logistic', 'hidden_layer_sizes': (5,), 'learning_rate_init': 0.000774263682681127}\n"
     ]
    },
    {
     "data": {
      "image/png": "[encoded data removed]",
      "text/plain": [
       "<Figure size 432x288 with 1 Axes>"
      ]
     },
     "metadata": {},
     "output_type": "display_data"
    },
    {
     "name": "stdout",
     "output_type": "stream",
     "text": [
      "mse :  131.02574601881284\n",
      "mae :  5.502957483604366\n",
      "soc :  166\n"
     ]
    }
   ],
   "source": [
    "# default learning_rate_init = 0.001\n",
    "# default hidden_layer_sizes = (100, )\n",
    "params = {\n",
    " 'activation': ['logistic', 'tanh', 'relu'], \n",
    " 'hidden_layer_sizes': [(3,3), (5,)], \n",
    " 'learning_rate_init': np.logspace(-4,-2, 10)\n",
    "}\n",
    "\n",
    "clf = MLPRegressor()\n",
    "grid = GridSearchCV(clf, param_grid = params, cv=5, scoring='neg_mean_absolute_error')\n",
    "grid.fit(X, y)\n",
    "\n",
    "print(\"Best Hyperparameters::\\n{}\".format(grid.best_params_))\n",
    "results = pd.DataFrame(data=grid.cv_results_)\n",
    "\n",
    "final_clf = grid.best_estimator_\n",
    "\n",
    "_,train_scores,test_scores=learning_curve(final_clf,X,y,cv=cv,train_sizes=train_sizes,scoring='neg_mean_absolute_error')\n",
    "\n",
    "plt.title(\"Learning curve\")\n",
    "plt.plot(len(X)*train_sizes,train_scores.mean(axis=1),'r-',label='train error')\n",
    "plt.plot(len(X)*train_sizes,test_scores.mean(axis=1),'g-',label='test error')\n",
    "plt.legend()\n",
    "plt.xlabel('train size')\n",
    "plt.ylabel('MSE')\n",
    "plt.show()\n",
    "\n",
    "mse = cross_val_score(final_clf,X,y,cv=10,scoring='neg_mean_squared_error')\n",
    "mae = cross_val_score(final_clf,X,y,cv=10,scoring='neg_mean_absolute_error')\n",
    "\n",
    "std = np.std(mse)\n",
    "mse = np.abs(np.mean(mse))\n",
    "mae = np.abs(np.mean(mae))\n",
    "soc=get_soc(final_clf, 12)\n",
    "\n",
    "arr_mse.append(mse)\n",
    "arr_mae.append(mae)\n",
    "arr_soc.append(soc)\n",
    "arr_hls.append(final_clf.get_params()['hidden_layer_sizes'])\n",
    "print(\"mse : \", mse)\n",
    "print(\"mae : \", mae)\n",
    "print(\"soc : \", soc)\n"
   ]
  },
  {
   "cell_type": "code",
   "execution_count": 74,
   "metadata": {
    "colab": {
     "base_uri": "https://localhost:8080/",
     "height": 384
    },
    "executionInfo": {
     "elapsed": 55213,
     "status": "ok",
     "timestamp": 1618996486386,
     "user": {
      "displayName": "Dinmukhamed Kaldykhanov",
      "photoUrl": "https://lh3.googleusercontent.com/a-/AOh14Gi8JBhh4qoXO8KmL48WKzrczCRexBMskXI2i_1Ngw=s64",
      "userId": "16471649019417663423"
     },
     "user_tz": -360
    },
    "id": "UyIM9Gy78y0s",
    "outputId": "ad658216-6fa1-4ef5-a1b7-d285e61e16b8"
   },
   "outputs": [
    {
     "name": "stdout",
     "output_type": "stream",
     "text": [
      "Best Hyperparameters::\n",
      "{'activation': 'logistic', 'hidden_layer_sizes': (2,), 'learning_rate_init': 0.0001668100537200059}\n"
     ]
    },
    {
     "data": {
      "image/png": "[encoded data removed]",
      "text/plain": [
       "<Figure size 432x288 with 1 Axes>"
      ]
     },
     "metadata": {},
     "output_type": "display_data"
    },
    {
     "name": "stdout",
     "output_type": "stream",
     "text": [
      "mse :  142.951201326594\n",
      "mae :  5.616736731003991\n",
      "soc :  70\n"
     ]
    }
   ],
   "source": [
    "# default learning_rate_init = 0.001\n",
    "# default hidden_layer_sizes = (100, )\n",
    "params = {\n",
    " 'activation': ['logistic', 'tanh', 'relu'], \n",
    " 'hidden_layer_sizes': [(2,),(4,)], \n",
    " 'learning_rate_init': np.logspace(-4,-2, 10)\n",
    "}\n",
    "\n",
    "clf = MLPRegressor()\n",
    "grid = GridSearchCV(clf, param_grid = params, cv=5, scoring='neg_mean_absolute_error')\n",
    "grid.fit(X, y)\n",
    "\n",
    "print(\"Best Hyperparameters::\\n{}\".format(grid.best_params_))\n",
    "results = pd.DataFrame(data=grid.cv_results_)\n",
    "\n",
    "final_clf = grid.best_estimator_\n",
    "\n",
    "_,train_scores,test_scores=learning_curve(final_clf,X,y,cv=cv,train_sizes=train_sizes,scoring='neg_mean_absolute_error')\n",
    "\n",
    "plt.title(\"Learning curve\")\n",
    "plt.plot(len(X)*train_sizes,train_scores.mean(axis=1),'r-',label='train error')\n",
    "plt.plot(len(X)*train_sizes,test_scores.mean(axis=1),'g-',label='test error')\n",
    "plt.legend()\n",
    "plt.xlabel('train size')\n",
    "plt.ylabel('MSE')\n",
    "plt.show()\n",
    "\n",
    "mse = cross_val_score(final_clf,X,y,cv=10,scoring='neg_mean_squared_error')\n",
    "mae = cross_val_score(final_clf,X,y,cv=10,scoring='neg_mean_absolute_error')\n",
    "\n",
    "std = np.std(mse)\n",
    "mse = np.abs(np.mean(mse))\n",
    "mae = np.abs(np.mean(mae))\n",
    "soc=get_soc(final_clf, 12)\n",
    "\n",
    "arr_mse.append(mse)\n",
    "arr_mae.append(mae)\n",
    "arr_soc.append(soc)\n",
    "arr_hls.append(final_clf.get_params()['hidden_layer_sizes'])\n",
    "print(\"mse : \", mse)\n",
    "print(\"mae : \", mae)\n",
    "print(\"soc : \", soc)"
   ]
  },
  {
   "cell_type": "code",
   "execution_count": 82,
   "metadata": {
    "colab": {
     "base_uri": "https://localhost:8080/",
     "height": 384
    },
    "executionInfo": {
     "elapsed": 30747,
     "status": "ok",
     "timestamp": 1618996544883,
     "user": {
      "displayName": "Dinmukhamed Kaldykhanov",
      "photoUrl": "https://lh3.googleusercontent.com/a-/AOh14Gi8JBhh4qoXO8KmL48WKzrczCRexBMskXI2i_1Ngw=s64",
      "userId": "16471649019417663423"
     },
     "user_tz": -360
    },
    "id": "qlTxeIcZ8y0s",
    "outputId": "4e8cb7f7-eaf9-481d-9ff8-3012f9bacb63"
   },
   "outputs": [
    {
     "name": "stdout",
     "output_type": "stream",
     "text": [
      "Best Hyperparameters::\n",
      "{'activation': 'logistic', 'hidden_layer_sizes': (1,), 'learning_rate_init': 0.002154434690031882}\n"
     ]
    },
    {
     "data": {
      "image/png": "[encoded data removed]",
      "text/plain": [
       "<Figure size 432x288 with 1 Axes>"
      ]
     },
     "metadata": {},
     "output_type": "display_data"
    },
    {
     "name": "stdout",
     "output_type": "stream",
     "text": [
      "mse :  129.7195902663907\n",
      "mae :  5.848530493416079\n",
      "soc :  38\n"
     ]
    }
   ],
   "source": [
    "# default learning_rate_init = 0.001\n",
    "# default hidden_layer_sizes = (100, )\n",
    "params = {\n",
    " 'activation': ['logistic', 'tanh', 'relu'], \n",
    " 'hidden_layer_sizes': [(1,)], \n",
    " 'learning_rate_init': np.logspace(-4,-2, 10)\n",
    "}\n",
    "\n",
    "clf = MLPRegressor()\n",
    "grid = GridSearchCV(clf, param_grid = params, cv=5, scoring='neg_mean_absolute_error')\n",
    "grid.fit(X, y)\n",
    "\n",
    "print(\"Best Hyperparameters::\\n{}\".format(grid.best_params_))\n",
    "results = pd.DataFrame(data=grid.cv_results_)\n",
    "\n",
    "final_clf = grid.best_estimator_\n",
    "\n",
    "_,train_scores,test_scores=learning_curve(final_clf,X,y,cv=cv,train_sizes=train_sizes,scoring='neg_mean_absolute_error')\n",
    "\n",
    "plt.title(\"Learning curve\")\n",
    "plt.plot(len(X)*train_sizes,train_scores.mean(axis=1),'r-',label='train error')\n",
    "plt.plot(len(X)*train_sizes,test_scores.mean(axis=1),'g-',label='test error')\n",
    "plt.legend()\n",
    "plt.xlabel('train size')\n",
    "plt.ylabel('MSE')\n",
    "plt.show()\n",
    "\n",
    "mse = cross_val_score(final_clf,X,y,cv=10,scoring='neg_mean_squared_error')\n",
    "mae = cross_val_score(final_clf,X,y,cv=10,scoring='neg_mean_absolute_error')\n",
    "\n",
    "std = np.std(mse)\n",
    "mse = np.abs(np.mean(mse))\n",
    "mae = np.abs(np.mean(mae))\n",
    "soc=get_soc(final_clf, 12)\n",
    "\n",
    "arr_mse.append(mse)\n",
    "arr_mae.append(mae)\n",
    "arr_soc.append(soc)\n",
    "arr_hls.append(final_clf.get_params()['hidden_layer_sizes'])\n",
    "print(\"mse : \", mse)\n",
    "print(\"mae : \", mae)\n",
    "print(\"soc : \", soc)\n"
   ]
  },
  {
   "cell_type": "code",
   "execution_count": 58,
   "metadata": {
    "colab": {
     "base_uri": "https://localhost:8080/",
     "height": 384
    },
    "executionInfo": {
     "elapsed": 19827,
     "status": "ok",
     "timestamp": 1618996609908,
     "user": {
      "displayName": "Dinmukhamed Kaldykhanov",
      "photoUrl": "https://lh3.googleusercontent.com/a-/AOh14Gi8JBhh4qoXO8KmL48WKzrczCRexBMskXI2i_1Ngw=s64",
      "userId": "16471649019417663423"
     },
     "user_tz": -360
    },
    "id": "AaeGGC2Ft1be",
    "outputId": "996cb864-08e0-4c12-b461-7c24b1db5c50"
   },
   "outputs": [
    {
     "name": "stdout",
     "output_type": "stream",
     "text": [
      "Best Hyperparameters::\n",
      "{'activation': 'relu', 'hidden_layer_sizes': (1,), 'learning_rate_init': 0.0001}\n"
     ]
    },
    {
     "data": {
      "image/png": "[encoded data removed]",
      "text/plain": [
       "<Figure size 432x288 with 1 Axes>"
      ]
     },
     "metadata": {},
     "output_type": "display_data"
    },
    {
     "name": "stdout",
     "output_type": "stream",
     "text": [
      "mse :  147.1202734123903\n",
      "mae :  5.802936731702127\n",
      "soc :  32\n"
     ]
    }
   ],
   "source": [
    "# default learning_rate_init = 0.001\n",
    "# default hidden_layer_sizes = (100, )\n",
    "params = {\n",
    " 'activation': ['relu'], \n",
    " 'hidden_layer_sizes': [(1,)], \n",
    " 'learning_rate_init': np.logspace(-4,-2, 10)\n",
    "}\n",
    "\n",
    "clf = MLPRegressor()\n",
    "grid = GridSearchCV(clf, param_grid = params, cv=5, scoring='neg_mean_absolute_error')\n",
    "grid.fit(X, y)\n",
    "\n",
    "print(\"Best Hyperparameters::\\n{}\".format(grid.best_params_))\n",
    "results = pd.DataFrame(data=grid.cv_results_)\n",
    "\n",
    "final_clf = grid.best_estimator_\n",
    "\n",
    "_,train_scores,test_scores=learning_curve(final_clf,X,y,cv=cv,train_sizes=train_sizes,scoring='neg_mean_absolute_error')\n",
    "\n",
    "plt.title(\"Learning curve\")\n",
    "plt.plot(len(X)*train_sizes,train_scores.mean(axis=1),'r-',label='train error')\n",
    "plt.plot(len(X)*train_sizes,test_scores.mean(axis=1),'g-',label='test error')\n",
    "plt.legend()\n",
    "plt.xlabel('train size')\n",
    "plt.ylabel('MSE')\n",
    "plt.show()\n",
    "\n",
    "mse = cross_val_score(final_clf,X,y,cv=10,scoring='neg_mean_squared_error')\n",
    "mae = cross_val_score(final_clf,X,y,cv=10,scoring='neg_mean_absolute_error')\n",
    "\n",
    "std = np.std(mse)\n",
    "mse = np.abs(np.mean(mse))\n",
    "mae = np.abs(np.mean(mae))\n",
    "soc=get_soc(final_clf, 12)\n",
    "\n",
    "arr_mse.append(mse)\n",
    "arr_mae.append(mae)\n",
    "arr_soc.append(soc)\n",
    "arr_hls.append(final_clf.get_params()['hidden_layer_sizes'])\n",
    "print(\"mse : \", mse)\n",
    "print(\"mae : \", mae)\n",
    "print(\"soc : \", soc)\n"
   ]
  },
  {
   "cell_type": "code",
   "execution_count": 59,
   "metadata": {
    "id": "POO3EeNT8y0t"
   },
   "outputs": [],
   "source": [
    "from sklearn.feature_selection import SelectKBest, f_regression\n",
    "\n",
    "X = SelectKBest(f_regression, k=8).fit_transform(X_orig, y)"
   ]
  },
  {
   "cell_type": "code",
   "execution_count": 60,
   "metadata": {
    "colab": {
     "base_uri": "https://localhost:8080/",
     "height": 384
    },
    "executionInfo": {
     "elapsed": 17375,
     "status": "ok",
     "timestamp": 1618997112721,
     "user": {
      "displayName": "Dinmukhamed Kaldykhanov",
      "photoUrl": "https://lh3.googleusercontent.com/a-/AOh14Gi8JBhh4qoXO8KmL48WKzrczCRexBMskXI2i_1Ngw=s64",
      "userId": "16471649019417663423"
     },
     "user_tz": -360
    },
    "id": "HSwUyyPW8y0u",
    "outputId": "c84f96ae-ad3b-4bfb-e9a6-60f3461bec0a"
   },
   "outputs": [
    {
     "name": "stdout",
     "output_type": "stream",
     "text": [
      "Best Hyperparameters::\n",
      "{'activation': 'tanh', 'hidden_layer_sizes': (1,), 'learning_rate_init': 0.002154434690031882}\n"
     ]
    },
    {
     "data": {
      "image/png": "[encoded data removed]",
      "text/plain": [
       "<Figure size 432x288 with 1 Axes>"
      ]
     },
     "metadata": {},
     "output_type": "display_data"
    },
    {
     "name": "stdout",
     "output_type": "stream",
     "text": [
      "mse :  125.95479166961427\n",
      "mae :  5.7901403845223935\n",
      "soc :  40\n"
     ]
    }
   ],
   "source": [
    "# default learning_rate_init = 0.001\n",
    "# default hidden_layer_sizes = (100, )\n",
    "params = {\n",
    " 'activation': ['tanh'], \n",
    " 'hidden_layer_sizes': [(1,)], \n",
    " 'learning_rate_init': np.logspace(-4,-2, 10)\n",
    "}\n",
    "\n",
    "clf = MLPRegressor()\n",
    "grid = GridSearchCV(clf, param_grid = params, cv=5, scoring='neg_mean_absolute_error')\n",
    "grid.fit(X, y)\n",
    "\n",
    "print(\"Best Hyperparameters::\\n{}\".format(grid.best_params_))\n",
    "results = pd.DataFrame(data=grid.cv_results_)\n",
    "\n",
    "final_clf = grid.best_estimator_\n",
    "\n",
    "_,train_scores,test_scores=learning_curve(final_clf,X,y,cv=cv,train_sizes=train_sizes,scoring='neg_mean_absolute_error')\n",
    "\n",
    "plt.title(\"Learning curve\")\n",
    "plt.plot(len(X)*train_sizes,train_scores.mean(axis=1),'r-',label='train error')\n",
    "plt.plot(len(X)*train_sizes,test_scores.mean(axis=1),'g-',label='test error')\n",
    "plt.legend()\n",
    "plt.xlabel('train size')\n",
    "plt.ylabel('MSE')\n",
    "plt.show()\n",
    "\n",
    "mse = cross_val_score(final_clf,X,y,cv=10,scoring='neg_mean_squared_error')\n",
    "mae = cross_val_score(final_clf,X,y,cv=10,scoring='neg_mean_absolute_error')\n",
    "\n",
    "std = np.std(mse)\n",
    "mse = np.abs(np.mean(mse))\n",
    "mae = np.abs(np.mean(mae))\n",
    "soc=get_soc(final_clf, 8)\n",
    "\n",
    "arr_mse.append(mse)\n",
    "arr_mae.append(mae)\n",
    "arr_soc.append(soc)\n",
    "arr_hls.append(final_clf.get_params()['hidden_layer_sizes'])\n",
    "print(\"mse : \", mse)\n",
    "print(\"mae : \", mae)\n",
    "print(\"soc : \", soc)\n"
   ]
  },
  {
   "cell_type": "code",
   "execution_count": 61,
   "metadata": {
    "id": "opJmFOozEDU4"
   },
   "outputs": [],
   "source": [
    "from sklearn.feature_selection import SelectKBest, f_regression\n",
    "\n",
    "X = SelectKBest(f_regression, k=7).fit_transform(X_orig, y)"
   ]
  },
  {
   "cell_type": "code",
   "execution_count": 62,
   "metadata": {
    "colab": {
     "base_uri": "https://localhost:8080/",
     "height": 384
    },
    "executionInfo": {
     "elapsed": 16033,
     "status": "ok",
     "timestamp": 1618997343615,
     "user": {
      "displayName": "Dinmukhamed Kaldykhanov",
      "photoUrl": "https://lh3.googleusercontent.com/a-/AOh14Gi8JBhh4qoXO8KmL48WKzrczCRexBMskXI2i_1Ngw=s64",
      "userId": "16471649019417663423"
     },
     "user_tz": -360
    },
    "id": "IwqelC4VwGL0",
    "outputId": "edd8d74f-ce02-4403-ec4c-2654d5b3619e"
   },
   "outputs": [
    {
     "name": "stdout",
     "output_type": "stream",
     "text": [
      "Best Hyperparameters::\n",
      "{'activation': 'tanh', 'hidden_layer_sizes': (1,), 'learning_rate_init': 0.00046415888336127773}\n"
     ]
    },
    {
     "data": {
      "image/png": "[encoded data removed]",
      "text/plain": [
       "<Figure size 432x288 with 1 Axes>"
      ]
     },
     "metadata": {},
     "output_type": "display_data"
    },
    {
     "name": "stdout",
     "output_type": "stream",
     "text": [
      "mse :  145.61909191609283\n",
      "mae :  5.707923537070342\n",
      "soc :  38\n"
     ]
    }
   ],
   "source": [
    "# default learning_rate_init = 0.001\n",
    "# default hidden_layer_sizes = (100, )\n",
    "params = {\n",
    " 'activation': ['tanh'], \n",
    " 'hidden_layer_sizes': [(1,)], \n",
    " 'learning_rate_init': np.logspace(-4,-2, 10)\n",
    "}\n",
    "\n",
    "clf = MLPRegressor()\n",
    "grid = GridSearchCV(clf, param_grid = params, cv=5, scoring='neg_mean_absolute_error')\n",
    "grid.fit(X, y)\n",
    "\n",
    "print(\"Best Hyperparameters::\\n{}\".format(grid.best_params_))\n",
    "results = pd.DataFrame(data=grid.cv_results_)\n",
    "\n",
    "final_clf = grid.best_estimator_\n",
    "\n",
    "_,train_scores,test_scores=learning_curve(final_clf,X,y,cv=cv,train_sizes=train_sizes,scoring='neg_mean_absolute_error')\n",
    "\n",
    "plt.title(\"Learning curve\")\n",
    "plt.plot(len(X)*train_sizes,train_scores.mean(axis=1),'r-',label='train error')\n",
    "plt.plot(len(X)*train_sizes,test_scores.mean(axis=1),'g-',label='test error')\n",
    "plt.legend()\n",
    "plt.xlabel('train size')\n",
    "plt.ylabel('MSE')\n",
    "plt.show()\n",
    "\n",
    "mse = cross_val_score(final_clf,X,y,cv=10,scoring='neg_mean_squared_error')\n",
    "mae = cross_val_score(final_clf,X,y,cv=10,scoring='neg_mean_absolute_error')\n",
    "\n",
    "std = np.std(mse)\n",
    "mse = np.abs(np.mean(mse))\n",
    "mae = np.abs(np.mean(mae))\n",
    "soc=get_soc(final_clf, 7)\n",
    "\n",
    "arr_mse.append(mse)\n",
    "arr_mae.append(mae)\n",
    "arr_soc.append(soc)\n",
    "arr_hls.append(final_clf.get_params()['hidden_layer_sizes'])\n",
    "print(\"mse : \", mse)\n",
    "print(\"mae : \", mae)\n",
    "print(\"soc : \", soc)\n"
   ]
  },
  {
   "cell_type": "code",
   "execution_count": 20,
   "metadata": {
    "colab": {
     "base_uri": "https://localhost:8080/"
    },
    "executionInfo": {
     "elapsed": 1124,
     "status": "ok",
     "timestamp": 1618997349010,
     "user": {
      "displayName": "Dinmukhamed Kaldykhanov",
      "photoUrl": "https://lh3.googleusercontent.com/a-/AOh14Gi8JBhh4qoXO8KmL48WKzrczCRexBMskXI2i_1Ngw=s64",
      "userId": "16471649019417663423"
     },
     "user_tz": -360
    },
    "id": "pD9HPw3B8y0y",
    "outputId": "f0c24621-0eb6-47b5-c2df-f88b18ca2919"
   },
   "outputs": [
    {
     "data": {
      "text/plain": [
       "([5.450285664453615,\n",
       "  5.660398930960683,\n",
       "  5.434134945359537,\n",
       "  5.476933649870999,\n",
       "  5.742093960539892],\n",
       " [56, 56, 53, 36, 5])"
      ]
     },
     "execution_count": 20,
     "metadata": {},
     "output_type": "execute_result"
    }
   ],
   "source": [
    "arr_mae, arr_soc"
   ]
  },
  {
   "cell_type": "code",
   "execution_count": null,
   "metadata": {
    "id": "E3srKNzq8y01"
   },
   "outputs": [],
   "source": [
    "arr_mae_min = [5.150434560004236]\n",
    "arr_soc_min = [159]\n",
    "arr_mae_min_soc = [5.575807878266114]\n",
    "arr_soc_min_soc = [25]"
   ]
  },
  {
   "cell_type": "code",
   "execution_count": null,
   "metadata": {
    "colab": {
     "base_uri": "https://localhost:8080/"
    },
    "executionInfo": {
     "elapsed": 531,
     "status": "ok",
     "timestamp": 1618997394893,
     "user": {
      "displayName": "Dinmukhamed Kaldykhanov",
      "photoUrl": "https://lh3.googleusercontent.com/a-/AOh14Gi8JBhh4qoXO8KmL48WKzrczCRexBMskXI2i_1Ngw=s64",
      "userId": "16471649019417663423"
     },
     "user_tz": -360
    },
    "id": "h1tcQZ1K8y02",
    "outputId": "63ec8a15-a8e4-4b73-e813-af8309c2fcaa"
   },
   "outputs": [
    {
     "data": {
      "text/plain": [
       "[5.779896030997618, 5.746831712466329]"
      ]
     },
     "execution_count": 90,
     "metadata": {
      "tags": []
     },
     "output_type": "execute_result"
    }
   ],
   "source": [
    "arr_mae_not_allowed = [ x for x in arr_mae if x >= arr_mae_min[0]*1.1 ]\n",
    "arr_mae_not_allowed"
   ]
  },
  {
   "cell_type": "code",
   "execution_count": null,
   "metadata": {
    "id": "sOnIEUhP8y03"
   },
   "outputs": [],
   "source": [
    "arr_mae_not_allowed_soc = [27, 23]"
   ]
  },
  {
   "cell_type": "code",
   "execution_count": null,
   "metadata": {
    "colab": {
     "base_uri": "https://localhost:8080/",
     "height": 299
    },
    "executionInfo": {
     "elapsed": 1208,
     "status": "ok",
     "timestamp": 1618997400449,
     "user": {
      "displayName": "Dinmukhamed Kaldykhanov",
      "photoUrl": "https://lh3.googleusercontent.com/a-/AOh14Gi8JBhh4qoXO8KmL48WKzrczCRexBMskXI2i_1Ngw=s64",
      "userId": "16471649019417663423"
     },
     "user_tz": -360
    },
    "id": "mYFHGBcw8y03",
    "outputId": "6493b153-f76f-49b9-aaad-fbf6fe07d01e"
   },
   "outputs": [
    {
     "data": {
      "image/png": "[encoded data removed]",
      "text/plain": [
       "<Figure size 432x288 with 1 Axes>"
      ]
     },
     "metadata": {
      "needs_background": "light",
      "tags": []
     },
     "output_type": "display_data"
    }
   ],
   "source": [
    "plt.title(\"MAE vs. SOC\")\n",
    "\n",
    "plt.scatter(arr_mae, arr_soc, c='green')\n",
    "plt.scatter(arr_mae_not_allowed, arr_mae_not_allowed_soc, c='red')\n",
    "plt.scatter(arr_mae_min, arr_soc_min, c='blue')\n",
    "plt.scatter(arr_mae_min_soc, [25], c='grey')\n",
    "plt.axvline(x=arr_mae_min[0]*1.1)\n",
    "plt.xlabel('MAE')\n",
    "plt.ylabel('SOC')\n",
    "plt.show()"
   ]
  },
  {
   "cell_type": "code",
   "execution_count": null,
   "metadata": {
    "colab": {
     "base_uri": "https://localhost:8080/",
     "height": 299
    },
    "executionInfo": {
     "elapsed": 1177,
     "status": "ok",
     "timestamp": 1618997404700,
     "user": {
      "displayName": "Dinmukhamed Kaldykhanov",
      "photoUrl": "https://lh3.googleusercontent.com/a-/AOh14Gi8JBhh4qoXO8KmL48WKzrczCRexBMskXI2i_1Ngw=s64",
      "userId": "16471649019417663423"
     },
     "user_tz": -360
    },
    "id": "Jr6c9tTX8y04",
    "outputId": "ed768294-738f-4003-aa4b-fda982b2d50b"
   },
   "outputs": [
    {
     "data": {
      "image/png": "[encoded data removed]",
      "text/plain": [
       "<Figure size 432x288 with 1 Axes>"
      ]
     },
     "metadata": {
      "needs_background": "light",
      "tags": []
     },
     "output_type": "display_data"
    }
   ],
   "source": [
    "plt.title(\"MAE vs. SOC\")\n",
    "\n",
    "plt.scatter(arr_mae, arr_soc, c='green')\n",
    "plt.scatter(arr_mae_not_allowed, arr_mae_not_allowed_soc, c='red')\n",
    "plt.scatter(arr_mae_min, arr_soc_min, c='blue')\n",
    "plt.scatter(arr_mae_min_soc, [25], c='grey')\n",
    "plt.axvline(x=arr_mae_min[0]*1.1)\n",
    "\n",
    "for i, txt in enumerate(arr_mae):\n",
    "    plt.annotate(i, (arr_mae[i], arr_soc[i]))\n",
    "\n",
    "plt.xlabel('MAE')\n",
    "plt.ylabel('SOC')\n",
    "plt.show()"
   ]
  },
  {
   "cell_type": "code",
   "execution_count": null,
   "metadata": {
    "id": "J2ohm48jxcSA"
   },
   "outputs": [],
   "source": [
    "activation = [ 'logistic','logistic','logistic','logistic','logistic','logistic', 'relu', 'logistic', 'logistic', 'tanh', 'relu', 'tanh', 'tanh' ]"
   ]
  },
  {
   "cell_type": "code",
   "execution_count": null,
   "metadata": {
    "colab": {
     "base_uri": "https://localhost:8080/",
     "height": 452
    },
    "executionInfo": {
     "elapsed": 912,
     "status": "ok",
     "timestamp": 1618997642323,
     "user": {
      "displayName": "Dinmukhamed Kaldykhanov",
      "photoUrl": "https://lh3.googleusercontent.com/a-/AOh14Gi8JBhh4qoXO8KmL48WKzrczCRexBMskXI2i_1Ngw=s64",
      "userId": "16471649019417663423"
     },
     "user_tz": -360
    },
    "id": "_Fygp7rD8y04",
    "outputId": "6740d5a6-c088-4cf7-d312-677c1011362f"
   },
   "outputs": [
    {
     "data": {
      "text/html": [
       "<div>\n",
       "<style scoped>\n",
       "    .dataframe tbody tr th:only-of-type {\n",
       "        vertical-align: middle;\n",
       "    }\n",
       "\n",
       "    .dataframe tbody tr th {\n",
       "        vertical-align: top;\n",
       "    }\n",
       "\n",
       "    .dataframe thead th {\n",
       "        text-align: right;\n",
       "    }\n",
       "</style>\n",
       "<table border=\"1\" class=\"dataframe\">\n",
       "  <thead>\n",
       "    <tr style=\"text-align: right;\">\n",
       "      <th></th>\n",
       "      <th>MAE</th>\n",
       "      <th>SOC</th>\n",
       "      <th>Hidden Layer Size</th>\n",
       "      <th>activation</th>\n",
       "    </tr>\n",
       "  </thead>\n",
       "  <tbody>\n",
       "    <tr>\n",
       "      <th>0</th>\n",
       "      <td>5.646260</td>\n",
       "      <td>524</td>\n",
       "      <td>(100,)</td>\n",
       "      <td>logistic</td>\n",
       "    </tr>\n",
       "    <tr>\n",
       "      <th>1</th>\n",
       "      <td>5.236420</td>\n",
       "      <td>274</td>\n",
       "      <td>(50,)</td>\n",
       "      <td>logistic</td>\n",
       "    </tr>\n",
       "    <tr>\n",
       "      <th>2</th>\n",
       "      <td>5.253535</td>\n",
       "      <td>149</td>\n",
       "      <td>(25,)</td>\n",
       "      <td>logistic</td>\n",
       "    </tr>\n",
       "    <tr>\n",
       "      <th>3</th>\n",
       "      <td>5.153624</td>\n",
       "      <td>149</td>\n",
       "      <td>(25,)</td>\n",
       "      <td>logistic</td>\n",
       "    </tr>\n",
       "    <tr>\n",
       "      <th>4</th>\n",
       "      <td>5.198886</td>\n",
       "      <td>174</td>\n",
       "      <td>(30,)</td>\n",
       "      <td>logistic</td>\n",
       "    </tr>\n",
       "    <tr>\n",
       "      <th>5</th>\n",
       "      <td>5.150435</td>\n",
       "      <td>159</td>\n",
       "      <td>(27,)</td>\n",
       "      <td>logistic</td>\n",
       "    </tr>\n",
       "    <tr>\n",
       "      <th>6</th>\n",
       "      <td>5.547325</td>\n",
       "      <td>54</td>\n",
       "      <td>(10,)</td>\n",
       "      <td>relu</td>\n",
       "    </tr>\n",
       "    <tr>\n",
       "      <th>7</th>\n",
       "      <td>5.382948</td>\n",
       "      <td>49</td>\n",
       "      <td>(5,)</td>\n",
       "      <td>logistic</td>\n",
       "    </tr>\n",
       "    <tr>\n",
       "      <th>8</th>\n",
       "      <td>5.405279</td>\n",
       "      <td>44</td>\n",
       "      <td>(4,)</td>\n",
       "      <td>logistic</td>\n",
       "    </tr>\n",
       "    <tr>\n",
       "      <th>9</th>\n",
       "      <td>5.649007</td>\n",
       "      <td>33</td>\n",
       "      <td>(1,)</td>\n",
       "      <td>tanh</td>\n",
       "    </tr>\n",
       "    <tr>\n",
       "      <th>10</th>\n",
       "      <td>5.779896</td>\n",
       "      <td>27</td>\n",
       "      <td>(1,)</td>\n",
       "      <td>relu</td>\n",
       "    </tr>\n",
       "    <tr>\n",
       "      <th>11</th>\n",
       "      <td>5.575808</td>\n",
       "      <td>25</td>\n",
       "      <td>(1,)</td>\n",
       "      <td>tanh</td>\n",
       "    </tr>\n",
       "    <tr>\n",
       "      <th>12</th>\n",
       "      <td>5.746832</td>\n",
       "      <td>23</td>\n",
       "      <td>(1,)</td>\n",
       "      <td>tanh</td>\n",
       "    </tr>\n",
       "  </tbody>\n",
       "</table>\n",
       "</div>"
      ],
      "text/plain": [
       "         MAE  SOC Hidden Layer Size  activation\n",
       "0   5.646260  524             (100,)   logistic\n",
       "1   5.236420  274              (50,)   logistic\n",
       "2   5.253535  149              (25,)   logistic\n",
       "3   5.153624  149              (25,)   logistic\n",
       "4   5.198886  174              (30,)   logistic\n",
       "5   5.150435  159              (27,)   logistic\n",
       "6   5.547325   54              (10,)       relu\n",
       "7   5.382948   49               (5,)   logistic\n",
       "8   5.405279   44               (4,)   logistic\n",
       "9   5.649007   33               (1,)       tanh\n",
       "10  5.779896   27               (1,)       relu\n",
       "11  5.575808   25               (1,)       tanh\n",
       "12  5.746832   23               (1,)       tanh"
      ]
     },
     "execution_count": 97,
     "metadata": {
      "tags": []
     },
     "output_type": "execute_result"
    }
   ],
   "source": [
    "data = { 'MAE': arr_mae, 'SOC': arr_soc, 'Hidden Layer Size ': arr_hls, 'activation': activation }\n",
    "df = pd.DataFrame(data)\n",
    "df"
   ]
  },
  {
   "cell_type": "code",
   "execution_count": null,
   "metadata": {
    "id": "oaEn-led8y05"
   },
   "outputs": [],
   "source": []
  }
 ],
 "metadata": {
  "colab": {
   "collapsed_sections": [],
   "name": "ForestFire_MLP.ipynb",
   "provenance": []
  },
  "kernelspec": {
   "display_name": "Python 3",
   "language": "python",
   "name": "python3"
  },
  "language_info": {
   "codemirror_mode": {
    "name": "ipython",
    "version": 3
   },
   "file_extension": ".py",
   "mimetype": "text/x-python",
   "name": "python",
   "nbconvert_exporter": "python",
   "pygments_lexer": "ipython3",
   "version": "3.8.2"
  }
 },
 "nbformat": 4,
 "nbformat_minor": 1
}
